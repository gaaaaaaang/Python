{
  "nbformat": 4,
  "nbformat_minor": 0,
  "metadata": {
    "colab": {
      "provenance": [],
      "authorship_tag": "ABX9TyN66r4lBjzxwDcCs2ig2HqI",
      "include_colab_link": true
    },
    "kernelspec": {
      "name": "python3",
      "display_name": "Python 3"
    },
    "language_info": {
      "name": "python"
    }
  },
  "cells": [
    {
      "cell_type": "markdown",
      "metadata": {
        "id": "view-in-github",
        "colab_type": "text"
      },
      "source": [
        "<a href=\"https://colab.research.google.com/github/gaaaaaaang/Python/blob/main/%ED%94%84%EB%A1%9C%EA%B7%B8%EB%9E%98%EB%A8%B8%EC%8A%A4.ipynb\" target=\"_parent\"><img src=\"https://colab.research.google.com/assets/colab-badge.svg\" alt=\"Open In Colab\"/></a>"
      ]
    },
    {
      "cell_type": "markdown",
      "source": [
        "**시저 암호**\n",
        "\n",
        "알파벳을 숫자..그걸로 바꿔줌.   \n",
        "ord(a) + n => 반환  \n",
        "if z 이면 :  \n",
        "> 값 - 65 를 반환"
      ],
      "metadata": {
        "id": "C1n53VaYysm8"
      }
    },
    {
      "cell_type": "code",
      "execution_count": null,
      "metadata": {
        "id": "Lyj-lMvvypwh"
      },
      "outputs": [],
      "source": [
        "def solution(s, n):\n",
        "    answer = []\n",
        "    \n",
        "    ord_lst = [ord(word) for word in s]\n",
        "    \n",
        "    for word in ord_lst:\n",
        "        if word >= 65 and word<=90:\n",
        "            word += n\n",
        "            if word > 90:\n",
        "                word= word-25\n",
        "            answer.append(word)\n",
        "        \n",
        "        elif word >=97 and word <=122:\n",
        "            word += n\n",
        "            if word > 123:\n",
        "                word = word- 25\n",
        "            answer.append(word)\n",
        "        else:\n",
        "            continue\n",
        "    \n",
        "    answer_lst = [chr(word) for word in answer]\n",
        "    return \" \".join(answer_lst)\n",
        "\n",
        "    #실패 코드. 범위 밖의 값이 변환이 안된다.."
      ]
    },
    {
      "cell_type": "code",
      "source": [
        "def solution(s, n):\n",
        "    s = list(s)\n",
        "    \n",
        "    for i in range(len(s)):\n",
        "        if s[i].isupper(): #isupper, islower을 사용해서 범위 지정하지말자\n",
        "            s[i] = chr((ord(s[i])-ord('A')+n)%26 + ord('A'))\n",
        "        elif s[i].islower():\n",
        "            s[i] = chr((ord(s[i])-ord('a')+n)%26 + ord('a'))\n",
        "    return \"\".join(s)"
      ],
      "metadata": {
        "id": "70wIxr9utdHh"
      },
      "execution_count": null,
      "outputs": []
    },
    {
      "cell_type": "markdown",
      "source": [
        "**삼총사**  \n",
        "세쌍을 만들고 그 합이 0이면 answer+=1  \n",
        "없으면 0 리턴  \n",
        "  \n",
        "from itertools import combinations 사용해서 3쌍씩 묶기"
      ],
      "metadata": {
        "id": "Eb-2sXHEztQI"
      }
    },
    {
      "cell_type": "code",
      "source": [
        "from itertools import combinations \n",
        "\n",
        "def solution(number):\n",
        "    answer = 0\n",
        "    \n",
        "    c_lst = list(combinations(number,3))\n",
        "    \n",
        "    for i in c_lst:\n",
        "        if sum(i) == 0 :\n",
        "            answer += 1\n",
        "    return answer"
      ],
      "metadata": {
        "id": "j0rKKCtwzu36"
      },
      "execution_count": null,
      "outputs": []
    },
    {
      "cell_type": "markdown",
      "source": [
        "**최소직사각형**  \n",
        "  \n",
        "가로 => 긴거  \n",
        "세로 => 짧은거  \n",
        "  \n",
        "긴 것 중 긴거, 짧은 것 중 긴 것을 모으기  \n",
        "  \n",
        "sizes 재정렬  \n",
        "sizes[i][0] 중 맥스 x sizes[i][1] 중 맥스\n"
      ],
      "metadata": {
        "id": "3nzk2qy-zwZu"
      }
    },
    {
      "cell_type": "code",
      "source": [
        "def solution(sizes):\n",
        "    answer = 0\n",
        "    tmt = 0 \n",
        "    for i in range(len(sizes)):\n",
        "        if sizes[i][0] < sizes[i][1]:\n",
        "            tmt = sizes[i][0]\n",
        "            sizes[i][0] = sizes[i][1]\n",
        "            sizes[i][1] = tmt\n",
        "    \n",
        "    max1 = -1\n",
        "    max2 = -1\n",
        "    \n",
        "    for i in range(len(sizes)):\n",
        "        max1= max(max1,sizes[i][0])\n",
        "        max2= max(max2,sizes[i][1])\n",
        "        \n",
        "    answer = max1 * max2\n",
        "    return answer"
      ],
      "metadata": {
        "id": "miML9xm8zwZu"
      },
      "execution_count": null,
      "outputs": []
    },
    {
      "cell_type": "markdown",
      "source": [
        "**비밀지도**\n",
        "\n"
      ],
      "metadata": {
        "id": "oLkXTH05zwgN"
      }
    },
    {
      "cell_type": "code",
      "source": [],
      "metadata": {
        "id": "a6FczZzYzwgO"
      },
      "execution_count": null,
      "outputs": []
    },
    {
      "cell_type": "markdown",
      "source": [],
      "metadata": {
        "id": "oWu3eKGfzwmS"
      }
    },
    {
      "cell_type": "code",
      "source": [],
      "metadata": {
        "id": "LRKnFC-uzwmT"
      },
      "execution_count": null,
      "outputs": []
    },
    {
      "cell_type": "markdown",
      "source": [],
      "metadata": {
        "id": "akIA7t5JzwtE"
      }
    },
    {
      "cell_type": "code",
      "source": [],
      "metadata": {
        "id": "p9194PygzwtF"
      },
      "execution_count": null,
      "outputs": []
    }
  ]
}