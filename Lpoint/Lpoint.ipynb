{
  "cells": [
    {
      "cell_type": "code",
      "execution_count": null,
      "metadata": {
        "colab": {
          "base_uri": "https://localhost:8080/"
        },
        "id": "ZGbfPxlDd_wV",
        "outputId": "8805230e-29e3-4d66-8a33-4af44cff0bcb"
      },
      "outputs": [
        {
          "name": "stdout",
          "output_type": "stream",
          "text": [
            "Looking in indexes: https://pypi.org/simple, https://us-python.pkg.dev/colab-wheels/public/simple/\n",
            "Collecting duckdb\n",
            "  Downloading duckdb-0.4.0-cp37-cp37m-manylinux_2_17_x86_64.manylinux2014_x86_64.whl (15.7 MB)\n",
            "\u001b[K     |████████████████████████████████| 15.7 MB 5.2 MB/s \n",
            "\u001b[?25hRequirement already satisfied: numpy>=1.14 in /usr/local/lib/python3.7/dist-packages (from duckdb) (1.21.6)\n",
            "Installing collected packages: duckdb\n",
            "Successfully installed duckdb-0.4.0\n"
          ]
        }
      ],
      "source": [
        "pip install duckdb"
      ]
    },
    {
      "cell_type": "code",
      "execution_count": null,
      "metadata": {
        "colab": {
          "base_uri": "https://localhost:8080/"
        },
        "id": "LqhdgXOx4BBc",
        "outputId": "b24bf29f-252e-44ac-fc82-44d92432d439"
      },
      "outputs": [
        {
          "name": "stdout",
          "output_type": "stream",
          "text": [
            "Drive already mounted at /content/drive; to attempt to forcibly remount, call drive.mount(\"/content/drive\", force_remount=True).\n"
          ]
        }
      ],
      "source": [
        "from google.colab import drive\n",
        "drive.mount('/content/drive')"
      ]
    },
    {
      "cell_type": "code",
      "execution_count": null,
      "metadata": {
        "id": "PxjtHi_s4hT0"
      },
      "outputs": [],
      "source": [
        "import numpy as np\n",
        "import numpy.matlib\n",
        "import pandas as pd\n",
        "import duckdb\n",
        "\n",
        "#from functools import wraps\n",
        "#from typing import List, Optional, Tuple, cast\n",
        "#import time\n",
        "#import functools\n",
        "#import pdb, sys"
      ]
    },
    {
      "cell_type": "code",
      "execution_count": null,
      "metadata": {
        "id": "a9kPyFdO4hOI"
      },
      "outputs": [],
      "source": [
        "sparse = pd.read_csv('/content/drive/Shareddrives/22SummerProjects/LPoint/Clustering/test01.csv')"
      ]
    },
    {
      "cell_type": "code",
      "execution_count": null,
      "metadata": {
        "id": "J7lBNUAvbYJ9"
      },
      "outputs": [],
      "source": [
        "sparse_train = pd.read_csv('/content/drive/Shareddrives/22SummerProjects/LPoint/Clustering/sparse_train.csv')"
      ]
    },
    {
      "cell_type": "code",
      "execution_count": null,
      "metadata": {
        "id": "lBcnlrlibaGs"
      },
      "outputs": [],
      "source": [
        "sparse_test = pd.read_csv('/content/drive/Shareddrives/22SummerProjects/LPoint/Clustering/sparse_test.csv')"
      ]
    },
    {
      "cell_type": "code",
      "execution_count": null,
      "metadata": {
        "id": "tZ3l9oAJ4hH3"
      },
      "outputs": [],
      "source": [
        "full_list=sparse[['Cust']]"
      ]
    },
    {
      "cell_type": "code",
      "execution_count": null,
      "metadata": {
        "id": "DbTw4NHA5UMD"
      },
      "outputs": [],
      "source": [
        "class MatrixFactorization():\n",
        "    def __init__(self, R, k, learning_rate, reg_param, epochs, verbose=False):\n",
        "        \"\"\"\n",
        "        :param R: rating matrix\n",
        "        :param k: latent parameter\n",
        "\n",
        "        :param learning_rate: alpha on weight update\n",
        "        :param reg_param: beta on weight update\n",
        "\n",
        "        :param epochs: training epochs\n",
        "        :param verbose: print status\n",
        "        \"\"\"\n",
        "        self._R = R\n",
        "        self._num_users, self._num_items = R.shape\n",
        "        self._k = k\n",
        "        self._learning_rate = learning_rate\n",
        "        self._reg_param = reg_param\n",
        "        self._epochs = epochs\n",
        "        self._verbose = verbose\n",
        "\n",
        "    def fit(self):\n",
        "        \"\"\"\n",
        "        training Matrix Factorization : Update matrix latent weight and bias\n",
        "\n",
        "        참고: self._b에 대한 설명\n",
        "        - global bias: input R에서 평가가 매겨진 rating의 평균값을 global bias로 사용\n",
        "        - 정규화 기능. 최종 rating에 음수가 들어가는 것 대신 latent feature에 음수가 포함되도록 해줌.\n",
        "\n",
        "        :return: training_process\n",
        "        \"\"\"\n",
        "\n",
        "        # init latent features\n",
        "        self._P = np.random.normal(size=(self._num_users, self._k))\n",
        "        self._Q = np.random.normal(size=(self._num_items, self._k))\n",
        "\n",
        "        # init biases\n",
        "        self._b_P = np.zeros(self._num_users)\n",
        "        self._b_Q = np.zeros(self._num_items)\n",
        "        self._b = np.mean(self._R[np.where(self._R != 0)])\n",
        "\n",
        "        # train while epochs\n",
        "        self._training_process = []\n",
        "        for epoch in range(self._epochs):\n",
        "\n",
        "            # rating이 존재하는 index를 기준으로 training\n",
        "            for i in range(self._num_users):\n",
        "                for j in range(self._num_items):\n",
        "                    if self._R[i, j] > 0:\n",
        "                        self.gradient_descent(i, j, self._R[i, j])\n",
        "            cost = self.cost()\n",
        "            self._training_process.append((epoch, cost))\n",
        "\n",
        "            # print status\n",
        "            if self._verbose == True and ((epoch + 1) % 10 == 0):\n",
        "                print(\"Iteration: %d ; cost = %.4f\" % (epoch + 1, cost))\n",
        "\n",
        "\n",
        "    def cost(self):\n",
        "        \"\"\"\n",
        "        compute root mean square error\n",
        "        :return: rmse cost\n",
        "        \"\"\"\n",
        "\n",
        "        # xi, yi: R[xi, yi]는 nonzero인 value를 의미한다.\n",
        "        # 참고: http://codepractice.tistory.com/90\n",
        "        xi, yi = self._R.nonzero()\n",
        "        predicted = self.get_complete_matrix()\n",
        "        cost = 0\n",
        "        for x, y in zip(xi, yi):\n",
        "            cost += pow(self._R[x, y] - predicted[x, y], 2)\n",
        "        return np.sqrt(cost) / len(xi)\n",
        "\n",
        "\n",
        "    def gradient(self, error, i, j):\n",
        "        \"\"\"\n",
        "        gradient of latent feature for GD\n",
        "\n",
        "        :param error: rating - prediction error\n",
        "        :param i: user index\n",
        "        :param j: item index\n",
        "        :return: gradient of latent feature tuple\n",
        "        \"\"\"\n",
        "\n",
        "        dp = (error * self._Q[j, :]) - (self._reg_param * self._P[i, :])\n",
        "        dq = (error * self._P[i, :]) - (self._reg_param * self._Q[j, :])\n",
        "        return dp, dq\n",
        "\n",
        "\n",
        "    def gradient_descent(self, i, j, rating):\n",
        "        \"\"\"\n",
        "        graident descent function\n",
        "\n",
        "        :param i: user index of matrix\n",
        "        :param j: item index of matrix\n",
        "        :param rating: rating of (i,j)\n",
        "        \"\"\"\n",
        "\n",
        "        # get error\n",
        "        prediction = self.get_prediction(i, j)\n",
        "        error = rating - prediction\n",
        "\n",
        "        # update biases\n",
        "        self._b_P[i] += self._learning_rate * (error - self._reg_param * self._b_P[i])\n",
        "        self._b_Q[j] += self._learning_rate * (error - self._reg_param * self._b_Q[j])\n",
        "\n",
        "        # update latent feature\n",
        "        dp, dq = self.gradient(error, i, j)\n",
        "        self._P[i, :] += self._learning_rate * dp\n",
        "        self._Q[j, :] += self._learning_rate * dq\n",
        "\n",
        "\n",
        "    def get_prediction(self, i, j):\n",
        "        \"\"\"\n",
        "        get predicted rating: user_i, item_j\n",
        "        :return: prediction of r_ij\n",
        "        \"\"\"\n",
        "        return self._b + self._b_P[i] + self._b_Q[j] + self._P[i, :].dot(self._Q[j, :].T)\n",
        "\n",
        "\n",
        "    def get_complete_matrix(self):\n",
        "        \"\"\"\n",
        "        computer complete matrix PXQ + P.bias + Q.bias + global bias\n",
        "\n",
        "        - PXQ 행렬에 b_P[:, np.newaxis]를 더하는 것은 각 열마다 bias를 더해주는 것\n",
        "        - b_Q[np.newaxis:, ]를 더하는 것은 각 행마다 bias를 더해주는 것\n",
        "        - b를 더하는 것은 각 element마다 bias를 더해주는 것\n",
        "\n",
        "        - newaxis: 차원을 추가해줌. 1차원인 Latent들로 2차원의 R에 행/열 단위 연산을 해주기위해 차원을 추가하는 것.\n",
        "\n",
        "        :return: complete matrix R^\n",
        "        \"\"\"\n",
        "        return self._b + self._b_P[:, np.newaxis] + self._b_Q[np.newaxis:, ] + self._P.dot(self._Q.T)\n",
        "\n",
        "\n",
        "    def print_results(self):\n",
        "        \"\"\"\n",
        "        print fit results\n",
        "        \"\"\"\n",
        "\n",
        "        print(\"User Latent P:\")\n",
        "        print(self._P)\n",
        "        print(\"Item Latent Q:\")\n",
        "        print(self._Q.T)\n",
        "        print(\"P x Q:\")\n",
        "        print(self._P.dot(self._Q.T))\n",
        "        print(\"bias:\")\n",
        "        print(self._b)\n",
        "        print(\"User Latent bias:\")\n",
        "        print(self._b_P)\n",
        "        print(\"Item Latent bias:\")\n",
        "        print(self._b_Q)\n",
        "        print(\"Final R matrix:\")\n",
        "        print(self.get_complete_matrix())\n",
        "        print(\"Final RMSE:\")\n",
        "        print(self._training_process[self._epochs-1][1])\n",
        "\n",
        "    def out(self):\n",
        "      return self._P, self._Q.T, self.get_complete_matrix()    \n"
      ]
    },
    {
      "cell_type": "code",
      "execution_count": null,
      "metadata": {
        "id": "arjkecl-d0uV"
      },
      "outputs": [],
      "source": [
        "train=duckdb.query(\"select * from full_list a left join sparse_train b on a.Cust=b.Cust\").to_df()"
      ]
    },
    {
      "cell_type": "code",
      "execution_count": null,
      "metadata": {
        "id": "JUh2Ot7agpRI"
      },
      "outputs": [],
      "source": [
        "train.drop(['금융/보험서비스','기타상품'], axis=1, inplace=True)"
      ]
    },
    {
      "cell_type": "code",
      "execution_count": null,
      "metadata": {
        "id": "EcvDPIQ1d0jq"
      },
      "outputs": [],
      "source": [
        "test=duckdb.query(\"select * from full_list a left join sparse_test b on a.Cust=b.Cust\").to_df()"
      ]
    },
    {
      "cell_type": "code",
      "execution_count": null,
      "metadata": {
        "id": "HKOQ7lKlhQ_S"
      },
      "outputs": [],
      "source": [
        "sparse.drop(['금융/보험서비스','기타상품'], axis=1, inplace=True)"
      ]
    },
    {
      "cell_type": "code",
      "execution_count": null,
      "metadata": {
        "id": "kRZ6zRa-hJeD"
      },
      "outputs": [],
      "source": [
        "sparse_zero = sparse.fillna(0)"
      ]
    },
    {
      "cell_type": "code",
      "execution_count": null,
      "metadata": {
        "id": "Yr8_805Hethw"
      },
      "outputs": [],
      "source": [
        "train_zero = train.fillna(0)"
      ]
    },
    {
      "cell_type": "code",
      "execution_count": null,
      "metadata": {
        "id": "ceExX3bhex8i"
      },
      "outputs": [],
      "source": [
        "test_zero = test.fillna(0)"
      ]
    },
    {
      "cell_type": "code",
      "execution_count": null,
      "metadata": {
        "id": "MV8-ms3y7mSG"
      },
      "outputs": [],
      "source": [
        "R = np.array(sparse_zero)\n",
        "R_train = np.array(train_zero)\n",
        "R_test = np.array(test_zero)"
      ]
    },
    {
      "cell_type": "code",
      "execution_count": null,
      "metadata": {
        "colab": {
          "base_uri": "https://localhost:8080/"
        },
        "id": "6M7-8SWW7syi",
        "outputId": "36faa629-6dd7-4c57-a9b2-977400741d70"
      },
      "outputs": [
        {
          "data": {
            "text/plain": [
              "(26917, 58)"
            ]
          },
          "execution_count": 87,
          "metadata": {},
          "output_type": "execute_result"
        }
      ],
      "source": [
        "# Not higm dim\n",
        "R.shape"
      ]
    },
    {
      "cell_type": "code",
      "execution_count": null,
      "metadata": {
        "colab": {
          "base_uri": "https://localhost:8080/"
        },
        "id": "zqpRtREYcoMv",
        "outputId": "ca29a187-9322-406a-d68e-5df4704b35cd"
      },
      "outputs": [
        {
          "data": {
            "text/plain": [
              "(26917, 58)"
            ]
          },
          "execution_count": 83,
          "metadata": {},
          "output_type": "execute_result"
        }
      ],
      "source": [
        "R_train.shape"
      ]
    },
    {
      "cell_type": "code",
      "execution_count": null,
      "metadata": {
        "colab": {
          "base_uri": "https://localhost:8080/"
        },
        "id": "wVSNHvfbcqqh",
        "outputId": "bcf8ac7b-e1eb-4bb9-fd5b-c4ee71c8078d"
      },
      "outputs": [
        {
          "data": {
            "text/plain": [
              "(26917, 58)"
            ]
          },
          "execution_count": 84,
          "metadata": {},
          "output_type": "execute_result"
        }
      ],
      "source": [
        "R_test.shape"
      ]
    },
    {
      "cell_type": "code",
      "execution_count": null,
      "metadata": {
        "id": "EmRPBMZa8Pkz"
      },
      "outputs": [],
      "source": [
        "R = R[:,1:]\n",
        "R_train = R_train[:,2:]\n",
        "R_test = R_test[:,2:]"
      ]
    },
    {
      "cell_type": "code",
      "execution_count": null,
      "metadata": {
        "id": "L-nM5-iIBZQL"
      },
      "outputs": [],
      "source": [
        "sparse_zero=sparse_zero.iloc[:,1:]"
      ]
    },
    {
      "cell_type": "code",
      "execution_count": null,
      "metadata": {
        "id": "_f7cI_aaiJSY"
      },
      "outputs": [],
      "source": [
        "train_zero=train_zero.iloc[:,2:]\n",
        "test_zero=test_zero.iloc[:,2:]"
      ]
    },
    {
      "cell_type": "code",
      "execution_count": null,
      "metadata": {
        "colab": {
          "base_uri": "https://localhost:8080/"
        },
        "id": "5MU0_iQnA0d4",
        "outputId": "8e13d2be-dabe-42e4-c910-f93106428f75"
      },
      "outputs": [
        {
          "name": "stderr",
          "output_type": "stream",
          "text": [
            "/usr/local/lib/python3.7/dist-packages/ipykernel_launcher.py:1: FutureWarning: Dropping of nuisance columns in DataFrame reductions (with 'numeric_only=None') is deprecated; in a future version this will raise TypeError.  Select only valid columns before calling the reduction.\n",
            "  \"\"\"Entry point for launching an IPython kernel.\n"
          ]
        }
      ],
      "source": [
        "sparse_zero['sum']=sparse_zero.sum(axis=1)"
      ]
    },
    {
      "cell_type": "code",
      "execution_count": null,
      "metadata": {
        "colab": {
          "base_uri": "https://localhost:8080/",
          "height": 319
        },
        "id": "_esmM4jjAeZq",
        "outputId": "aae731f1-d5f8-49fa-8aa6-6d58c5f8c612"
      },
      "outputs": [
        {
          "ename": "ValueError",
          "evalue": "ignored",
          "output_type": "error",
          "traceback": [
            "\u001b[0;31m---------------------------------------------------------------------------\u001b[0m",
            "\u001b[0;31mValueError\u001b[0m                                Traceback (most recent call last)",
            "\u001b[0;32m<ipython-input-60-b39848770e24>\u001b[0m in \u001b[0;36m<module>\u001b[0;34m()\u001b[0m\n\u001b[0;32m----> 1\u001b[0;31m \u001b[0msparse_sum\u001b[0m\u001b[0;34m[\u001b[0m\u001b[0;34m'sum'\u001b[0m\u001b[0;34m]\u001b[0m\u001b[0;34m=\u001b[0m\u001b[0msparse_zero\u001b[0m\u001b[0;34m.\u001b[0m\u001b[0msort_values\u001b[0m\u001b[0;34m(\u001b[0m\u001b[0mby\u001b[0m\u001b[0;34m=\u001b[0m\u001b[0;34m[\u001b[0m\u001b[0;34m'sum'\u001b[0m\u001b[0;34m]\u001b[0m\u001b[0;34m,\u001b[0m \u001b[0mascending\u001b[0m\u001b[0;34m=\u001b[0m\u001b[0;32mFalse\u001b[0m\u001b[0;34m)\u001b[0m\u001b[0;34m\u001b[0m\u001b[0;34m\u001b[0m\u001b[0m\n\u001b[0m",
            "\u001b[0;32m/usr/local/lib/python3.7/dist-packages/pandas/core/frame.py\u001b[0m in \u001b[0;36m__setitem__\u001b[0;34m(self, key, value)\u001b[0m\n\u001b[1;32m   3600\u001b[0m             \u001b[0mself\u001b[0m\u001b[0;34m.\u001b[0m\u001b[0m_setitem_array\u001b[0m\u001b[0;34m(\u001b[0m\u001b[0mkey\u001b[0m\u001b[0;34m,\u001b[0m \u001b[0mvalue\u001b[0m\u001b[0;34m)\u001b[0m\u001b[0;34m\u001b[0m\u001b[0;34m\u001b[0m\u001b[0m\n\u001b[1;32m   3601\u001b[0m         \u001b[0;32melif\u001b[0m \u001b[0misinstance\u001b[0m\u001b[0;34m(\u001b[0m\u001b[0mvalue\u001b[0m\u001b[0;34m,\u001b[0m \u001b[0mDataFrame\u001b[0m\u001b[0;34m)\u001b[0m\u001b[0;34m:\u001b[0m\u001b[0;34m\u001b[0m\u001b[0;34m\u001b[0m\u001b[0m\n\u001b[0;32m-> 3602\u001b[0;31m             \u001b[0mself\u001b[0m\u001b[0;34m.\u001b[0m\u001b[0m_set_item_frame_value\u001b[0m\u001b[0;34m(\u001b[0m\u001b[0mkey\u001b[0m\u001b[0;34m,\u001b[0m \u001b[0mvalue\u001b[0m\u001b[0;34m)\u001b[0m\u001b[0;34m\u001b[0m\u001b[0;34m\u001b[0m\u001b[0m\n\u001b[0m\u001b[1;32m   3603\u001b[0m         elif (\n\u001b[1;32m   3604\u001b[0m             \u001b[0mis_list_like\u001b[0m\u001b[0;34m(\u001b[0m\u001b[0mvalue\u001b[0m\u001b[0;34m)\u001b[0m\u001b[0;34m\u001b[0m\u001b[0;34m\u001b[0m\u001b[0m\n",
            "\u001b[0;32m/usr/local/lib/python3.7/dist-packages/pandas/core/frame.py\u001b[0m in \u001b[0;36m_set_item_frame_value\u001b[0;34m(self, key, value)\u001b[0m\n\u001b[1;32m   3727\u001b[0m             \u001b[0mlen_cols\u001b[0m \u001b[0;34m=\u001b[0m \u001b[0;36m1\u001b[0m \u001b[0;32mif\u001b[0m \u001b[0mis_scalar\u001b[0m\u001b[0;34m(\u001b[0m\u001b[0mcols\u001b[0m\u001b[0;34m)\u001b[0m \u001b[0;32melse\u001b[0m \u001b[0mlen\u001b[0m\u001b[0;34m(\u001b[0m\u001b[0mcols\u001b[0m\u001b[0;34m)\u001b[0m\u001b[0;34m\u001b[0m\u001b[0;34m\u001b[0m\u001b[0m\n\u001b[1;32m   3728\u001b[0m             \u001b[0;32mif\u001b[0m \u001b[0mlen_cols\u001b[0m \u001b[0;34m!=\u001b[0m \u001b[0mlen\u001b[0m\u001b[0;34m(\u001b[0m\u001b[0mvalue\u001b[0m\u001b[0;34m.\u001b[0m\u001b[0mcolumns\u001b[0m\u001b[0;34m)\u001b[0m\u001b[0;34m:\u001b[0m\u001b[0;34m\u001b[0m\u001b[0;34m\u001b[0m\u001b[0m\n\u001b[0;32m-> 3729\u001b[0;31m                 \u001b[0;32mraise\u001b[0m \u001b[0mValueError\u001b[0m\u001b[0;34m(\u001b[0m\u001b[0;34m\"Columns must be same length as key\"\u001b[0m\u001b[0;34m)\u001b[0m\u001b[0;34m\u001b[0m\u001b[0;34m\u001b[0m\u001b[0m\n\u001b[0m\u001b[1;32m   3730\u001b[0m \u001b[0;34m\u001b[0m\u001b[0m\n\u001b[1;32m   3731\u001b[0m             \u001b[0;31m# align right-hand-side columns if self.columns\u001b[0m\u001b[0;34m\u001b[0m\u001b[0;34m\u001b[0m\u001b[0;34m\u001b[0m\u001b[0m\n",
            "\u001b[0;31mValueError\u001b[0m: Columns must be same length as key"
          ]
        }
      ],
      "source": [
        "sparse_sum=sparse_zero.sort_values(by=['sum'], ascending=False)"
      ]
    },
    {
      "cell_type": "code",
      "execution_count": null,
      "metadata": {
        "id": "j9WOdkAERddT"
      },
      "outputs": [],
      "source": [
        "def q4cut(s):\n",
        "    return pd.qcut(s, 4, labels = [\"G1\",\"G2\",\"G3\",\"VIP\"]).astype(str)"
      ]
    },
    {
      "cell_type": "code",
      "execution_count": null,
      "metadata": {
        "id": "qrKTpLtbSXD8"
      },
      "outputs": [],
      "source": [
        "sparse_sum['grade']=sparse_sum['sum'].transform(q4cut)"
      ]
    },
    {
      "cell_type": "code",
      "execution_count": null,
      "metadata": {
        "colab": {
          "base_uri": "https://localhost:8080/"
        },
        "id": "oABcf1o4KdAv",
        "outputId": "5e7fbc0e-c571-4647-ec29-ee453e2f022e"
      },
      "outputs": [
        {
          "data": {
            "text/plain": [
              "3322840.0"
            ]
          },
          "execution_count": 63,
          "metadata": {},
          "output_type": "execute_result"
        }
      ],
      "source": [
        "sparse_zero['sum'].quantile(q=0.75, interpolation='nearest')"
      ]
    },
    {
      "cell_type": "code",
      "execution_count": null,
      "metadata": {
        "colab": {
          "base_uri": "https://localhost:8080/",
          "height": 540
        },
        "id": "GhLXuLYsHjHp",
        "outputId": "ce4dc47b-94be-4076-f03d-f94116a28fe3"
      },
      "outputs": [
        {
          "data": {
            "text/html": [
              "\n",
              "  <div id=\"df-a132100d-e12e-4ed6-82aa-f4cdf926cf31\">\n",
              "    <div class=\"colab-df-container\">\n",
              "      <div>\n",
              "<style scoped>\n",
              "    .dataframe tbody tr th:only-of-type {\n",
              "        vertical-align: middle;\n",
              "    }\n",
              "\n",
              "    .dataframe tbody tr th {\n",
              "        vertical-align: top;\n",
              "    }\n",
              "\n",
              "    .dataframe thead th {\n",
              "        text-align: right;\n",
              "    }\n",
              "</style>\n",
              "<table border=\"1\" class=\"dataframe\">\n",
              "  <thead>\n",
              "    <tr style=\"text-align: right;\">\n",
              "      <th></th>\n",
              "      <th>Cust</th>\n",
              "      <th>가구</th>\n",
              "      <th>건강식품</th>\n",
              "      <th>건강용품</th>\n",
              "      <th>건해산물</th>\n",
              "      <th>계절가전</th>\n",
              "      <th>공구/안전용품</th>\n",
              "      <th>과일</th>\n",
              "      <th>과자</th>\n",
              "      <th>구기/필드스포츠</th>\n",
              "      <th>...</th>\n",
              "      <th>침구/수예</th>\n",
              "      <th>커피/차</th>\n",
              "      <th>컴퓨터</th>\n",
              "      <th>테넌트/음식점</th>\n",
              "      <th>패션잡화</th>\n",
              "      <th>퍼스널케어</th>\n",
              "      <th>헬스/피트니스</th>\n",
              "      <th>화장품/뷰티케어</th>\n",
              "      <th>sum</th>\n",
              "      <th>grade</th>\n",
              "    </tr>\n",
              "  </thead>\n",
              "  <tbody>\n",
              "    <tr>\n",
              "      <th>9312</th>\n",
              "      <td>M343264688</td>\n",
              "      <td>18541000.0</td>\n",
              "      <td>3978000.0</td>\n",
              "      <td>238000.0</td>\n",
              "      <td>8980.0</td>\n",
              "      <td>0.0</td>\n",
              "      <td>54700.0</td>\n",
              "      <td>794380.0</td>\n",
              "      <td>80350.0</td>\n",
              "      <td>1871000.0</td>\n",
              "      <td>...</td>\n",
              "      <td>0.0</td>\n",
              "      <td>0.0</td>\n",
              "      <td>0.0</td>\n",
              "      <td>1520600.0</td>\n",
              "      <td>161516900.0</td>\n",
              "      <td>564000.0</td>\n",
              "      <td>0.0</td>\n",
              "      <td>5256000.0</td>\n",
              "      <td>386581410.0</td>\n",
              "      <td>VIP</td>\n",
              "    </tr>\n",
              "    <tr>\n",
              "      <th>10413</th>\n",
              "      <td>M384121563</td>\n",
              "      <td>0.0</td>\n",
              "      <td>0.0</td>\n",
              "      <td>59960.0</td>\n",
              "      <td>0.0</td>\n",
              "      <td>0.0</td>\n",
              "      <td>0.0</td>\n",
              "      <td>0.0</td>\n",
              "      <td>109300.0</td>\n",
              "      <td>605000.0</td>\n",
              "      <td>...</td>\n",
              "      <td>990000.0</td>\n",
              "      <td>423500.0</td>\n",
              "      <td>0.0</td>\n",
              "      <td>454500.0</td>\n",
              "      <td>286302050.0</td>\n",
              "      <td>1844800.0</td>\n",
              "      <td>0.0</td>\n",
              "      <td>42127000.0</td>\n",
              "      <td>379269980.0</td>\n",
              "      <td>VIP</td>\n",
              "    </tr>\n",
              "    <tr>\n",
              "      <th>7260</th>\n",
              "      <td>M268374518</td>\n",
              "      <td>0.0</td>\n",
              "      <td>281000.0</td>\n",
              "      <td>12390.0</td>\n",
              "      <td>0.0</td>\n",
              "      <td>0.0</td>\n",
              "      <td>0.0</td>\n",
              "      <td>104400.0</td>\n",
              "      <td>13130.0</td>\n",
              "      <td>0.0</td>\n",
              "      <td>...</td>\n",
              "      <td>0.0</td>\n",
              "      <td>40900.0</td>\n",
              "      <td>0.0</td>\n",
              "      <td>607400.0</td>\n",
              "      <td>358029000.0</td>\n",
              "      <td>0.0</td>\n",
              "      <td>0.0</td>\n",
              "      <td>1408900.0</td>\n",
              "      <td>371016180.0</td>\n",
              "      <td>VIP</td>\n",
              "    </tr>\n",
              "    <tr>\n",
              "      <th>1522</th>\n",
              "      <td>M055769504</td>\n",
              "      <td>0.0</td>\n",
              "      <td>17400.0</td>\n",
              "      <td>3000.0</td>\n",
              "      <td>0.0</td>\n",
              "      <td>0.0</td>\n",
              "      <td>0.0</td>\n",
              "      <td>0.0</td>\n",
              "      <td>10500.0</td>\n",
              "      <td>0.0</td>\n",
              "      <td>...</td>\n",
              "      <td>0.0</td>\n",
              "      <td>0.0</td>\n",
              "      <td>0.0</td>\n",
              "      <td>165100.0</td>\n",
              "      <td>365560000.0</td>\n",
              "      <td>0.0</td>\n",
              "      <td>0.0</td>\n",
              "      <td>1128200.0</td>\n",
              "      <td>369650800.0</td>\n",
              "      <td>VIP</td>\n",
              "    </tr>\n",
              "    <tr>\n",
              "      <th>7833</th>\n",
              "      <td>M288629527</td>\n",
              "      <td>0.0</td>\n",
              "      <td>0.0</td>\n",
              "      <td>0.0</td>\n",
              "      <td>0.0</td>\n",
              "      <td>0.0</td>\n",
              "      <td>0.0</td>\n",
              "      <td>0.0</td>\n",
              "      <td>0.0</td>\n",
              "      <td>0.0</td>\n",
              "      <td>...</td>\n",
              "      <td>8052000.0</td>\n",
              "      <td>0.0</td>\n",
              "      <td>0.0</td>\n",
              "      <td>25000.0</td>\n",
              "      <td>262697900.0</td>\n",
              "      <td>0.0</td>\n",
              "      <td>994200.0</td>\n",
              "      <td>998000.0</td>\n",
              "      <td>368955660.0</td>\n",
              "      <td>VIP</td>\n",
              "    </tr>\n",
              "    <tr>\n",
              "      <th>...</th>\n",
              "      <td>...</td>\n",
              "      <td>...</td>\n",
              "      <td>...</td>\n",
              "      <td>...</td>\n",
              "      <td>...</td>\n",
              "      <td>...</td>\n",
              "      <td>...</td>\n",
              "      <td>...</td>\n",
              "      <td>...</td>\n",
              "      <td>...</td>\n",
              "      <td>...</td>\n",
              "      <td>...</td>\n",
              "      <td>...</td>\n",
              "      <td>...</td>\n",
              "      <td>...</td>\n",
              "      <td>...</td>\n",
              "      <td>...</td>\n",
              "      <td>...</td>\n",
              "      <td>...</td>\n",
              "      <td>...</td>\n",
              "      <td>...</td>\n",
              "    </tr>\n",
              "    <tr>\n",
              "      <th>14870</th>\n",
              "      <td>M549598435</td>\n",
              "      <td>0.0</td>\n",
              "      <td>0.0</td>\n",
              "      <td>0.0</td>\n",
              "      <td>0.0</td>\n",
              "      <td>0.0</td>\n",
              "      <td>0.0</td>\n",
              "      <td>0.0</td>\n",
              "      <td>0.0</td>\n",
              "      <td>0.0</td>\n",
              "      <td>...</td>\n",
              "      <td>0.0</td>\n",
              "      <td>0.0</td>\n",
              "      <td>0.0</td>\n",
              "      <td>0.0</td>\n",
              "      <td>0.0</td>\n",
              "      <td>0.0</td>\n",
              "      <td>0.0</td>\n",
              "      <td>0.0</td>\n",
              "      <td>500.0</td>\n",
              "      <td>G1</td>\n",
              "    </tr>\n",
              "    <tr>\n",
              "      <th>18822</th>\n",
              "      <td>M698192014</td>\n",
              "      <td>0.0</td>\n",
              "      <td>0.0</td>\n",
              "      <td>0.0</td>\n",
              "      <td>0.0</td>\n",
              "      <td>0.0</td>\n",
              "      <td>0.0</td>\n",
              "      <td>0.0</td>\n",
              "      <td>0.0</td>\n",
              "      <td>0.0</td>\n",
              "      <td>...</td>\n",
              "      <td>0.0</td>\n",
              "      <td>0.0</td>\n",
              "      <td>0.0</td>\n",
              "      <td>0.0</td>\n",
              "      <td>0.0</td>\n",
              "      <td>0.0</td>\n",
              "      <td>0.0</td>\n",
              "      <td>0.0</td>\n",
              "      <td>400.0</td>\n",
              "      <td>G1</td>\n",
              "    </tr>\n",
              "    <tr>\n",
              "      <th>4720</th>\n",
              "      <td>M173065733</td>\n",
              "      <td>0.0</td>\n",
              "      <td>0.0</td>\n",
              "      <td>0.0</td>\n",
              "      <td>0.0</td>\n",
              "      <td>0.0</td>\n",
              "      <td>0.0</td>\n",
              "      <td>0.0</td>\n",
              "      <td>0.0</td>\n",
              "      <td>0.0</td>\n",
              "      <td>...</td>\n",
              "      <td>0.0</td>\n",
              "      <td>0.0</td>\n",
              "      <td>0.0</td>\n",
              "      <td>0.0</td>\n",
              "      <td>0.0</td>\n",
              "      <td>0.0</td>\n",
              "      <td>0.0</td>\n",
              "      <td>0.0</td>\n",
              "      <td>300.0</td>\n",
              "      <td>G1</td>\n",
              "    </tr>\n",
              "    <tr>\n",
              "      <th>11808</th>\n",
              "      <td>M438665188</td>\n",
              "      <td>0.0</td>\n",
              "      <td>0.0</td>\n",
              "      <td>0.0</td>\n",
              "      <td>0.0</td>\n",
              "      <td>0.0</td>\n",
              "      <td>0.0</td>\n",
              "      <td>0.0</td>\n",
              "      <td>0.0</td>\n",
              "      <td>0.0</td>\n",
              "      <td>...</td>\n",
              "      <td>0.0</td>\n",
              "      <td>0.0</td>\n",
              "      <td>0.0</td>\n",
              "      <td>0.0</td>\n",
              "      <td>0.0</td>\n",
              "      <td>0.0</td>\n",
              "      <td>0.0</td>\n",
              "      <td>0.0</td>\n",
              "      <td>100.0</td>\n",
              "      <td>G1</td>\n",
              "    </tr>\n",
              "    <tr>\n",
              "      <th>13721</th>\n",
              "      <td>M506952337</td>\n",
              "      <td>0.0</td>\n",
              "      <td>0.0</td>\n",
              "      <td>0.0</td>\n",
              "      <td>0.0</td>\n",
              "      <td>0.0</td>\n",
              "      <td>0.0</td>\n",
              "      <td>0.0</td>\n",
              "      <td>0.0</td>\n",
              "      <td>0.0</td>\n",
              "      <td>...</td>\n",
              "      <td>0.0</td>\n",
              "      <td>0.0</td>\n",
              "      <td>0.0</td>\n",
              "      <td>0.0</td>\n",
              "      <td>0.0</td>\n",
              "      <td>0.0</td>\n",
              "      <td>0.0</td>\n",
              "      <td>0.0</td>\n",
              "      <td>10.0</td>\n",
              "      <td>G1</td>\n",
              "    </tr>\n",
              "  </tbody>\n",
              "</table>\n",
              "<p>26917 rows × 61 columns</p>\n",
              "</div>\n",
              "      <button class=\"colab-df-convert\" onclick=\"convertToInteractive('df-a132100d-e12e-4ed6-82aa-f4cdf926cf31')\"\n",
              "              title=\"Convert this dataframe to an interactive table.\"\n",
              "              style=\"display:none;\">\n",
              "        \n",
              "  <svg xmlns=\"http://www.w3.org/2000/svg\" height=\"24px\"viewBox=\"0 0 24 24\"\n",
              "       width=\"24px\">\n",
              "    <path d=\"M0 0h24v24H0V0z\" fill=\"none\"/>\n",
              "    <path d=\"M18.56 5.44l.94 2.06.94-2.06 2.06-.94-2.06-.94-.94-2.06-.94 2.06-2.06.94zm-11 1L8.5 8.5l.94-2.06 2.06-.94-2.06-.94L8.5 2.5l-.94 2.06-2.06.94zm10 10l.94 2.06.94-2.06 2.06-.94-2.06-.94-.94-2.06-.94 2.06-2.06.94z\"/><path d=\"M17.41 7.96l-1.37-1.37c-.4-.4-.92-.59-1.43-.59-.52 0-1.04.2-1.43.59L10.3 9.45l-7.72 7.72c-.78.78-.78 2.05 0 2.83L4 21.41c.39.39.9.59 1.41.59.51 0 1.02-.2 1.41-.59l7.78-7.78 2.81-2.81c.8-.78.8-2.07 0-2.86zM5.41 20L4 18.59l7.72-7.72 1.47 1.35L5.41 20z\"/>\n",
              "  </svg>\n",
              "      </button>\n",
              "      \n",
              "  <style>\n",
              "    .colab-df-container {\n",
              "      display:flex;\n",
              "      flex-wrap:wrap;\n",
              "      gap: 12px;\n",
              "    }\n",
              "\n",
              "    .colab-df-convert {\n",
              "      background-color: #E8F0FE;\n",
              "      border: none;\n",
              "      border-radius: 50%;\n",
              "      cursor: pointer;\n",
              "      display: none;\n",
              "      fill: #1967D2;\n",
              "      height: 32px;\n",
              "      padding: 0 0 0 0;\n",
              "      width: 32px;\n",
              "    }\n",
              "\n",
              "    .colab-df-convert:hover {\n",
              "      background-color: #E2EBFA;\n",
              "      box-shadow: 0px 1px 2px rgba(60, 64, 67, 0.3), 0px 1px 3px 1px rgba(60, 64, 67, 0.15);\n",
              "      fill: #174EA6;\n",
              "    }\n",
              "\n",
              "    [theme=dark] .colab-df-convert {\n",
              "      background-color: #3B4455;\n",
              "      fill: #D2E3FC;\n",
              "    }\n",
              "\n",
              "    [theme=dark] .colab-df-convert:hover {\n",
              "      background-color: #434B5C;\n",
              "      box-shadow: 0px 1px 3px 1px rgba(0, 0, 0, 0.15);\n",
              "      filter: drop-shadow(0px 1px 2px rgba(0, 0, 0, 0.3));\n",
              "      fill: #FFFFFF;\n",
              "    }\n",
              "  </style>\n",
              "\n",
              "      <script>\n",
              "        const buttonEl =\n",
              "          document.querySelector('#df-a132100d-e12e-4ed6-82aa-f4cdf926cf31 button.colab-df-convert');\n",
              "        buttonEl.style.display =\n",
              "          google.colab.kernel.accessAllowed ? 'block' : 'none';\n",
              "\n",
              "        async function convertToInteractive(key) {\n",
              "          const element = document.querySelector('#df-a132100d-e12e-4ed6-82aa-f4cdf926cf31');\n",
              "          const dataTable =\n",
              "            await google.colab.kernel.invokeFunction('convertToInteractive',\n",
              "                                                     [key], {});\n",
              "          if (!dataTable) return;\n",
              "\n",
              "          const docLinkHtml = 'Like what you see? Visit the ' +\n",
              "            '<a target=\"_blank\" href=https://colab.research.google.com/notebooks/data_table.ipynb>data table notebook</a>'\n",
              "            + ' to learn more about interactive tables.';\n",
              "          element.innerHTML = '';\n",
              "          dataTable['output_type'] = 'display_data';\n",
              "          await google.colab.output.renderOutput(dataTable, element);\n",
              "          const docLink = document.createElement('div');\n",
              "          docLink.innerHTML = docLinkHtml;\n",
              "          element.appendChild(docLink);\n",
              "        }\n",
              "      </script>\n",
              "    </div>\n",
              "  </div>\n",
              "  "
            ],
            "text/plain": [
              "             Cust          가구       건강식품      건강용품    건해산물  계절가전  공구/안전용품  \\\n",
              "9312   M343264688  18541000.0  3978000.0  238000.0  8980.0   0.0  54700.0   \n",
              "10413  M384121563         0.0        0.0   59960.0     0.0   0.0      0.0   \n",
              "7260   M268374518         0.0   281000.0   12390.0     0.0   0.0      0.0   \n",
              "1522   M055769504         0.0    17400.0    3000.0     0.0   0.0      0.0   \n",
              "7833   M288629527         0.0        0.0       0.0     0.0   0.0      0.0   \n",
              "...           ...         ...        ...       ...     ...   ...      ...   \n",
              "14870  M549598435         0.0        0.0       0.0     0.0   0.0      0.0   \n",
              "18822  M698192014         0.0        0.0       0.0     0.0   0.0      0.0   \n",
              "4720   M173065733         0.0        0.0       0.0     0.0   0.0      0.0   \n",
              "11808  M438665188         0.0        0.0       0.0     0.0   0.0      0.0   \n",
              "13721  M506952337         0.0        0.0       0.0     0.0   0.0      0.0   \n",
              "\n",
              "             과일        과자   구기/필드스포츠  ...      침구/수예      커피/차  컴퓨터  \\\n",
              "9312   794380.0   80350.0  1871000.0  ...        0.0       0.0  0.0   \n",
              "10413       0.0  109300.0   605000.0  ...   990000.0  423500.0  0.0   \n",
              "7260   104400.0   13130.0        0.0  ...        0.0   40900.0  0.0   \n",
              "1522        0.0   10500.0        0.0  ...        0.0       0.0  0.0   \n",
              "7833        0.0       0.0        0.0  ...  8052000.0       0.0  0.0   \n",
              "...         ...       ...        ...  ...        ...       ...  ...   \n",
              "14870       0.0       0.0        0.0  ...        0.0       0.0  0.0   \n",
              "18822       0.0       0.0        0.0  ...        0.0       0.0  0.0   \n",
              "4720        0.0       0.0        0.0  ...        0.0       0.0  0.0   \n",
              "11808       0.0       0.0        0.0  ...        0.0       0.0  0.0   \n",
              "13721       0.0       0.0        0.0  ...        0.0       0.0  0.0   \n",
              "\n",
              "         테넌트/음식점         패션잡화      퍼스널케어   헬스/피트니스    화장품/뷰티케어          sum  \\\n",
              "9312   1520600.0  161516900.0   564000.0       0.0   5256000.0  386581410.0   \n",
              "10413   454500.0  286302050.0  1844800.0       0.0  42127000.0  379269980.0   \n",
              "7260    607400.0  358029000.0        0.0       0.0   1408900.0  371016180.0   \n",
              "1522    165100.0  365560000.0        0.0       0.0   1128200.0  369650800.0   \n",
              "7833     25000.0  262697900.0        0.0  994200.0    998000.0  368955660.0   \n",
              "...          ...          ...        ...       ...         ...          ...   \n",
              "14870        0.0          0.0        0.0       0.0         0.0        500.0   \n",
              "18822        0.0          0.0        0.0       0.0         0.0        400.0   \n",
              "4720         0.0          0.0        0.0       0.0         0.0        300.0   \n",
              "11808        0.0          0.0        0.0       0.0         0.0        100.0   \n",
              "13721        0.0          0.0        0.0       0.0         0.0         10.0   \n",
              "\n",
              "       grade  \n",
              "9312     VIP  \n",
              "10413    VIP  \n",
              "7260     VIP  \n",
              "1522     VIP  \n",
              "7833     VIP  \n",
              "...      ...  \n",
              "14870     G1  \n",
              "18822     G1  \n",
              "4720      G1  \n",
              "11808     G1  \n",
              "13721     G1  \n",
              "\n",
              "[26917 rows x 61 columns]"
            ]
          },
          "execution_count": 72,
          "metadata": {},
          "output_type": "execute_result"
        }
      ],
      "source": [
        "sparse_sum"
      ]
    },
    {
      "cell_type": "code",
      "execution_count": null,
      "metadata": {
        "id": "mKL74XioV8ue"
      },
      "outputs": [],
      "source": [
        "grade_VIP=duckdb.query(\"select * from sparse_sum where grade='VIP'\").to_df()"
      ]
    },
    {
      "cell_type": "code",
      "execution_count": null,
      "metadata": {
        "id": "fOnZGNBPWlXl"
      },
      "outputs": [],
      "source": [
        "grade_G3=duckdb.query(\"select * from sparse_sum where grade='G3'\").to_df()"
      ]
    },
    {
      "cell_type": "code",
      "execution_count": null,
      "metadata": {
        "id": "U9kXiRbpWpA9"
      },
      "outputs": [],
      "source": [
        "grade_G2=duckdb.query(\"select * from sparse_sum where grade='G2'\").to_df()"
      ]
    },
    {
      "cell_type": "code",
      "execution_count": null,
      "metadata": {
        "id": "LozaV6S6WqWF"
      },
      "outputs": [],
      "source": [
        "grade_G1=duckdb.query(\"select * from sparse_sum where grade='G1'\").to_df()"
      ]
    },
    {
      "cell_type": "code",
      "execution_count": null,
      "metadata": {
        "id": "52eOqPN3XTrB"
      },
      "outputs": [],
      "source": [
        "grade_VIP=grade_VIP.drop(['Cust','grade','sum'], axis=1)"
      ]
    },
    {
      "cell_type": "code",
      "execution_count": null,
      "metadata": {
        "id": "9jCUiTe0czkI"
      },
      "outputs": [],
      "source": [
        "grade_G3=grade_G3.drop(['Cust','grade','sum'], axis=1)\n",
        "grade_G2=grade_G2.drop(['Cust','grade','sum'], axis=1)\n",
        "grade_G1=grade_G1.drop(['Cust','grade','sum'], axis=1)"
      ]
    },
    {
      "cell_type": "code",
      "execution_count": null,
      "metadata": {
        "id": "GY49K6EwF_O9"
      },
      "outputs": [],
      "source": [
        "sparse_sum.to_csv('/content/drive/Shareddrives/22SummerProjects/LPoint/Clustering/list.csv', sep=',')"
      ]
    },
    {
      "cell_type": "code",
      "execution_count": null,
      "metadata": {
        "id": "r3YnzlqOA1PF"
      },
      "outputs": [],
      "source": [
        "# 단가 차이 있으니까 (가우시안) 표준화 or 정규화\n",
        "from sklearn.preprocessing import StandardScaler\n",
        "from sklearn.preprocessing import MinMaxScaler"
      ]
    },
    {
      "cell_type": "code",
      "execution_count": null,
      "metadata": {
        "id": "cjDqAZiRA39y"
      },
      "outputs": [],
      "source": [
        "scaler01 = MinMaxScaler()\n",
        "scaler01.fit(sparse_zero)\n",
        "scaler01_scaled = scaler01.transform(sparse_zero)"
      ]
    },
    {
      "cell_type": "code",
      "execution_count": null,
      "metadata": {
        "id": "xeSgEalFiWoB"
      },
      "outputs": [],
      "source": [
        "scaler02 = MinMaxScaler()\n",
        "scaler02.fit(train_zero)\n",
        "scaler02_scaled = scaler02.transform(train_zero)"
      ]
    },
    {
      "cell_type": "code",
      "execution_count": null,
      "metadata": {
        "id": "CbuTD1a5iarI"
      },
      "outputs": [],
      "source": [
        "scaler03 = MinMaxScaler()\n",
        "scaler03.fit(test_zero)\n",
        "scaler03_scaled = scaler03.transform(test_zero)"
      ]
    },
    {
      "cell_type": "code",
      "execution_count": null,
      "metadata": {
        "id": "hioRuooHXA3T"
      },
      "outputs": [],
      "source": [
        "scaler04 = MinMaxScaler()\n",
        "scaler04.fit(grade_VIP)\n",
        "VIP_scaled = scaler04.transform(grade_VIP)"
      ]
    },
    {
      "cell_type": "code",
      "execution_count": null,
      "metadata": {
        "id": "q9X8SFABcnvi"
      },
      "outputs": [],
      "source": [
        "scaler05 = MinMaxScaler()\n",
        "scaler05.fit(grade_G3)\n",
        "G3_scaled = scaler05.transform(grade_G3)"
      ]
    },
    {
      "cell_type": "code",
      "execution_count": null,
      "metadata": {
        "id": "396oaWY-cnpA"
      },
      "outputs": [],
      "source": [
        "scaler06 = MinMaxScaler()\n",
        "scaler06.fit(grade_G2)\n",
        "G2_scaled = scaler06.transform(grade_G2)"
      ]
    },
    {
      "cell_type": "code",
      "execution_count": null,
      "metadata": {
        "id": "Qao_g3yfcngr"
      },
      "outputs": [],
      "source": [
        "scaler07 = MinMaxScaler()\n",
        "scaler07.fit(grade_G1)\n",
        "G1_scaled = scaler07.transform(grade_G1)"
      ]
    },
    {
      "cell_type": "code",
      "execution_count": null,
      "metadata": {
        "id": "6OLnz2stEMqB"
      },
      "outputs": [],
      "source": [
        "scaler01_scaled"
      ]
    },
    {
      "cell_type": "code",
      "execution_count": null,
      "metadata": {
        "id": "62aZKVKqB6WJ"
      },
      "outputs": [],
      "source": [
        "R=scaler01_scaled"
      ]
    },
    {
      "cell_type": "code",
      "execution_count": null,
      "metadata": {
        "id": "ce7xtY3x5UEP"
      },
      "outputs": [],
      "source": [
        "# run total data\n",
        "if __name__ == \"__main__\":\n",
        "    # rating matrix - User X Item : (7 X 5)\n",
        "\n",
        "    # P, Q is (7 X k), (k X 5) matrix\n",
        "    factorizer_total = MatrixFactorization(R, k=3, learning_rate=0.1, reg_param=0.1, epochs=10, verbose=True)\n",
        "    factorizer_total.fit()\n",
        "    factorizer_total.print_results()\n",
        "\n",
        "    sol_total=factorizer_total.out()\n"
      ]
    },
    {
      "cell_type": "code",
      "execution_count": null,
      "metadata": {
        "id": "GCDI2hP8lLJC"
      },
      "outputs": [],
      "source": [
        "# 3.799^-5 user latent, item latent, final R\n",
        "user_latent01=sol_total[0]\n",
        "item_latent01=sol_total[1]\n",
        "finalR01=sol_total[2]"
      ]
    },
    {
      "cell_type": "code",
      "execution_count": null,
      "metadata": {
        "id": "KDzM6Y8EjcF-"
      },
      "outputs": [],
      "source": [
        "R_train=scaler02_scaled"
      ]
    },
    {
      "cell_type": "code",
      "execution_count": null,
      "metadata": {
        "id": "ufvq07amjedS"
      },
      "outputs": [],
      "source": [
        "R_test=scaler03_scaled"
      ]
    },
    {
      "cell_type": "code",
      "execution_count": null,
      "metadata": {
        "id": "BzkXrKKAjLPV"
      },
      "outputs": [],
      "source": [
        "# run train data\n",
        "if __name__ == \"__main__\":\n",
        "    # rating matrix - User X Item : (7 X 5) R\n",
        "\n",
        "    # P, Q is (7 X k), (k X 5) matrix\n",
        "    factorizer_train = MatrixFactorization(R_train, k=7, learning_rate=0.01, reg_param=0.01, epochs=10, verbose=True)\n",
        "    factorizer_train.fit()\n",
        "    factorizer_train.print_results()\n",
        "\n",
        "    sol_train=factorizer_train.out()"
      ]
    },
    {
      "cell_type": "code",
      "execution_count": null,
      "metadata": {
        "id": "u2YPDX4Kl7Xf"
      },
      "outputs": [],
      "source": [
        "# user latent, item latent, final R\n",
        "user_latent02=sol_train[0]\n",
        "item_latent02=sol_train[1]\n",
        "finalR02=sol_train[2]"
      ]
    },
    {
      "cell_type": "code",
      "execution_count": null,
      "metadata": {
        "id": "bFQZ6L6GjTTO"
      },
      "outputs": [],
      "source": [
        "# run test data\n",
        "if __name__ == \"__main__\":\n",
        "    # rating matrix - User X Item : (7 X 5), R\n",
        "\n",
        "    # P, Q is (7 X k), (k X 5) matrix\n",
        "    factorizer_test = MatrixFactorization(R_test, k=7, learning_rate=0.01, reg_param=0.01, epochs=10, verbose=True)\n",
        "    factorizer_test.fit()\n",
        "    factorizer_test.print_results()\n",
        "\n",
        "    sol_test=factorizer_test.out()"
      ]
    },
    {
      "cell_type": "code",
      "execution_count": null,
      "metadata": {
        "id": "Vv3aqEjrFw2r"
      },
      "outputs": [],
      "source": [
        "# user latent, item latent, final R\n",
        "user_latent03=sol_test[0]\n",
        "item_latent03=sol_test[1]\n",
        "finalR03=sol_test[2]"
      ]
    },
    {
      "cell_type": "code",
      "execution_count": null,
      "metadata": {
        "id": "0Gf7YKNOX-h4"
      },
      "outputs": [],
      "source": [
        "# run test data\n",
        "if __name__ == \"__main__\":\n",
        "    # rating matrix - User X Item : (7 X 5), R\n",
        "\n",
        "    # P, Q is (7 X k), (k X 5) matrix\n",
        "    factorizer_VIP = MatrixFactorization(VIP_scaled, k=7, learning_rate=0.1, reg_param=0.1, epochs=10, verbose=True)\n",
        "    factorizer_VIP.fit()\n",
        "    factorizer_VIP.print_results()\n",
        "\n",
        "    sol_VIP=factorizer_VIP.out()"
      ]
    },
    {
      "cell_type": "code",
      "execution_count": null,
      "metadata": {
        "id": "OAg8WZPsX-b5"
      },
      "outputs": [],
      "source": [
        "# user latent, item latent, final R\n",
        "user_latent04=sol_VIP[0]\n",
        "item_latent04=sol_VIP[1]\n",
        "finalR04=sol_VIP[2]"
      ]
    },
    {
      "cell_type": "code",
      "execution_count": null,
      "metadata": {
        "colab": {
          "base_uri": "https://localhost:8080/"
        },
        "id": "CKgni64pdGxU",
        "outputId": "9c2322bd-704a-4799-c609-a8bc4ff900b2"
      },
      "outputs": [
        {
          "name": "stdout",
          "output_type": "stream",
          "text": [
            "Iteration: 10 ; cost = 0.0005\n",
            "User Latent P:\n",
            "[[ 0.01149178 -0.11023146  0.18375039 ... -0.16640561 -0.20172892\n",
            "   0.05531564]\n",
            " [ 0.07303976  0.13993868  0.02558925 ...  0.03311001  0.1040784\n",
            "   0.09655415]\n",
            " [ 0.04131132 -0.01483606  0.02278994 ...  0.02803702 -0.01272576\n",
            "  -0.01483264]\n",
            " ...\n",
            " [-1.05813128  0.05169598  0.71189789 ... -0.22730851  1.80096325\n",
            "   0.18754988]\n",
            " [ 0.3442648   0.54557358 -0.01389106 ...  0.28653066  0.77088233\n",
            "   1.23200667]\n",
            " [-0.79988074 -1.49694324  0.8162607  ...  0.2150307  -0.03740765\n",
            "   1.44568141]]\n",
            "Item Latent Q:\n",
            "[[ 4.92655462e-02 -8.42408840e-03  2.60039467e-03  1.68273063e-03\n",
            "   3.24325465e-02 -3.89343265e-03  6.84240476e-04  2.34496255e-03\n",
            "  -2.39143271e-02  7.69040697e-03  1.05553377e-03 -2.62394034e-03\n",
            "   4.37292789e-02  4.00264697e-03 -4.06112526e-03 -1.75336190e-03\n",
            "   2.57655675e-02 -2.65089405e-03 -1.88234834e-03  3.28624412e-03\n",
            "  -8.02148777e-03  6.86194883e-03 -1.07760657e-03 -1.05028242e-02\n",
            "  -8.67111215e-04  6.24409009e-04  1.01925510e-02 -2.67196655e-02\n",
            "  -9.16754454e-05 -1.34641556e-02 -9.39008996e-04 -2.24311216e-03\n",
            "  -2.55120372e-02  3.92953876e-02 -7.11461872e-04  5.13954317e-03\n",
            "  -3.83155843e-03 -5.44997679e-02 -9.12539971e-03 -3.02853314e-03\n",
            "   9.75004814e-03  2.40210492e-02  2.41385869e-03  2.55729346e-03\n",
            "   5.77014627e-03  3.12814543e-04  1.41697156e-03  4.04406409e-03\n",
            "  -3.32644607e-03 -2.08210118e-03  1.98006530e-02 -2.96924427e-03\n",
            "   5.80391124e-03  2.80498987e-03 -1.48000182e-03 -7.08450721e-04\n",
            "   4.09746377e-03 -4.24851072e-03]\n",
            " [-1.17623662e-02  8.53915381e-03 -9.43193740e-04  6.03029043e-03\n",
            "  -3.18097212e-03  1.73917962e-02  2.33941016e-03  3.28709164e-03\n",
            "   2.47789798e-02 -9.08758209e-03  4.84143233e-03  1.30807188e-02\n",
            "   1.49793801e-01 -1.60637446e-03 -1.30761917e-03  4.91900433e-03\n",
            "   9.42903941e-03  1.42412739e-02 -1.00430623e-02 -1.21985302e-02\n",
            "   2.04750624e-02 -9.37730099e-03  1.65165701e-03  1.47331282e-03\n",
            "   4.21224677e-03 -7.86894409e-03  8.79683883e-05 -8.21340295e-02\n",
            "  -6.35332649e-03 -6.80999024e-03 -1.23054652e-02 -9.44974721e-03\n",
            "   2.69410801e-02  3.95005009e-02  1.31552365e-02  3.43354738e-03\n",
            "   4.02165324e-03 -1.14033875e-02  1.64919293e-03 -4.80359657e-03\n",
            "   2.49692936e-02 -8.68486734e-03  5.79829901e-03  5.72749366e-03\n",
            "   5.49613398e-04  6.48452458e-03 -1.40314478e-03  4.22381098e-03\n",
            "   4.44620692e-03 -1.24238124e-02  7.47334953e-03  1.86357901e-02\n",
            "   9.64735506e-03 -5.25416108e-03 -3.35172708e-04 -3.80832382e-03\n",
            "   2.87616611e-03  3.19995002e-03]\n",
            " [-2.49726550e-04  6.27925665e-03  4.79959597e-03  3.20704989e-03\n",
            "   1.59476862e-02 -1.90047003e-02  1.07218303e-03 -5.29268790e-04\n",
            "   2.51863315e-02 -4.32411929e-03 -9.17609743e-03  4.96043368e-03\n",
            "   3.05482077e-01 -1.38206208e-03  3.60643350e-03 -9.34109403e-04\n",
            "   2.55127199e-03  1.04330081e-02  5.28686554e-04  2.43272730e-02\n",
            "   3.71802693e-03 -1.24185315e-02 -2.97312570e-02  2.94416143e-04\n",
            "   1.76323790e-03 -2.87851756e-03 -6.90741730e-03  4.09217898e-02\n",
            "   5.82436792e-04 -1.29518589e-02 -2.37629846e-02 -2.94142178e-03\n",
            "  -4.66423795e-02  1.12386073e-01 -2.77568221e-03  1.42056350e-03\n",
            "   1.45912170e-02  2.07383726e-02  5.02194009e-04  6.14014967e-04\n",
            "  -2.69850210e-02 -6.91430657e-03 -7.85023769e-04 -1.52448465e-03\n",
            "  -2.58190755e-03 -1.19016929e-03  5.57234073e-03  4.10910734e-04\n",
            "   1.59143199e-03  6.07091770e-04 -3.27327091e-03 -3.40911573e-03\n",
            "  -1.10918404e-02  4.12168659e-03  3.76446018e-03 -5.24006396e-04\n",
            "  -3.34324160e-03  1.33380373e-02]\n",
            " [ 3.98788232e-03 -3.10282492e-03 -1.82444046e-03 -2.07433023e-03\n",
            "   2.96092033e-03  1.90564939e-02  6.26566912e-04  3.51741099e-03\n",
            "   8.42112139e-03  2.17002304e-03 -4.02987654e-03  7.61742524e-03\n",
            "   2.42187151e-02  1.78999086e-04 -8.25125617e-03 -7.17688869e-03\n",
            "  -1.08574360e-02 -1.02997678e-02  1.14557574e-02 -8.62459436e-03\n",
            "  -4.85089185e-03  2.78380066e-03  6.89650633e-03  2.90861227e-03\n",
            "  -1.93349417e-04  2.75457901e-03  4.68188486e-03 -4.81349923e-02\n",
            "  -1.11876276e-02 -2.87713126e-02 -1.23024404e-02  1.20413110e-02\n",
            "   1.03039479e-02 -6.23753897e-03 -1.29942006e-02 -2.90225312e-03\n",
            "   8.26609090e-03  2.62861449e-02 -1.16657042e-03 -4.54847848e-03\n",
            "   1.04330713e-02 -3.14931932e-02  4.27271462e-03  2.43931505e-03\n",
            "  -6.01005382e-03 -6.41110350e-03  7.77961138e-03  3.89617080e-03\n",
            "  -2.04792366e-03  7.06789099e-03 -1.84363451e-04  7.76397540e-03\n",
            "   1.04733811e-03  9.48742598e-04  1.96816050e-02  3.40818871e-03\n",
            "  -3.66646174e-02 -2.40809783e-03]\n",
            " [-1.98387482e-02  7.68745878e-03 -2.36384972e-03  4.79335711e-03\n",
            "  -2.44271621e-03 -1.95322744e-02  1.16301738e-02  2.01995108e-03\n",
            "  -2.59438565e-02  2.23306880e-03 -2.66330149e-03  9.14510373e-04\n",
            "   1.10846521e+00  1.36922177e-03 -4.44663130e-03  9.56173128e-03\n",
            "   6.95082582e-04  1.05644597e-02 -4.45280066e-03 -2.23037136e-03\n",
            "  -9.83907282e-03  5.42309150e-03  4.65073917e-03 -1.11864114e-02\n",
            "  -6.24054107e-03  6.04389754e-03  6.45260429e-03  8.75888671e-03\n",
            "  -1.77883465e-03  1.18618287e-03  3.87799002e-03 -6.84668421e-03\n",
            "   4.33779724e-02 -2.74448892e-02  9.52587796e-03  1.83426399e-02\n",
            "  -1.82072367e-02 -8.23033390e-03  3.96300774e-03  1.97185697e-03\n",
            "   5.75237131e-03 -7.84325570e-03 -1.57055677e-03  4.46882719e-03\n",
            "  -1.09924767e-03 -1.08948073e-03  5.42354223e-04  5.59530197e-04\n",
            "   2.54138346e-03 -1.47594569e-02  1.57781819e-03 -4.94653709e-04\n",
            "   2.52743022e-03 -5.37202745e-03  7.64050850e-03  7.01148706e-03\n",
            "   5.88494674e-03  1.35338071e-03]\n",
            " [-4.81070068e-03 -1.86983614e-03  3.06596400e-03  6.27273075e-03\n",
            "  -1.04242556e-03  1.19097591e-02  1.51354848e-04 -1.15418924e-03\n",
            "  -3.98557968e-02 -3.81916698e-03 -5.37382517e-04 -2.22729115e-03\n",
            "   6.63834793e-01  4.32056878e-03  2.24485907e-03  3.38025295e-03\n",
            "   4.55918790e-03  5.33868335e-03  1.61096338e-02 -1.27752701e-02\n",
            "   1.19487105e-02 -1.58487465e-03  1.42876964e-02  5.77485289e-03\n",
            "   9.43201420e-03 -1.91236329e-03 -3.02100466e-03  1.35795461e-01\n",
            "   1.37651960e-02 -2.04140553e-02  1.17479303e-02  1.64269189e-02\n",
            "  -9.79939041e-03  9.98706472e-02  7.86065822e-03 -1.12019496e-03\n",
            "  -1.53462266e-02  3.33632699e-02 -1.82197395e-03  1.26372305e-03\n",
            "   3.48265373e-02  1.49000925e-02  3.74074508e-03  1.93173138e-03\n",
            "  -4.70082564e-03  6.19431662e-03 -4.78795433e-03 -2.84519236e-03\n",
            "   1.95716096e-04 -5.85953134e-03 -2.09093795e-03 -3.03037505e-03\n",
            "  -6.75569848e-03  1.47435368e-03 -1.12370975e-03  7.42019974e-03\n",
            "   3.78558833e-02  1.11379812e-02]\n",
            " [-6.11161821e-02 -1.35081750e-02 -1.64201536e-03 -3.58065487e-03\n",
            "   1.57630774e-02  1.99564652e-02 -1.94308732e-03  1.10654501e-03\n",
            "  -2.68268572e-02  9.75431503e-04  6.35880444e-03 -2.32508358e-03\n",
            "   1.36916401e-01 -1.81927050e-03 -2.00995235e-03 -1.28004100e-05\n",
            "   6.64104938e-03 -9.35026939e-03 -9.07147811e-03 -4.40225837e-03\n",
            "   1.18664949e-02 -5.68361180e-04 -5.61589621e-03 -1.91876494e-03\n",
            "   2.11303419e-03  4.03540910e-03 -3.21741214e-03 -1.46699400e-01\n",
            "  -1.62664789e-02  1.38086297e-04 -1.68787653e-03  7.42404622e-03\n",
            "   6.73083606e-02  3.92921703e-02 -3.60595497e-03 -1.11970231e-02\n",
            "   1.92879889e-02  2.13103565e-03 -5.17208834e-03 -6.39115634e-03\n",
            "   2.61966720e-02 -2.06966275e-02  2.93854499e-03 -1.37490347e-02\n",
            "  -2.17564262e-03 -3.78077827e-03  6.21558980e-03  9.60683821e-03\n",
            "  -8.73098691e-03 -9.98155462e-03 -1.99597195e-02  5.94336739e-03\n",
            "   7.21581085e-03  1.12852538e-02  9.61755437e-03  4.05402326e-03\n",
            "   5.08463815e-02 -2.57951110e-03]]\n",
            "P x Q:\n",
            "[[ 2.40630004e-03 -1.29886103e-03  8.37796377e-04 ... -2.38175771e-03\n",
            "  -3.91468070e-03 -3.83316585e-04]\n",
            " [-5.16715058e-03 -4.61580624e-04  2.87994554e-04 ...  7.51183640e-04\n",
            "   1.01617457e-02  1.46669128e-03]\n",
            " [ 2.68112185e-03  5.70816934e-05  1.19868379e-04 ...  1.13348724e-04\n",
            "  -1.62334666e-03 -2.41394758e-05]\n",
            " ...\n",
            " [-6.71479074e-02  5.10014206e-03  5.73435093e-03 ...  1.38926610e-02\n",
            "   5.70834581e-02  3.25881264e-02]\n",
            " [-7.32903622e-02 -1.48719801e-02 -4.12355270e-04 ...  1.11370335e-02\n",
            "   8.87097131e-02  5.37964820e-03]\n",
            " [-1.13283723e-01 -1.96266239e-02 -2.77709604e-04 ...  1.39217675e-02\n",
            "   5.23837714e-02  4.94046823e-03]]\n",
            "bias:\n",
            "0.09163845228152029\n",
            "User Latent bias:\n",
            "[ 0.07877831  0.03988594  0.06119184 ... -0.04322883 -0.02655948\n",
            " -0.02068509]\n",
            "Item Latent bias:\n",
            "[ 0.03664623 -0.02539382 -0.04228345 -0.02763696  0.05782043 -0.00679121\n",
            " -0.04646148 -0.06054574  0.04645993 -0.06079779 -0.04514814 -0.03920338\n",
            "  0.39504273 -0.04442128 -0.0563413  -0.05740376 -0.03814067 -0.03267785\n",
            " -0.02003833 -0.02972189 -0.0377273  -0.01767173 -0.0140311  -0.03630039\n",
            " -0.02885218 -0.02525251 -0.01053234  0.16345777  0.00138021 -0.00762903\n",
            "  0.00858829 -0.02390011 -0.03561849  0.0630004  -0.0188813  -0.03738984\n",
            " -0.00550988  0.02104839 -0.05759118 -0.06861578 -0.00825837 -0.01329457\n",
            " -0.05293594 -0.02679413 -0.0553396  -0.04628819 -0.05148427 -0.05308225\n",
            " -0.04153518 -0.02076253  0.00291476 -0.03511365 -0.04404771 -0.06023261\n",
            " -0.04079187 -0.03601674  0.00375665 -0.0376592 ]\n",
            "Final R matrix:\n",
            "[[ 0.20946929  0.14372408  0.1289711  ...  0.13201827  0.17025873\n",
            "   0.13237425]\n",
            " [ 0.16300347  0.10566899  0.08952893 ...  0.09625884  0.14544279\n",
            "   0.09533189]\n",
            " [ 0.19215765  0.12749356  0.11066671 ...  0.1169269   0.1549636\n",
            "   0.11514696]\n",
            " ...\n",
            " [ 0.01790794  0.02811594  0.01186051 ...  0.02628554  0.10924973\n",
            "   0.04333855]\n",
            " [ 0.02843484  0.02481318  0.02238317 ...  0.04019927  0.15754534\n",
            "   0.03279943]\n",
            " [-0.00568413  0.02593292  0.02839219 ...  0.04885839  0.12709378\n",
            "   0.03823463]]\n",
            "Final RMSE:\n",
            "0.0005355179450987672\n"
          ]
        }
      ],
      "source": [
        "# run test data\n",
        "if __name__ == \"__main__\":\n",
        "    # rating matrix - User X Item : (7 X 5), R\n",
        "\n",
        "    # P, Q is (7 X k), (k X 5) matrix\n",
        "    factorizer_G1 = MatrixFactorization(G1_scaled, k=7, learning_rate=0.1, reg_param=0.1, epochs=10, verbose=True)\n",
        "    factorizer_G1.fit()\n",
        "    factorizer_G1.print_results()\n",
        "\n",
        "    sol_G1=factorizer_G1.out()"
      ]
    },
    {
      "cell_type": "code",
      "execution_count": null,
      "metadata": {
        "id": "eki46VtXdGlF"
      },
      "outputs": [],
      "source": [
        "# user latent, item latent, final R\n",
        "user_latent05=sol_G1[0]\n",
        "item_latent05=sol_G1[1]\n",
        "finalR05=sol_G1[2]"
      ]
    },
    {
      "cell_type": "code",
      "execution_count": null,
      "metadata": {
        "id": "RwUgSqoqrh5Q"
      },
      "outputs": [],
      "source": [
        "finalR01_ori = scaler01.inverse_transform(finalR01)"
      ]
    },
    {
      "cell_type": "code",
      "execution_count": null,
      "metadata": {
        "id": "O1lIinFbrhyA"
      },
      "outputs": [],
      "source": [
        "finalR02_ori = scaler02.inverse_transform(finalR02)"
      ]
    },
    {
      "cell_type": "code",
      "execution_count": null,
      "metadata": {
        "id": "Ha58fm45q1Xo"
      },
      "outputs": [],
      "source": [
        "finalR03_ori = scaler03.inverse_transform(finalR03)"
      ]
    },
    {
      "cell_type": "code",
      "execution_count": null,
      "metadata": {
        "id": "tcIXatVCwRE2"
      },
      "outputs": [],
      "source": [
        "finalR04_ori = scaler04.inverse_transform(finalR04)"
      ]
    },
    {
      "cell_type": "code",
      "execution_count": null,
      "metadata": {
        "id": "Vkb7Y2btdaP-"
      },
      "outputs": [],
      "source": [
        "finalR05_ori = scaler05.inverse_transform(finalR05)"
      ]
    },
    {
      "cell_type": "code",
      "execution_count": null,
      "metadata": {
        "colab": {
          "base_uri": "https://localhost:8080/"
        },
        "id": "E3zIA62qrfQB",
        "outputId": "762d8eaf-24b8-47f7-e890-82f3186464bb"
      },
      "outputs": [
        {
          "data": {
            "text/plain": [
              "array([[647260.11522387, 289307.95639787, 194088.61427272, ...,\n",
              "        198027.39826268, 246755.97818331, 400034.97889679],\n",
              "       [503680.72985127, 212705.34458299, 134732.09006786, ...,\n",
              "        144388.25546513, 210790.23128022, 288092.9608795 ],\n",
              "       [593767.12504991, 256636.88061543, 166542.32706289, ...,\n",
              "        175390.35425379, 224588.73893153, 347974.10246745],\n",
              "       ...,\n",
              "       [ 55335.54075823,  56595.70628141,  17848.88899579, ...,\n",
              "         39428.31109233, 158335.62773387, 130969.09201945],\n",
              "       [ 87863.6709812 ,  49947.43973947,  33684.42735768, ...,\n",
              "         60298.90658962, 228330.45931382,  99119.87008591],\n",
              "       [-17563.97090832,  52201.40689924,  42727.4141256 , ...,\n",
              "         73287.5815775 , 184197.01485864, 115545.0526961 ]])"
            ]
          },
          "execution_count": 109,
          "metadata": {},
          "output_type": "execute_result"
        }
      ],
      "source": [
        "finalR05_ori"
      ]
    },
    {
      "cell_type": "code",
      "execution_count": null,
      "metadata": {
        "id": "uXLw79sCN31g"
      },
      "outputs": [],
      "source": [
        "np.savetxt(\"/content/drive/Shareddrives/22SummerProjects/LPoint/Clustering/finalR_VIP.csv\", finalR04, delimiter=\",\")"
      ]
    },
    {
      "cell_type": "code",
      "execution_count": null,
      "metadata": {
        "id": "G_FVgJAqdfQD"
      },
      "outputs": [],
      "source": [
        "np.savetxt(\"/content/drive/Shareddrives/22SummerProjects/LPoint/Clustering/finalR_G1.csv\", finalR05, delimiter=\",\")"
      ]
    },
    {
      "cell_type": "code",
      "execution_count": null,
      "metadata": {
        "colab": {
          "base_uri": "https://localhost:8080/"
        },
        "id": "VmE314rzIN3Z",
        "outputId": "6b51295e-ae54-42a1-8195-bd21e5256080"
      },
      "outputs": [
        {
          "data": {
            "text/plain": [
              "(26917, 58)"
            ]
          },
          "execution_count": 112,
          "metadata": {},
          "output_type": "execute_result"
        }
      ],
      "source": [
        "finalR02.shape"
      ]
    },
    {
      "cell_type": "code",
      "execution_count": null,
      "metadata": {
        "colab": {
          "base_uri": "https://localhost:8080/"
        },
        "id": "PwSZ-jgdGHOZ",
        "outputId": "423bbaae-0407-4c9f-ff39-63df6fb8c4fc"
      },
      "outputs": [
        {
          "data": {
            "text/plain": [
              "array([[ 0.54282214,  1.06469488,  1.0324104 , ...,  0.20573438,\n",
              "         0.55251728, -0.3004104 ],\n",
              "       [ 0.75220865,  2.12631586,  1.05554061, ...,  2.00963895,\n",
              "         2.50531184,  1.08045556],\n",
              "       [ 1.75191192,  0.86801795,  2.09317728, ..., -0.00285413,\n",
              "         1.36345465,  0.39958906],\n",
              "       ...,\n",
              "       [ 1.30359796,  0.7641471 ,  0.45467683, ..., -0.22473722,\n",
              "         0.5168673 ,  0.03724268],\n",
              "       [-0.20018991,  1.71999898,  2.60331259, ...,  0.13048368,\n",
              "         0.4998987 , -0.19575099],\n",
              "       [ 1.94914271,  0.19050381,  0.60571011, ...,  0.2230254 ,\n",
              "         1.17765485, -0.35357657]])"
            ]
          },
          "execution_count": 111,
          "metadata": {},
          "output_type": "execute_result"
        }
      ],
      "source": [
        "finalR01"
      ]
    },
    {
      "cell_type": "code",
      "execution_count": null,
      "metadata": {
        "id": "9fVqO8h_osGO"
      },
      "outputs": [],
      "source": []
    },
    {
      "cell_type": "code",
      "execution_count": null,
      "metadata": {
        "colab": {
          "base_uri": "https://localhost:8080/"
        },
        "id": "jTqLLFuAmwAQ",
        "outputId": "d5436c83-6e75-4b5d-98fc-88f1c3fd2e1f"
      },
      "outputs": [
        {
          "data": {
            "text/plain": [
              "array([[ 0.52131524,  1.36084301, -1.85691303, ...,  1.38742227,\n",
              "         1.7817772 ,  0.21123787],\n",
              "       [-1.14312432,  1.0671733 ,  2.65347199, ...,  1.50728064,\n",
              "         0.325571  ,  0.44899263],\n",
              "       [ 2.83410127,  0.74508679, -2.3813766 , ...,  0.86066426,\n",
              "         2.03770363,  0.9160076 ],\n",
              "       ...,\n",
              "       [ 0.94962233,  1.3497357 ,  1.44432536, ...,  1.71624619,\n",
              "         1.64445255, -0.04726747],\n",
              "       [ 1.67455727,  0.37045275, -2.45297949, ...,  0.46441413,\n",
              "         1.36713799,  0.62350476],\n",
              "       [ 0.21137623,  0.51348283, -1.31555286, ...,  0.81790504,\n",
              "         0.92466855,  0.35531855]])"
            ]
          },
          "execution_count": 113,
          "metadata": {},
          "output_type": "execute_result"
        }
      ],
      "source": [
        "finalR02"
      ]
    },
    {
      "cell_type": "code",
      "execution_count": null,
      "metadata": {
        "colab": {
          "base_uri": "https://localhost:8080/"
        },
        "id": "aALfhxHCnBP5",
        "outputId": "b7a36a51-0309-48ea-99a1-bd1e19e6cdb2"
      },
      "outputs": [
        {
          "data": {
            "text/plain": [
              "array([[ 9.00894090e-01,  1.12683985e+00,  1.03152231e+00, ...,\n",
              "        -3.58049283e-01,  1.85398529e+01,  4.69426397e-02],\n",
              "       [-5.83622720e-01, -1.27685633e-01,  1.14489863e+01, ...,\n",
              "        -7.06943115e-02,  9.99654089e+00,  2.86169728e-01],\n",
              "       [-5.26122306e+00,  3.14294790e+00, -1.26067646e-01, ...,\n",
              "         3.48521807e-01, -5.62524751e+00,  4.83558170e-01],\n",
              "       ...,\n",
              "       [-1.49829455e+00,  7.93736616e+00,  8.81607445e+00, ...,\n",
              "         8.14629998e-03,  1.67312465e+01,  3.10354352e-01],\n",
              "       [-1.41660256e+00,  5.98830694e+00,  7.21192503e+00, ...,\n",
              "         7.05409569e-02,  1.11860923e+01,  2.72446637e-01],\n",
              "       [-3.30712318e+00,  1.48285751e+00, -7.17312055e-01, ...,\n",
              "         2.68769244e-01, -8.06879804e+00,  1.03788151e-01]])"
            ]
          },
          "execution_count": 114,
          "metadata": {},
          "output_type": "execute_result"
        }
      ],
      "source": [
        "finalR03"
      ]
    },
    {
      "cell_type": "code",
      "execution_count": null,
      "metadata": {
        "id": "sWtGFYch4g5T"
      },
      "outputs": [],
      "source": [
        "# Spectral clustering : 인간 / 카테고리 둘 다 해보자"
      ]
    },
    {
      "cell_type": "code",
      "execution_count": null,
      "metadata": {
        "id": "qVLr1IXB99ij"
      },
      "outputs": [],
      "source": [
        "# affinity matrix : k by k"
      ]
    },
    {
      "cell_type": "code",
      "execution_count": null,
      "metadata": {
        "id": "B_YdbkuK99Yr"
      },
      "outputs": [],
      "source": []
    },
    {
      "cell_type": "code",
      "execution_count": null,
      "metadata": {
        "id": "57uYDmYd99Rr"
      },
      "outputs": [],
      "source": []
    }
  ],
  "metadata": {
    "colab": {
      "collapsed_sections": [],
      "name": "RecomSystem_MF_V01.ipynb",
      "provenance": []
    },
    "kernelspec": {
      "display_name": "Python 3.10.6 64-bit",
      "language": "python",
      "name": "python3"
    },
    "language_info": {
      "name": "python",
      "version": "3.10.6"
    },
    "vscode": {
      "interpreter": {
        "hash": "d4d89d9c2a8fda2769fa326fa3d00908c9a8759a8068a6e279faebea338bf14b"
      }
    }
  },
  "nbformat": 4,
  "nbformat_minor": 0
}
