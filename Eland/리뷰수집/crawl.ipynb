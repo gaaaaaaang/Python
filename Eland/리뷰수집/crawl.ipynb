{
 "cells": [
  {
   "cell_type": "code",
   "execution_count": 55,
   "metadata": {},
   "outputs": [],
   "source": [
    "import requests \n",
    "from bs4 import BeautifulSoup as bs\n",
    "import pandas as pd\n",
    "import warnings\n",
    "warnings.filterwarnings('ignore')\n",
    "\n",
    "import re"
   ]
  },
  {
   "cell_type": "code",
   "execution_count": 129,
   "metadata": {},
   "outputs": [],
   "source": [
    "list_df = pd.read_csv('crawl.csv',encoding='utf-8')"
   ]
  },
  {
   "cell_type": "code",
   "execution_count": 130,
   "metadata": {},
   "outputs": [],
   "source": [
    "list_df['Product_id'] = ''\n",
    "\n"
   ]
  },
  {
   "cell_type": "code",
   "execution_count": 93,
   "metadata": {},
   "outputs": [
    {
     "name": "stderr",
     "output_type": "stream",
     "text": [
      "2023-12-07 16:30:27 [urllib3.connectionpool] DEBUG: Starting new HTTPS connection (1): www.thenorthfacekorea.co.kr:443\n",
      "2023-12-07 16:30:30 [urllib3.connectionpool] DEBUG: https://www.thenorthfacekorea.co.kr:443 \"GET /product/NJ1DP73D HTTP/1.1\" 200 None\n"
     ]
    },
    {
     "name": "stdout",
     "output_type": "stream",
     "text": [
      "Product ID: 4000035949\n"
     ]
    }
   ],
   "source": [
    "review_url = 'https://www.thenorthfacekorea.co.kr/product/NJ1DP73D'\n",
    "response = requests.get(review_url)\n",
    "soup = bs(response.content, 'html.parser')\n",
    "\n",
    "# div.pdp-main 요소를 찾기\n",
    "pdp_main_element = soup.find('div', class_='pdp-main')\n",
    "\n",
    "# 찾은 요소가 있는지 확인\n",
    "if pdp_main_element:\n",
    "    # 'data-productid' 속성을 가져오기\n",
    "    product_id = pdp_main_element.get('data-productid')\n",
    "    print(f\"Product ID: {product_id}\")\n",
    "else:\n",
    "    print(\"Could not find 'pdp-main' element.\")"
   ]
  },
  {
   "cell_type": "code",
   "execution_count": 131,
   "metadata": {},
   "outputs": [
    {
     "name": "stderr",
     "output_type": "stream",
     "text": [
      "2023-12-08 09:17:42 [urllib3.connectionpool] DEBUG: Starting new HTTPS connection (1): www.thenorthfacekorea.co.kr:443\n",
      "2023-12-08 09:17:43 [urllib3.connectionpool] DEBUG: https://www.thenorthfacekorea.co.kr:443 \"GET /product/NJ1DP85J HTTP/1.1\" 200 None\n",
      "2023-12-08 09:17:44 [urllib3.connectionpool] DEBUG: Starting new HTTPS connection (1): www.thenorthfacekorea.co.kr:443\n",
      "2023-12-08 09:17:45 [urllib3.connectionpool] DEBUG: https://www.thenorthfacekorea.co.kr:443 \"GET /product/NJ1DP96A HTTP/1.1\" 200 None\n",
      "2023-12-08 09:17:45 [urllib3.connectionpool] DEBUG: Starting new HTTPS connection (1): www.thenorthfacekorea.co.kr:443\n",
      "2023-12-08 09:17:47 [urllib3.connectionpool] DEBUG: https://www.thenorthfacekorea.co.kr:443 \"GET /product/NV3NP50A HTTP/1.1\" 200 None\n",
      "2023-12-08 09:17:47 [urllib3.connectionpool] DEBUG: Starting new HTTPS connection (1): www.thenorthfacekorea.co.kr:443\n",
      "2023-12-08 09:17:54 [urllib3.connectionpool] DEBUG: https://www.thenorthfacekorea.co.kr:443 \"GET /product/NJ1DP58A HTTP/1.1\" 200 None\n",
      "2023-12-08 09:17:54 [urllib3.connectionpool] DEBUG: Starting new HTTPS connection (1): www.thenorthfacekorea.co.kr:443\n",
      "2023-12-08 09:17:57 [urllib3.connectionpool] DEBUG: https://www.thenorthfacekorea.co.kr:443 \"GET /product/NJ1DP87J HTTP/1.1\" 200 None\n",
      "2023-12-08 09:17:57 [urllib3.connectionpool] DEBUG: Starting new HTTPS connection (1): www.thenorthfacekorea.co.kr:443\n",
      "2023-12-08 09:17:59 [urllib3.connectionpool] DEBUG: https://www.thenorthfacekorea.co.kr:443 \"GET /product/NC2DN99A HTTP/1.1\" 200 None\n",
      "2023-12-08 09:17:59 [urllib3.connectionpool] DEBUG: Starting new HTTPS connection (1): www.thenorthfacekorea.co.kr:443\n",
      "2023-12-08 09:18:00 [urllib3.connectionpool] DEBUG: https://www.thenorthfacekorea.co.kr:443 \"GET /product/NJ1DN76B HTTP/1.1\" 200 None\n",
      "2023-12-08 09:18:01 [urllib3.connectionpool] DEBUG: Starting new HTTPS connection (1): www.thenorthfacekorea.co.kr:443\n",
      "2023-12-08 09:18:02 [urllib3.connectionpool] DEBUG: https://www.thenorthfacekorea.co.kr:443 \"GET /product/NJ1DP86J HTTP/1.1\" 200 None\n",
      "2023-12-08 09:18:03 [urllib3.connectionpool] DEBUG: Starting new HTTPS connection (1): www.thenorthfacekorea.co.kr:443\n",
      "2023-12-08 09:18:04 [urllib3.connectionpool] DEBUG: https://www.thenorthfacekorea.co.kr:443 \"GET /product/NV1DP55A HTTP/1.1\" 200 None\n",
      "2023-12-08 09:18:04 [urllib3.connectionpool] DEBUG: Starting new HTTPS connection (1): www.thenorthfacekorea.co.kr:443\n",
      "2023-12-08 09:18:06 [urllib3.connectionpool] DEBUG: https://www.thenorthfacekorea.co.kr:443 \"GET /product/NJ3NN63A HTTP/1.1\" 200 None\n",
      "2023-12-08 09:18:06 [urllib3.connectionpool] DEBUG: Starting new HTTPS connection (1): www.thenorthfacekorea.co.kr:443\n",
      "2023-12-08 09:18:08 [urllib3.connectionpool] DEBUG: https://www.thenorthfacekorea.co.kr:443 \"GET /product/NJ1DP99A HTTP/1.1\" 200 None\n",
      "2023-12-08 09:18:08 [urllib3.connectionpool] DEBUG: Starting new HTTPS connection (1): www.thenorthfacekorea.co.kr:443\n",
      "2023-12-08 09:18:09 [urllib3.connectionpool] DEBUG: https://www.thenorthfacekorea.co.kr:443 \"GET /product/NC1DP79A HTTP/1.1\" 200 None\n",
      "2023-12-08 09:18:09 [urllib3.connectionpool] DEBUG: Starting new HTTPS connection (1): www.thenorthfacekorea.co.kr:443\n",
      "2023-12-08 09:18:11 [urllib3.connectionpool] DEBUG: https://www.thenorthfacekorea.co.kr:443 \"GET /product/NJ1DP69A HTTP/1.1\" 200 None\n",
      "2023-12-08 09:18:11 [urllib3.connectionpool] DEBUG: Starting new HTTPS connection (1): www.thenorthfacekorea.co.kr:443\n",
      "2023-12-08 09:18:13 [urllib3.connectionpool] DEBUG: https://www.thenorthfacekorea.co.kr:443 \"GET /product/NV3NP55A HTTP/1.1\" 200 None\n",
      "2023-12-08 09:18:13 [urllib3.connectionpool] DEBUG: Starting new HTTPS connection (1): www.thenorthfacekorea.co.kr:443\n",
      "2023-12-08 09:18:15 [urllib3.connectionpool] DEBUG: https://www.thenorthfacekorea.co.kr:443 \"GET /product/NJ1DN51K HTTP/1.1\" 200 None\n",
      "2023-12-08 09:18:15 [urllib3.connectionpool] DEBUG: Starting new HTTPS connection (1): www.thenorthfacekorea.co.kr:443\n",
      "2023-12-08 09:18:17 [urllib3.connectionpool] DEBUG: https://www.thenorthfacekorea.co.kr:443 \"GET /product/NJ1DN51Q HTTP/1.1\" 200 None\n",
      "2023-12-08 09:18:17 [urllib3.connectionpool] DEBUG: Starting new HTTPS connection (1): www.thenorthfacekorea.co.kr:443\n",
      "2023-12-08 09:18:18 [urllib3.connectionpool] DEBUG: https://www.thenorthfacekorea.co.kr:443 \"GET /product/NJ1DP81A HTTP/1.1\" 200 None\n",
      "2023-12-08 09:18:18 [urllib3.connectionpool] DEBUG: Starting new HTTPS connection (1): www.thenorthfacekorea.co.kr:443\n",
      "2023-12-08 09:18:19 [urllib3.connectionpool] DEBUG: https://www.thenorthfacekorea.co.kr:443 \"GET /product/NJ1DP85A HTTP/1.1\" 200 None\n",
      "2023-12-08 09:18:20 [urllib3.connectionpool] DEBUG: Starting new HTTPS connection (1): www.thenorthfacekorea.co.kr:443\n",
      "2023-12-08 09:18:21 [urllib3.connectionpool] DEBUG: https://www.thenorthfacekorea.co.kr:443 \"GET /product/NJ2DN50A HTTP/1.1\" 200 None\n",
      "2023-12-08 09:18:21 [urllib3.connectionpool] DEBUG: Starting new HTTPS connection (1): www.thenorthfacekorea.co.kr:443\n",
      "2023-12-08 09:18:23 [urllib3.connectionpool] DEBUG: https://www.thenorthfacekorea.co.kr:443 \"GET /product/NJ3NP55A HTTP/1.1\" 200 None\n",
      "2023-12-08 09:18:23 [urllib3.connectionpool] DEBUG: Starting new HTTPS connection (1): www.thenorthfacekorea.co.kr:443\n",
      "2023-12-08 09:18:25 [urllib3.connectionpool] DEBUG: https://www.thenorthfacekorea.co.kr:443 \"GET /product/NJ3NP50A HTTP/1.1\" 200 None\n",
      "2023-12-08 09:18:25 [urllib3.connectionpool] DEBUG: Starting new HTTPS connection (1): www.thenorthfacekorea.co.kr:443\n",
      "2023-12-08 09:18:27 [urllib3.connectionpool] DEBUG: https://www.thenorthfacekorea.co.kr:443 \"GET /product/NJ1DN72A HTTP/1.1\" 200 None\n",
      "2023-12-08 09:18:27 [urllib3.connectionpool] DEBUG: Starting new HTTPS connection (1): www.thenorthfacekorea.co.kr:443\n",
      "2023-12-08 09:18:29 [urllib3.connectionpool] DEBUG: https://www.thenorthfacekorea.co.kr:443 \"GET /product/NJ1DN58A HTTP/1.1\" 200 None\n",
      "2023-12-08 09:18:29 [urllib3.connectionpool] DEBUG: Starting new HTTPS connection (1): www.thenorthfacekorea.co.kr:443\n",
      "2023-12-08 09:18:30 [urllib3.connectionpool] DEBUG: https://www.thenorthfacekorea.co.kr:443 \"GET /product/NJ1DP84J HTTP/1.1\" 200 None\n",
      "2023-12-08 09:18:31 [urllib3.connectionpool] DEBUG: Starting new HTTPS connection (1): www.thenorthfacekorea.co.kr:443\n",
      "2023-12-08 09:18:32 [urllib3.connectionpool] DEBUG: https://www.thenorthfacekorea.co.kr:443 \"GET /product/NJ1DN81J HTTP/1.1\" 200 None\n",
      "2023-12-08 09:18:32 [urllib3.connectionpool] DEBUG: Starting new HTTPS connection (1): www.thenorthfacekorea.co.kr:443\n",
      "2023-12-08 09:18:33 [urllib3.connectionpool] DEBUG: https://www.thenorthfacekorea.co.kr:443 \"GET /product/NC2DP72A HTTP/1.1\" 200 None\n",
      "2023-12-08 09:18:34 [urllib3.connectionpool] DEBUG: Starting new HTTPS connection (1): www.thenorthfacekorea.co.kr:443\n",
      "2023-12-08 09:18:35 [urllib3.connectionpool] DEBUG: https://www.thenorthfacekorea.co.kr:443 \"GET /product/NJ1DN79B HTTP/1.1\" 200 None\n",
      "2023-12-08 09:18:35 [urllib3.connectionpool] DEBUG: Starting new HTTPS connection (1): www.thenorthfacekorea.co.kr:443\n",
      "2023-12-08 09:18:36 [urllib3.connectionpool] DEBUG: https://www.thenorthfacekorea.co.kr:443 \"GET /product/NV1DP50J HTTP/1.1\" 200 None\n",
      "2023-12-08 09:18:36 [urllib3.connectionpool] DEBUG: Starting new HTTPS connection (1): www.thenorthfacekorea.co.kr:443\n",
      "2023-12-08 09:18:38 [urllib3.connectionpool] DEBUG: https://www.thenorthfacekorea.co.kr:443 \"GET /product/NJ1DN97A HTTP/1.1\" 200 None\n",
      "2023-12-08 09:18:38 [urllib3.connectionpool] DEBUG: Starting new HTTPS connection (1): www.thenorthfacekorea.co.kr:443\n",
      "2023-12-08 09:18:39 [urllib3.connectionpool] DEBUG: https://www.thenorthfacekorea.co.kr:443 \"GET /product/NJ3NP56J HTTP/1.1\" 200 None\n",
      "2023-12-08 09:18:40 [urllib3.connectionpool] DEBUG: Starting new HTTPS connection (1): www.thenorthfacekorea.co.kr:443\n",
      "2023-12-08 09:18:41 [urllib3.connectionpool] DEBUG: https://www.thenorthfacekorea.co.kr:443 \"GET /product/NV3NN00A HTTP/1.1\" 200 None\n",
      "2023-12-08 09:18:41 [urllib3.connectionpool] DEBUG: Starting new HTTPS connection (1): www.thenorthfacekorea.co.kr:443\n",
      "2023-12-08 09:18:43 [urllib3.connectionpool] DEBUG: https://www.thenorthfacekorea.co.kr:443 \"GET /product/NJ1DP55B HTTP/1.1\" 200 None\n",
      "2023-12-08 09:18:43 [urllib3.connectionpool] DEBUG: Starting new HTTPS connection (1): www.thenorthfacekorea.co.kr:443\n",
      "2023-12-08 09:18:44 [urllib3.connectionpool] DEBUG: https://www.thenorthfacekorea.co.kr:443 \"GET /product/NJ1DP93A HTTP/1.1\" 200 None\n",
      "2023-12-08 09:18:44 [urllib3.connectionpool] DEBUG: Starting new HTTPS connection (1): www.thenorthfacekorea.co.kr:443\n",
      "2023-12-08 09:18:46 [urllib3.connectionpool] DEBUG: https://www.thenorthfacekorea.co.kr:443 \"GET /product/NJ1DN64A HTTP/1.1\" 200 None\n",
      "2023-12-08 09:18:46 [urllib3.connectionpool] DEBUG: Starting new HTTPS connection (1): www.thenorthfacekorea.co.kr:443\n",
      "2023-12-08 09:18:46 [urllib3.connectionpool] DEBUG: https://www.thenorthfacekorea.co.kr:443 \"GET /product/NV1DN72A HTTP/1.1\" 200 None\n",
      "2023-12-08 09:18:46 [urllib3.connectionpool] DEBUG: Starting new HTTPS connection (1): www.thenorthfacekorea.co.kr:443\n",
      "2023-12-08 09:18:48 [urllib3.connectionpool] DEBUG: https://www.thenorthfacekorea.co.kr:443 \"GET /product/NV1DP80A HTTP/1.1\" 200 None\n",
      "2023-12-08 09:18:48 [urllib3.connectionpool] DEBUG: Starting new HTTPS connection (1): www.thenorthfacekorea.co.kr:443\n",
      "2023-12-08 09:18:51 [urllib3.connectionpool] DEBUG: https://www.thenorthfacekorea.co.kr:443 \"GET /product/NJ1DP63J HTTP/1.1\" 200 None\n",
      "2023-12-08 09:18:51 [urllib3.connectionpool] DEBUG: Starting new HTTPS connection (1): www.thenorthfacekorea.co.kr:443\n",
      "2023-12-08 09:18:53 [urllib3.connectionpool] DEBUG: https://www.thenorthfacekorea.co.kr:443 \"GET /product/NJ1DP66A HTTP/1.1\" 200 None\n",
      "2023-12-08 09:18:53 [urllib3.connectionpool] DEBUG: Starting new HTTPS connection (1): www.thenorthfacekorea.co.kr:443\n",
      "2023-12-08 09:18:54 [urllib3.connectionpool] DEBUG: https://www.thenorthfacekorea.co.kr:443 \"GET /product/NV1DP81J HTTP/1.1\" 200 None\n",
      "2023-12-08 09:18:55 [urllib3.connectionpool] DEBUG: Starting new HTTPS connection (1): www.thenorthfacekorea.co.kr:443\n",
      "2023-12-08 09:18:56 [urllib3.connectionpool] DEBUG: https://www.thenorthfacekorea.co.kr:443 \"GET /product/NV3NP51A HTTP/1.1\" 200 None\n",
      "2023-12-08 09:18:56 [urllib3.connectionpool] DEBUG: Starting new HTTPS connection (1): www.thenorthfacekorea.co.kr:443\n",
      "2023-12-08 09:18:58 [urllib3.connectionpool] DEBUG: https://www.thenorthfacekorea.co.kr:443 \"GET /product/NJ1DP55J HTTP/1.1\" 200 None\n",
      "2023-12-08 09:18:58 [urllib3.connectionpool] DEBUG: Starting new HTTPS connection (1): www.thenorthfacekorea.co.kr:443\n",
      "2023-12-08 09:18:59 [urllib3.connectionpool] DEBUG: https://www.thenorthfacekorea.co.kr:443 \"GET /product/NC1DN83A HTTP/1.1\" 200 None\n",
      "2023-12-08 09:18:59 [urllib3.connectionpool] DEBUG: Starting new HTTPS connection (1): www.thenorthfacekorea.co.kr:443\n",
      "2023-12-08 09:19:00 [urllib3.connectionpool] DEBUG: https://www.thenorthfacekorea.co.kr:443 \"GET /product/NJ1DN90B HTTP/1.1\" 200 None\n",
      "2023-12-08 09:19:00 [urllib3.connectionpool] DEBUG: Starting new HTTPS connection (1): www.thenorthfacekorea.co.kr:443\n",
      "2023-12-08 09:19:02 [urllib3.connectionpool] DEBUG: https://www.thenorthfacekorea.co.kr:443 \"GET /product/NJ1DP57J HTTP/1.1\" 200 None\n",
      "2023-12-08 09:19:02 [urllib3.connectionpool] DEBUG: Starting new HTTPS connection (1): www.thenorthfacekorea.co.kr:443\n",
      "2023-12-08 09:19:04 [urllib3.connectionpool] DEBUG: https://www.thenorthfacekorea.co.kr:443 \"GET /product/NJ3NP54A HTTP/1.1\" 200 None\n",
      "2023-12-08 09:19:04 [urllib3.connectionpool] DEBUG: Starting new HTTPS connection (1): www.thenorthfacekorea.co.kr:443\n",
      "2023-12-08 09:19:06 [urllib3.connectionpool] DEBUG: https://www.thenorthfacekorea.co.kr:443 \"GET /product/NJ1DP64J HTTP/1.1\" 200 None\n",
      "2023-12-08 09:19:06 [urllib3.connectionpool] DEBUG: Starting new HTTPS connection (1): www.thenorthfacekorea.co.kr:443\n",
      "2023-12-08 09:19:08 [urllib3.connectionpool] DEBUG: https://www.thenorthfacekorea.co.kr:443 \"GET /product/NJ3NN02A HTTP/1.1\" 200 None\n",
      "2023-12-08 09:19:08 [urllib3.connectionpool] DEBUG: Starting new HTTPS connection (1): www.thenorthfacekorea.co.kr:443\n",
      "2023-12-08 09:19:09 [urllib3.connectionpool] DEBUG: https://www.thenorthfacekorea.co.kr:443 \"GET /product/NJ1DN95A HTTP/1.1\" 200 None\n",
      "2023-12-08 09:19:09 [urllib3.connectionpool] DEBUG: Starting new HTTPS connection (1): www.thenorthfacekorea.co.kr:443\n",
      "2023-12-08 09:19:11 [urllib3.connectionpool] DEBUG: https://www.thenorthfacekorea.co.kr:443 \"GET /product/NV3NP68A HTTP/1.1\" 200 None\n",
      "2023-12-08 09:19:11 [urllib3.connectionpool] DEBUG: Starting new HTTPS connection (1): www.thenorthfacekorea.co.kr:443\n",
      "2023-12-08 09:19:12 [urllib3.connectionpool] DEBUG: https://www.thenorthfacekorea.co.kr:443 \"GET /product/NJ3NP70A HTTP/1.1\" 200 None\n",
      "2023-12-08 09:19:13 [urllib3.connectionpool] DEBUG: Starting new HTTPS connection (1): www.thenorthfacekorea.co.kr:443\n",
      "2023-12-08 09:19:14 [urllib3.connectionpool] DEBUG: https://www.thenorthfacekorea.co.kr:443 \"GET /product/NC1DP51J HTTP/1.1\" 200 None\n",
      "2023-12-08 09:19:14 [urllib3.connectionpool] DEBUG: Starting new HTTPS connection (1): www.thenorthfacekorea.co.kr:443\n",
      "2023-12-08 09:19:15 [urllib3.connectionpool] DEBUG: https://www.thenorthfacekorea.co.kr:443 \"GET /product/NJ1DP58J HTTP/1.1\" 200 None\n",
      "2023-12-08 09:19:16 [urllib3.connectionpool] DEBUG: Starting new HTTPS connection (1): www.thenorthfacekorea.co.kr:443\n",
      "2023-12-08 09:19:17 [urllib3.connectionpool] DEBUG: https://www.thenorthfacekorea.co.kr:443 \"GET /product/NC2DP65A HTTP/1.1\" 200 None\n",
      "2023-12-08 09:19:17 [urllib3.connectionpool] DEBUG: Starting new HTTPS connection (1): www.thenorthfacekorea.co.kr:443\n",
      "2023-12-08 09:19:18 [urllib3.connectionpool] DEBUG: https://www.thenorthfacekorea.co.kr:443 \"GET /product/NJ2YN50A HTTP/1.1\" 200 None\n",
      "2023-12-08 09:19:19 [urllib3.connectionpool] DEBUG: Starting new HTTPS connection (1): www.thenorthfacekorea.co.kr:443\n",
      "2023-12-08 09:19:24 [urllib3.connectionpool] DEBUG: https://www.thenorthfacekorea.co.kr:443 \"GET /product/NJ1DP56J HTTP/1.1\" 200 None\n",
      "2023-12-08 09:19:24 [urllib3.connectionpool] DEBUG: Starting new HTTPS connection (1): www.thenorthfacekorea.co.kr:443\n",
      "2023-12-08 09:19:31 [urllib3.connectionpool] DEBUG: https://www.thenorthfacekorea.co.kr:443 \"GET /product/NJ1DP84A HTTP/1.1\" 200 None\n",
      "2023-12-08 09:19:31 [urllib3.connectionpool] DEBUG: Starting new HTTPS connection (1): www.thenorthfacekorea.co.kr:443\n",
      "2023-12-08 09:19:33 [urllib3.connectionpool] DEBUG: https://www.thenorthfacekorea.co.kr:443 \"GET /product/NJ3NP58B HTTP/1.1\" 200 None\n",
      "2023-12-08 09:19:33 [urllib3.connectionpool] DEBUG: Starting new HTTPS connection (1): www.thenorthfacekorea.co.kr:443\n",
      "2023-12-08 09:19:34 [urllib3.connectionpool] DEBUG: https://www.thenorthfacekorea.co.kr:443 \"GET /product/NJ1DN83A HTTP/1.1\" 200 None\n",
      "2023-12-08 09:19:34 [urllib3.connectionpool] DEBUG: Starting new HTTPS connection (1): www.thenorthfacekorea.co.kr:443\n",
      "2023-12-08 09:19:35 [urllib3.connectionpool] DEBUG: https://www.thenorthfacekorea.co.kr:443 \"GET /product/NJ1DP59J HTTP/1.1\" 200 None\n",
      "2023-12-08 09:19:36 [urllib3.connectionpool] DEBUG: Starting new HTTPS connection (1): www.thenorthfacekorea.co.kr:443\n",
      "2023-12-08 09:19:37 [urllib3.connectionpool] DEBUG: https://www.thenorthfacekorea.co.kr:443 \"GET /product/NA3NP70A HTTP/1.1\" 200 None\n",
      "2023-12-08 09:19:38 [urllib3.connectionpool] DEBUG: Starting new HTTPS connection (1): www.thenorthfacekorea.co.kr:443\n",
      "2023-12-08 09:19:39 [urllib3.connectionpool] DEBUG: https://www.thenorthfacekorea.co.kr:443 \"GET /product/NJ3NP51A HTTP/1.1\" 200 None\n",
      "2023-12-08 09:19:39 [urllib3.connectionpool] DEBUG: Starting new HTTPS connection (1): www.thenorthfacekorea.co.kr:443\n",
      "2023-12-08 09:19:40 [urllib3.connectionpool] DEBUG: https://www.thenorthfacekorea.co.kr:443 \"GET /product/NJ1DP87A HTTP/1.1\" 200 None\n",
      "2023-12-08 09:19:40 [urllib3.connectionpool] DEBUG: Starting new HTTPS connection (1): www.thenorthfacekorea.co.kr:443\n",
      "2023-12-08 09:19:42 [urllib3.connectionpool] DEBUG: https://www.thenorthfacekorea.co.kr:443 \"GET /product/NJ1DN75F HTTP/1.1\" 200 None\n",
      "2023-12-08 09:19:42 [urllib3.connectionpool] DEBUG: Starting new HTTPS connection (1): www.thenorthfacekorea.co.kr:443\n",
      "2023-12-08 09:19:43 [urllib3.connectionpool] DEBUG: https://www.thenorthfacekorea.co.kr:443 \"GET /product/NJ1DN85A HTTP/1.1\" 200 None\n",
      "2023-12-08 09:19:43 [urllib3.connectionpool] DEBUG: Starting new HTTPS connection (1): www.thenorthfacekorea.co.kr:443\n",
      "2023-12-08 09:19:44 [urllib3.connectionpool] DEBUG: https://www.thenorthfacekorea.co.kr:443 \"GET /product/NV3NP50J HTTP/1.1\" 200 None\n",
      "2023-12-08 09:19:44 [urllib3.connectionpool] DEBUG: Starting new HTTPS connection (1): www.thenorthfacekorea.co.kr:443\n",
      "2023-12-08 09:19:46 [urllib3.connectionpool] DEBUG: https://www.thenorthfacekorea.co.kr:443 \"GET /product/NJ1DP63A HTTP/1.1\" 200 None\n",
      "2023-12-08 09:19:46 [urllib3.connectionpool] DEBUG: Starting new HTTPS connection (1): www.thenorthfacekorea.co.kr:443\n",
      "2023-12-08 09:19:47 [urllib3.connectionpool] DEBUG: https://www.thenorthfacekorea.co.kr:443 \"GET /product/NJ1DP77A HTTP/1.1\" 200 None\n",
      "2023-12-08 09:19:48 [urllib3.connectionpool] DEBUG: Starting new HTTPS connection (1): www.thenorthfacekorea.co.kr:443\n",
      "2023-12-08 09:19:49 [urllib3.connectionpool] DEBUG: https://www.thenorthfacekorea.co.kr:443 \"GET /product/NJ1DN65A HTTP/1.1\" 200 None\n",
      "2023-12-08 09:19:49 [urllib3.connectionpool] DEBUG: Starting new HTTPS connection (1): www.thenorthfacekorea.co.kr:443\n",
      "2023-12-08 09:19:50 [urllib3.connectionpool] DEBUG: https://www.thenorthfacekorea.co.kr:443 \"GET /product/NJ1DP79A HTTP/1.1\" 200 None\n",
      "2023-12-08 09:19:51 [urllib3.connectionpool] DEBUG: Starting new HTTPS connection (1): www.thenorthfacekorea.co.kr:443\n",
      "2023-12-08 09:19:52 [urllib3.connectionpool] DEBUG: https://www.thenorthfacekorea.co.kr:443 \"GET /product/NJ2DP65A HTTP/1.1\" 200 None\n",
      "2023-12-08 09:19:52 [urllib3.connectionpool] DEBUG: Starting new HTTPS connection (1): www.thenorthfacekorea.co.kr:443\n",
      "2023-12-08 09:19:53 [urllib3.connectionpool] DEBUG: https://www.thenorthfacekorea.co.kr:443 \"GET /product/NJ2DP72A HTTP/1.1\" 200 None\n",
      "2023-12-08 09:19:54 [urllib3.connectionpool] DEBUG: Starting new HTTPS connection (1): www.thenorthfacekorea.co.kr:443\n",
      "2023-12-08 09:19:55 [urllib3.connectionpool] DEBUG: https://www.thenorthfacekorea.co.kr:443 \"GET /product/NJ3NP01B HTTP/1.1\" 200 None\n",
      "2023-12-08 09:19:55 [urllib3.connectionpool] DEBUG: Starting new HTTPS connection (1): www.thenorthfacekorea.co.kr:443\n",
      "2023-12-08 09:19:56 [urllib3.connectionpool] DEBUG: https://www.thenorthfacekorea.co.kr:443 \"GET /product/NJ1DP52J HTTP/1.1\" 200 None\n",
      "2023-12-08 09:19:57 [urllib3.connectionpool] DEBUG: Starting new HTTPS connection (1): www.thenorthfacekorea.co.kr:443\n",
      "2023-12-08 09:19:58 [urllib3.connectionpool] DEBUG: https://www.thenorthfacekorea.co.kr:443 \"GET /product/NJ3NN03A HTTP/1.1\" 200 None\n",
      "2023-12-08 09:19:58 [urllib3.connectionpool] DEBUG: Starting new HTTPS connection (1): www.thenorthfacekorea.co.kr:443\n",
      "2023-12-08 09:20:00 [urllib3.connectionpool] DEBUG: https://www.thenorthfacekorea.co.kr:443 \"GET /product/NC1DP80A HTTP/1.1\" 200 None\n",
      "2023-12-08 09:20:00 [urllib3.connectionpool] DEBUG: Starting new HTTPS connection (1): www.thenorthfacekorea.co.kr:443\n",
      "2023-12-08 09:20:01 [urllib3.connectionpool] DEBUG: https://www.thenorthfacekorea.co.kr:443 \"GET /product/NJ1DN62A HTTP/1.1\" 200 None\n",
      "2023-12-08 09:20:02 [urllib3.connectionpool] DEBUG: Starting new HTTPS connection (1): www.thenorthfacekorea.co.kr:443\n",
      "2023-12-08 09:20:03 [urllib3.connectionpool] DEBUG: https://www.thenorthfacekorea.co.kr:443 \"GET /product/NJ2DN75A HTTP/1.1\" 200 None\n",
      "2023-12-08 09:20:03 [urllib3.connectionpool] DEBUG: Starting new HTTPS connection (1): www.thenorthfacekorea.co.kr:443\n",
      "2023-12-08 09:20:05 [urllib3.connectionpool] DEBUG: https://www.thenorthfacekorea.co.kr:443 \"GET /product/NC1DP50J HTTP/1.1\" 200 None\n",
      "2023-12-08 09:20:05 [urllib3.connectionpool] DEBUG: Starting new HTTPS connection (1): www.thenorthfacekorea.co.kr:443\n",
      "2023-12-08 09:20:07 [urllib3.connectionpool] DEBUG: https://www.thenorthfacekorea.co.kr:443 \"GET /product/NJ2YP50A HTTP/1.1\" 200 None\n",
      "2023-12-08 09:20:08 [urllib3.connectionpool] DEBUG: Starting new HTTPS connection (1): www.thenorthfacekorea.co.kr:443\n",
      "2023-12-08 09:20:09 [urllib3.connectionpool] DEBUG: https://www.thenorthfacekorea.co.kr:443 \"GET /product/NJ3NN50A HTTP/1.1\" 200 None\n",
      "2023-12-08 09:20:09 [urllib3.connectionpool] DEBUG: Starting new HTTPS connection (1): www.thenorthfacekorea.co.kr:443\n",
      "2023-12-08 09:20:10 [urllib3.connectionpool] DEBUG: https://www.thenorthfacekorea.co.kr:443 \"GET /product/NJ1DN61B HTTP/1.1\" 200 None\n",
      "2023-12-08 09:20:10 [urllib3.connectionpool] DEBUG: Starting new HTTPS connection (1): www.thenorthfacekorea.co.kr:443\n",
      "2023-12-08 09:20:12 [urllib3.connectionpool] DEBUG: https://www.thenorthfacekorea.co.kr:443 \"GET /product/NJ3NN00C HTTP/1.1\" 200 None\n",
      "2023-12-08 09:20:12 [urllib3.connectionpool] DEBUG: Starting new HTTPS connection (1): www.thenorthfacekorea.co.kr:443\n",
      "2023-12-08 09:20:13 [urllib3.connectionpool] DEBUG: https://www.thenorthfacekorea.co.kr:443 \"GET /product/NJ3NP50J HTTP/1.1\" 200 None\n",
      "2023-12-08 09:20:14 [urllib3.connectionpool] DEBUG: Starting new HTTPS connection (1): www.thenorthfacekorea.co.kr:443\n",
      "2023-12-08 09:20:15 [urllib3.connectionpool] DEBUG: https://www.thenorthfacekorea.co.kr:443 \"GET /product/NV1DP80M HTTP/1.1\" 200 None\n",
      "2023-12-08 09:20:15 [urllib3.connectionpool] DEBUG: Starting new HTTPS connection (1): www.thenorthfacekorea.co.kr:443\n",
      "2023-12-08 09:20:16 [urllib3.connectionpool] DEBUG: https://www.thenorthfacekorea.co.kr:443 \"GET /product/NJ3NP55J HTTP/1.1\" 200 None\n",
      "2023-12-08 09:20:16 [urllib3.connectionpool] DEBUG: Starting new HTTPS connection (1): www.thenorthfacekorea.co.kr:443\n",
      "2023-12-08 09:20:18 [urllib3.connectionpool] DEBUG: https://www.thenorthfacekorea.co.kr:443 \"GET /product/NJ3NP52J HTTP/1.1\" 200 None\n",
      "2023-12-08 09:20:18 [urllib3.connectionpool] DEBUG: Starting new HTTPS connection (1): www.thenorthfacekorea.co.kr:443\n",
      "2023-12-08 09:20:19 [urllib3.connectionpool] DEBUG: https://www.thenorthfacekorea.co.kr:443 \"GET /product/NJ1DP91A HTTP/1.1\" 200 None\n",
      "2023-12-08 09:20:19 [urllib3.connectionpool] DEBUG: Starting new HTTPS connection (1): www.thenorthfacekorea.co.kr:443\n",
      "2023-12-08 09:20:20 [urllib3.connectionpool] DEBUG: https://www.thenorthfacekorea.co.kr:443 \"GET /product/NJ3NP61L HTTP/1.1\" 200 None\n",
      "2023-12-08 09:20:21 [urllib3.connectionpool] DEBUG: Starting new HTTPS connection (1): www.thenorthfacekorea.co.kr:443\n",
      "2023-12-08 09:20:26 [urllib3.connectionpool] DEBUG: https://www.thenorthfacekorea.co.kr:443 \"GET /product/NJ2DN76A HTTP/1.1\" 200 None\n",
      "2023-12-08 09:20:26 [urllib3.connectionpool] DEBUG: Starting new HTTPS connection (1): www.thenorthfacekorea.co.kr:443\n",
      "2023-12-08 09:20:27 [urllib3.connectionpool] DEBUG: https://www.thenorthfacekorea.co.kr:443 \"GET /product/NJ1DP54J HTTP/1.1\" 200 None\n",
      "2023-12-08 09:20:28 [urllib3.connectionpool] DEBUG: Starting new HTTPS connection (1): www.thenorthfacekorea.co.kr:443\n",
      "2023-12-08 09:20:29 [urllib3.connectionpool] DEBUG: https://www.thenorthfacekorea.co.kr:443 \"GET /product/NJ2DP62A HTTP/1.1\" 200 None\n",
      "2023-12-08 09:20:29 [urllib3.connectionpool] DEBUG: Starting new HTTPS connection (1): www.thenorthfacekorea.co.kr:443\n",
      "2023-12-08 09:20:31 [urllib3.connectionpool] DEBUG: https://www.thenorthfacekorea.co.kr:443 \"GET /product/NJ2DP50A HTTP/1.1\" 200 None\n",
      "2023-12-08 09:20:32 [urllib3.connectionpool] DEBUG: Starting new HTTPS connection (1): www.thenorthfacekorea.co.kr:443\n",
      "2023-12-08 09:20:33 [urllib3.connectionpool] DEBUG: https://www.thenorthfacekorea.co.kr:443 \"GET /product/NJ1DP72A HTTP/1.1\" 200 None\n",
      "2023-12-08 09:20:33 [urllib3.connectionpool] DEBUG: Starting new HTTPS connection (1): www.thenorthfacekorea.co.kr:443\n",
      "2023-12-08 09:20:35 [urllib3.connectionpool] DEBUG: https://www.thenorthfacekorea.co.kr:443 \"GET /product/NJ1DP53J HTTP/1.1\" 200 None\n",
      "2023-12-08 09:20:35 [urllib3.connectionpool] DEBUG: Starting new HTTPS connection (1): www.thenorthfacekorea.co.kr:443\n",
      "2023-12-08 09:20:36 [urllib3.connectionpool] DEBUG: https://www.thenorthfacekorea.co.kr:443 \"GET /product/NJ1DN71A HTTP/1.1\" 200 None\n",
      "2023-12-08 09:20:37 [urllib3.connectionpool] DEBUG: Starting new HTTPS connection (1): www.thenorthfacekorea.co.kr:443\n",
      "2023-12-08 09:20:38 [urllib3.connectionpool] DEBUG: https://www.thenorthfacekorea.co.kr:443 \"GET /product/NJ1DN50O HTTP/1.1\" 200 None\n",
      "2023-12-08 09:20:38 [urllib3.connectionpool] DEBUG: Starting new HTTPS connection (1): www.thenorthfacekorea.co.kr:443\n",
      "2023-12-08 09:20:39 [urllib3.connectionpool] DEBUG: https://www.thenorthfacekorea.co.kr:443 \"GET /product/NJ1DP95A HTTP/1.1\" 200 None\n",
      "2023-12-08 09:20:39 [urllib3.connectionpool] DEBUG: Starting new HTTPS connection (1): www.thenorthfacekorea.co.kr:443\n",
      "2023-12-08 09:20:40 [urllib3.connectionpool] DEBUG: https://www.thenorthfacekorea.co.kr:443 \"GET /product/NJ1DP97A HTTP/1.1\" 200 None\n",
      "2023-12-08 09:20:41 [urllib3.connectionpool] DEBUG: Starting new HTTPS connection (1): www.thenorthfacekorea.co.kr:443\n",
      "2023-12-08 09:20:42 [urllib3.connectionpool] DEBUG: https://www.thenorthfacekorea.co.kr:443 \"GET /product/NJ1DP98A HTTP/1.1\" 200 None\n",
      "2023-12-08 09:20:42 [urllib3.connectionpool] DEBUG: Starting new HTTPS connection (1): www.thenorthfacekorea.co.kr:443\n",
      "2023-12-08 09:20:44 [urllib3.connectionpool] DEBUG: https://www.thenorthfacekorea.co.kr:443 \"GET /product/NJ1DQ50A HTTP/1.1\" 200 None\n",
      "2023-12-08 09:20:44 [urllib3.connectionpool] DEBUG: Starting new HTTPS connection (1): www.thenorthfacekorea.co.kr:443\n",
      "2023-12-08 09:20:46 [urllib3.connectionpool] DEBUG: https://www.thenorthfacekorea.co.kr:443 \"GET /product/NJ1DP73A HTTP/1.1\" 200 None\n",
      "2023-12-08 09:20:46 [urllib3.connectionpool] DEBUG: Starting new HTTPS connection (1): www.thenorthfacekorea.co.kr:443\n",
      "2023-12-08 09:20:47 [urllib3.connectionpool] DEBUG: https://www.thenorthfacekorea.co.kr:443 \"GET /product/NJ1DP86A HTTP/1.1\" 200 None\n",
      "2023-12-08 09:20:47 [urllib3.connectionpool] DEBUG: Starting new HTTPS connection (1): www.thenorthfacekorea.co.kr:443\n",
      "2023-12-08 09:20:49 [urllib3.connectionpool] DEBUG: https://www.thenorthfacekorea.co.kr:443 \"GET /product/NJ1DN00A HTTP/1.1\" 200 None\n",
      "2023-12-08 09:20:49 [urllib3.connectionpool] DEBUG: Starting new HTTPS connection (1): www.thenorthfacekorea.co.kr:443\n",
      "2023-12-08 09:20:50 [urllib3.connectionpool] DEBUG: https://www.thenorthfacekorea.co.kr:443 \"GET /product/NJ1DN30A HTTP/1.1\" 200 None\n",
      "2023-12-08 09:20:50 [urllib3.connectionpool] DEBUG: Starting new HTTPS connection (1): www.thenorthfacekorea.co.kr:443\n",
      "2023-12-08 09:20:51 [urllib3.connectionpool] DEBUG: https://www.thenorthfacekorea.co.kr:443 \"GET /product/NJ1DP61J HTTP/1.1\" 200 None\n",
      "2023-12-08 09:20:51 [urllib3.connectionpool] DEBUG: Starting new HTTPS connection (1): www.thenorthfacekorea.co.kr:443\n",
      "2023-12-08 09:20:53 [urllib3.connectionpool] DEBUG: https://www.thenorthfacekorea.co.kr:443 \"GET /product/NJ1DP60A HTTP/1.1\" 200 None\n",
      "2023-12-08 09:20:53 [urllib3.connectionpool] DEBUG: Starting new HTTPS connection (1): www.thenorthfacekorea.co.kr:443\n",
      "2023-12-08 09:20:54 [urllib3.connectionpool] DEBUG: https://www.thenorthfacekorea.co.kr:443 \"GET /product/NJ1DP68A HTTP/1.1\" 200 None\n",
      "2023-12-08 09:20:55 [urllib3.connectionpool] DEBUG: Starting new HTTPS connection (1): www.thenorthfacekorea.co.kr:443\n",
      "2023-12-08 09:20:56 [urllib3.connectionpool] DEBUG: https://www.thenorthfacekorea.co.kr:443 \"GET /product/NJ1DP74A HTTP/1.1\" 200 None\n",
      "2023-12-08 09:20:56 [urllib3.connectionpool] DEBUG: Starting new HTTPS connection (1): www.thenorthfacekorea.co.kr:443\n",
      "2023-12-08 09:20:57 [urllib3.connectionpool] DEBUG: https://www.thenorthfacekorea.co.kr:443 \"GET /product/NJ3NP56A HTTP/1.1\" 200 None\n",
      "2023-12-08 09:20:57 [urllib3.connectionpool] DEBUG: Starting new HTTPS connection (1): www.thenorthfacekorea.co.kr:443\n",
      "2023-12-08 09:20:59 [urllib3.connectionpool] DEBUG: https://www.thenorthfacekorea.co.kr:443 \"GET /product/NJ3NP85A HTTP/1.1\" 200 None\n",
      "2023-12-08 09:20:59 [urllib3.connectionpool] DEBUG: Starting new HTTPS connection (1): www.thenorthfacekorea.co.kr:443\n",
      "2023-12-08 09:21:00 [urllib3.connectionpool] DEBUG: https://www.thenorthfacekorea.co.kr:443 \"GET /product/NV1DP82A HTTP/1.1\" 200 None\n",
      "2023-12-08 09:21:01 [urllib3.connectionpool] DEBUG: Starting new HTTPS connection (1): www.thenorthfacekorea.co.kr:443\n",
      "2023-12-08 09:21:02 [urllib3.connectionpool] DEBUG: https://www.thenorthfacekorea.co.kr:443 \"GET /product/NJ1DP31B HTTP/1.1\" 200 None\n",
      "2023-12-08 09:21:02 [urllib3.connectionpool] DEBUG: Starting new HTTPS connection (1): www.thenorthfacekorea.co.kr:443\n",
      "2023-12-08 09:21:03 [urllib3.connectionpool] DEBUG: https://www.thenorthfacekorea.co.kr:443 \"GET /product/NJ1DP70A HTTP/1.1\" 200 None\n",
      "2023-12-08 09:21:03 [urllib3.connectionpool] DEBUG: Starting new HTTPS connection (1): www.thenorthfacekorea.co.kr:443\n",
      "2023-12-08 09:21:05 [urllib3.connectionpool] DEBUG: https://www.thenorthfacekorea.co.kr:443 \"GET /product/NJ3NP80J HTTP/1.1\" 200 None\n",
      "2023-12-08 09:21:05 [urllib3.connectionpool] DEBUG: Starting new HTTPS connection (1): www.thenorthfacekorea.co.kr:443\n",
      "2023-12-08 09:21:06 [urllib3.connectionpool] DEBUG: https://www.thenorthfacekorea.co.kr:443 \"GET /product/NV3NP51J HTTP/1.1\" 200 None\n",
      "2023-12-08 09:21:06 [urllib3.connectionpool] DEBUG: Starting new HTTPS connection (1): www.thenorthfacekorea.co.kr:443\n",
      "2023-12-08 09:21:09 [urllib3.connectionpool] DEBUG: https://www.thenorthfacekorea.co.kr:443 \"GET /product/NJ2PP50A HTTP/1.1\" 200 None\n",
      "2023-12-08 09:21:09 [urllib3.connectionpool] DEBUG: Starting new HTTPS connection (1): www.thenorthfacekorea.co.kr:443\n",
      "2023-12-08 09:21:10 [urllib3.connectionpool] DEBUG: https://www.thenorthfacekorea.co.kr:443 \"GET /product/NC2UP80A HTTP/1.1\" 200 None\n",
      "2023-12-08 09:21:11 [urllib3.connectionpool] DEBUG: Starting new HTTPS connection (1): www.thenorthfacekorea.co.kr:443\n",
      "2023-12-08 09:21:12 [urllib3.connectionpool] DEBUG: https://www.thenorthfacekorea.co.kr:443 \"GET /product/NJ3NP63A HTTP/1.1\" 200 None\n",
      "2023-12-08 09:21:12 [urllib3.connectionpool] DEBUG: Starting new HTTPS connection (1): www.thenorthfacekorea.co.kr:443\n",
      "2023-12-08 09:21:14 [urllib3.connectionpool] DEBUG: https://www.thenorthfacekorea.co.kr:443 \"GET /product/NJ3NP64A HTTP/1.1\" 200 None\n",
      "2023-12-08 09:21:14 [urllib3.connectionpool] DEBUG: Starting new HTTPS connection (1): www.thenorthfacekorea.co.kr:443\n",
      "2023-12-08 09:21:15 [urllib3.connectionpool] DEBUG: https://www.thenorthfacekorea.co.kr:443 \"GET /product/NC3NP51J HTTP/1.1\" 200 None\n",
      "2023-12-08 09:21:15 [urllib3.connectionpool] DEBUG: Starting new HTTPS connection (1): www.thenorthfacekorea.co.kr:443\n",
      "2023-12-08 09:21:17 [urllib3.connectionpool] DEBUG: https://www.thenorthfacekorea.co.kr:443 \"GET /product/NJ2UP64A HTTP/1.1\" 200 None\n",
      "2023-12-08 09:21:17 [urllib3.connectionpool] DEBUG: Starting new HTTPS connection (1): www.thenorthfacekorea.co.kr:443\n",
      "2023-12-08 09:21:18 [urllib3.connectionpool] DEBUG: https://www.thenorthfacekorea.co.kr:443 \"GET /product/NC2DP50A HTTP/1.1\" 200 None\n",
      "2023-12-08 09:21:19 [urllib3.connectionpool] DEBUG: Starting new HTTPS connection (1): www.thenorthfacekorea.co.kr:443\n",
      "2023-12-08 09:21:20 [urllib3.connectionpool] DEBUG: https://www.thenorthfacekorea.co.kr:443 \"GET /product/NJ3NP60J HTTP/1.1\" 200 None\n",
      "2023-12-08 09:21:20 [urllib3.connectionpool] DEBUG: Starting new HTTPS connection (1): www.thenorthfacekorea.co.kr:443\n",
      "2023-12-08 09:21:22 [urllib3.connectionpool] DEBUG: https://www.thenorthfacekorea.co.kr:443 \"GET /product/NJ3NP65A HTTP/1.1\" 200 None\n",
      "2023-12-08 09:21:22 [urllib3.connectionpool] DEBUG: Starting new HTTPS connection (1): www.thenorthfacekorea.co.kr:443\n",
      "2023-12-08 09:21:23 [urllib3.connectionpool] DEBUG: https://www.thenorthfacekorea.co.kr:443 \"GET /product/NC3NP80A HTTP/1.1\" 200 None\n",
      "2023-12-08 09:21:23 [urllib3.connectionpool] DEBUG: Starting new HTTPS connection (1): www.thenorthfacekorea.co.kr:443\n",
      "2023-12-08 09:21:25 [urllib3.connectionpool] DEBUG: https://www.thenorthfacekorea.co.kr:443 \"GET /product/NJ3NP80B HTTP/1.1\" 200 None\n",
      "2023-12-08 09:21:25 [urllib3.connectionpool] DEBUG: Starting new HTTPS connection (1): www.thenorthfacekorea.co.kr:443\n",
      "2023-12-08 09:21:26 [urllib3.connectionpool] DEBUG: https://www.thenorthfacekorea.co.kr:443 \"GET /product/NJ3NP72A HTTP/1.1\" 200 None\n",
      "2023-12-08 09:21:27 [urllib3.connectionpool] DEBUG: Starting new HTTPS connection (1): www.thenorthfacekorea.co.kr:443\n",
      "2023-12-08 09:21:28 [urllib3.connectionpool] DEBUG: https://www.thenorthfacekorea.co.kr:443 \"GET /product/NV3NP70A HTTP/1.1\" 200 None\n",
      "2023-12-08 09:21:28 [urllib3.connectionpool] DEBUG: Starting new HTTPS connection (1): www.thenorthfacekorea.co.kr:443\n",
      "2023-12-08 09:21:29 [urllib3.connectionpool] DEBUG: https://www.thenorthfacekorea.co.kr:443 \"GET /product/NC1DK71A HTTP/1.1\" 200 None\n",
      "2023-12-08 09:21:29 [urllib3.connectionpool] DEBUG: Starting new HTTPS connection (1): www.thenorthfacekorea.co.kr:443\n",
      "2023-12-08 09:21:30 [urllib3.connectionpool] DEBUG: https://www.thenorthfacekorea.co.kr:443 \"GET /product/NJ5SM50B HTTP/1.1\" 200 None\n",
      "2023-12-08 09:21:30 [urllib3.connectionpool] DEBUG: Starting new HTTPS connection (1): www.thenorthfacekorea.co.kr:443\n",
      "2023-12-08 09:21:31 [urllib3.connectionpool] DEBUG: https://www.thenorthfacekorea.co.kr:443 \"GET /product/NJ5SM51A HTTP/1.1\" 200 None\n"
     ]
    }
   ],
   "source": [
    "for index, row in list_df.iterrows():\n",
    "    pd_code = row['Product_URL']\n",
    "    review_url = f'https://www.thenorthfacekorea.co.kr/product/{pd_code}'\n",
    "    response = requests.get(review_url)\n",
    "    soup = bs(response.content, 'html.parser')\n",
    "    pdp_main_element = soup.find('div', class_='pdp-main')\n",
    "\n",
    "    if pdp_main_element:\n",
    "    # 'data-productid' 속성을 가져오기\n",
    "        product_id = pdp_main_element.get('data-productid')\n",
    "        list_df.at[index, 'Product_id'] = product_id\n",
    "        \n"
   ]
  },
  {
   "cell_type": "code",
   "execution_count": 96,
   "metadata": {},
   "outputs": [
    {
     "name": "stdout",
     "output_type": "stream",
     "text": [
      "https://www.thenorthfacekorea.co.kr/product/NJ1DP85J\n",
      "https://www.thenorthfacekorea.co.kr/product/NJ1DP96A\n",
      "https://www.thenorthfacekorea.co.kr/product/NV3NP50A\n",
      "https://www.thenorthfacekorea.co.kr/product/NJ1DP58A\n",
      "https://www.thenorthfacekorea.co.kr/product/NJ1DP87J\n",
      "https://www.thenorthfacekorea.co.kr/product/NC2DN99A\n",
      "https://www.thenorthfacekorea.co.kr/product/NJ1DN76B\n",
      "https://www.thenorthfacekorea.co.kr/product/NJ1DP86J\n",
      "https://www.thenorthfacekorea.co.kr/product/NV1DP55A\n",
      "https://www.thenorthfacekorea.co.kr/product/NJ3NN63A\n",
      "https://www.thenorthfacekorea.co.kr/product/NJ1DP99A\n",
      "https://www.thenorthfacekorea.co.kr/product/NC1DP79A\n",
      "https://www.thenorthfacekorea.co.kr/product/NJ1DP69A\n",
      "https://www.thenorthfacekorea.co.kr/product/NV3NP55A\n",
      "https://www.thenorthfacekorea.co.kr/product/NJ1DN51K\n",
      "https://www.thenorthfacekorea.co.kr/product/NJ1DN51Q\n",
      "https://www.thenorthfacekorea.co.kr/product/NJ1DP81A\n",
      "https://www.thenorthfacekorea.co.kr/product/NJ1DP85A\n",
      "https://www.thenorthfacekorea.co.kr/product/NJ2DN50A\n",
      "https://www.thenorthfacekorea.co.kr/product/NJ3NP55A\n",
      "https://www.thenorthfacekorea.co.kr/product/NJ3NP50A\n",
      "https://www.thenorthfacekorea.co.kr/product/NJ1DN72A\n",
      "https://www.thenorthfacekorea.co.kr/product/NJ1DN58A\n",
      "https://www.thenorthfacekorea.co.kr/product/NJ1DP84J\n",
      "https://www.thenorthfacekorea.co.kr/product/NJ1DN81J\n",
      "https://www.thenorthfacekorea.co.kr/product/NC2DP72A\n",
      "https://www.thenorthfacekorea.co.kr/product/NJ1DN79B\n",
      "https://www.thenorthfacekorea.co.kr/product/NV1DP50J\n",
      "https://www.thenorthfacekorea.co.kr/product/NJ1DN97A\n",
      "https://www.thenorthfacekorea.co.kr/product/NJ3NP56J\n",
      "https://www.thenorthfacekorea.co.kr/product/NV3NN00A\n",
      "https://www.thenorthfacekorea.co.kr/product/NJ1DP55B\n",
      "https://www.thenorthfacekorea.co.kr/product/NJ1DP93A\n",
      "https://www.thenorthfacekorea.co.kr/product/NJ1DN64A\n",
      "https://www.thenorthfacekorea.co.kr/product/NV1DN72A\n",
      "https://www.thenorthfacekorea.co.kr/product/NV1DP80A\n",
      "https://www.thenorthfacekorea.co.kr/product/NJ1DP63J\n",
      "https://www.thenorthfacekorea.co.kr/product/NJ1DP66A\n",
      "https://www.thenorthfacekorea.co.kr/product/NV1DP81J\n",
      "https://www.thenorthfacekorea.co.kr/product/NV3NP51A\n",
      "https://www.thenorthfacekorea.co.kr/product/NJ1DP55J\n",
      "https://www.thenorthfacekorea.co.kr/product/NC1DN83A\n",
      "https://www.thenorthfacekorea.co.kr/product/NJ1DN90B\n",
      "https://www.thenorthfacekorea.co.kr/product/NJ1DP57J\n",
      "https://www.thenorthfacekorea.co.kr/product/NJ3NP54A\n",
      "https://www.thenorthfacekorea.co.kr/product/NJ1DP64J\n",
      "https://www.thenorthfacekorea.co.kr/product/NJ3NN02A\n",
      "https://www.thenorthfacekorea.co.kr/product/NJ1DN95A\n",
      "https://www.thenorthfacekorea.co.kr/product/NV3NP68A\n",
      "https://www.thenorthfacekorea.co.kr/product/NJ3NP70A\n",
      "https://www.thenorthfacekorea.co.kr/product/NC1DP51J\n",
      "https://www.thenorthfacekorea.co.kr/product/NJ1DP58J\n",
      "https://www.thenorthfacekorea.co.kr/product/NC2DP65A\n",
      "https://www.thenorthfacekorea.co.kr/product/NJ2YN50A\n",
      "https://www.thenorthfacekorea.co.kr/product/NJ1DP56J\n",
      "https://www.thenorthfacekorea.co.kr/product/NJ1DP84A\n",
      "https://www.thenorthfacekorea.co.kr/product/NJ3NP58B\n",
      "https://www.thenorthfacekorea.co.kr/product/NJ1DN83A\n",
      "https://www.thenorthfacekorea.co.kr/product/NJ1DP59J\n",
      "https://www.thenorthfacekorea.co.kr/product/NA3NP70A\n",
      "https://www.thenorthfacekorea.co.kr/product/NJ3NP51A\n",
      "https://www.thenorthfacekorea.co.kr/product/NJ1DP87A\n",
      "https://www.thenorthfacekorea.co.kr/product/NJ1DN75F\n",
      "https://www.thenorthfacekorea.co.kr/product/NJ1DN85A\n",
      "https://www.thenorthfacekorea.co.kr/product/NV3NP50J\n",
      "https://www.thenorthfacekorea.co.kr/product/NJ1DP63A\n",
      "https://www.thenorthfacekorea.co.kr/product/NJ1DP77A\n",
      "https://www.thenorthfacekorea.co.kr/product/NJ1DN65A\n",
      "https://www.thenorthfacekorea.co.kr/product/NJ1DP79A\n",
      "https://www.thenorthfacekorea.co.kr/product/NJ2DP65A\n",
      "https://www.thenorthfacekorea.co.kr/product/NJ2DP72A\n",
      "https://www.thenorthfacekorea.co.kr/product/NJ3NP01B\n",
      "https://www.thenorthfacekorea.co.kr/product/NJ1DP52J\n",
      "https://www.thenorthfacekorea.co.kr/product/NJ3NN03A\n",
      "https://www.thenorthfacekorea.co.kr/product/NC1DP80A\n",
      "https://www.thenorthfacekorea.co.kr/product/NJ1DN62A\n",
      "https://www.thenorthfacekorea.co.kr/product/NJ2DN75A\n",
      "https://www.thenorthfacekorea.co.kr/product/NC1DP50J\n",
      "https://www.thenorthfacekorea.co.kr/product/NJ2YP50A\n",
      "https://www.thenorthfacekorea.co.kr/product/NJ3NN50A\n",
      "https://www.thenorthfacekorea.co.kr/product/NJ1DN61B\n",
      "https://www.thenorthfacekorea.co.kr/product/NJ3NN00C\n",
      "https://www.thenorthfacekorea.co.kr/product/NJ3NP50J\n",
      "https://www.thenorthfacekorea.co.kr/product/NV1DP80M\n",
      "https://www.thenorthfacekorea.co.kr/product/NJ3NP55J\n",
      "https://www.thenorthfacekorea.co.kr/product/NJ3NP52J\n",
      "https://www.thenorthfacekorea.co.kr/product/NJ1DP91A\n",
      "https://www.thenorthfacekorea.co.kr/product/NJ3NP61L\n",
      "https://www.thenorthfacekorea.co.kr/product/NJ2DN76A\n",
      "https://www.thenorthfacekorea.co.kr/product/NJ1DP54J\n",
      "https://www.thenorthfacekorea.co.kr/product/NJ2DP62A\n",
      "https://www.thenorthfacekorea.co.kr/product/NJ2DP50A\n",
      "https://www.thenorthfacekorea.co.kr/product/NJ1DP72A\n",
      "https://www.thenorthfacekorea.co.kr/product/NJ1DP53J\n",
      "https://www.thenorthfacekorea.co.kr/product/NJ1DN71A\n",
      "https://www.thenorthfacekorea.co.kr/product/NJ1DN50O\n",
      "https://www.thenorthfacekorea.co.kr/product/NJ1DP95A\n",
      "https://www.thenorthfacekorea.co.kr/product/NJ1DP97A\n",
      "https://www.thenorthfacekorea.co.kr/product/NJ1DP98A\n",
      "https://www.thenorthfacekorea.co.kr/product/NJ1DQ50A\n",
      "https://www.thenorthfacekorea.co.kr/product/NJ1DP73A\n",
      "https://www.thenorthfacekorea.co.kr/product/NJ1DP86A\n",
      "https://www.thenorthfacekorea.co.kr/product/NJ1DN00A\n",
      "https://www.thenorthfacekorea.co.kr/product/NJ1DN30A\n",
      "https://www.thenorthfacekorea.co.kr/product/NJ1DP61J\n",
      "https://www.thenorthfacekorea.co.kr/product/NJ1DP60A\n",
      "https://www.thenorthfacekorea.co.kr/product/NJ1DP68A\n",
      "https://www.thenorthfacekorea.co.kr/product/NJ1DP74A\n",
      "https://www.thenorthfacekorea.co.kr/product/NJ3NP56A\n",
      "https://www.thenorthfacekorea.co.kr/product/NJ3NP85A\n",
      "https://www.thenorthfacekorea.co.kr/product/NV1DP82A\n",
      "https://www.thenorthfacekorea.co.kr/product/NJ1DP31B\n",
      "https://www.thenorthfacekorea.co.kr/product/NJ1DP70A\n",
      "https://www.thenorthfacekorea.co.kr/product/NJ3NP80J\n",
      "https://www.thenorthfacekorea.co.kr/product/NV3NP51J\n",
      "https://www.thenorthfacekorea.co.kr/product/NJ2PP50A\n",
      "https://www.thenorthfacekorea.co.kr/product/NC2UP80A\n",
      "https://www.thenorthfacekorea.co.kr/product/NJ3NP63A\n",
      "https://www.thenorthfacekorea.co.kr/product/NJ3NP64A\n",
      "https://www.thenorthfacekorea.co.kr/product/NC3NP51J\n",
      "https://www.thenorthfacekorea.co.kr/product/NJ2UP64A\n",
      "https://www.thenorthfacekorea.co.kr/product/NC2DP50A\n",
      "https://www.thenorthfacekorea.co.kr/product/NJ3NP60J\n",
      "https://www.thenorthfacekorea.co.kr/product/NJ3NP65A\n",
      "https://www.thenorthfacekorea.co.kr/product/NC3NP80A\n",
      "https://www.thenorthfacekorea.co.kr/product/NJ3NP80B\n",
      "https://www.thenorthfacekorea.co.kr/product/NJ3NP72A\n",
      "https://www.thenorthfacekorea.co.kr/product/NV3NP70A\n",
      "https://www.thenorthfacekorea.co.kr/product/NC1DK71A\n",
      "https://www.thenorthfacekorea.co.kr/product/NJ5SM50B\n",
      "https://www.thenorthfacekorea.co.kr/product/NJ5SM51A\n"
     ]
    }
   ],
   "source": [
    "for pd_code in list_df['Product_URL']:\n",
    "    review_url = f'https://www.thenorthfacekorea.co.kr/product/{pd_code}'\n",
    "    print(review_url)"
   ]
  },
  {
   "cell_type": "code",
   "execution_count": 132,
   "metadata": {},
   "outputs": [
    {
     "data": {
      "text/html": [
       "<div>\n",
       "<style scoped>\n",
       "    .dataframe tbody tr th:only-of-type {\n",
       "        vertical-align: middle;\n",
       "    }\n",
       "\n",
       "    .dataframe tbody tr th {\n",
       "        vertical-align: top;\n",
       "    }\n",
       "\n",
       "    .dataframe thead th {\n",
       "        text-align: right;\n",
       "    }\n",
       "</style>\n",
       "<table border=\"1\" class=\"dataframe\">\n",
       "  <thead>\n",
       "    <tr style=\"text-align: right;\">\n",
       "      <th></th>\n",
       "      <th>Product_URL</th>\n",
       "      <th>Product_id</th>\n",
       "    </tr>\n",
       "  </thead>\n",
       "  <tbody>\n",
       "    <tr>\n",
       "      <th>0</th>\n",
       "      <td>NJ1DP85J</td>\n",
       "      <td>4000034626</td>\n",
       "    </tr>\n",
       "    <tr>\n",
       "      <th>1</th>\n",
       "      <td>NJ1DP96A</td>\n",
       "      <td>4000034651</td>\n",
       "    </tr>\n",
       "    <tr>\n",
       "      <th>2</th>\n",
       "      <td>NV3NP50A</td>\n",
       "      <td>4000034488</td>\n",
       "    </tr>\n",
       "    <tr>\n",
       "      <th>3</th>\n",
       "      <td>NJ1DP58A</td>\n",
       "      <td>4000034546</td>\n",
       "    </tr>\n",
       "    <tr>\n",
       "      <th>4</th>\n",
       "      <td>NJ1DP87J</td>\n",
       "      <td>4000036635</td>\n",
       "    </tr>\n",
       "    <tr>\n",
       "      <th>...</th>\n",
       "      <td>...</td>\n",
       "      <td>...</td>\n",
       "    </tr>\n",
       "    <tr>\n",
       "      <th>126</th>\n",
       "      <td>NJ3NP72A</td>\n",
       "      <td>4000034839</td>\n",
       "    </tr>\n",
       "    <tr>\n",
       "      <th>127</th>\n",
       "      <td>NV3NP70A</td>\n",
       "      <td>4000035368</td>\n",
       "    </tr>\n",
       "    <tr>\n",
       "      <th>128</th>\n",
       "      <td>NC1DK71A</td>\n",
       "      <td></td>\n",
       "    </tr>\n",
       "    <tr>\n",
       "      <th>129</th>\n",
       "      <td>NJ5SM50B</td>\n",
       "      <td>4000019604</td>\n",
       "    </tr>\n",
       "    <tr>\n",
       "      <th>130</th>\n",
       "      <td>NJ5SM51A</td>\n",
       "      <td>4000019605</td>\n",
       "    </tr>\n",
       "  </tbody>\n",
       "</table>\n",
       "<p>131 rows × 2 columns</p>\n",
       "</div>"
      ],
      "text/plain": [
       "    Product_URL  Product_id\n",
       "0      NJ1DP85J  4000034626\n",
       "1      NJ1DP96A  4000034651\n",
       "2      NV3NP50A  4000034488\n",
       "3      NJ1DP58A  4000034546\n",
       "4      NJ1DP87J  4000036635\n",
       "..          ...         ...\n",
       "126    NJ3NP72A  4000034839\n",
       "127    NV3NP70A  4000035368\n",
       "128    NC1DK71A            \n",
       "129    NJ5SM50B  4000019604\n",
       "130    NJ5SM51A  4000019605\n",
       "\n",
       "[131 rows x 2 columns]"
      ]
     },
     "execution_count": 132,
     "metadata": {},
     "output_type": "execute_result"
    }
   ],
   "source": [
    "list_df"
   ]
  },
  {
   "cell_type": "code",
   "execution_count": 38,
   "metadata": {},
   "outputs": [
    {
     "name": "stdout",
     "output_type": "stream",
     "text": [
      "유행 안타는 노스페이스 잠바\n",
      "좋아요\n",
      "넉넉합니다\n",
      "오래걸림요\n",
      "눕시눕시\n",
      "따숩고 좋아용 \n",
      "만족합니다\n",
      "만족합니다\n",
      "완전좋아요\n",
      "이뻐요~\n",
      "2023.12.01\n",
      "2023.12.01\n",
      "2023.11.29\n",
      "2023.11.29\n",
      "2023.11.25\n",
      "2023.11.24\n",
      "2023.11.24\n",
      "2023.11.23\n",
      "2023.11.23\n",
      "2023.11.23\n"
     ]
    }
   ],
   "source": [
    "soup = bs(response.content,'html.parser')\n",
    "titles = soup.select('p.read-subject')\n",
    "dates = soup.select('span.write-date')\n",
    "cols = soup.select('.user-option li:nth-of-type(1)')\n",
    "sizes = soup.select('.user-option li:nth-of-type(2)')\n",
    "comments = soup.select('p.read-comment')\n",
    "\n",
    "for title in titles:\n",
    "    print(title.text)\n",
    "    \n",
    "for date in dates:\n",
    "    print(date.text)"
   ]
  },
  {
   "cell_type": "code",
   "execution_count": 144,
   "metadata": {},
   "outputs": [],
   "source": [
    "def generate_url(page_number):\n",
    "    return f'https://www.thenorthfacekorea.co.kr/product/NJ1DQ55A/review/list?page={page_number}&pageSize=10&_sort=displayPriority-auditable.dateCreated&_type_sort=asc-desc&productId=4000034600'\n",
    "\n",
    "def crawl_page(page_number):\n",
    "    url = generate_url(page_number)\n",
    "    response = requests.get(url)\n",
    "    \n",
    "    # HTTP 응답 코드가 200 (성공)이 아닌 경우 예외 처리\n",
    "    if response.status_code != 200:\n",
    "        print(f\"Failed to retrieve page {page_number}. Status code: {response.status_code}\")\n",
    "        return None\n",
    "    \n",
    "    soup = bs(response.content, 'html.parser')\n",
    "    \n",
    "    # 원하는 데이터 선택\n",
    "    pname = soup.select('.pt_product div.product-unique span:nth-child(2)')\n",
    "    titles = soup.select('p.read-subject')\n",
    "    dates = soup.select('span.write-date')\n",
    "    cols = soup.select('.user-option li:nth-of-type(1)')\n",
    "    sizes = soup.select('.user-option li:nth-of-type(2)')\n",
    "    comments = soup.select('p.read-comment')\n",
    "\n",
    "    if not dates:\n",
    "        print(f\"No data found on page {page_number}. Stopping crawling.\")\n",
    "        return None\n",
    "\n",
    "    for pnames in pname : \n",
    "        print(pnames.text)\n",
    "    \n",
    "    return comments"
   ]
  },
  {
   "cell_type": "code",
   "execution_count": null,
   "metadata": {},
   "outputs": [],
   "source": []
  },
  {
   "cell_type": "code",
   "execution_count": 145,
   "metadata": {},
   "outputs": [
    {
     "name": "stderr",
     "output_type": "stream",
     "text": [
      "2023-12-08 09:26:41 [urllib3.connectionpool] DEBUG: Starting new HTTPS connection (1): www.thenorthfacekorea.co.kr:443\n",
      "2023-12-08 09:26:42 [urllib3.connectionpool] DEBUG: https://www.thenorthfacekorea.co.kr:443 \"GET /product/NJ1DQ55A/review/list?page=1&pageSize=10&_sort=displayPriority-auditable.dateCreated&_type_sort=asc-desc&productId=4000034600 HTTP/1.1\" 200 None\n",
      "2023-12-08 09:26:43 [urllib3.connectionpool] DEBUG: Starting new HTTPS connection (1): www.thenorthfacekorea.co.kr:443\n"
     ]
    },
    {
     "name": "stdout",
     "output_type": "stream",
     "text": [
      "비 베러 다운 자켓\n",
      "비 베러 다운 자켓\n"
     ]
    },
    {
     "name": "stderr",
     "output_type": "stream",
     "text": [
      "2023-12-08 09:26:44 [urllib3.connectionpool] DEBUG: https://www.thenorthfacekorea.co.kr:443 \"GET /product/NJ1DQ55A/review/list?page=2&pageSize=10&_sort=displayPriority-auditable.dateCreated&_type_sort=asc-desc&productId=4000034600 HTTP/1.1\" 200 None\n"
     ]
    },
    {
     "name": "stdout",
     "output_type": "stream",
     "text": [
      "No data found on page 2. Stopping crawling.\n"
     ]
    }
   ],
   "source": [
    "page_number = 1\n",
    "\n",
    "while True : \n",
    "    dates = crawl_page(page_number)\n",
    "    \n",
    "    if not dates:\n",
    "        break\n",
    "\n",
    "    page_number += 1"
   ]
  },
  {
   "cell_type": "code",
   "execution_count": 133,
   "metadata": {},
   "outputs": [],
   "source": [
    "df_reviews = pd.DataFrame(columns=['Product_name','Title', 'Date', 'Color', 'Size', 'Content'])"
   ]
  },
  {
   "cell_type": "code",
   "execution_count": 151,
   "metadata": {},
   "outputs": [],
   "source": [
    "def generate_url(product_code,product_id, page_number):\n",
    "    return f'https://www.thenorthfacekorea.co.kr/product/{product_code}/review/list?page={page_number}&pageSize=10&_sort=displayPriority-auditable.dateCreated&_type_sort=asc-desc&productId={product_id}'\n",
    "\n",
    "def crawl_page(product_code, product_id, page_number):\n",
    "    try:\n",
    "        url = generate_url(product_code, product_id, page_number)\n",
    "        response = requests.get(url)\n",
    "\n",
    "        # HTTP 응답 코드가 200 (성공)이 아닌 경우 예외 처리\n",
    "        if response.status_code != 200:\n",
    "            print(f\"Failed to retrieve page {page_number}. Status code: {response.status_code}\")\n",
    "            return None\n",
    "\n",
    "        soup = bs(response.content, 'html.parser')\n",
    "\n",
    "        # 원하는 데이터 선택\n",
    "\n",
    "        titles = soup.select('p.read-subject')\n",
    "        dates = soup.select('span.write-date')\n",
    "        cols = soup.select('.user-option li:nth-of-type(1)')\n",
    "        sizes = soup.select('.user-option li:nth-of-type(2)')\n",
    "        comments = soup.select('p.read-comment')\n",
    "\n",
    "        if not dates:\n",
    "            print(f\"No data found on page {page_number}. Stopping crawling.\")\n",
    "            return None\n",
    "\n",
    "        title_list = [title.text for title in titles]\n",
    "        date_list = [date.text for date in dates]\n",
    "        col_list = [col.text for col in cols]\n",
    "        size_list = [size.text for size in sizes]\n",
    "        comment_list = [comment.text for comment in comments]\n",
    "\n",
    "        # DataFrame 생성 및 'product_code' 컬럼 추가\n",
    "        df_temp = pd.DataFrame({\n",
    "            'Product_name': [product_code for _ in range(len(comment_list))],\n",
    "            'Title': title_list,\n",
    "            'Date': date_list,\n",
    "            'Color': col_list,\n",
    "            'Size': size_list,\n",
    "            'Content': comment_list\n",
    "        })\n",
    "\n",
    "        return df_temp\n",
    "\n",
    "    except Exception as e:\n",
    "        print(f\"An error occurred on page {page_number}: {e}\")\n",
    "        return None\n"
   ]
  },
  {
   "cell_type": "code",
   "execution_count": 152,
   "metadata": {},
   "outputs": [
    {
     "name": "stderr",
     "output_type": "stream",
     "text": [
      "2023-12-08 09:31:25 [urllib3.connectionpool] DEBUG: Starting new HTTPS connection (1): www.thenorthfacekorea.co.kr:443\n",
      "2023-12-08 09:31:27 [urllib3.connectionpool] DEBUG: https://www.thenorthfacekorea.co.kr:443 \"GET /product/NJ1DP85J/review/list?page=1&pageSize=10&_sort=displayPriority-auditable.dateCreated&_type_sort=asc-desc&productId=4000034626 HTTP/1.1\" 200 None\n",
      "2023-12-08 09:31:28 [urllib3.connectionpool] DEBUG: Starting new HTTPS connection (1): www.thenorthfacekorea.co.kr:443\n",
      "2023-12-08 09:31:29 [urllib3.connectionpool] DEBUG: https://www.thenorthfacekorea.co.kr:443 \"GET /product/NJ1DP85J/review/list?page=2&pageSize=10&_sort=displayPriority-auditable.dateCreated&_type_sort=asc-desc&productId=4000034626 HTTP/1.1\" 200 None\n",
      "2023-12-08 09:31:30 [urllib3.connectionpool] DEBUG: Starting new HTTPS connection (1): www.thenorthfacekorea.co.kr:443\n",
      "2023-12-08 09:31:31 [urllib3.connectionpool] DEBUG: https://www.thenorthfacekorea.co.kr:443 \"GET /product/NJ1DP85J/review/list?page=3&pageSize=10&_sort=displayPriority-auditable.dateCreated&_type_sort=asc-desc&productId=4000034626 HTTP/1.1\" 200 None\n",
      "2023-12-08 09:31:32 [urllib3.connectionpool] DEBUG: Starting new HTTPS connection (1): www.thenorthfacekorea.co.kr:443\n",
      "2023-12-08 09:31:33 [urllib3.connectionpool] DEBUG: https://www.thenorthfacekorea.co.kr:443 \"GET /product/NJ1DP85J/review/list?page=4&pageSize=10&_sort=displayPriority-auditable.dateCreated&_type_sort=asc-desc&productId=4000034626 HTTP/1.1\" 200 None\n",
      "2023-12-08 09:31:34 [urllib3.connectionpool] DEBUG: Starting new HTTPS connection (1): www.thenorthfacekorea.co.kr:443\n",
      "2023-12-08 09:31:35 [urllib3.connectionpool] DEBUG: https://www.thenorthfacekorea.co.kr:443 \"GET /product/NJ1DP85J/review/list?page=5&pageSize=10&_sort=displayPriority-auditable.dateCreated&_type_sort=asc-desc&productId=4000034626 HTTP/1.1\" 200 None\n",
      "2023-12-08 09:31:36 [urllib3.connectionpool] DEBUG: Starting new HTTPS connection (1): www.thenorthfacekorea.co.kr:443\n",
      "2023-12-08 09:31:37 [urllib3.connectionpool] DEBUG: https://www.thenorthfacekorea.co.kr:443 \"GET /product/NJ1DP85J/review/list?page=6&pageSize=10&_sort=displayPriority-auditable.dateCreated&_type_sort=asc-desc&productId=4000034626 HTTP/1.1\" 200 None\n",
      "2023-12-08 09:31:37 [urllib3.connectionpool] DEBUG: Starting new HTTPS connection (1): www.thenorthfacekorea.co.kr:443\n",
      "2023-12-08 09:31:39 [urllib3.connectionpool] DEBUG: https://www.thenorthfacekorea.co.kr:443 \"GET /product/NJ1DP85J/review/list?page=7&pageSize=10&_sort=displayPriority-auditable.dateCreated&_type_sort=asc-desc&productId=4000034626 HTTP/1.1\" 200 None\n",
      "2023-12-08 09:31:39 [urllib3.connectionpool] DEBUG: Starting new HTTPS connection (1): www.thenorthfacekorea.co.kr:443\n",
      "2023-12-08 09:31:40 [urllib3.connectionpool] DEBUG: https://www.thenorthfacekorea.co.kr:443 \"GET /product/NJ1DP85J/review/list?page=8&pageSize=10&_sort=displayPriority-auditable.dateCreated&_type_sort=asc-desc&productId=4000034626 HTTP/1.1\" 200 None\n",
      "2023-12-08 09:31:40 [urllib3.connectionpool] DEBUG: Starting new HTTPS connection (1): www.thenorthfacekorea.co.kr:443\n",
      "2023-12-08 09:31:42 [urllib3.connectionpool] DEBUG: https://www.thenorthfacekorea.co.kr:443 \"GET /product/NJ1DP85J/review/list?page=9&pageSize=10&_sort=displayPriority-auditable.dateCreated&_type_sort=asc-desc&productId=4000034626 HTTP/1.1\" 200 None\n",
      "2023-12-08 09:31:43 [urllib3.connectionpool] DEBUG: Starting new HTTPS connection (1): www.thenorthfacekorea.co.kr:443\n",
      "2023-12-08 09:31:44 [urllib3.connectionpool] DEBUG: https://www.thenorthfacekorea.co.kr:443 \"GET /product/NJ1DP85J/review/list?page=10&pageSize=10&_sort=displayPriority-auditable.dateCreated&_type_sort=asc-desc&productId=4000034626 HTTP/1.1\" 200 None\n",
      "2023-12-08 09:31:45 [urllib3.connectionpool] DEBUG: Starting new HTTPS connection (1): www.thenorthfacekorea.co.kr:443\n",
      "2023-12-08 09:31:46 [urllib3.connectionpool] DEBUG: https://www.thenorthfacekorea.co.kr:443 \"GET /product/NJ1DP85J/review/list?page=11&pageSize=10&_sort=displayPriority-auditable.dateCreated&_type_sort=asc-desc&productId=4000034626 HTTP/1.1\" 200 None\n",
      "2023-12-08 09:31:46 [urllib3.connectionpool] DEBUG: Starting new HTTPS connection (1): www.thenorthfacekorea.co.kr:443\n",
      "2023-12-08 09:31:47 [urllib3.connectionpool] DEBUG: https://www.thenorthfacekorea.co.kr:443 \"GET /product/NJ1DP85J/review/list?page=12&pageSize=10&_sort=displayPriority-auditable.dateCreated&_type_sort=asc-desc&productId=4000034626 HTTP/1.1\" 200 None\n",
      "2023-12-08 09:31:48 [urllib3.connectionpool] DEBUG: Starting new HTTPS connection (1): www.thenorthfacekorea.co.kr:443\n",
      "2023-12-08 09:31:49 [urllib3.connectionpool] DEBUG: https://www.thenorthfacekorea.co.kr:443 \"GET /product/NJ1DP85J/review/list?page=13&pageSize=10&_sort=displayPriority-auditable.dateCreated&_type_sort=asc-desc&productId=4000034626 HTTP/1.1\" 200 None\n",
      "2023-12-08 09:31:49 [urllib3.connectionpool] DEBUG: Starting new HTTPS connection (1): www.thenorthfacekorea.co.kr:443\n",
      "2023-12-08 09:31:50 [urllib3.connectionpool] DEBUG: https://www.thenorthfacekorea.co.kr:443 \"GET /product/NJ1DP85J/review/list?page=14&pageSize=10&_sort=displayPriority-auditable.dateCreated&_type_sort=asc-desc&productId=4000034626 HTTP/1.1\" 200 None\n",
      "2023-12-08 09:31:51 [urllib3.connectionpool] DEBUG: Starting new HTTPS connection (1): www.thenorthfacekorea.co.kr:443\n",
      "2023-12-08 09:31:52 [urllib3.connectionpool] DEBUG: https://www.thenorthfacekorea.co.kr:443 \"GET /product/NJ1DP85J/review/list?page=15&pageSize=10&_sort=displayPriority-auditable.dateCreated&_type_sort=asc-desc&productId=4000034626 HTTP/1.1\" 200 None\n",
      "2023-12-08 09:31:52 [urllib3.connectionpool] DEBUG: Starting new HTTPS connection (1): www.thenorthfacekorea.co.kr:443\n",
      "2023-12-08 09:31:53 [urllib3.connectionpool] DEBUG: https://www.thenorthfacekorea.co.kr:443 \"GET /product/NJ1DP85J/review/list?page=16&pageSize=10&_sort=displayPriority-auditable.dateCreated&_type_sort=asc-desc&productId=4000034626 HTTP/1.1\" 200 None\n",
      "2023-12-08 09:31:54 [urllib3.connectionpool] DEBUG: Starting new HTTPS connection (1): www.thenorthfacekorea.co.kr:443\n",
      "2023-12-08 09:31:55 [urllib3.connectionpool] DEBUG: https://www.thenorthfacekorea.co.kr:443 \"GET /product/NJ1DP85J/review/list?page=17&pageSize=10&_sort=displayPriority-auditable.dateCreated&_type_sort=asc-desc&productId=4000034626 HTTP/1.1\" 200 None\n",
      "2023-12-08 09:31:55 [urllib3.connectionpool] DEBUG: Starting new HTTPS connection (1): www.thenorthfacekorea.co.kr:443\n",
      "2023-12-08 09:31:56 [urllib3.connectionpool] DEBUG: https://www.thenorthfacekorea.co.kr:443 \"GET /product/NJ1DP85J/review/list?page=18&pageSize=10&_sort=displayPriority-auditable.dateCreated&_type_sort=asc-desc&productId=4000034626 HTTP/1.1\" 200 None\n",
      "2023-12-08 09:31:56 [urllib3.connectionpool] DEBUG: Starting new HTTPS connection (1): www.thenorthfacekorea.co.kr:443\n",
      "2023-12-08 09:31:57 [urllib3.connectionpool] DEBUG: https://www.thenorthfacekorea.co.kr:443 \"GET /product/NJ1DP85J/review/list?page=19&pageSize=10&_sort=displayPriority-auditable.dateCreated&_type_sort=asc-desc&productId=4000034626 HTTP/1.1\" 200 None\n",
      "2023-12-08 09:31:57 [urllib3.connectionpool] DEBUG: Starting new HTTPS connection (1): www.thenorthfacekorea.co.kr:443\n",
      "2023-12-08 09:31:58 [urllib3.connectionpool] DEBUG: https://www.thenorthfacekorea.co.kr:443 \"GET /product/NJ1DP85J/review/list?page=20&pageSize=10&_sort=displayPriority-auditable.dateCreated&_type_sort=asc-desc&productId=4000034626 HTTP/1.1\" 200 None\n",
      "2023-12-08 09:31:59 [urllib3.connectionpool] DEBUG: Starting new HTTPS connection (1): www.thenorthfacekorea.co.kr:443\n",
      "2023-12-08 09:32:00 [urllib3.connectionpool] DEBUG: https://www.thenorthfacekorea.co.kr:443 \"GET /product/NJ1DP85J/review/list?page=21&pageSize=10&_sort=displayPriority-auditable.dateCreated&_type_sort=asc-desc&productId=4000034626 HTTP/1.1\" 200 None\n",
      "2023-12-08 09:32:00 [urllib3.connectionpool] DEBUG: Starting new HTTPS connection (1): www.thenorthfacekorea.co.kr:443\n",
      "2023-12-08 09:32:01 [urllib3.connectionpool] DEBUG: https://www.thenorthfacekorea.co.kr:443 \"GET /product/NJ1DP85J/review/list?page=22&pageSize=10&_sort=displayPriority-auditable.dateCreated&_type_sort=asc-desc&productId=4000034626 HTTP/1.1\" 200 None\n",
      "2023-12-08 09:32:02 [urllib3.connectionpool] DEBUG: Starting new HTTPS connection (1): www.thenorthfacekorea.co.kr:443\n"
     ]
    },
    {
     "name": "stdout",
     "output_type": "stream",
     "text": [
      "No data found on page 22. Stopping crawling.\n"
     ]
    },
    {
     "name": "stderr",
     "output_type": "stream",
     "text": [
      "2023-12-08 09:32:03 [urllib3.connectionpool] DEBUG: https://www.thenorthfacekorea.co.kr:443 \"GET /product/NJ1DP96A/review/list?page=1&pageSize=10&_sort=displayPriority-auditable.dateCreated&_type_sort=asc-desc&productId=4000034651 HTTP/1.1\" 200 None\n",
      "2023-12-08 09:32:03 [urllib3.connectionpool] DEBUG: Starting new HTTPS connection (1): www.thenorthfacekorea.co.kr:443\n",
      "2023-12-08 09:32:04 [urllib3.connectionpool] DEBUG: https://www.thenorthfacekorea.co.kr:443 \"GET /product/NJ1DP96A/review/list?page=2&pageSize=10&_sort=displayPriority-auditable.dateCreated&_type_sort=asc-desc&productId=4000034651 HTTP/1.1\" 200 None\n",
      "2023-12-08 09:32:05 [urllib3.connectionpool] DEBUG: Starting new HTTPS connection (1): www.thenorthfacekorea.co.kr:443\n",
      "2023-12-08 09:32:06 [urllib3.connectionpool] DEBUG: https://www.thenorthfacekorea.co.kr:443 \"GET /product/NJ1DP96A/review/list?page=3&pageSize=10&_sort=displayPriority-auditable.dateCreated&_type_sort=asc-desc&productId=4000034651 HTTP/1.1\" 200 None\n",
      "2023-12-08 09:32:06 [urllib3.connectionpool] DEBUG: Starting new HTTPS connection (1): www.thenorthfacekorea.co.kr:443\n",
      "2023-12-08 09:32:07 [urllib3.connectionpool] DEBUG: https://www.thenorthfacekorea.co.kr:443 \"GET /product/NJ1DP96A/review/list?page=4&pageSize=10&_sort=displayPriority-auditable.dateCreated&_type_sort=asc-desc&productId=4000034651 HTTP/1.1\" 200 None\n",
      "2023-12-08 09:32:07 [urllib3.connectionpool] DEBUG: Starting new HTTPS connection (1): www.thenorthfacekorea.co.kr:443\n",
      "2023-12-08 09:32:08 [urllib3.connectionpool] DEBUG: https://www.thenorthfacekorea.co.kr:443 \"GET /product/NJ1DP96A/review/list?page=5&pageSize=10&_sort=displayPriority-auditable.dateCreated&_type_sort=asc-desc&productId=4000034651 HTTP/1.1\" 200 None\n",
      "2023-12-08 09:32:09 [urllib3.connectionpool] DEBUG: Starting new HTTPS connection (1): www.thenorthfacekorea.co.kr:443\n",
      "2023-12-08 09:32:10 [urllib3.connectionpool] DEBUG: https://www.thenorthfacekorea.co.kr:443 \"GET /product/NJ1DP96A/review/list?page=6&pageSize=10&_sort=displayPriority-auditable.dateCreated&_type_sort=asc-desc&productId=4000034651 HTTP/1.1\" 200 None\n",
      "2023-12-08 09:32:10 [urllib3.connectionpool] DEBUG: Starting new HTTPS connection (1): www.thenorthfacekorea.co.kr:443\n",
      "2023-12-08 09:32:11 [urllib3.connectionpool] DEBUG: https://www.thenorthfacekorea.co.kr:443 \"GET /product/NJ1DP96A/review/list?page=7&pageSize=10&_sort=displayPriority-auditable.dateCreated&_type_sort=asc-desc&productId=4000034651 HTTP/1.1\" 200 None\n",
      "2023-12-08 09:32:11 [urllib3.connectionpool] DEBUG: Starting new HTTPS connection (1): www.thenorthfacekorea.co.kr:443\n",
      "2023-12-08 09:32:12 [urllib3.connectionpool] DEBUG: https://www.thenorthfacekorea.co.kr:443 \"GET /product/NJ1DP96A/review/list?page=8&pageSize=10&_sort=displayPriority-auditable.dateCreated&_type_sort=asc-desc&productId=4000034651 HTTP/1.1\" 200 None\n",
      "2023-12-08 09:32:12 [urllib3.connectionpool] DEBUG: Starting new HTTPS connection (1): www.thenorthfacekorea.co.kr:443\n",
      "2023-12-08 09:32:14 [urllib3.connectionpool] DEBUG: https://www.thenorthfacekorea.co.kr:443 \"GET /product/NJ1DP96A/review/list?page=9&pageSize=10&_sort=displayPriority-auditable.dateCreated&_type_sort=asc-desc&productId=4000034651 HTTP/1.1\" 200 None\n",
      "2023-12-08 09:32:14 [urllib3.connectionpool] DEBUG: Starting new HTTPS connection (1): www.thenorthfacekorea.co.kr:443\n",
      "2023-12-08 09:32:15 [urllib3.connectionpool] DEBUG: https://www.thenorthfacekorea.co.kr:443 \"GET /product/NJ1DP96A/review/list?page=10&pageSize=10&_sort=displayPriority-auditable.dateCreated&_type_sort=asc-desc&productId=4000034651 HTTP/1.1\" 200 None\n",
      "2023-12-08 09:32:15 [urllib3.connectionpool] DEBUG: Starting new HTTPS connection (1): www.thenorthfacekorea.co.kr:443\n",
      "2023-12-08 09:32:16 [urllib3.connectionpool] DEBUG: https://www.thenorthfacekorea.co.kr:443 \"GET /product/NJ1DP96A/review/list?page=11&pageSize=10&_sort=displayPriority-auditable.dateCreated&_type_sort=asc-desc&productId=4000034651 HTTP/1.1\" 200 None\n",
      "2023-12-08 09:32:16 [urllib3.connectionpool] DEBUG: Starting new HTTPS connection (1): www.thenorthfacekorea.co.kr:443\n",
      "2023-12-08 09:32:18 [urllib3.connectionpool] DEBUG: https://www.thenorthfacekorea.co.kr:443 \"GET /product/NJ1DP96A/review/list?page=12&pageSize=10&_sort=displayPriority-auditable.dateCreated&_type_sort=asc-desc&productId=4000034651 HTTP/1.1\" 200 None\n",
      "2023-12-08 09:32:18 [urllib3.connectionpool] DEBUG: Starting new HTTPS connection (1): www.thenorthfacekorea.co.kr:443\n",
      "2023-12-08 09:32:19 [urllib3.connectionpool] DEBUG: https://www.thenorthfacekorea.co.kr:443 \"GET /product/NJ1DP96A/review/list?page=13&pageSize=10&_sort=displayPriority-auditable.dateCreated&_type_sort=asc-desc&productId=4000034651 HTTP/1.1\" 200 None\n",
      "2023-12-08 09:32:19 [urllib3.connectionpool] DEBUG: Starting new HTTPS connection (1): www.thenorthfacekorea.co.kr:443\n",
      "2023-12-08 09:32:21 [urllib3.connectionpool] DEBUG: https://www.thenorthfacekorea.co.kr:443 \"GET /product/NJ1DP96A/review/list?page=14&pageSize=10&_sort=displayPriority-auditable.dateCreated&_type_sort=asc-desc&productId=4000034651 HTTP/1.1\" 200 None\n",
      "2023-12-08 09:32:21 [urllib3.connectionpool] DEBUG: Starting new HTTPS connection (1): www.thenorthfacekorea.co.kr:443\n",
      "2023-12-08 09:32:22 [urllib3.connectionpool] DEBUG: https://www.thenorthfacekorea.co.kr:443 \"GET /product/NJ1DP96A/review/list?page=15&pageSize=10&_sort=displayPriority-auditable.dateCreated&_type_sort=asc-desc&productId=4000034651 HTTP/1.1\" 200 None\n",
      "2023-12-08 09:32:22 [urllib3.connectionpool] DEBUG: Starting new HTTPS connection (1): www.thenorthfacekorea.co.kr:443\n",
      "2023-12-08 09:32:24 [urllib3.connectionpool] DEBUG: https://www.thenorthfacekorea.co.kr:443 \"GET /product/NJ1DP96A/review/list?page=16&pageSize=10&_sort=displayPriority-auditable.dateCreated&_type_sort=asc-desc&productId=4000034651 HTTP/1.1\" 200 None\n",
      "2023-12-08 09:32:25 [urllib3.connectionpool] DEBUG: Starting new HTTPS connection (1): www.thenorthfacekorea.co.kr:443\n",
      "2023-12-08 09:32:26 [urllib3.connectionpool] DEBUG: https://www.thenorthfacekorea.co.kr:443 \"GET /product/NJ1DP96A/review/list?page=17&pageSize=10&_sort=displayPriority-auditable.dateCreated&_type_sort=asc-desc&productId=4000034651 HTTP/1.1\" 200 None\n",
      "2023-12-08 09:32:26 [urllib3.connectionpool] DEBUG: Starting new HTTPS connection (1): www.thenorthfacekorea.co.kr:443\n",
      "2023-12-08 09:32:27 [urllib3.connectionpool] DEBUG: https://www.thenorthfacekorea.co.kr:443 \"GET /product/NJ1DP96A/review/list?page=18&pageSize=10&_sort=displayPriority-auditable.dateCreated&_type_sort=asc-desc&productId=4000034651 HTTP/1.1\" 200 None\n",
      "2023-12-08 09:32:28 [urllib3.connectionpool] DEBUG: Starting new HTTPS connection (1): www.thenorthfacekorea.co.kr:443\n",
      "2023-12-08 09:32:29 [urllib3.connectionpool] DEBUG: https://www.thenorthfacekorea.co.kr:443 \"GET /product/NJ1DP96A/review/list?page=19&pageSize=10&_sort=displayPriority-auditable.dateCreated&_type_sort=asc-desc&productId=4000034651 HTTP/1.1\" 200 None\n",
      "2023-12-08 09:32:29 [urllib3.connectionpool] DEBUG: Starting new HTTPS connection (1): www.thenorthfacekorea.co.kr:443\n"
     ]
    },
    {
     "name": "stdout",
     "output_type": "stream",
     "text": [
      "No data found on page 19. Stopping crawling.\n"
     ]
    },
    {
     "name": "stderr",
     "output_type": "stream",
     "text": [
      "2023-12-08 09:32:31 [urllib3.connectionpool] DEBUG: https://www.thenorthfacekorea.co.kr:443 \"GET /product/NV3NP50A/review/list?page=1&pageSize=10&_sort=displayPriority-auditable.dateCreated&_type_sort=asc-desc&productId=4000034488 HTTP/1.1\" 200 None\n",
      "2023-12-08 09:32:31 [urllib3.connectionpool] DEBUG: Starting new HTTPS connection (1): www.thenorthfacekorea.co.kr:443\n",
      "2023-12-08 09:32:32 [urllib3.connectionpool] DEBUG: https://www.thenorthfacekorea.co.kr:443 \"GET /product/NV3NP50A/review/list?page=2&pageSize=10&_sort=displayPriority-auditable.dateCreated&_type_sort=asc-desc&productId=4000034488 HTTP/1.1\" 200 None\n",
      "2023-12-08 09:32:33 [urllib3.connectionpool] DEBUG: Starting new HTTPS connection (1): www.thenorthfacekorea.co.kr:443\n",
      "2023-12-08 09:32:34 [urllib3.connectionpool] DEBUG: https://www.thenorthfacekorea.co.kr:443 \"GET /product/NV3NP50A/review/list?page=3&pageSize=10&_sort=displayPriority-auditable.dateCreated&_type_sort=asc-desc&productId=4000034488 HTTP/1.1\" 200 None\n",
      "2023-12-08 09:32:34 [urllib3.connectionpool] DEBUG: Starting new HTTPS connection (1): www.thenorthfacekorea.co.kr:443\n",
      "2023-12-08 09:32:36 [urllib3.connectionpool] DEBUG: https://www.thenorthfacekorea.co.kr:443 \"GET /product/NV3NP50A/review/list?page=4&pageSize=10&_sort=displayPriority-auditable.dateCreated&_type_sort=asc-desc&productId=4000034488 HTTP/1.1\" 200 None\n",
      "2023-12-08 09:32:37 [urllib3.connectionpool] DEBUG: Starting new HTTPS connection (1): www.thenorthfacekorea.co.kr:443\n",
      "2023-12-08 09:32:38 [urllib3.connectionpool] DEBUG: https://www.thenorthfacekorea.co.kr:443 \"GET /product/NV3NP50A/review/list?page=5&pageSize=10&_sort=displayPriority-auditable.dateCreated&_type_sort=asc-desc&productId=4000034488 HTTP/1.1\" 200 None\n",
      "2023-12-08 09:32:39 [urllib3.connectionpool] DEBUG: Starting new HTTPS connection (1): www.thenorthfacekorea.co.kr:443\n",
      "2023-12-08 09:32:40 [urllib3.connectionpool] DEBUG: https://www.thenorthfacekorea.co.kr:443 \"GET /product/NV3NP50A/review/list?page=6&pageSize=10&_sort=displayPriority-auditable.dateCreated&_type_sort=asc-desc&productId=4000034488 HTTP/1.1\" 200 None\n",
      "2023-12-08 09:32:41 [urllib3.connectionpool] DEBUG: Starting new HTTPS connection (1): www.thenorthfacekorea.co.kr:443\n",
      "2023-12-08 09:32:42 [urllib3.connectionpool] DEBUG: https://www.thenorthfacekorea.co.kr:443 \"GET /product/NV3NP50A/review/list?page=7&pageSize=10&_sort=displayPriority-auditable.dateCreated&_type_sort=asc-desc&productId=4000034488 HTTP/1.1\" 200 None\n",
      "2023-12-08 09:32:42 [urllib3.connectionpool] DEBUG: Starting new HTTPS connection (1): www.thenorthfacekorea.co.kr:443\n",
      "2023-12-08 09:32:44 [urllib3.connectionpool] DEBUG: https://www.thenorthfacekorea.co.kr:443 \"GET /product/NV3NP50A/review/list?page=8&pageSize=10&_sort=displayPriority-auditable.dateCreated&_type_sort=asc-desc&productId=4000034488 HTTP/1.1\" 200 None\n",
      "2023-12-08 09:32:44 [urllib3.connectionpool] DEBUG: Starting new HTTPS connection (1): www.thenorthfacekorea.co.kr:443\n",
      "2023-12-08 09:32:45 [urllib3.connectionpool] DEBUG: https://www.thenorthfacekorea.co.kr:443 \"GET /product/NV3NP50A/review/list?page=9&pageSize=10&_sort=displayPriority-auditable.dateCreated&_type_sort=asc-desc&productId=4000034488 HTTP/1.1\" 200 None\n",
      "2023-12-08 09:32:45 [urllib3.connectionpool] DEBUG: Starting new HTTPS connection (1): www.thenorthfacekorea.co.kr:443\n",
      "2023-12-08 09:32:47 [urllib3.connectionpool] DEBUG: https://www.thenorthfacekorea.co.kr:443 \"GET /product/NV3NP50A/review/list?page=10&pageSize=10&_sort=displayPriority-auditable.dateCreated&_type_sort=asc-desc&productId=4000034488 HTTP/1.1\" 200 None\n",
      "2023-12-08 09:32:47 [urllib3.connectionpool] DEBUG: Starting new HTTPS connection (1): www.thenorthfacekorea.co.kr:443\n",
      "2023-12-08 09:32:49 [urllib3.connectionpool] DEBUG: https://www.thenorthfacekorea.co.kr:443 \"GET /product/NV3NP50A/review/list?page=11&pageSize=10&_sort=displayPriority-auditable.dateCreated&_type_sort=asc-desc&productId=4000034488 HTTP/1.1\" 200 None\n",
      "2023-12-08 09:32:49 [urllib3.connectionpool] DEBUG: Starting new HTTPS connection (1): www.thenorthfacekorea.co.kr:443\n",
      "2023-12-08 09:32:50 [urllib3.connectionpool] DEBUG: https://www.thenorthfacekorea.co.kr:443 \"GET /product/NV3NP50A/review/list?page=12&pageSize=10&_sort=displayPriority-auditable.dateCreated&_type_sort=asc-desc&productId=4000034488 HTTP/1.1\" 200 None\n",
      "2023-12-08 09:32:51 [urllib3.connectionpool] DEBUG: Starting new HTTPS connection (1): www.thenorthfacekorea.co.kr:443\n",
      "2023-12-08 09:32:52 [urllib3.connectionpool] DEBUG: https://www.thenorthfacekorea.co.kr:443 \"GET /product/NV3NP50A/review/list?page=13&pageSize=10&_sort=displayPriority-auditable.dateCreated&_type_sort=asc-desc&productId=4000034488 HTTP/1.1\" 200 None\n",
      "2023-12-08 09:32:53 [urllib3.connectionpool] DEBUG: Starting new HTTPS connection (1): www.thenorthfacekorea.co.kr:443\n",
      "2023-12-08 09:32:54 [urllib3.connectionpool] DEBUG: https://www.thenorthfacekorea.co.kr:443 \"GET /product/NV3NP50A/review/list?page=14&pageSize=10&_sort=displayPriority-auditable.dateCreated&_type_sort=asc-desc&productId=4000034488 HTTP/1.1\" 200 None\n",
      "2023-12-08 09:32:54 [urllib3.connectionpool] DEBUG: Starting new HTTPS connection (1): www.thenorthfacekorea.co.kr:443\n",
      "2023-12-08 09:32:56 [urllib3.connectionpool] DEBUG: https://www.thenorthfacekorea.co.kr:443 \"GET /product/NV3NP50A/review/list?page=15&pageSize=10&_sort=displayPriority-auditable.dateCreated&_type_sort=asc-desc&productId=4000034488 HTTP/1.1\" 200 None\n",
      "2023-12-08 09:32:56 [urllib3.connectionpool] DEBUG: Starting new HTTPS connection (1): www.thenorthfacekorea.co.kr:443\n"
     ]
    },
    {
     "name": "stdout",
     "output_type": "stream",
     "text": [
      "No data found on page 15. Stopping crawling.\n"
     ]
    },
    {
     "name": "stderr",
     "output_type": "stream",
     "text": [
      "2023-12-08 09:32:57 [urllib3.connectionpool] DEBUG: https://www.thenorthfacekorea.co.kr:443 \"GET /product/NJ1DP58A/review/list?page=1&pageSize=10&_sort=displayPriority-auditable.dateCreated&_type_sort=asc-desc&productId=4000034546 HTTP/1.1\" 200 None\n",
      "2023-12-08 09:32:58 [urllib3.connectionpool] DEBUG: Starting new HTTPS connection (1): www.thenorthfacekorea.co.kr:443\n",
      "2023-12-08 09:32:59 [urllib3.connectionpool] DEBUG: https://www.thenorthfacekorea.co.kr:443 \"GET /product/NJ1DP58A/review/list?page=2&pageSize=10&_sort=displayPriority-auditable.dateCreated&_type_sort=asc-desc&productId=4000034546 HTTP/1.1\" 200 None\n",
      "2023-12-08 09:32:59 [urllib3.connectionpool] DEBUG: Starting new HTTPS connection (1): www.thenorthfacekorea.co.kr:443\n",
      "2023-12-08 09:33:01 [urllib3.connectionpool] DEBUG: https://www.thenorthfacekorea.co.kr:443 \"GET /product/NJ1DP58A/review/list?page=3&pageSize=10&_sort=displayPriority-auditable.dateCreated&_type_sort=asc-desc&productId=4000034546 HTTP/1.1\" 200 None\n",
      "2023-12-08 09:33:01 [urllib3.connectionpool] DEBUG: Starting new HTTPS connection (1): www.thenorthfacekorea.co.kr:443\n",
      "2023-12-08 09:33:02 [urllib3.connectionpool] DEBUG: https://www.thenorthfacekorea.co.kr:443 \"GET /product/NJ1DP58A/review/list?page=4&pageSize=10&_sort=displayPriority-auditable.dateCreated&_type_sort=asc-desc&productId=4000034546 HTTP/1.1\" 200 None\n",
      "2023-12-08 09:33:03 [urllib3.connectionpool] DEBUG: Starting new HTTPS connection (1): www.thenorthfacekorea.co.kr:443\n",
      "2023-12-08 09:33:04 [urllib3.connectionpool] DEBUG: https://www.thenorthfacekorea.co.kr:443 \"GET /product/NJ1DP58A/review/list?page=5&pageSize=10&_sort=displayPriority-auditable.dateCreated&_type_sort=asc-desc&productId=4000034546 HTTP/1.1\" 200 None\n",
      "2023-12-08 09:33:04 [urllib3.connectionpool] DEBUG: Starting new HTTPS connection (1): www.thenorthfacekorea.co.kr:443\n",
      "2023-12-08 09:33:06 [urllib3.connectionpool] DEBUG: https://www.thenorthfacekorea.co.kr:443 \"GET /product/NJ1DP58A/review/list?page=6&pageSize=10&_sort=displayPriority-auditable.dateCreated&_type_sort=asc-desc&productId=4000034546 HTTP/1.1\" 200 None\n",
      "2023-12-08 09:33:06 [urllib3.connectionpool] DEBUG: Starting new HTTPS connection (1): www.thenorthfacekorea.co.kr:443\n",
      "2023-12-08 09:33:07 [urllib3.connectionpool] DEBUG: https://www.thenorthfacekorea.co.kr:443 \"GET /product/NJ1DP58A/review/list?page=7&pageSize=10&_sort=displayPriority-auditable.dateCreated&_type_sort=asc-desc&productId=4000034546 HTTP/1.1\" 200 None\n",
      "2023-12-08 09:33:08 [urllib3.connectionpool] DEBUG: Starting new HTTPS connection (1): www.thenorthfacekorea.co.kr:443\n",
      "2023-12-08 09:33:09 [urllib3.connectionpool] DEBUG: https://www.thenorthfacekorea.co.kr:443 \"GET /product/NJ1DP58A/review/list?page=8&pageSize=10&_sort=displayPriority-auditable.dateCreated&_type_sort=asc-desc&productId=4000034546 HTTP/1.1\" 200 None\n",
      "2023-12-08 09:33:09 [urllib3.connectionpool] DEBUG: Starting new HTTPS connection (1): www.thenorthfacekorea.co.kr:443\n",
      "2023-12-08 09:33:11 [urllib3.connectionpool] DEBUG: https://www.thenorthfacekorea.co.kr:443 \"GET /product/NJ1DP58A/review/list?page=9&pageSize=10&_sort=displayPriority-auditable.dateCreated&_type_sort=asc-desc&productId=4000034546 HTTP/1.1\" 200 None\n",
      "2023-12-08 09:33:11 [urllib3.connectionpool] DEBUG: Starting new HTTPS connection (1): www.thenorthfacekorea.co.kr:443\n",
      "2023-12-08 09:33:12 [urllib3.connectionpool] DEBUG: https://www.thenorthfacekorea.co.kr:443 \"GET /product/NJ1DP58A/review/list?page=10&pageSize=10&_sort=displayPriority-auditable.dateCreated&_type_sort=asc-desc&productId=4000034546 HTTP/1.1\" 200 None\n",
      "2023-12-08 09:33:13 [urllib3.connectionpool] DEBUG: Starting new HTTPS connection (1): www.thenorthfacekorea.co.kr:443\n",
      "2023-12-08 09:33:14 [urllib3.connectionpool] DEBUG: https://www.thenorthfacekorea.co.kr:443 \"GET /product/NJ1DP58A/review/list?page=11&pageSize=10&_sort=displayPriority-auditable.dateCreated&_type_sort=asc-desc&productId=4000034546 HTTP/1.1\" 200 None\n",
      "2023-12-08 09:33:15 [urllib3.connectionpool] DEBUG: Starting new HTTPS connection (1): www.thenorthfacekorea.co.kr:443\n",
      "2023-12-08 09:33:16 [urllib3.connectionpool] DEBUG: https://www.thenorthfacekorea.co.kr:443 \"GET /product/NJ1DP58A/review/list?page=12&pageSize=10&_sort=displayPriority-auditable.dateCreated&_type_sort=asc-desc&productId=4000034546 HTTP/1.1\" 200 None\n",
      "2023-12-08 09:33:17 [urllib3.connectionpool] DEBUG: Starting new HTTPS connection (1): www.thenorthfacekorea.co.kr:443\n",
      "2023-12-08 09:33:18 [urllib3.connectionpool] DEBUG: https://www.thenorthfacekorea.co.kr:443 \"GET /product/NJ1DP58A/review/list?page=13&pageSize=10&_sort=displayPriority-auditable.dateCreated&_type_sort=asc-desc&productId=4000034546 HTTP/1.1\" 200 None\n",
      "2023-12-08 09:33:18 [urllib3.connectionpool] DEBUG: Starting new HTTPS connection (1): www.thenorthfacekorea.co.kr:443\n",
      "2023-12-08 09:33:19 [urllib3.connectionpool] DEBUG: https://www.thenorthfacekorea.co.kr:443 \"GET /product/NJ1DP58A/review/list?page=14&pageSize=10&_sort=displayPriority-auditable.dateCreated&_type_sort=asc-desc&productId=4000034546 HTTP/1.1\" 200 None\n",
      "2023-12-08 09:33:20 [urllib3.connectionpool] DEBUG: Starting new HTTPS connection (1): www.thenorthfacekorea.co.kr:443\n"
     ]
    },
    {
     "name": "stdout",
     "output_type": "stream",
     "text": [
      "No data found on page 14. Stopping crawling.\n"
     ]
    },
    {
     "name": "stderr",
     "output_type": "stream",
     "text": [
      "2023-12-08 09:33:21 [urllib3.connectionpool] DEBUG: https://www.thenorthfacekorea.co.kr:443 \"GET /product/NJ1DP87J/review/list?page=1&pageSize=10&_sort=displayPriority-auditable.dateCreated&_type_sort=asc-desc&productId=4000036635 HTTP/1.1\" 200 None\n",
      "2023-12-08 09:33:21 [urllib3.connectionpool] DEBUG: Starting new HTTPS connection (1): www.thenorthfacekorea.co.kr:443\n",
      "2023-12-08 09:33:22 [urllib3.connectionpool] DEBUG: https://www.thenorthfacekorea.co.kr:443 \"GET /product/NJ1DP87J/review/list?page=2&pageSize=10&_sort=displayPriority-auditable.dateCreated&_type_sort=asc-desc&productId=4000036635 HTTP/1.1\" 200 None\n",
      "2023-12-08 09:33:23 [urllib3.connectionpool] DEBUG: Starting new HTTPS connection (1): www.thenorthfacekorea.co.kr:443\n",
      "2023-12-08 09:33:24 [urllib3.connectionpool] DEBUG: https://www.thenorthfacekorea.co.kr:443 \"GET /product/NJ1DP87J/review/list?page=3&pageSize=10&_sort=displayPriority-auditable.dateCreated&_type_sort=asc-desc&productId=4000036635 HTTP/1.1\" 200 None\n",
      "2023-12-08 09:33:24 [urllib3.connectionpool] DEBUG: Starting new HTTPS connection (1): www.thenorthfacekorea.co.kr:443\n",
      "2023-12-08 09:33:25 [urllib3.connectionpool] DEBUG: https://www.thenorthfacekorea.co.kr:443 \"GET /product/NJ1DP87J/review/list?page=4&pageSize=10&_sort=displayPriority-auditable.dateCreated&_type_sort=asc-desc&productId=4000036635 HTTP/1.1\" 200 None\n",
      "2023-12-08 09:33:25 [urllib3.connectionpool] DEBUG: Starting new HTTPS connection (1): www.thenorthfacekorea.co.kr:443\n",
      "2023-12-08 09:33:26 [urllib3.connectionpool] DEBUG: https://www.thenorthfacekorea.co.kr:443 \"GET /product/NJ1DP87J/review/list?page=5&pageSize=10&_sort=displayPriority-auditable.dateCreated&_type_sort=asc-desc&productId=4000036635 HTTP/1.1\" 200 None\n",
      "2023-12-08 09:33:27 [urllib3.connectionpool] DEBUG: Starting new HTTPS connection (1): www.thenorthfacekorea.co.kr:443\n",
      "2023-12-08 09:33:29 [urllib3.connectionpool] DEBUG: https://www.thenorthfacekorea.co.kr:443 \"GET /product/NJ1DP87J/review/list?page=6&pageSize=10&_sort=displayPriority-auditable.dateCreated&_type_sort=asc-desc&productId=4000036635 HTTP/1.1\" 200 None\n",
      "2023-12-08 09:33:29 [urllib3.connectionpool] DEBUG: Starting new HTTPS connection (1): www.thenorthfacekorea.co.kr:443\n",
      "2023-12-08 09:33:39 [urllib3.connectionpool] DEBUG: https://www.thenorthfacekorea.co.kr:443 \"GET /product/NJ1DP87J/review/list?page=7&pageSize=10&_sort=displayPriority-auditable.dateCreated&_type_sort=asc-desc&productId=4000036635 HTTP/1.1\" 504 4526\n",
      "2023-12-08 09:33:39 [urllib3.connectionpool] DEBUG: Starting new HTTPS connection (1): www.thenorthfacekorea.co.kr:443\n"
     ]
    },
    {
     "name": "stdout",
     "output_type": "stream",
     "text": [
      "Failed to retrieve page 7. Status code: 504\n"
     ]
    },
    {
     "name": "stderr",
     "output_type": "stream",
     "text": [
      "2023-12-08 09:33:40 [urllib3.connectionpool] DEBUG: https://www.thenorthfacekorea.co.kr:443 \"GET /product/NC2DN99A/review/list?page=1&pageSize=10&_sort=displayPriority-auditable.dateCreated&_type_sort=asc-desc&productId=4000029502 HTTP/1.1\" 200 None\n",
      "2023-12-08 09:33:41 [urllib3.connectionpool] DEBUG: Starting new HTTPS connection (1): www.thenorthfacekorea.co.kr:443\n",
      "2023-12-08 09:33:42 [urllib3.connectionpool] DEBUG: https://www.thenorthfacekorea.co.kr:443 \"GET /product/NC2DN99A/review/list?page=2&pageSize=10&_sort=displayPriority-auditable.dateCreated&_type_sort=asc-desc&productId=4000029502 HTTP/1.1\" 200 None\n",
      "2023-12-08 09:33:42 [urllib3.connectionpool] DEBUG: Starting new HTTPS connection (1): www.thenorthfacekorea.co.kr:443\n",
      "2023-12-08 09:33:43 [urllib3.connectionpool] DEBUG: https://www.thenorthfacekorea.co.kr:443 \"GET /product/NC2DN99A/review/list?page=3&pageSize=10&_sort=displayPriority-auditable.dateCreated&_type_sort=asc-desc&productId=4000029502 HTTP/1.1\" 200 None\n",
      "2023-12-08 09:33:44 [urllib3.connectionpool] DEBUG: Starting new HTTPS connection (1): www.thenorthfacekorea.co.kr:443\n",
      "2023-12-08 09:33:45 [urllib3.connectionpool] DEBUG: https://www.thenorthfacekorea.co.kr:443 \"GET /product/NC2DN99A/review/list?page=4&pageSize=10&_sort=displayPriority-auditable.dateCreated&_type_sort=asc-desc&productId=4000029502 HTTP/1.1\" 200 None\n",
      "2023-12-08 09:33:45 [urllib3.connectionpool] DEBUG: Starting new HTTPS connection (1): www.thenorthfacekorea.co.kr:443\n",
      "2023-12-08 09:33:46 [urllib3.connectionpool] DEBUG: https://www.thenorthfacekorea.co.kr:443 \"GET /product/NC2DN99A/review/list?page=5&pageSize=10&_sort=displayPriority-auditable.dateCreated&_type_sort=asc-desc&productId=4000029502 HTTP/1.1\" 200 None\n",
      "2023-12-08 09:33:47 [urllib3.connectionpool] DEBUG: Starting new HTTPS connection (1): www.thenorthfacekorea.co.kr:443\n",
      "2023-12-08 09:33:48 [urllib3.connectionpool] DEBUG: https://www.thenorthfacekorea.co.kr:443 \"GET /product/NC2DN99A/review/list?page=6&pageSize=10&_sort=displayPriority-auditable.dateCreated&_type_sort=asc-desc&productId=4000029502 HTTP/1.1\" 200 None\n",
      "2023-12-08 09:33:49 [urllib3.connectionpool] DEBUG: Starting new HTTPS connection (1): www.thenorthfacekorea.co.kr:443\n",
      "2023-12-08 09:33:50 [urllib3.connectionpool] DEBUG: https://www.thenorthfacekorea.co.kr:443 \"GET /product/NC2DN99A/review/list?page=7&pageSize=10&_sort=displayPriority-auditable.dateCreated&_type_sort=asc-desc&productId=4000029502 HTTP/1.1\" 200 None\n",
      "2023-12-08 09:33:51 [urllib3.connectionpool] DEBUG: Starting new HTTPS connection (1): www.thenorthfacekorea.co.kr:443\n",
      "2023-12-08 09:33:52 [urllib3.connectionpool] DEBUG: https://www.thenorthfacekorea.co.kr:443 \"GET /product/NC2DN99A/review/list?page=8&pageSize=10&_sort=displayPriority-auditable.dateCreated&_type_sort=asc-desc&productId=4000029502 HTTP/1.1\" 200 None\n",
      "2023-12-08 09:33:52 [urllib3.connectionpool] DEBUG: Starting new HTTPS connection (1): www.thenorthfacekorea.co.kr:443\n",
      "2023-12-08 09:33:54 [urllib3.connectionpool] DEBUG: https://www.thenorthfacekorea.co.kr:443 \"GET /product/NC2DN99A/review/list?page=9&pageSize=10&_sort=displayPriority-auditable.dateCreated&_type_sort=asc-desc&productId=4000029502 HTTP/1.1\" 200 None\n",
      "2023-12-08 09:33:54 [urllib3.connectionpool] DEBUG: Starting new HTTPS connection (1): www.thenorthfacekorea.co.kr:443\n",
      "2023-12-08 09:33:55 [urllib3.connectionpool] DEBUG: https://www.thenorthfacekorea.co.kr:443 \"GET /product/NC2DN99A/review/list?page=10&pageSize=10&_sort=displayPriority-auditable.dateCreated&_type_sort=asc-desc&productId=4000029502 HTTP/1.1\" 200 None\n",
      "2023-12-08 09:33:55 [urllib3.connectionpool] DEBUG: Starting new HTTPS connection (1): www.thenorthfacekorea.co.kr:443\n",
      "2023-12-08 09:33:57 [urllib3.connectionpool] DEBUG: https://www.thenorthfacekorea.co.kr:443 \"GET /product/NC2DN99A/review/list?page=11&pageSize=10&_sort=displayPriority-auditable.dateCreated&_type_sort=asc-desc&productId=4000029502 HTTP/1.1\" 200 None\n",
      "2023-12-08 09:33:57 [urllib3.connectionpool] DEBUG: Starting new HTTPS connection (1): www.thenorthfacekorea.co.kr:443\n"
     ]
    },
    {
     "name": "stdout",
     "output_type": "stream",
     "text": [
      "No data found on page 11. Stopping crawling.\n"
     ]
    },
    {
     "name": "stderr",
     "output_type": "stream",
     "text": [
      "2023-12-08 09:33:58 [urllib3.connectionpool] DEBUG: https://www.thenorthfacekorea.co.kr:443 \"GET /product/NJ1DN76B/review/list?page=1&pageSize=10&_sort=displayPriority-auditable.dateCreated&_type_sort=asc-desc&productId=4000029579 HTTP/1.1\" 200 None\n",
      "2023-12-08 09:33:58 [urllib3.connectionpool] DEBUG: Starting new HTTPS connection (1): www.thenorthfacekorea.co.kr:443\n",
      "2023-12-08 09:34:09 [urllib3.connectionpool] DEBUG: https://www.thenorthfacekorea.co.kr:443 \"GET /product/NJ1DN76B/review/list?page=2&pageSize=10&_sort=displayPriority-auditable.dateCreated&_type_sort=asc-desc&productId=4000029579 HTTP/1.1\" 504 4526\n",
      "2023-12-08 09:34:09 [urllib3.connectionpool] DEBUG: Starting new HTTPS connection (1): www.thenorthfacekorea.co.kr:443\n"
     ]
    },
    {
     "name": "stdout",
     "output_type": "stream",
     "text": [
      "Failed to retrieve page 2. Status code: 504\n"
     ]
    },
    {
     "name": "stderr",
     "output_type": "stream",
     "text": [
      "2023-12-08 09:34:10 [urllib3.connectionpool] DEBUG: https://www.thenorthfacekorea.co.kr:443 \"GET /product/NJ1DP86J/review/list?page=1&pageSize=10&_sort=displayPriority-auditable.dateCreated&_type_sort=asc-desc&productId=4000034637 HTTP/1.1\" 200 None\n",
      "2023-12-08 09:34:11 [urllib3.connectionpool] DEBUG: Starting new HTTPS connection (1): www.thenorthfacekorea.co.kr:443\n",
      "2023-12-08 09:34:12 [urllib3.connectionpool] DEBUG: https://www.thenorthfacekorea.co.kr:443 \"GET /product/NJ1DP86J/review/list?page=2&pageSize=10&_sort=displayPriority-auditable.dateCreated&_type_sort=asc-desc&productId=4000034637 HTTP/1.1\" 200 None\n",
      "2023-12-08 09:34:12 [urllib3.connectionpool] DEBUG: Starting new HTTPS connection (1): www.thenorthfacekorea.co.kr:443\n",
      "2023-12-08 09:34:14 [urllib3.connectionpool] DEBUG: https://www.thenorthfacekorea.co.kr:443 \"GET /product/NJ1DP86J/review/list?page=3&pageSize=10&_sort=displayPriority-auditable.dateCreated&_type_sort=asc-desc&productId=4000034637 HTTP/1.1\" 200 None\n",
      "2023-12-08 09:34:14 [urllib3.connectionpool] DEBUG: Starting new HTTPS connection (1): www.thenorthfacekorea.co.kr:443\n",
      "2023-12-08 09:34:16 [urllib3.connectionpool] DEBUG: https://www.thenorthfacekorea.co.kr:443 \"GET /product/NJ1DP86J/review/list?page=4&pageSize=10&_sort=displayPriority-auditable.dateCreated&_type_sort=asc-desc&productId=4000034637 HTTP/1.1\" 200 None\n",
      "2023-12-08 09:34:16 [urllib3.connectionpool] DEBUG: Starting new HTTPS connection (1): www.thenorthfacekorea.co.kr:443\n",
      "2023-12-08 09:34:17 [urllib3.connectionpool] DEBUG: https://www.thenorthfacekorea.co.kr:443 \"GET /product/NJ1DP86J/review/list?page=5&pageSize=10&_sort=displayPriority-auditable.dateCreated&_type_sort=asc-desc&productId=4000034637 HTTP/1.1\" 200 None\n",
      "2023-12-08 09:34:17 [urllib3.connectionpool] DEBUG: Starting new HTTPS connection (1): www.thenorthfacekorea.co.kr:443\n",
      "2023-12-08 09:34:19 [urllib3.connectionpool] DEBUG: https://www.thenorthfacekorea.co.kr:443 \"GET /product/NJ1DP86J/review/list?page=6&pageSize=10&_sort=displayPriority-auditable.dateCreated&_type_sort=asc-desc&productId=4000034637 HTTP/1.1\" 200 None\n",
      "2023-12-08 09:34:19 [urllib3.connectionpool] DEBUG: Starting new HTTPS connection (1): www.thenorthfacekorea.co.kr:443\n",
      "2023-12-08 09:34:20 [urllib3.connectionpool] DEBUG: https://www.thenorthfacekorea.co.kr:443 \"GET /product/NJ1DP86J/review/list?page=7&pageSize=10&_sort=displayPriority-auditable.dateCreated&_type_sort=asc-desc&productId=4000034637 HTTP/1.1\" 200 None\n",
      "2023-12-08 09:34:20 [urllib3.connectionpool] DEBUG: Starting new HTTPS connection (1): www.thenorthfacekorea.co.kr:443\n"
     ]
    },
    {
     "name": "stdout",
     "output_type": "stream",
     "text": [
      "No data found on page 7. Stopping crawling.\n"
     ]
    },
    {
     "name": "stderr",
     "output_type": "stream",
     "text": [
      "2023-12-08 09:34:21 [urllib3.connectionpool] DEBUG: https://www.thenorthfacekorea.co.kr:443 \"GET /product/NV1DP55A/review/list?page=1&pageSize=10&_sort=displayPriority-auditable.dateCreated&_type_sort=asc-desc&productId=4000035037 HTTP/1.1\" 200 None\n",
      "2023-12-08 09:34:22 [urllib3.connectionpool] DEBUG: Starting new HTTPS connection (1): www.thenorthfacekorea.co.kr:443\n",
      "2023-12-08 09:34:23 [urllib3.connectionpool] DEBUG: https://www.thenorthfacekorea.co.kr:443 \"GET /product/NV1DP55A/review/list?page=2&pageSize=10&_sort=displayPriority-auditable.dateCreated&_type_sort=asc-desc&productId=4000035037 HTTP/1.1\" 200 None\n",
      "2023-12-08 09:34:24 [urllib3.connectionpool] DEBUG: Starting new HTTPS connection (1): www.thenorthfacekorea.co.kr:443\n",
      "2023-12-08 09:34:25 [urllib3.connectionpool] DEBUG: https://www.thenorthfacekorea.co.kr:443 \"GET /product/NV1DP55A/review/list?page=3&pageSize=10&_sort=displayPriority-auditable.dateCreated&_type_sort=asc-desc&productId=4000035037 HTTP/1.1\" 200 None\n",
      "2023-12-08 09:34:25 [urllib3.connectionpool] DEBUG: Starting new HTTPS connection (1): www.thenorthfacekorea.co.kr:443\n",
      "2023-12-08 09:34:27 [urllib3.connectionpool] DEBUG: https://www.thenorthfacekorea.co.kr:443 \"GET /product/NV1DP55A/review/list?page=4&pageSize=10&_sort=displayPriority-auditable.dateCreated&_type_sort=asc-desc&productId=4000035037 HTTP/1.1\" 200 None\n",
      "2023-12-08 09:34:27 [urllib3.connectionpool] DEBUG: Starting new HTTPS connection (1): www.thenorthfacekorea.co.kr:443\n",
      "2023-12-08 09:34:29 [urllib3.connectionpool] DEBUG: https://www.thenorthfacekorea.co.kr:443 \"GET /product/NV1DP55A/review/list?page=5&pageSize=10&_sort=displayPriority-auditable.dateCreated&_type_sort=asc-desc&productId=4000035037 HTTP/1.1\" 200 None\n",
      "2023-12-08 09:34:29 [urllib3.connectionpool] DEBUG: Starting new HTTPS connection (1): www.thenorthfacekorea.co.kr:443\n",
      "2023-12-08 09:34:30 [urllib3.connectionpool] DEBUG: https://www.thenorthfacekorea.co.kr:443 \"GET /product/NV1DP55A/review/list?page=6&pageSize=10&_sort=displayPriority-auditable.dateCreated&_type_sort=asc-desc&productId=4000035037 HTTP/1.1\" 200 None\n",
      "2023-12-08 09:34:31 [urllib3.connectionpool] DEBUG: Starting new HTTPS connection (1): www.thenorthfacekorea.co.kr:443\n",
      "2023-12-08 09:34:32 [urllib3.connectionpool] DEBUG: https://www.thenorthfacekorea.co.kr:443 \"GET /product/NV1DP55A/review/list?page=7&pageSize=10&_sort=displayPriority-auditable.dateCreated&_type_sort=asc-desc&productId=4000035037 HTTP/1.1\" 200 None\n",
      "2023-12-08 09:34:32 [urllib3.connectionpool] DEBUG: Starting new HTTPS connection (1): www.thenorthfacekorea.co.kr:443\n"
     ]
    },
    {
     "name": "stdout",
     "output_type": "stream",
     "text": [
      "No data found on page 7. Stopping crawling.\n"
     ]
    },
    {
     "name": "stderr",
     "output_type": "stream",
     "text": [
      "2023-12-08 09:34:33 [urllib3.connectionpool] DEBUG: https://www.thenorthfacekorea.co.kr:443 \"GET /product/NJ3NN63A/review/list?page=1&pageSize=10&_sort=displayPriority-auditable.dateCreated&_type_sort=asc-desc&productId=4000029358 HTTP/1.1\" 200 None\n",
      "2023-12-08 09:34:34 [urllib3.connectionpool] DEBUG: Starting new HTTPS connection (1): www.thenorthfacekorea.co.kr:443\n",
      "2023-12-08 09:34:35 [urllib3.connectionpool] DEBUG: https://www.thenorthfacekorea.co.kr:443 \"GET /product/NJ3NN63A/review/list?page=2&pageSize=10&_sort=displayPriority-auditable.dateCreated&_type_sort=asc-desc&productId=4000029358 HTTP/1.1\" 200 None\n",
      "2023-12-08 09:34:35 [urllib3.connectionpool] DEBUG: Starting new HTTPS connection (1): www.thenorthfacekorea.co.kr:443\n",
      "2023-12-08 09:34:36 [urllib3.connectionpool] DEBUG: https://www.thenorthfacekorea.co.kr:443 \"GET /product/NJ3NN63A/review/list?page=3&pageSize=10&_sort=displayPriority-auditable.dateCreated&_type_sort=asc-desc&productId=4000029358 HTTP/1.1\" 200 None\n",
      "2023-12-08 09:34:37 [urllib3.connectionpool] DEBUG: Starting new HTTPS connection (1): www.thenorthfacekorea.co.kr:443\n",
      "2023-12-08 09:34:38 [urllib3.connectionpool] DEBUG: https://www.thenorthfacekorea.co.kr:443 \"GET /product/NJ3NN63A/review/list?page=4&pageSize=10&_sort=displayPriority-auditable.dateCreated&_type_sort=asc-desc&productId=4000029358 HTTP/1.1\" 200 None\n",
      "2023-12-08 09:34:38 [urllib3.connectionpool] DEBUG: Starting new HTTPS connection (1): www.thenorthfacekorea.co.kr:443\n",
      "2023-12-08 09:34:39 [urllib3.connectionpool] DEBUG: https://www.thenorthfacekorea.co.kr:443 \"GET /product/NJ3NN63A/review/list?page=5&pageSize=10&_sort=displayPriority-auditable.dateCreated&_type_sort=asc-desc&productId=4000029358 HTTP/1.1\" 200 None\n",
      "2023-12-08 09:34:39 [urllib3.connectionpool] DEBUG: Starting new HTTPS connection (1): www.thenorthfacekorea.co.kr:443\n",
      "2023-12-08 09:34:41 [urllib3.connectionpool] DEBUG: https://www.thenorthfacekorea.co.kr:443 \"GET /product/NJ3NN63A/review/list?page=6&pageSize=10&_sort=displayPriority-auditable.dateCreated&_type_sort=asc-desc&productId=4000029358 HTTP/1.1\" 200 None\n",
      "2023-12-08 09:34:41 [urllib3.connectionpool] DEBUG: Starting new HTTPS connection (1): www.thenorthfacekorea.co.kr:443\n"
     ]
    },
    {
     "name": "stdout",
     "output_type": "stream",
     "text": [
      "No data found on page 6. Stopping crawling.\n"
     ]
    },
    {
     "name": "stderr",
     "output_type": "stream",
     "text": [
      "2023-12-08 09:34:42 [urllib3.connectionpool] DEBUG: https://www.thenorthfacekorea.co.kr:443 \"GET /product/NJ1DP99A/review/list?page=1&pageSize=10&_sort=displayPriority-auditable.dateCreated&_type_sort=asc-desc&productId=4000034657 HTTP/1.1\" 200 None\n",
      "2023-12-08 09:34:43 [urllib3.connectionpool] DEBUG: Starting new HTTPS connection (1): www.thenorthfacekorea.co.kr:443\n",
      "2023-12-08 09:34:44 [urllib3.connectionpool] DEBUG: https://www.thenorthfacekorea.co.kr:443 \"GET /product/NJ1DP99A/review/list?page=2&pageSize=10&_sort=displayPriority-auditable.dateCreated&_type_sort=asc-desc&productId=4000034657 HTTP/1.1\" 200 None\n",
      "2023-12-08 09:34:44 [urllib3.connectionpool] DEBUG: Starting new HTTPS connection (1): www.thenorthfacekorea.co.kr:443\n",
      "2023-12-08 09:34:45 [urllib3.connectionpool] DEBUG: https://www.thenorthfacekorea.co.kr:443 \"GET /product/NJ1DP99A/review/list?page=3&pageSize=10&_sort=displayPriority-auditable.dateCreated&_type_sort=asc-desc&productId=4000034657 HTTP/1.1\" 200 None\n",
      "2023-12-08 09:34:45 [urllib3.connectionpool] DEBUG: Starting new HTTPS connection (1): www.thenorthfacekorea.co.kr:443\n",
      "2023-12-08 09:34:46 [urllib3.connectionpool] DEBUG: https://www.thenorthfacekorea.co.kr:443 \"GET /product/NJ1DP99A/review/list?page=4&pageSize=10&_sort=displayPriority-auditable.dateCreated&_type_sort=asc-desc&productId=4000034657 HTTP/1.1\" 200 None\n",
      "2023-12-08 09:34:47 [urllib3.connectionpool] DEBUG: Starting new HTTPS connection (1): www.thenorthfacekorea.co.kr:443\n",
      "2023-12-08 09:34:48 [urllib3.connectionpool] DEBUG: https://www.thenorthfacekorea.co.kr:443 \"GET /product/NJ1DP99A/review/list?page=5&pageSize=10&_sort=displayPriority-auditable.dateCreated&_type_sort=asc-desc&productId=4000034657 HTTP/1.1\" 200 None\n",
      "2023-12-08 09:34:49 [urllib3.connectionpool] DEBUG: Starting new HTTPS connection (1): www.thenorthfacekorea.co.kr:443\n",
      "2023-12-08 09:34:50 [urllib3.connectionpool] DEBUG: https://www.thenorthfacekorea.co.kr:443 \"GET /product/NJ1DP99A/review/list?page=6&pageSize=10&_sort=displayPriority-auditable.dateCreated&_type_sort=asc-desc&productId=4000034657 HTTP/1.1\" 200 None\n",
      "2023-12-08 09:34:50 [urllib3.connectionpool] DEBUG: Starting new HTTPS connection (1): www.thenorthfacekorea.co.kr:443\n",
      "2023-12-08 09:34:51 [urllib3.connectionpool] DEBUG: https://www.thenorthfacekorea.co.kr:443 \"GET /product/NJ1DP99A/review/list?page=7&pageSize=10&_sort=displayPriority-auditable.dateCreated&_type_sort=asc-desc&productId=4000034657 HTTP/1.1\" 200 None\n",
      "2023-12-08 09:34:51 [urllib3.connectionpool] DEBUG: Starting new HTTPS connection (1): www.thenorthfacekorea.co.kr:443\n"
     ]
    },
    {
     "name": "stdout",
     "output_type": "stream",
     "text": [
      "No data found on page 7. Stopping crawling.\n"
     ]
    },
    {
     "name": "stderr",
     "output_type": "stream",
     "text": [
      "2023-12-08 09:34:53 [urllib3.connectionpool] DEBUG: https://www.thenorthfacekorea.co.kr:443 \"GET /product/NC1DP79A/review/list?page=1&pageSize=10&_sort=displayPriority-auditable.dateCreated&_type_sort=asc-desc&productId=4000034187 HTTP/1.1\" 200 None\n",
      "2023-12-08 09:34:53 [urllib3.connectionpool] DEBUG: Starting new HTTPS connection (1): www.thenorthfacekorea.co.kr:443\n",
      "2023-12-08 09:34:55 [urllib3.connectionpool] DEBUG: https://www.thenorthfacekorea.co.kr:443 \"GET /product/NC1DP79A/review/list?page=2&pageSize=10&_sort=displayPriority-auditable.dateCreated&_type_sort=asc-desc&productId=4000034187 HTTP/1.1\" 200 None\n",
      "2023-12-08 09:34:55 [urllib3.connectionpool] DEBUG: Starting new HTTPS connection (1): www.thenorthfacekorea.co.kr:443\n",
      "2023-12-08 09:34:57 [urllib3.connectionpool] DEBUG: https://www.thenorthfacekorea.co.kr:443 \"GET /product/NC1DP79A/review/list?page=3&pageSize=10&_sort=displayPriority-auditable.dateCreated&_type_sort=asc-desc&productId=4000034187 HTTP/1.1\" 200 None\n",
      "2023-12-08 09:34:57 [urllib3.connectionpool] DEBUG: Starting new HTTPS connection (1): www.thenorthfacekorea.co.kr:443\n",
      "2023-12-08 09:34:59 [urllib3.connectionpool] DEBUG: https://www.thenorthfacekorea.co.kr:443 \"GET /product/NC1DP79A/review/list?page=4&pageSize=10&_sort=displayPriority-auditable.dateCreated&_type_sort=asc-desc&productId=4000034187 HTTP/1.1\" 200 None\n",
      "2023-12-08 09:35:00 [urllib3.connectionpool] DEBUG: Starting new HTTPS connection (1): www.thenorthfacekorea.co.kr:443\n",
      "2023-12-08 09:35:01 [urllib3.connectionpool] DEBUG: https://www.thenorthfacekorea.co.kr:443 \"GET /product/NC1DP79A/review/list?page=5&pageSize=10&_sort=displayPriority-auditable.dateCreated&_type_sort=asc-desc&productId=4000034187 HTTP/1.1\" 200 None\n",
      "2023-12-08 09:35:02 [urllib3.connectionpool] DEBUG: Starting new HTTPS connection (1): www.thenorthfacekorea.co.kr:443\n",
      "2023-12-08 09:35:03 [urllib3.connectionpool] DEBUG: https://www.thenorthfacekorea.co.kr:443 \"GET /product/NC1DP79A/review/list?page=6&pageSize=10&_sort=displayPriority-auditable.dateCreated&_type_sort=asc-desc&productId=4000034187 HTTP/1.1\" 200 None\n",
      "2023-12-08 09:35:04 [urllib3.connectionpool] DEBUG: Starting new HTTPS connection (1): www.thenorthfacekorea.co.kr:443\n",
      "2023-12-08 09:35:06 [urllib3.connectionpool] DEBUG: https://www.thenorthfacekorea.co.kr:443 \"GET /product/NC1DP79A/review/list?page=7&pageSize=10&_sort=displayPriority-auditable.dateCreated&_type_sort=asc-desc&productId=4000034187 HTTP/1.1\" 200 None\n",
      "2023-12-08 09:35:06 [urllib3.connectionpool] DEBUG: Starting new HTTPS connection (1): www.thenorthfacekorea.co.kr:443\n",
      "2023-12-08 09:35:08 [urllib3.connectionpool] DEBUG: https://www.thenorthfacekorea.co.kr:443 \"GET /product/NC1DP79A/review/list?page=8&pageSize=10&_sort=displayPriority-auditable.dateCreated&_type_sort=asc-desc&productId=4000034187 HTTP/1.1\" 200 None\n",
      "2023-12-08 09:35:08 [urllib3.connectionpool] DEBUG: Starting new HTTPS connection (1): www.thenorthfacekorea.co.kr:443\n",
      "2023-12-08 09:35:10 [urllib3.connectionpool] DEBUG: https://www.thenorthfacekorea.co.kr:443 \"GET /product/NC1DP79A/review/list?page=9&pageSize=10&_sort=displayPriority-auditable.dateCreated&_type_sort=asc-desc&productId=4000034187 HTTP/1.1\" 200 None\n",
      "2023-12-08 09:35:10 [urllib3.connectionpool] DEBUG: Starting new HTTPS connection (1): www.thenorthfacekorea.co.kr:443\n",
      "2023-12-08 09:35:12 [urllib3.connectionpool] DEBUG: https://www.thenorthfacekorea.co.kr:443 \"GET /product/NC1DP79A/review/list?page=10&pageSize=10&_sort=displayPriority-auditable.dateCreated&_type_sort=asc-desc&productId=4000034187 HTTP/1.1\" 200 None\n",
      "2023-12-08 09:35:12 [urllib3.connectionpool] DEBUG: Starting new HTTPS connection (1): www.thenorthfacekorea.co.kr:443\n"
     ]
    },
    {
     "name": "stdout",
     "output_type": "stream",
     "text": [
      "No data found on page 10. Stopping crawling.\n"
     ]
    },
    {
     "name": "stderr",
     "output_type": "stream",
     "text": [
      "2023-12-08 09:35:14 [urllib3.connectionpool] DEBUG: https://www.thenorthfacekorea.co.kr:443 \"GET /product/NJ1DP69A/review/list?page=1&pageSize=10&_sort=displayPriority-auditable.dateCreated&_type_sort=asc-desc&productId=4000035942 HTTP/1.1\" 200 None\n",
      "2023-12-08 09:35:15 [urllib3.connectionpool] DEBUG: Starting new HTTPS connection (1): www.thenorthfacekorea.co.kr:443\n",
      "2023-12-08 09:35:17 [urllib3.connectionpool] DEBUG: https://www.thenorthfacekorea.co.kr:443 \"GET /product/NJ1DP69A/review/list?page=2&pageSize=10&_sort=displayPriority-auditable.dateCreated&_type_sort=asc-desc&productId=4000035942 HTTP/1.1\" 200 None\n",
      "2023-12-08 09:35:17 [urllib3.connectionpool] DEBUG: Starting new HTTPS connection (1): www.thenorthfacekorea.co.kr:443\n",
      "2023-12-08 09:35:19 [urllib3.connectionpool] DEBUG: https://www.thenorthfacekorea.co.kr:443 \"GET /product/NJ1DP69A/review/list?page=3&pageSize=10&_sort=displayPriority-auditable.dateCreated&_type_sort=asc-desc&productId=4000035942 HTTP/1.1\" 200 None\n",
      "2023-12-08 09:35:19 [urllib3.connectionpool] DEBUG: Starting new HTTPS connection (1): www.thenorthfacekorea.co.kr:443\n",
      "2023-12-08 09:35:21 [urllib3.connectionpool] DEBUG: https://www.thenorthfacekorea.co.kr:443 \"GET /product/NJ1DP69A/review/list?page=4&pageSize=10&_sort=displayPriority-auditable.dateCreated&_type_sort=asc-desc&productId=4000035942 HTTP/1.1\" 200 None\n",
      "2023-12-08 09:35:21 [urllib3.connectionpool] DEBUG: Starting new HTTPS connection (1): www.thenorthfacekorea.co.kr:443\n",
      "2023-12-08 09:35:23 [urllib3.connectionpool] DEBUG: https://www.thenorthfacekorea.co.kr:443 \"GET /product/NJ1DP69A/review/list?page=5&pageSize=10&_sort=displayPriority-auditable.dateCreated&_type_sort=asc-desc&productId=4000035942 HTTP/1.1\" 200 None\n",
      "2023-12-08 09:35:23 [urllib3.connectionpool] DEBUG: Starting new HTTPS connection (1): www.thenorthfacekorea.co.kr:443\n",
      "2023-12-08 09:35:25 [urllib3.connectionpool] DEBUG: https://www.thenorthfacekorea.co.kr:443 \"GET /product/NJ1DP69A/review/list?page=6&pageSize=10&_sort=displayPriority-auditable.dateCreated&_type_sort=asc-desc&productId=4000035942 HTTP/1.1\" 200 None\n",
      "2023-12-08 09:35:25 [urllib3.connectionpool] DEBUG: Starting new HTTPS connection (1): www.thenorthfacekorea.co.kr:443\n",
      "2023-12-08 09:35:28 [urllib3.connectionpool] DEBUG: https://www.thenorthfacekorea.co.kr:443 \"GET /product/NJ1DP69A/review/list?page=7&pageSize=10&_sort=displayPriority-auditable.dateCreated&_type_sort=asc-desc&productId=4000035942 HTTP/1.1\" 200 None\n",
      "2023-12-08 09:35:28 [urllib3.connectionpool] DEBUG: Starting new HTTPS connection (1): www.thenorthfacekorea.co.kr:443\n"
     ]
    },
    {
     "name": "stdout",
     "output_type": "stream",
     "text": [
      "No data found on page 7. Stopping crawling.\n"
     ]
    },
    {
     "name": "stderr",
     "output_type": "stream",
     "text": [
      "2023-12-08 09:35:30 [urllib3.connectionpool] DEBUG: https://www.thenorthfacekorea.co.kr:443 \"GET /product/NV3NP55A/review/list?page=1&pageSize=10&_sort=displayPriority-auditable.dateCreated&_type_sort=asc-desc&productId=4000034489 HTTP/1.1\" 200 None\n",
      "2023-12-08 09:35:30 [urllib3.connectionpool] DEBUG: Starting new HTTPS connection (1): www.thenorthfacekorea.co.kr:443\n",
      "2023-12-08 09:35:32 [urllib3.connectionpool] DEBUG: https://www.thenorthfacekorea.co.kr:443 \"GET /product/NV3NP55A/review/list?page=2&pageSize=10&_sort=displayPriority-auditable.dateCreated&_type_sort=asc-desc&productId=4000034489 HTTP/1.1\" 200 None\n",
      "2023-12-08 09:35:33 [urllib3.connectionpool] DEBUG: Starting new HTTPS connection (1): www.thenorthfacekorea.co.kr:443\n",
      "2023-12-08 09:35:35 [urllib3.connectionpool] DEBUG: https://www.thenorthfacekorea.co.kr:443 \"GET /product/NV3NP55A/review/list?page=3&pageSize=10&_sort=displayPriority-auditable.dateCreated&_type_sort=asc-desc&productId=4000034489 HTTP/1.1\" 200 None\n",
      "2023-12-08 09:35:35 [urllib3.connectionpool] DEBUG: Starting new HTTPS connection (1): www.thenorthfacekorea.co.kr:443\n",
      "2023-12-08 09:35:37 [urllib3.connectionpool] DEBUG: https://www.thenorthfacekorea.co.kr:443 \"GET /product/NV3NP55A/review/list?page=4&pageSize=10&_sort=displayPriority-auditable.dateCreated&_type_sort=asc-desc&productId=4000034489 HTTP/1.1\" 200 None\n",
      "2023-12-08 09:35:37 [urllib3.connectionpool] DEBUG: Starting new HTTPS connection (1): www.thenorthfacekorea.co.kr:443\n",
      "2023-12-08 09:35:39 [urllib3.connectionpool] DEBUG: https://www.thenorthfacekorea.co.kr:443 \"GET /product/NV3NP55A/review/list?page=5&pageSize=10&_sort=displayPriority-auditable.dateCreated&_type_sort=asc-desc&productId=4000034489 HTTP/1.1\" 200 None\n",
      "2023-12-08 09:35:39 [urllib3.connectionpool] DEBUG: Starting new HTTPS connection (1): www.thenorthfacekorea.co.kr:443\n",
      "2023-12-08 09:35:41 [urllib3.connectionpool] DEBUG: https://www.thenorthfacekorea.co.kr:443 \"GET /product/NV3NP55A/review/list?page=6&pageSize=10&_sort=displayPriority-auditable.dateCreated&_type_sort=asc-desc&productId=4000034489 HTTP/1.1\" 200 None\n",
      "2023-12-08 09:35:41 [urllib3.connectionpool] DEBUG: Starting new HTTPS connection (1): www.thenorthfacekorea.co.kr:443\n"
     ]
    },
    {
     "name": "stdout",
     "output_type": "stream",
     "text": [
      "No data found on page 6. Stopping crawling.\n"
     ]
    },
    {
     "name": "stderr",
     "output_type": "stream",
     "text": [
      "2023-12-08 09:35:43 [urllib3.connectionpool] DEBUG: https://www.thenorthfacekorea.co.kr:443 \"GET /product/NJ1DN51K/review/list?page=1&pageSize=10&_sort=displayPriority-auditable.dateCreated&_type_sort=asc-desc&productId=4000028465 HTTP/1.1\" 200 None\n",
      "2023-12-08 09:35:43 [urllib3.connectionpool] DEBUG: Starting new HTTPS connection (1): www.thenorthfacekorea.co.kr:443\n",
      "2023-12-08 09:35:45 [urllib3.connectionpool] DEBUG: https://www.thenorthfacekorea.co.kr:443 \"GET /product/NJ1DN51K/review/list?page=2&pageSize=10&_sort=displayPriority-auditable.dateCreated&_type_sort=asc-desc&productId=4000028465 HTTP/1.1\" 200 None\n",
      "2023-12-08 09:35:45 [urllib3.connectionpool] DEBUG: Starting new HTTPS connection (1): www.thenorthfacekorea.co.kr:443\n",
      "2023-12-08 09:35:47 [urllib3.connectionpool] DEBUG: https://www.thenorthfacekorea.co.kr:443 \"GET /product/NJ1DN51K/review/list?page=3&pageSize=10&_sort=displayPriority-auditable.dateCreated&_type_sort=asc-desc&productId=4000028465 HTTP/1.1\" 200 None\n",
      "2023-12-08 09:35:48 [urllib3.connectionpool] DEBUG: Starting new HTTPS connection (1): www.thenorthfacekorea.co.kr:443\n",
      "2023-12-08 09:35:49 [urllib3.connectionpool] DEBUG: https://www.thenorthfacekorea.co.kr:443 \"GET /product/NJ1DN51K/review/list?page=4&pageSize=10&_sort=displayPriority-auditable.dateCreated&_type_sort=asc-desc&productId=4000028465 HTTP/1.1\" 200 None\n",
      "2023-12-08 09:35:50 [urllib3.connectionpool] DEBUG: Starting new HTTPS connection (1): www.thenorthfacekorea.co.kr:443\n",
      "2023-12-08 09:35:51 [urllib3.connectionpool] DEBUG: https://www.thenorthfacekorea.co.kr:443 \"GET /product/NJ1DN51K/review/list?page=5&pageSize=10&_sort=displayPriority-auditable.dateCreated&_type_sort=asc-desc&productId=4000028465 HTTP/1.1\" 200 None\n",
      "2023-12-08 09:35:52 [urllib3.connectionpool] DEBUG: Starting new HTTPS connection (1): www.thenorthfacekorea.co.kr:443\n"
     ]
    },
    {
     "name": "stdout",
     "output_type": "stream",
     "text": [
      "No data found on page 5. Stopping crawling.\n"
     ]
    },
    {
     "name": "stderr",
     "output_type": "stream",
     "text": [
      "2023-12-08 09:35:53 [urllib3.connectionpool] DEBUG: https://www.thenorthfacekorea.co.kr:443 \"GET /product/NJ1DN51Q/review/list?page=1&pageSize=10&_sort=displayPriority-auditable.dateCreated&_type_sort=asc-desc&productId=4000028470 HTTP/1.1\" 200 None\n",
      "2023-12-08 09:35:54 [urllib3.connectionpool] DEBUG: Starting new HTTPS connection (1): www.thenorthfacekorea.co.kr:443\n",
      "2023-12-08 09:35:56 [urllib3.connectionpool] DEBUG: https://www.thenorthfacekorea.co.kr:443 \"GET /product/NJ1DN51Q/review/list?page=2&pageSize=10&_sort=displayPriority-auditable.dateCreated&_type_sort=asc-desc&productId=4000028470 HTTP/1.1\" 200 None\n",
      "2023-12-08 09:35:56 [urllib3.connectionpool] DEBUG: Starting new HTTPS connection (1): www.thenorthfacekorea.co.kr:443\n",
      "2023-12-08 09:35:58 [urllib3.connectionpool] DEBUG: https://www.thenorthfacekorea.co.kr:443 \"GET /product/NJ1DN51Q/review/list?page=3&pageSize=10&_sort=displayPriority-auditable.dateCreated&_type_sort=asc-desc&productId=4000028470 HTTP/1.1\" 200 None\n",
      "2023-12-08 09:35:58 [urllib3.connectionpool] DEBUG: Starting new HTTPS connection (1): www.thenorthfacekorea.co.kr:443\n",
      "2023-12-08 09:36:00 [urllib3.connectionpool] DEBUG: https://www.thenorthfacekorea.co.kr:443 \"GET /product/NJ1DN51Q/review/list?page=4&pageSize=10&_sort=displayPriority-auditable.dateCreated&_type_sort=asc-desc&productId=4000028470 HTTP/1.1\" 200 None\n",
      "2023-12-08 09:36:00 [urllib3.connectionpool] DEBUG: Starting new HTTPS connection (1): www.thenorthfacekorea.co.kr:443\n",
      "2023-12-08 09:36:02 [urllib3.connectionpool] DEBUG: https://www.thenorthfacekorea.co.kr:443 \"GET /product/NJ1DN51Q/review/list?page=5&pageSize=10&_sort=displayPriority-auditable.dateCreated&_type_sort=asc-desc&productId=4000028470 HTTP/1.1\" 200 None\n",
      "2023-12-08 09:36:02 [urllib3.connectionpool] DEBUG: Starting new HTTPS connection (1): www.thenorthfacekorea.co.kr:443\n"
     ]
    },
    {
     "name": "stdout",
     "output_type": "stream",
     "text": [
      "No data found on page 5. Stopping crawling.\n"
     ]
    },
    {
     "name": "stderr",
     "output_type": "stream",
     "text": [
      "2023-12-08 09:36:04 [urllib3.connectionpool] DEBUG: https://www.thenorthfacekorea.co.kr:443 \"GET /product/NJ1DP81A/review/list?page=1&pageSize=10&_sort=displayPriority-auditable.dateCreated&_type_sort=asc-desc&productId=4000034606 HTTP/1.1\" 200 None\n",
      "2023-12-08 09:36:05 [urllib3.connectionpool] DEBUG: Starting new HTTPS connection (1): www.thenorthfacekorea.co.kr:443\n",
      "2023-12-08 09:36:06 [urllib3.connectionpool] DEBUG: https://www.thenorthfacekorea.co.kr:443 \"GET /product/NJ1DP81A/review/list?page=2&pageSize=10&_sort=displayPriority-auditable.dateCreated&_type_sort=asc-desc&productId=4000034606 HTTP/1.1\" 200 None\n",
      "2023-12-08 09:36:07 [urllib3.connectionpool] DEBUG: Starting new HTTPS connection (1): www.thenorthfacekorea.co.kr:443\n",
      "2023-12-08 09:36:08 [urllib3.connectionpool] DEBUG: https://www.thenorthfacekorea.co.kr:443 \"GET /product/NJ1DP81A/review/list?page=3&pageSize=10&_sort=displayPriority-auditable.dateCreated&_type_sort=asc-desc&productId=4000034606 HTTP/1.1\" 200 None\n",
      "2023-12-08 09:36:09 [urllib3.connectionpool] DEBUG: Starting new HTTPS connection (1): www.thenorthfacekorea.co.kr:443\n",
      "2023-12-08 09:36:10 [urllib3.connectionpool] DEBUG: https://www.thenorthfacekorea.co.kr:443 \"GET /product/NJ1DP81A/review/list?page=4&pageSize=10&_sort=displayPriority-auditable.dateCreated&_type_sort=asc-desc&productId=4000034606 HTTP/1.1\" 200 None\n",
      "2023-12-08 09:36:11 [urllib3.connectionpool] DEBUG: Starting new HTTPS connection (1): www.thenorthfacekorea.co.kr:443\n",
      "2023-12-08 09:36:13 [urllib3.connectionpool] DEBUG: https://www.thenorthfacekorea.co.kr:443 \"GET /product/NJ1DP81A/review/list?page=5&pageSize=10&_sort=displayPriority-auditable.dateCreated&_type_sort=asc-desc&productId=4000034606 HTTP/1.1\" 200 None\n",
      "2023-12-08 09:36:13 [urllib3.connectionpool] DEBUG: Starting new HTTPS connection (1): www.thenorthfacekorea.co.kr:443\n",
      "2023-12-08 09:36:15 [urllib3.connectionpool] DEBUG: https://www.thenorthfacekorea.co.kr:443 \"GET /product/NJ1DP81A/review/list?page=6&pageSize=10&_sort=displayPriority-auditable.dateCreated&_type_sort=asc-desc&productId=4000034606 HTTP/1.1\" 200 None\n",
      "2023-12-08 09:36:15 [urllib3.connectionpool] DEBUG: Starting new HTTPS connection (1): www.thenorthfacekorea.co.kr:443\n"
     ]
    },
    {
     "name": "stdout",
     "output_type": "stream",
     "text": [
      "No data found on page 6. Stopping crawling.\n"
     ]
    },
    {
     "name": "stderr",
     "output_type": "stream",
     "text": [
      "2023-12-08 09:36:17 [urllib3.connectionpool] DEBUG: https://www.thenorthfacekorea.co.kr:443 \"GET /product/NJ1DP85A/review/list?page=1&pageSize=10&_sort=displayPriority-auditable.dateCreated&_type_sort=asc-desc&productId=4000034623 HTTP/1.1\" 200 None\n",
      "2023-12-08 09:36:17 [urllib3.connectionpool] DEBUG: Starting new HTTPS connection (1): www.thenorthfacekorea.co.kr:443\n",
      "2023-12-08 09:36:19 [urllib3.connectionpool] DEBUG: https://www.thenorthfacekorea.co.kr:443 \"GET /product/NJ1DP85A/review/list?page=2&pageSize=10&_sort=displayPriority-auditable.dateCreated&_type_sort=asc-desc&productId=4000034623 HTTP/1.1\" 200 None\n",
      "2023-12-08 09:36:20 [urllib3.connectionpool] DEBUG: Starting new HTTPS connection (1): www.thenorthfacekorea.co.kr:443\n",
      "2023-12-08 09:36:21 [urllib3.connectionpool] DEBUG: https://www.thenorthfacekorea.co.kr:443 \"GET /product/NJ1DP85A/review/list?page=3&pageSize=10&_sort=displayPriority-auditable.dateCreated&_type_sort=asc-desc&productId=4000034623 HTTP/1.1\" 200 None\n",
      "2023-12-08 09:36:21 [urllib3.connectionpool] DEBUG: Starting new HTTPS connection (1): www.thenorthfacekorea.co.kr:443\n",
      "2023-12-08 09:36:23 [urllib3.connectionpool] DEBUG: https://www.thenorthfacekorea.co.kr:443 \"GET /product/NJ1DP85A/review/list?page=4&pageSize=10&_sort=displayPriority-auditable.dateCreated&_type_sort=asc-desc&productId=4000034623 HTTP/1.1\" 200 None\n",
      "2023-12-08 09:36:23 [urllib3.connectionpool] DEBUG: Starting new HTTPS connection (1): www.thenorthfacekorea.co.kr:443\n",
      "2023-12-08 09:36:25 [urllib3.connectionpool] DEBUG: https://www.thenorthfacekorea.co.kr:443 \"GET /product/NJ1DP85A/review/list?page=5&pageSize=10&_sort=displayPriority-auditable.dateCreated&_type_sort=asc-desc&productId=4000034623 HTTP/1.1\" 200 None\n",
      "2023-12-08 09:36:25 [urllib3.connectionpool] DEBUG: Starting new HTTPS connection (1): www.thenorthfacekorea.co.kr:443\n"
     ]
    },
    {
     "name": "stdout",
     "output_type": "stream",
     "text": [
      "No data found on page 5. Stopping crawling.\n"
     ]
    },
    {
     "name": "stderr",
     "output_type": "stream",
     "text": [
      "2023-12-08 09:36:27 [urllib3.connectionpool] DEBUG: https://www.thenorthfacekorea.co.kr:443 \"GET /product/NJ2DN50A/review/list?page=1&pageSize=10&_sort=displayPriority-auditable.dateCreated&_type_sort=asc-desc&productId=4000028245 HTTP/1.1\" 200 None\n",
      "2023-12-08 09:36:27 [urllib3.connectionpool] DEBUG: Starting new HTTPS connection (1): www.thenorthfacekorea.co.kr:443\n",
      "2023-12-08 09:36:29 [urllib3.connectionpool] DEBUG: https://www.thenorthfacekorea.co.kr:443 \"GET /product/NJ2DN50A/review/list?page=2&pageSize=10&_sort=displayPriority-auditable.dateCreated&_type_sort=asc-desc&productId=4000028245 HTTP/1.1\" 200 None\n",
      "2023-12-08 09:36:30 [urllib3.connectionpool] DEBUG: Starting new HTTPS connection (1): www.thenorthfacekorea.co.kr:443\n",
      "2023-12-08 09:36:31 [urllib3.connectionpool] DEBUG: https://www.thenorthfacekorea.co.kr:443 \"GET /product/NJ2DN50A/review/list?page=3&pageSize=10&_sort=displayPriority-auditable.dateCreated&_type_sort=asc-desc&productId=4000028245 HTTP/1.1\" 200 None\n",
      "2023-12-08 09:36:32 [urllib3.connectionpool] DEBUG: Starting new HTTPS connection (1): www.thenorthfacekorea.co.kr:443\n",
      "2023-12-08 09:36:33 [urllib3.connectionpool] DEBUG: https://www.thenorthfacekorea.co.kr:443 \"GET /product/NJ2DN50A/review/list?page=4&pageSize=10&_sort=displayPriority-auditable.dateCreated&_type_sort=asc-desc&productId=4000028245 HTTP/1.1\" 200 None\n",
      "2023-12-08 09:36:34 [urllib3.connectionpool] DEBUG: Starting new HTTPS connection (1): www.thenorthfacekorea.co.kr:443\n",
      "2023-12-08 09:36:36 [urllib3.connectionpool] DEBUG: https://www.thenorthfacekorea.co.kr:443 \"GET /product/NJ2DN50A/review/list?page=5&pageSize=10&_sort=displayPriority-auditable.dateCreated&_type_sort=asc-desc&productId=4000028245 HTTP/1.1\" 200 None\n",
      "2023-12-08 09:36:37 [urllib3.connectionpool] DEBUG: Starting new HTTPS connection (1): www.thenorthfacekorea.co.kr:443\n"
     ]
    },
    {
     "name": "stdout",
     "output_type": "stream",
     "text": [
      "No data found on page 5. Stopping crawling.\n"
     ]
    },
    {
     "name": "stderr",
     "output_type": "stream",
     "text": [
      "2023-12-08 09:36:38 [urllib3.connectionpool] DEBUG: https://www.thenorthfacekorea.co.kr:443 \"GET /product/NJ3NP55A/review/list?page=1&pageSize=10&_sort=displayPriority-auditable.dateCreated&_type_sort=asc-desc&productId=4000034408 HTTP/1.1\" 200 None\n",
      "2023-12-08 09:36:39 [urllib3.connectionpool] DEBUG: Starting new HTTPS connection (1): www.thenorthfacekorea.co.kr:443\n",
      "2023-12-08 09:36:40 [urllib3.connectionpool] DEBUG: https://www.thenorthfacekorea.co.kr:443 \"GET /product/NJ3NP55A/review/list?page=2&pageSize=10&_sort=displayPriority-auditable.dateCreated&_type_sort=asc-desc&productId=4000034408 HTTP/1.1\" 200 None\n",
      "2023-12-08 09:36:41 [urllib3.connectionpool] DEBUG: Starting new HTTPS connection (1): www.thenorthfacekorea.co.kr:443\n",
      "2023-12-08 09:36:43 [urllib3.connectionpool] DEBUG: https://www.thenorthfacekorea.co.kr:443 \"GET /product/NJ3NP55A/review/list?page=3&pageSize=10&_sort=displayPriority-auditable.dateCreated&_type_sort=asc-desc&productId=4000034408 HTTP/1.1\" 200 None\n",
      "2023-12-08 09:36:43 [urllib3.connectionpool] DEBUG: Starting new HTTPS connection (1): www.thenorthfacekorea.co.kr:443\n",
      "2023-12-08 09:36:45 [urllib3.connectionpool] DEBUG: https://www.thenorthfacekorea.co.kr:443 \"GET /product/NJ3NP55A/review/list?page=4&pageSize=10&_sort=displayPriority-auditable.dateCreated&_type_sort=asc-desc&productId=4000034408 HTTP/1.1\" 200 None\n",
      "2023-12-08 09:36:45 [urllib3.connectionpool] DEBUG: Starting new HTTPS connection (1): www.thenorthfacekorea.co.kr:443\n",
      "2023-12-08 09:36:47 [urllib3.connectionpool] DEBUG: https://www.thenorthfacekorea.co.kr:443 \"GET /product/NJ3NP55A/review/list?page=5&pageSize=10&_sort=displayPriority-auditable.dateCreated&_type_sort=asc-desc&productId=4000034408 HTTP/1.1\" 200 None\n",
      "2023-12-08 09:36:47 [urllib3.connectionpool] DEBUG: Starting new HTTPS connection (1): www.thenorthfacekorea.co.kr:443\n"
     ]
    },
    {
     "name": "stdout",
     "output_type": "stream",
     "text": [
      "No data found on page 5. Stopping crawling.\n"
     ]
    },
    {
     "name": "stderr",
     "output_type": "stream",
     "text": [
      "2023-12-08 09:36:49 [urllib3.connectionpool] DEBUG: https://www.thenorthfacekorea.co.kr:443 \"GET /product/NJ3NP50A/review/list?page=1&pageSize=10&_sort=displayPriority-auditable.dateCreated&_type_sort=asc-desc&productId=4000034415 HTTP/1.1\" 200 None\n",
      "2023-12-08 09:36:49 [urllib3.connectionpool] DEBUG: Starting new HTTPS connection (1): www.thenorthfacekorea.co.kr:443\n",
      "2023-12-08 09:36:51 [urllib3.connectionpool] DEBUG: https://www.thenorthfacekorea.co.kr:443 \"GET /product/NJ3NP50A/review/list?page=2&pageSize=10&_sort=displayPriority-auditable.dateCreated&_type_sort=asc-desc&productId=4000034415 HTTP/1.1\" 200 None\n",
      "2023-12-08 09:36:52 [urllib3.connectionpool] DEBUG: Starting new HTTPS connection (1): www.thenorthfacekorea.co.kr:443\n",
      "2023-12-08 09:36:54 [urllib3.connectionpool] DEBUG: https://www.thenorthfacekorea.co.kr:443 \"GET /product/NJ3NP50A/review/list?page=3&pageSize=10&_sort=displayPriority-auditable.dateCreated&_type_sort=asc-desc&productId=4000034415 HTTP/1.1\" 200 None\n",
      "2023-12-08 09:36:54 [urllib3.connectionpool] DEBUG: Starting new HTTPS connection (1): www.thenorthfacekorea.co.kr:443\n",
      "2023-12-08 09:36:56 [urllib3.connectionpool] DEBUG: https://www.thenorthfacekorea.co.kr:443 \"GET /product/NJ3NP50A/review/list?page=4&pageSize=10&_sort=displayPriority-auditable.dateCreated&_type_sort=asc-desc&productId=4000034415 HTTP/1.1\" 200 None\n",
      "2023-12-08 09:36:56 [urllib3.connectionpool] DEBUG: Starting new HTTPS connection (1): www.thenorthfacekorea.co.kr:443\n",
      "2023-12-08 09:36:58 [urllib3.connectionpool] DEBUG: https://www.thenorthfacekorea.co.kr:443 \"GET /product/NJ3NP50A/review/list?page=5&pageSize=10&_sort=displayPriority-auditable.dateCreated&_type_sort=asc-desc&productId=4000034415 HTTP/1.1\" 200 None\n",
      "2023-12-08 09:36:58 [urllib3.connectionpool] DEBUG: Starting new HTTPS connection (1): www.thenorthfacekorea.co.kr:443\n",
      "2023-12-08 09:36:59 [urllib3.connectionpool] DEBUG: https://www.thenorthfacekorea.co.kr:443 \"GET /product/NJ3NP50A/review/list?page=6&pageSize=10&_sort=displayPriority-auditable.dateCreated&_type_sort=asc-desc&productId=4000034415 HTTP/1.1\" 200 None\n",
      "2023-12-08 09:37:00 [urllib3.connectionpool] DEBUG: Starting new HTTPS connection (1): www.thenorthfacekorea.co.kr:443\n",
      "2023-12-08 09:37:01 [urllib3.connectionpool] DEBUG: https://www.thenorthfacekorea.co.kr:443 \"GET /product/NJ3NP50A/review/list?page=7&pageSize=10&_sort=displayPriority-auditable.dateCreated&_type_sort=asc-desc&productId=4000034415 HTTP/1.1\" 200 None\n",
      "2023-12-08 09:37:02 [urllib3.connectionpool] DEBUG: Starting new HTTPS connection (1): www.thenorthfacekorea.co.kr:443\n"
     ]
    },
    {
     "name": "stdout",
     "output_type": "stream",
     "text": [
      "No data found on page 7. Stopping crawling.\n"
     ]
    },
    {
     "name": "stderr",
     "output_type": "stream",
     "text": [
      "2023-12-08 09:37:03 [urllib3.connectionpool] DEBUG: https://www.thenorthfacekorea.co.kr:443 \"GET /product/NJ1DN72A/review/list?page=1&pageSize=10&_sort=displayPriority-auditable.dateCreated&_type_sort=asc-desc&productId=4000029834 HTTP/1.1\" 200 None\n",
      "2023-12-08 09:37:04 [urllib3.connectionpool] DEBUG: Starting new HTTPS connection (1): www.thenorthfacekorea.co.kr:443\n",
      "2023-12-08 09:37:05 [urllib3.connectionpool] DEBUG: https://www.thenorthfacekorea.co.kr:443 \"GET /product/NJ1DN72A/review/list?page=2&pageSize=10&_sort=displayPriority-auditable.dateCreated&_type_sort=asc-desc&productId=4000029834 HTTP/1.1\" 200 None\n",
      "2023-12-08 09:37:06 [urllib3.connectionpool] DEBUG: Starting new HTTPS connection (1): www.thenorthfacekorea.co.kr:443\n",
      "2023-12-08 09:37:07 [urllib3.connectionpool] DEBUG: https://www.thenorthfacekorea.co.kr:443 \"GET /product/NJ1DN72A/review/list?page=3&pageSize=10&_sort=displayPriority-auditable.dateCreated&_type_sort=asc-desc&productId=4000029834 HTTP/1.1\" 200 None\n",
      "2023-12-08 09:37:08 [urllib3.connectionpool] DEBUG: Starting new HTTPS connection (1): www.thenorthfacekorea.co.kr:443\n",
      "2023-12-08 09:37:10 [urllib3.connectionpool] DEBUG: https://www.thenorthfacekorea.co.kr:443 \"GET /product/NJ1DN72A/review/list?page=4&pageSize=10&_sort=displayPriority-auditable.dateCreated&_type_sort=asc-desc&productId=4000029834 HTTP/1.1\" 200 None\n",
      "2023-12-08 09:37:10 [urllib3.connectionpool] DEBUG: Starting new HTTPS connection (1): www.thenorthfacekorea.co.kr:443\n",
      "2023-12-08 09:37:12 [urllib3.connectionpool] DEBUG: https://www.thenorthfacekorea.co.kr:443 \"GET /product/NJ1DN72A/review/list?page=5&pageSize=10&_sort=displayPriority-auditable.dateCreated&_type_sort=asc-desc&productId=4000029834 HTTP/1.1\" 200 None\n",
      "2023-12-08 09:37:12 [urllib3.connectionpool] DEBUG: Starting new HTTPS connection (1): www.thenorthfacekorea.co.kr:443\n"
     ]
    },
    {
     "name": "stdout",
     "output_type": "stream",
     "text": [
      "No data found on page 5. Stopping crawling.\n"
     ]
    },
    {
     "name": "stderr",
     "output_type": "stream",
     "text": [
      "2023-12-08 09:37:14 [urllib3.connectionpool] DEBUG: https://www.thenorthfacekorea.co.kr:443 \"GET /product/NJ1DN58A/review/list?page=1&pageSize=10&_sort=displayPriority-auditable.dateCreated&_type_sort=asc-desc&productId=4000029570 HTTP/1.1\" 200 None\n",
      "2023-12-08 09:37:14 [urllib3.connectionpool] DEBUG: Starting new HTTPS connection (1): www.thenorthfacekorea.co.kr:443\n",
      "2023-12-08 09:37:16 [urllib3.connectionpool] DEBUG: https://www.thenorthfacekorea.co.kr:443 \"GET /product/NJ1DN58A/review/list?page=2&pageSize=10&_sort=displayPriority-auditable.dateCreated&_type_sort=asc-desc&productId=4000029570 HTTP/1.1\" 200 None\n",
      "2023-12-08 09:37:17 [urllib3.connectionpool] DEBUG: Starting new HTTPS connection (1): www.thenorthfacekorea.co.kr:443\n",
      "2023-12-08 09:37:18 [urllib3.connectionpool] DEBUG: https://www.thenorthfacekorea.co.kr:443 \"GET /product/NJ1DN58A/review/list?page=3&pageSize=10&_sort=displayPriority-auditable.dateCreated&_type_sort=asc-desc&productId=4000029570 HTTP/1.1\" 200 None\n",
      "2023-12-08 09:37:19 [urllib3.connectionpool] DEBUG: Starting new HTTPS connection (1): www.thenorthfacekorea.co.kr:443\n",
      "2023-12-08 09:37:20 [urllib3.connectionpool] DEBUG: https://www.thenorthfacekorea.co.kr:443 \"GET /product/NJ1DN58A/review/list?page=4&pageSize=10&_sort=displayPriority-auditable.dateCreated&_type_sort=asc-desc&productId=4000029570 HTTP/1.1\" 200 None\n",
      "2023-12-08 09:37:21 [urllib3.connectionpool] DEBUG: Starting new HTTPS connection (1): www.thenorthfacekorea.co.kr:443\n"
     ]
    },
    {
     "name": "stdout",
     "output_type": "stream",
     "text": [
      "No data found on page 4. Stopping crawling.\n"
     ]
    },
    {
     "name": "stderr",
     "output_type": "stream",
     "text": [
      "2023-12-08 09:37:22 [urllib3.connectionpool] DEBUG: https://www.thenorthfacekorea.co.kr:443 \"GET /product/NJ1DP84J/review/list?page=1&pageSize=10&_sort=displayPriority-auditable.dateCreated&_type_sort=asc-desc&productId=4000034619 HTTP/1.1\" 200 None\n",
      "2023-12-08 09:37:23 [urllib3.connectionpool] DEBUG: Starting new HTTPS connection (1): www.thenorthfacekorea.co.kr:443\n",
      "2023-12-08 09:37:25 [urllib3.connectionpool] DEBUG: https://www.thenorthfacekorea.co.kr:443 \"GET /product/NJ1DP84J/review/list?page=2&pageSize=10&_sort=displayPriority-auditable.dateCreated&_type_sort=asc-desc&productId=4000034619 HTTP/1.1\" 200 None\n",
      "2023-12-08 09:37:25 [urllib3.connectionpool] DEBUG: Starting new HTTPS connection (1): www.thenorthfacekorea.co.kr:443\n",
      "2023-12-08 09:37:26 [urllib3.connectionpool] DEBUG: https://www.thenorthfacekorea.co.kr:443 \"GET /product/NJ1DP84J/review/list?page=3&pageSize=10&_sort=displayPriority-auditable.dateCreated&_type_sort=asc-desc&productId=4000034619 HTTP/1.1\" 200 None\n",
      "2023-12-08 09:37:27 [urllib3.connectionpool] DEBUG: Starting new HTTPS connection (1): www.thenorthfacekorea.co.kr:443\n",
      "2023-12-08 09:37:28 [urllib3.connectionpool] DEBUG: https://www.thenorthfacekorea.co.kr:443 \"GET /product/NJ1DP84J/review/list?page=4&pageSize=10&_sort=displayPriority-auditable.dateCreated&_type_sort=asc-desc&productId=4000034619 HTTP/1.1\" 200 None\n",
      "2023-12-08 09:37:29 [urllib3.connectionpool] DEBUG: Starting new HTTPS connection (1): www.thenorthfacekorea.co.kr:443\n"
     ]
    },
    {
     "name": "stdout",
     "output_type": "stream",
     "text": [
      "No data found on page 4. Stopping crawling.\n"
     ]
    },
    {
     "name": "stderr",
     "output_type": "stream",
     "text": [
      "2023-12-08 09:37:31 [urllib3.connectionpool] DEBUG: https://www.thenorthfacekorea.co.kr:443 \"GET /product/NJ1DN81J/review/list?page=1&pageSize=10&_sort=displayPriority-auditable.dateCreated&_type_sort=asc-desc&productId=4000028500 HTTP/1.1\" 200 None\n",
      "2023-12-08 09:37:31 [urllib3.connectionpool] DEBUG: Starting new HTTPS connection (1): www.thenorthfacekorea.co.kr:443\n",
      "2023-12-08 09:37:33 [urllib3.connectionpool] DEBUG: https://www.thenorthfacekorea.co.kr:443 \"GET /product/NJ1DN81J/review/list?page=2&pageSize=10&_sort=displayPriority-auditable.dateCreated&_type_sort=asc-desc&productId=4000028500 HTTP/1.1\" 200 None\n",
      "2023-12-08 09:37:33 [urllib3.connectionpool] DEBUG: Starting new HTTPS connection (1): www.thenorthfacekorea.co.kr:443\n",
      "2023-12-08 09:37:36 [urllib3.connectionpool] DEBUG: https://www.thenorthfacekorea.co.kr:443 \"GET /product/NJ1DN81J/review/list?page=3&pageSize=10&_sort=displayPriority-auditable.dateCreated&_type_sort=asc-desc&productId=4000028500 HTTP/1.1\" 200 None\n",
      "2023-12-08 09:37:37 [urllib3.connectionpool] DEBUG: Starting new HTTPS connection (1): www.thenorthfacekorea.co.kr:443\n",
      "2023-12-08 09:37:39 [urllib3.connectionpool] DEBUG: https://www.thenorthfacekorea.co.kr:443 \"GET /product/NJ1DN81J/review/list?page=4&pageSize=10&_sort=displayPriority-auditable.dateCreated&_type_sort=asc-desc&productId=4000028500 HTTP/1.1\" 200 None\n",
      "2023-12-08 09:37:39 [urllib3.connectionpool] DEBUG: Starting new HTTPS connection (1): www.thenorthfacekorea.co.kr:443\n"
     ]
    },
    {
     "name": "stdout",
     "output_type": "stream",
     "text": [
      "No data found on page 4. Stopping crawling.\n"
     ]
    },
    {
     "name": "stderr",
     "output_type": "stream",
     "text": [
      "2023-12-08 09:37:41 [urllib3.connectionpool] DEBUG: https://www.thenorthfacekorea.co.kr:443 \"GET /product/NC2DP72A/review/list?page=1&pageSize=10&_sort=displayPriority-auditable.dateCreated&_type_sort=asc-desc&productId=4000034198 HTTP/1.1\" 200 None\n",
      "2023-12-08 09:37:42 [urllib3.connectionpool] DEBUG: Starting new HTTPS connection (1): www.thenorthfacekorea.co.kr:443\n",
      "2023-12-08 09:37:44 [urllib3.connectionpool] DEBUG: https://www.thenorthfacekorea.co.kr:443 \"GET /product/NC2DP72A/review/list?page=2&pageSize=10&_sort=displayPriority-auditable.dateCreated&_type_sort=asc-desc&productId=4000034198 HTTP/1.1\" 200 None\n",
      "2023-12-08 09:37:44 [urllib3.connectionpool] DEBUG: Starting new HTTPS connection (1): www.thenorthfacekorea.co.kr:443\n",
      "2023-12-08 09:37:46 [urllib3.connectionpool] DEBUG: https://www.thenorthfacekorea.co.kr:443 \"GET /product/NC2DP72A/review/list?page=3&pageSize=10&_sort=displayPriority-auditable.dateCreated&_type_sort=asc-desc&productId=4000034198 HTTP/1.1\" 200 None\n",
      "2023-12-08 09:37:46 [urllib3.connectionpool] DEBUG: Starting new HTTPS connection (1): www.thenorthfacekorea.co.kr:443\n",
      "2023-12-08 09:37:48 [urllib3.connectionpool] DEBUG: https://www.thenorthfacekorea.co.kr:443 \"GET /product/NC2DP72A/review/list?page=4&pageSize=10&_sort=displayPriority-auditable.dateCreated&_type_sort=asc-desc&productId=4000034198 HTTP/1.1\" 200 None\n",
      "2023-12-08 09:37:48 [urllib3.connectionpool] DEBUG: Starting new HTTPS connection (1): www.thenorthfacekorea.co.kr:443\n"
     ]
    },
    {
     "name": "stdout",
     "output_type": "stream",
     "text": [
      "No data found on page 4. Stopping crawling.\n"
     ]
    },
    {
     "name": "stderr",
     "output_type": "stream",
     "text": [
      "2023-12-08 09:37:50 [urllib3.connectionpool] DEBUG: https://www.thenorthfacekorea.co.kr:443 \"GET /product/NJ1DN79B/review/list?page=1&pageSize=10&_sort=displayPriority-auditable.dateCreated&_type_sort=asc-desc&productId=4000026833 HTTP/1.1\" 200 None\n",
      "2023-12-08 09:37:50 [urllib3.connectionpool] DEBUG: Starting new HTTPS connection (1): www.thenorthfacekorea.co.kr:443\n",
      "2023-12-08 09:37:52 [urllib3.connectionpool] DEBUG: https://www.thenorthfacekorea.co.kr:443 \"GET /product/NJ1DN79B/review/list?page=2&pageSize=10&_sort=displayPriority-auditable.dateCreated&_type_sort=asc-desc&productId=4000026833 HTTP/1.1\" 200 None\n",
      "2023-12-08 09:37:53 [urllib3.connectionpool] DEBUG: Starting new HTTPS connection (1): www.thenorthfacekorea.co.kr:443\n",
      "2023-12-08 09:37:54 [urllib3.connectionpool] DEBUG: https://www.thenorthfacekorea.co.kr:443 \"GET /product/NJ1DN79B/review/list?page=3&pageSize=10&_sort=displayPriority-auditable.dateCreated&_type_sort=asc-desc&productId=4000026833 HTTP/1.1\" 200 None\n",
      "2023-12-08 09:37:55 [urllib3.connectionpool] DEBUG: Starting new HTTPS connection (1): www.thenorthfacekorea.co.kr:443\n",
      "2023-12-08 09:37:57 [urllib3.connectionpool] DEBUG: https://www.thenorthfacekorea.co.kr:443 \"GET /product/NJ1DN79B/review/list?page=4&pageSize=10&_sort=displayPriority-auditable.dateCreated&_type_sort=asc-desc&productId=4000026833 HTTP/1.1\" 200 None\n",
      "2023-12-08 09:37:59 [urllib3.connectionpool] DEBUG: Starting new HTTPS connection (1): www.thenorthfacekorea.co.kr:443\n"
     ]
    },
    {
     "name": "stdout",
     "output_type": "stream",
     "text": [
      "No data found on page 4. Stopping crawling.\n"
     ]
    },
    {
     "name": "stderr",
     "output_type": "stream",
     "text": [
      "2023-12-08 09:38:00 [urllib3.connectionpool] DEBUG: https://www.thenorthfacekorea.co.kr:443 \"GET /product/NV1DP50J/review/list?page=1&pageSize=10&_sort=displayPriority-auditable.dateCreated&_type_sort=asc-desc&productId=4000035339 HTTP/1.1\" 200 None\n",
      "2023-12-08 09:38:01 [urllib3.connectionpool] DEBUG: Starting new HTTPS connection (1): www.thenorthfacekorea.co.kr:443\n",
      "2023-12-08 09:38:02 [urllib3.connectionpool] DEBUG: https://www.thenorthfacekorea.co.kr:443 \"GET /product/NV1DP50J/review/list?page=2&pageSize=10&_sort=displayPriority-auditable.dateCreated&_type_sort=asc-desc&productId=4000035339 HTTP/1.1\" 200 None\n",
      "2023-12-08 09:38:03 [urllib3.connectionpool] DEBUG: Starting new HTTPS connection (1): www.thenorthfacekorea.co.kr:443\n",
      "2023-12-08 09:38:04 [urllib3.connectionpool] DEBUG: https://www.thenorthfacekorea.co.kr:443 \"GET /product/NV1DP50J/review/list?page=3&pageSize=10&_sort=displayPriority-auditable.dateCreated&_type_sort=asc-desc&productId=4000035339 HTTP/1.1\" 200 None\n",
      "2023-12-08 09:38:05 [urllib3.connectionpool] DEBUG: Starting new HTTPS connection (1): www.thenorthfacekorea.co.kr:443\n"
     ]
    },
    {
     "name": "stdout",
     "output_type": "stream",
     "text": [
      "No data found on page 3. Stopping crawling.\n"
     ]
    },
    {
     "name": "stderr",
     "output_type": "stream",
     "text": [
      "2023-12-08 09:38:06 [urllib3.connectionpool] DEBUG: https://www.thenorthfacekorea.co.kr:443 \"GET /product/NJ1DN97A/review/list?page=1&pageSize=10&_sort=displayPriority-auditable.dateCreated&_type_sort=asc-desc&productId=4000029984 HTTP/1.1\" 200 None\n",
      "2023-12-08 09:38:06 [urllib3.connectionpool] DEBUG: Starting new HTTPS connection (1): www.thenorthfacekorea.co.kr:443\n",
      "2023-12-08 09:38:08 [urllib3.connectionpool] DEBUG: https://www.thenorthfacekorea.co.kr:443 \"GET /product/NJ1DN97A/review/list?page=2&pageSize=10&_sort=displayPriority-auditable.dateCreated&_type_sort=asc-desc&productId=4000029984 HTTP/1.1\" 200 None\n",
      "2023-12-08 09:38:08 [urllib3.connectionpool] DEBUG: Starting new HTTPS connection (1): www.thenorthfacekorea.co.kr:443\n",
      "2023-12-08 09:38:10 [urllib3.connectionpool] DEBUG: https://www.thenorthfacekorea.co.kr:443 \"GET /product/NJ1DN97A/review/list?page=3&pageSize=10&_sort=displayPriority-auditable.dateCreated&_type_sort=asc-desc&productId=4000029984 HTTP/1.1\" 200 None\n",
      "2023-12-08 09:38:10 [urllib3.connectionpool] DEBUG: Starting new HTTPS connection (1): www.thenorthfacekorea.co.kr:443\n"
     ]
    },
    {
     "name": "stdout",
     "output_type": "stream",
     "text": [
      "No data found on page 3. Stopping crawling.\n"
     ]
    },
    {
     "name": "stderr",
     "output_type": "stream",
     "text": [
      "2023-12-08 09:38:12 [urllib3.connectionpool] DEBUG: https://www.thenorthfacekorea.co.kr:443 \"GET /product/NJ3NP56J/review/list?page=1&pageSize=10&_sort=displayPriority-auditable.dateCreated&_type_sort=asc-desc&productId=4000034805 HTTP/1.1\" 200 None\n",
      "2023-12-08 09:38:12 [urllib3.connectionpool] DEBUG: Starting new HTTPS connection (1): www.thenorthfacekorea.co.kr:443\n",
      "2023-12-08 09:38:14 [urllib3.connectionpool] DEBUG: https://www.thenorthfacekorea.co.kr:443 \"GET /product/NJ3NP56J/review/list?page=2&pageSize=10&_sort=displayPriority-auditable.dateCreated&_type_sort=asc-desc&productId=4000034805 HTTP/1.1\" 200 None\n",
      "2023-12-08 09:38:15 [urllib3.connectionpool] DEBUG: Starting new HTTPS connection (1): www.thenorthfacekorea.co.kr:443\n",
      "2023-12-08 09:38:16 [urllib3.connectionpool] DEBUG: https://www.thenorthfacekorea.co.kr:443 \"GET /product/NJ3NP56J/review/list?page=3&pageSize=10&_sort=displayPriority-auditable.dateCreated&_type_sort=asc-desc&productId=4000034805 HTTP/1.1\" 200 None\n",
      "2023-12-08 09:38:17 [urllib3.connectionpool] DEBUG: Starting new HTTPS connection (1): www.thenorthfacekorea.co.kr:443\n"
     ]
    },
    {
     "name": "stdout",
     "output_type": "stream",
     "text": [
      "No data found on page 3. Stopping crawling.\n"
     ]
    },
    {
     "name": "stderr",
     "output_type": "stream",
     "text": [
      "2023-12-08 09:38:18 [urllib3.connectionpool] DEBUG: https://www.thenorthfacekorea.co.kr:443 \"GET /product/NV3NN00A/review/list?page=1&pageSize=10&_sort=displayPriority-auditable.dateCreated&_type_sort=asc-desc&productId=4000025688 HTTP/1.1\" 200 None\n",
      "2023-12-08 09:38:19 [urllib3.connectionpool] DEBUG: Starting new HTTPS connection (1): www.thenorthfacekorea.co.kr:443\n",
      "2023-12-08 09:38:20 [urllib3.connectionpool] DEBUG: https://www.thenorthfacekorea.co.kr:443 \"GET /product/NV3NN00A/review/list?page=2&pageSize=10&_sort=displayPriority-auditable.dateCreated&_type_sort=asc-desc&productId=4000025688 HTTP/1.1\" 200 None\n",
      "2023-12-08 09:38:21 [urllib3.connectionpool] DEBUG: Starting new HTTPS connection (1): www.thenorthfacekorea.co.kr:443\n",
      "2023-12-08 09:38:22 [urllib3.connectionpool] DEBUG: https://www.thenorthfacekorea.co.kr:443 \"GET /product/NV3NN00A/review/list?page=3&pageSize=10&_sort=displayPriority-auditable.dateCreated&_type_sort=asc-desc&productId=4000025688 HTTP/1.1\" 200 None\n",
      "2023-12-08 09:38:22 [urllib3.connectionpool] DEBUG: Starting new HTTPS connection (1): www.thenorthfacekorea.co.kr:443\n"
     ]
    },
    {
     "name": "stdout",
     "output_type": "stream",
     "text": [
      "No data found on page 3. Stopping crawling.\n"
     ]
    },
    {
     "name": "stderr",
     "output_type": "stream",
     "text": [
      "2023-12-08 09:38:24 [urllib3.connectionpool] DEBUG: https://www.thenorthfacekorea.co.kr:443 \"GET /product/NJ1DP55B/review/list?page=1&pageSize=10&_sort=displayPriority-auditable.dateCreated&_type_sort=asc-desc&productId=4000033563 HTTP/1.1\" 200 None\n",
      "2023-12-08 09:38:24 [urllib3.connectionpool] DEBUG: Starting new HTTPS connection (1): www.thenorthfacekorea.co.kr:443\n",
      "2023-12-08 09:38:26 [urllib3.connectionpool] DEBUG: https://www.thenorthfacekorea.co.kr:443 \"GET /product/NJ1DP55B/review/list?page=2&pageSize=10&_sort=displayPriority-auditable.dateCreated&_type_sort=asc-desc&productId=4000033563 HTTP/1.1\" 200 None\n",
      "2023-12-08 09:38:26 [urllib3.connectionpool] DEBUG: Starting new HTTPS connection (1): www.thenorthfacekorea.co.kr:443\n",
      "2023-12-08 09:38:28 [urllib3.connectionpool] DEBUG: https://www.thenorthfacekorea.co.kr:443 \"GET /product/NJ1DP55B/review/list?page=3&pageSize=10&_sort=displayPriority-auditable.dateCreated&_type_sort=asc-desc&productId=4000033563 HTTP/1.1\" 200 None\n",
      "2023-12-08 09:38:28 [urllib3.connectionpool] DEBUG: Starting new HTTPS connection (1): www.thenorthfacekorea.co.kr:443\n"
     ]
    },
    {
     "name": "stdout",
     "output_type": "stream",
     "text": [
      "No data found on page 3. Stopping crawling.\n"
     ]
    },
    {
     "name": "stderr",
     "output_type": "stream",
     "text": [
      "2023-12-08 09:38:30 [urllib3.connectionpool] DEBUG: https://www.thenorthfacekorea.co.kr:443 \"GET /product/NJ1DP93A/review/list?page=1&pageSize=10&_sort=displayPriority-auditable.dateCreated&_type_sort=asc-desc&productId=4000034647 HTTP/1.1\" 200 None\n",
      "2023-12-08 09:38:31 [urllib3.connectionpool] DEBUG: Starting new HTTPS connection (1): www.thenorthfacekorea.co.kr:443\n",
      "2023-12-08 09:38:33 [urllib3.connectionpool] DEBUG: https://www.thenorthfacekorea.co.kr:443 \"GET /product/NJ1DP93A/review/list?page=2&pageSize=10&_sort=displayPriority-auditable.dateCreated&_type_sort=asc-desc&productId=4000034647 HTTP/1.1\" 200 None\n",
      "2023-12-08 09:38:33 [urllib3.connectionpool] DEBUG: Starting new HTTPS connection (1): www.thenorthfacekorea.co.kr:443\n",
      "2023-12-08 09:38:35 [urllib3.connectionpool] DEBUG: https://www.thenorthfacekorea.co.kr:443 \"GET /product/NJ1DP93A/review/list?page=3&pageSize=10&_sort=displayPriority-auditable.dateCreated&_type_sort=asc-desc&productId=4000034647 HTTP/1.1\" 200 None\n",
      "2023-12-08 09:38:35 [urllib3.connectionpool] DEBUG: Starting new HTTPS connection (1): www.thenorthfacekorea.co.kr:443\n",
      "2023-12-08 09:38:37 [urllib3.connectionpool] DEBUG: https://www.thenorthfacekorea.co.kr:443 \"GET /product/NJ1DP93A/review/list?page=4&pageSize=10&_sort=displayPriority-auditable.dateCreated&_type_sort=asc-desc&productId=4000034647 HTTP/1.1\" 200 None\n",
      "2023-12-08 09:38:37 [urllib3.connectionpool] DEBUG: Starting new HTTPS connection (1): www.thenorthfacekorea.co.kr:443\n"
     ]
    },
    {
     "name": "stdout",
     "output_type": "stream",
     "text": [
      "No data found on page 4. Stopping crawling.\n"
     ]
    },
    {
     "name": "stderr",
     "output_type": "stream",
     "text": [
      "2023-12-08 09:38:39 [urllib3.connectionpool] DEBUG: https://www.thenorthfacekorea.co.kr:443 \"GET /product/NJ1DN64A/review/list?page=1&pageSize=10&_sort=displayPriority-auditable.dateCreated&_type_sort=asc-desc&productId=4000029831 HTTP/1.1\" 200 None\n",
      "2023-12-08 09:38:39 [urllib3.connectionpool] DEBUG: Starting new HTTPS connection (1): www.thenorthfacekorea.co.kr:443\n",
      "2023-12-08 09:38:40 [urllib3.connectionpool] DEBUG: https://www.thenorthfacekorea.co.kr:443 \"GET /product/NJ1DN64A/review/list?page=2&pageSize=10&_sort=displayPriority-auditable.dateCreated&_type_sort=asc-desc&productId=4000029831 HTTP/1.1\" 200 None\n",
      "2023-12-08 09:38:41 [urllib3.connectionpool] DEBUG: Starting new HTTPS connection (1): www.thenorthfacekorea.co.kr:443\n",
      "2023-12-08 09:38:42 [urllib3.connectionpool] DEBUG: https://www.thenorthfacekorea.co.kr:443 \"GET /product/NJ1DN64A/review/list?page=3&pageSize=10&_sort=displayPriority-auditable.dateCreated&_type_sort=asc-desc&productId=4000029831 HTTP/1.1\" 200 None\n",
      "2023-12-08 09:38:43 [urllib3.connectionpool] DEBUG: Starting new HTTPS connection (1): www.thenorthfacekorea.co.kr:443\n"
     ]
    },
    {
     "name": "stdout",
     "output_type": "stream",
     "text": [
      "No data found on page 3. Stopping crawling.\n"
     ]
    },
    {
     "name": "stderr",
     "output_type": "stream",
     "text": [
      "2023-12-08 09:38:44 [urllib3.connectionpool] DEBUG: https://www.thenorthfacekorea.co.kr:443 \"GET /product/NV1DN72A/review/list?page=1&pageSize=10&_sort=displayPriority-auditable.dateCreated&_type_sort=asc-desc&productId= HTTP/1.1\" 500 4022\n",
      "2023-12-08 09:38:44 [urllib3.connectionpool] DEBUG: Starting new HTTPS connection (1): www.thenorthfacekorea.co.kr:443\n"
     ]
    },
    {
     "name": "stdout",
     "output_type": "stream",
     "text": [
      "Failed to retrieve page 1. Status code: 500\n"
     ]
    },
    {
     "name": "stderr",
     "output_type": "stream",
     "text": [
      "2023-12-08 09:38:45 [urllib3.connectionpool] DEBUG: https://www.thenorthfacekorea.co.kr:443 \"GET /product/NV1DP80A/review/list?page=1&pageSize=10&_sort=displayPriority-auditable.dateCreated&_type_sort=asc-desc&productId=4000035342 HTTP/1.1\" 200 None\n",
      "2023-12-08 09:38:46 [urllib3.connectionpool] DEBUG: Starting new HTTPS connection (1): www.thenorthfacekorea.co.kr:443\n",
      "2023-12-08 09:38:48 [urllib3.connectionpool] DEBUG: https://www.thenorthfacekorea.co.kr:443 \"GET /product/NV1DP80A/review/list?page=2&pageSize=10&_sort=displayPriority-auditable.dateCreated&_type_sort=asc-desc&productId=4000035342 HTTP/1.1\" 200 None\n",
      "2023-12-08 09:38:48 [urllib3.connectionpool] DEBUG: Starting new HTTPS connection (1): www.thenorthfacekorea.co.kr:443\n",
      "2023-12-08 09:38:50 [urllib3.connectionpool] DEBUG: https://www.thenorthfacekorea.co.kr:443 \"GET /product/NV1DP80A/review/list?page=3&pageSize=10&_sort=displayPriority-auditable.dateCreated&_type_sort=asc-desc&productId=4000035342 HTTP/1.1\" 200 None\n",
      "2023-12-08 09:38:50 [urllib3.connectionpool] DEBUG: Starting new HTTPS connection (1): www.thenorthfacekorea.co.kr:443\n"
     ]
    },
    {
     "name": "stdout",
     "output_type": "stream",
     "text": [
      "No data found on page 3. Stopping crawling.\n"
     ]
    },
    {
     "name": "stderr",
     "output_type": "stream",
     "text": [
      "2023-12-08 09:38:52 [urllib3.connectionpool] DEBUG: https://www.thenorthfacekorea.co.kr:443 \"GET /product/NJ1DP63J/review/list?page=1&pageSize=10&_sort=displayPriority-auditable.dateCreated&_type_sort=asc-desc&productId=4000034570 HTTP/1.1\" 200 None\n",
      "2023-12-08 09:38:52 [urllib3.connectionpool] DEBUG: Starting new HTTPS connection (1): www.thenorthfacekorea.co.kr:443\n",
      "2023-12-08 09:38:54 [urllib3.connectionpool] DEBUG: https://www.thenorthfacekorea.co.kr:443 \"GET /product/NJ1DP63J/review/list?page=2&pageSize=10&_sort=displayPriority-auditable.dateCreated&_type_sort=asc-desc&productId=4000034570 HTTP/1.1\" 200 None\n",
      "2023-12-08 09:38:54 [urllib3.connectionpool] DEBUG: Starting new HTTPS connection (1): www.thenorthfacekorea.co.kr:443\n",
      "2023-12-08 09:38:55 [urllib3.connectionpool] DEBUG: https://www.thenorthfacekorea.co.kr:443 \"GET /product/NJ1DP63J/review/list?page=3&pageSize=10&_sort=displayPriority-auditable.dateCreated&_type_sort=asc-desc&productId=4000034570 HTTP/1.1\" 200 None\n",
      "2023-12-08 09:38:56 [urllib3.connectionpool] DEBUG: Starting new HTTPS connection (1): www.thenorthfacekorea.co.kr:443\n",
      "2023-12-08 09:38:57 [urllib3.connectionpool] DEBUG: https://www.thenorthfacekorea.co.kr:443 \"GET /product/NJ1DP63J/review/list?page=4&pageSize=10&_sort=displayPriority-auditable.dateCreated&_type_sort=asc-desc&productId=4000034570 HTTP/1.1\" 200 None\n",
      "2023-12-08 09:38:58 [urllib3.connectionpool] DEBUG: Starting new HTTPS connection (1): www.thenorthfacekorea.co.kr:443\n"
     ]
    },
    {
     "name": "stdout",
     "output_type": "stream",
     "text": [
      "No data found on page 4. Stopping crawling.\n"
     ]
    },
    {
     "name": "stderr",
     "output_type": "stream",
     "text": [
      "2023-12-08 09:38:59 [urllib3.connectionpool] DEBUG: https://www.thenorthfacekorea.co.kr:443 \"GET /product/NJ1DP66A/review/list?page=1&pageSize=10&_sort=displayPriority-auditable.dateCreated&_type_sort=asc-desc&productId=4000034579 HTTP/1.1\" 200 None\n",
      "2023-12-08 09:39:00 [urllib3.connectionpool] DEBUG: Starting new HTTPS connection (1): www.thenorthfacekorea.co.kr:443\n",
      "2023-12-08 09:39:01 [urllib3.connectionpool] DEBUG: https://www.thenorthfacekorea.co.kr:443 \"GET /product/NJ1DP66A/review/list?page=2&pageSize=10&_sort=displayPriority-auditable.dateCreated&_type_sort=asc-desc&productId=4000034579 HTTP/1.1\" 200 None\n",
      "2023-12-08 09:39:02 [urllib3.connectionpool] DEBUG: Starting new HTTPS connection (1): www.thenorthfacekorea.co.kr:443\n",
      "2023-12-08 09:39:04 [urllib3.connectionpool] DEBUG: https://www.thenorthfacekorea.co.kr:443 \"GET /product/NJ1DP66A/review/list?page=3&pageSize=10&_sort=displayPriority-auditable.dateCreated&_type_sort=asc-desc&productId=4000034579 HTTP/1.1\" 200 None\n",
      "2023-12-08 09:39:04 [urllib3.connectionpool] DEBUG: Starting new HTTPS connection (1): www.thenorthfacekorea.co.kr:443\n"
     ]
    },
    {
     "name": "stdout",
     "output_type": "stream",
     "text": [
      "No data found on page 3. Stopping crawling.\n"
     ]
    },
    {
     "name": "stderr",
     "output_type": "stream",
     "text": [
      "2023-12-08 09:39:06 [urllib3.connectionpool] DEBUG: https://www.thenorthfacekorea.co.kr:443 \"GET /product/NV1DP81J/review/list?page=1&pageSize=10&_sort=displayPriority-auditable.dateCreated&_type_sort=asc-desc&productId=4000035348 HTTP/1.1\" 200 None\n",
      "2023-12-08 09:39:06 [urllib3.connectionpool] DEBUG: Starting new HTTPS connection (1): www.thenorthfacekorea.co.kr:443\n",
      "2023-12-08 09:39:07 [urllib3.connectionpool] DEBUG: https://www.thenorthfacekorea.co.kr:443 \"GET /product/NV1DP81J/review/list?page=2&pageSize=10&_sort=displayPriority-auditable.dateCreated&_type_sort=asc-desc&productId=4000035348 HTTP/1.1\" 200 None\n",
      "2023-12-08 09:39:08 [urllib3.connectionpool] DEBUG: Starting new HTTPS connection (1): www.thenorthfacekorea.co.kr:443\n",
      "2023-12-08 09:39:09 [urllib3.connectionpool] DEBUG: https://www.thenorthfacekorea.co.kr:443 \"GET /product/NV1DP81J/review/list?page=3&pageSize=10&_sort=displayPriority-auditable.dateCreated&_type_sort=asc-desc&productId=4000035348 HTTP/1.1\" 200 None\n",
      "2023-12-08 09:39:10 [urllib3.connectionpool] DEBUG: Starting new HTTPS connection (1): www.thenorthfacekorea.co.kr:443\n"
     ]
    },
    {
     "name": "stdout",
     "output_type": "stream",
     "text": [
      "No data found on page 3. Stopping crawling.\n"
     ]
    },
    {
     "name": "stderr",
     "output_type": "stream",
     "text": [
      "2023-12-08 09:39:11 [urllib3.connectionpool] DEBUG: https://www.thenorthfacekorea.co.kr:443 \"GET /product/NV3NP51A/review/list?page=1&pageSize=10&_sort=displayPriority-auditable.dateCreated&_type_sort=asc-desc&productId=4000035357 HTTP/1.1\" 200 None\n",
      "2023-12-08 09:39:12 [urllib3.connectionpool] DEBUG: Starting new HTTPS connection (1): www.thenorthfacekorea.co.kr:443\n",
      "2023-12-08 09:39:13 [urllib3.connectionpool] DEBUG: https://www.thenorthfacekorea.co.kr:443 \"GET /product/NV3NP51A/review/list?page=2&pageSize=10&_sort=displayPriority-auditable.dateCreated&_type_sort=asc-desc&productId=4000035357 HTTP/1.1\" 200 None\n",
      "2023-12-08 09:39:14 [urllib3.connectionpool] DEBUG: Starting new HTTPS connection (1): www.thenorthfacekorea.co.kr:443\n",
      "2023-12-08 09:39:15 [urllib3.connectionpool] DEBUG: https://www.thenorthfacekorea.co.kr:443 \"GET /product/NV3NP51A/review/list?page=3&pageSize=10&_sort=displayPriority-auditable.dateCreated&_type_sort=asc-desc&productId=4000035357 HTTP/1.1\" 200 None\n",
      "2023-12-08 09:39:15 [urllib3.connectionpool] DEBUG: Starting new HTTPS connection (1): www.thenorthfacekorea.co.kr:443\n"
     ]
    },
    {
     "name": "stdout",
     "output_type": "stream",
     "text": [
      "No data found on page 3. Stopping crawling.\n"
     ]
    },
    {
     "name": "stderr",
     "output_type": "stream",
     "text": [
      "2023-12-08 09:39:17 [urllib3.connectionpool] DEBUG: https://www.thenorthfacekorea.co.kr:443 \"GET /product/NJ1DP55J/review/list?page=1&pageSize=10&_sort=displayPriority-auditable.dateCreated&_type_sort=asc-desc&productId=4000034530 HTTP/1.1\" 200 None\n",
      "2023-12-08 09:39:18 [urllib3.connectionpool] DEBUG: Starting new HTTPS connection (1): www.thenorthfacekorea.co.kr:443\n",
      "2023-12-08 09:39:19 [urllib3.connectionpool] DEBUG: https://www.thenorthfacekorea.co.kr:443 \"GET /product/NJ1DP55J/review/list?page=2&pageSize=10&_sort=displayPriority-auditable.dateCreated&_type_sort=asc-desc&productId=4000034530 HTTP/1.1\" 200 None\n",
      "2023-12-08 09:39:20 [urllib3.connectionpool] DEBUG: Starting new HTTPS connection (1): www.thenorthfacekorea.co.kr:443\n",
      "2023-12-08 09:39:21 [urllib3.connectionpool] DEBUG: https://www.thenorthfacekorea.co.kr:443 \"GET /product/NJ1DP55J/review/list?page=3&pageSize=10&_sort=displayPriority-auditable.dateCreated&_type_sort=asc-desc&productId=4000034530 HTTP/1.1\" 200 None\n",
      "2023-12-08 09:39:22 [urllib3.connectionpool] DEBUG: Starting new HTTPS connection (1): www.thenorthfacekorea.co.kr:443\n"
     ]
    },
    {
     "name": "stdout",
     "output_type": "stream",
     "text": [
      "No data found on page 3. Stopping crawling.\n"
     ]
    },
    {
     "name": "stderr",
     "output_type": "stream",
     "text": [
      "2023-12-08 09:39:23 [urllib3.connectionpool] DEBUG: https://www.thenorthfacekorea.co.kr:443 \"GET /product/NC1DN83A/review/list?page=1&pageSize=10&_sort=displayPriority-auditable.dateCreated&_type_sort=asc-desc&productId= HTTP/1.1\" 500 4022\n",
      "2023-12-08 09:39:23 [urllib3.connectionpool] DEBUG: Starting new HTTPS connection (1): www.thenorthfacekorea.co.kr:443\n"
     ]
    },
    {
     "name": "stdout",
     "output_type": "stream",
     "text": [
      "Failed to retrieve page 1. Status code: 500\n"
     ]
    },
    {
     "name": "stderr",
     "output_type": "stream",
     "text": [
      "2023-12-08 09:39:24 [urllib3.connectionpool] DEBUG: https://www.thenorthfacekorea.co.kr:443 \"GET /product/NJ1DN90B/review/list?page=1&pageSize=10&_sort=displayPriority-auditable.dateCreated&_type_sort=asc-desc&productId=4000027319 HTTP/1.1\" 200 None\n",
      "2023-12-08 09:39:25 [urllib3.connectionpool] DEBUG: Starting new HTTPS connection (1): www.thenorthfacekorea.co.kr:443\n",
      "2023-12-08 09:39:26 [urllib3.connectionpool] DEBUG: https://www.thenorthfacekorea.co.kr:443 \"GET /product/NJ1DN90B/review/list?page=2&pageSize=10&_sort=displayPriority-auditable.dateCreated&_type_sort=asc-desc&productId=4000027319 HTTP/1.1\" 200 None\n",
      "2023-12-08 09:39:26 [urllib3.connectionpool] DEBUG: Starting new HTTPS connection (1): www.thenorthfacekorea.co.kr:443\n"
     ]
    },
    {
     "name": "stdout",
     "output_type": "stream",
     "text": [
      "No data found on page 2. Stopping crawling.\n"
     ]
    },
    {
     "name": "stderr",
     "output_type": "stream",
     "text": [
      "2023-12-08 09:39:28 [urllib3.connectionpool] DEBUG: https://www.thenorthfacekorea.co.kr:443 \"GET /product/NJ1DP57J/review/list?page=1&pageSize=10&_sort=displayPriority-auditable.dateCreated&_type_sort=asc-desc&productId=4000034541 HTTP/1.1\" 200 None\n",
      "2023-12-08 09:39:28 [urllib3.connectionpool] DEBUG: Starting new HTTPS connection (1): www.thenorthfacekorea.co.kr:443\n",
      "2023-12-08 09:39:30 [urllib3.connectionpool] DEBUG: https://www.thenorthfacekorea.co.kr:443 \"GET /product/NJ1DP57J/review/list?page=2&pageSize=10&_sort=displayPriority-auditable.dateCreated&_type_sort=asc-desc&productId=4000034541 HTTP/1.1\" 200 None\n",
      "2023-12-08 09:39:30 [urllib3.connectionpool] DEBUG: Starting new HTTPS connection (1): www.thenorthfacekorea.co.kr:443\n"
     ]
    },
    {
     "name": "stdout",
     "output_type": "stream",
     "text": [
      "No data found on page 2. Stopping crawling.\n"
     ]
    },
    {
     "name": "stderr",
     "output_type": "stream",
     "text": [
      "2023-12-08 09:39:32 [urllib3.connectionpool] DEBUG: https://www.thenorthfacekorea.co.kr:443 \"GET /product/NJ3NP54A/review/list?page=1&pageSize=10&_sort=displayPriority-auditable.dateCreated&_type_sort=asc-desc&productId=4000034791 HTTP/1.1\" 200 None\n",
      "2023-12-08 09:39:33 [urllib3.connectionpool] DEBUG: Starting new HTTPS connection (1): www.thenorthfacekorea.co.kr:443\n",
      "2023-12-08 09:39:34 [urllib3.connectionpool] DEBUG: https://www.thenorthfacekorea.co.kr:443 \"GET /product/NJ3NP54A/review/list?page=2&pageSize=10&_sort=displayPriority-auditable.dateCreated&_type_sort=asc-desc&productId=4000034791 HTTP/1.1\" 200 None\n",
      "2023-12-08 09:39:35 [urllib3.connectionpool] DEBUG: Starting new HTTPS connection (1): www.thenorthfacekorea.co.kr:443\n"
     ]
    },
    {
     "name": "stdout",
     "output_type": "stream",
     "text": [
      "No data found on page 2. Stopping crawling.\n"
     ]
    },
    {
     "name": "stderr",
     "output_type": "stream",
     "text": [
      "2023-12-08 09:39:36 [urllib3.connectionpool] DEBUG: https://www.thenorthfacekorea.co.kr:443 \"GET /product/NJ1DP64J/review/list?page=1&pageSize=10&_sort=displayPriority-auditable.dateCreated&_type_sort=asc-desc&productId=4000034576 HTTP/1.1\" 200 None\n",
      "2023-12-08 09:39:37 [urllib3.connectionpool] DEBUG: Starting new HTTPS connection (1): www.thenorthfacekorea.co.kr:443\n",
      "2023-12-08 09:39:38 [urllib3.connectionpool] DEBUG: https://www.thenorthfacekorea.co.kr:443 \"GET /product/NJ1DP64J/review/list?page=2&pageSize=10&_sort=displayPriority-auditable.dateCreated&_type_sort=asc-desc&productId=4000034576 HTTP/1.1\" 200 None\n",
      "2023-12-08 09:39:39 [urllib3.connectionpool] DEBUG: Starting new HTTPS connection (1): www.thenorthfacekorea.co.kr:443\n"
     ]
    },
    {
     "name": "stdout",
     "output_type": "stream",
     "text": [
      "No data found on page 2. Stopping crawling.\n"
     ]
    },
    {
     "name": "stderr",
     "output_type": "stream",
     "text": [
      "2023-12-08 09:39:40 [urllib3.connectionpool] DEBUG: https://www.thenorthfacekorea.co.kr:443 \"GET /product/NJ3NN02A/review/list?page=1&pageSize=10&_sort=displayPriority-auditable.dateCreated&_type_sort=asc-desc&productId=4000025522 HTTP/1.1\" 200 None\n",
      "2023-12-08 09:39:41 [urllib3.connectionpool] DEBUG: Starting new HTTPS connection (1): www.thenorthfacekorea.co.kr:443\n",
      "2023-12-08 09:39:42 [urllib3.connectionpool] DEBUG: https://www.thenorthfacekorea.co.kr:443 \"GET /product/NJ3NN02A/review/list?page=2&pageSize=10&_sort=displayPriority-auditable.dateCreated&_type_sort=asc-desc&productId=4000025522 HTTP/1.1\" 200 None\n",
      "2023-12-08 09:39:42 [urllib3.connectionpool] DEBUG: Starting new HTTPS connection (1): www.thenorthfacekorea.co.kr:443\n"
     ]
    },
    {
     "name": "stdout",
     "output_type": "stream",
     "text": [
      "No data found on page 2. Stopping crawling.\n"
     ]
    },
    {
     "name": "stderr",
     "output_type": "stream",
     "text": [
      "2023-12-08 09:39:44 [urllib3.connectionpool] DEBUG: https://www.thenorthfacekorea.co.kr:443 \"GET /product/NJ1DN95A/review/list?page=1&pageSize=10&_sort=displayPriority-auditable.dateCreated&_type_sort=asc-desc&productId=4000029975 HTTP/1.1\" 200 None\n",
      "2023-12-08 09:39:44 [urllib3.connectionpool] DEBUG: Starting new HTTPS connection (1): www.thenorthfacekorea.co.kr:443\n",
      "2023-12-08 09:39:46 [urllib3.connectionpool] DEBUG: https://www.thenorthfacekorea.co.kr:443 \"GET /product/NJ1DN95A/review/list?page=2&pageSize=10&_sort=displayPriority-auditable.dateCreated&_type_sort=asc-desc&productId=4000029975 HTTP/1.1\" 200 None\n",
      "2023-12-08 09:39:46 [urllib3.connectionpool] DEBUG: Starting new HTTPS connection (1): www.thenorthfacekorea.co.kr:443\n"
     ]
    },
    {
     "name": "stdout",
     "output_type": "stream",
     "text": [
      "No data found on page 2. Stopping crawling.\n"
     ]
    },
    {
     "name": "stderr",
     "output_type": "stream",
     "text": [
      "2023-12-08 09:39:48 [urllib3.connectionpool] DEBUG: https://www.thenorthfacekorea.co.kr:443 \"GET /product/NV3NP68A/review/list?page=1&pageSize=10&_sort=displayPriority-auditable.dateCreated&_type_sort=asc-desc&productId=4000035365 HTTP/1.1\" 200 None\n",
      "2023-12-08 09:39:49 [urllib3.connectionpool] DEBUG: Starting new HTTPS connection (1): www.thenorthfacekorea.co.kr:443\n",
      "2023-12-08 09:39:50 [urllib3.connectionpool] DEBUG: https://www.thenorthfacekorea.co.kr:443 \"GET /product/NV3NP68A/review/list?page=2&pageSize=10&_sort=displayPriority-auditable.dateCreated&_type_sort=asc-desc&productId=4000035365 HTTP/1.1\" 200 None\n",
      "2023-12-08 09:39:51 [urllib3.connectionpool] DEBUG: Starting new HTTPS connection (1): www.thenorthfacekorea.co.kr:443\n"
     ]
    },
    {
     "name": "stdout",
     "output_type": "stream",
     "text": [
      "No data found on page 2. Stopping crawling.\n"
     ]
    },
    {
     "name": "stderr",
     "output_type": "stream",
     "text": [
      "2023-12-08 09:39:52 [urllib3.connectionpool] DEBUG: https://www.thenorthfacekorea.co.kr:443 \"GET /product/NJ3NP70A/review/list?page=1&pageSize=10&_sort=displayPriority-auditable.dateCreated&_type_sort=asc-desc&productId=4000034834 HTTP/1.1\" 200 None\n",
      "2023-12-08 09:39:53 [urllib3.connectionpool] DEBUG: Starting new HTTPS connection (1): www.thenorthfacekorea.co.kr:443\n",
      "2023-12-08 09:39:54 [urllib3.connectionpool] DEBUG: https://www.thenorthfacekorea.co.kr:443 \"GET /product/NJ3NP70A/review/list?page=2&pageSize=10&_sort=displayPriority-auditable.dateCreated&_type_sort=asc-desc&productId=4000034834 HTTP/1.1\" 200 None\n",
      "2023-12-08 09:39:55 [urllib3.connectionpool] DEBUG: Starting new HTTPS connection (1): www.thenorthfacekorea.co.kr:443\n"
     ]
    },
    {
     "name": "stdout",
     "output_type": "stream",
     "text": [
      "No data found on page 2. Stopping crawling.\n"
     ]
    },
    {
     "name": "stderr",
     "output_type": "stream",
     "text": [
      "2023-12-08 09:39:56 [urllib3.connectionpool] DEBUG: https://www.thenorthfacekorea.co.kr:443 \"GET /product/NC1DP51J/review/list?page=1&pageSize=10&_sort=displayPriority-auditable.dateCreated&_type_sort=asc-desc&productId=4000034185 HTTP/1.1\" 200 None\n",
      "2023-12-08 09:39:57 [urllib3.connectionpool] DEBUG: Starting new HTTPS connection (1): www.thenorthfacekorea.co.kr:443\n",
      "2023-12-08 09:39:58 [urllib3.connectionpool] DEBUG: https://www.thenorthfacekorea.co.kr:443 \"GET /product/NC1DP51J/review/list?page=2&pageSize=10&_sort=displayPriority-auditable.dateCreated&_type_sort=asc-desc&productId=4000034185 HTTP/1.1\" 200 None\n",
      "2023-12-08 09:39:59 [urllib3.connectionpool] DEBUG: Starting new HTTPS connection (1): www.thenorthfacekorea.co.kr:443\n"
     ]
    },
    {
     "name": "stdout",
     "output_type": "stream",
     "text": [
      "No data found on page 2. Stopping crawling.\n"
     ]
    },
    {
     "name": "stderr",
     "output_type": "stream",
     "text": [
      "2023-12-08 09:40:00 [urllib3.connectionpool] DEBUG: https://www.thenorthfacekorea.co.kr:443 \"GET /product/NJ1DP58J/review/list?page=1&pageSize=10&_sort=displayPriority-auditable.dateCreated&_type_sort=asc-desc&productId=4000034547 HTTP/1.1\" 200 None\n",
      "2023-12-08 09:40:01 [urllib3.connectionpool] DEBUG: Starting new HTTPS connection (1): www.thenorthfacekorea.co.kr:443\n",
      "2023-12-08 09:40:02 [urllib3.connectionpool] DEBUG: https://www.thenorthfacekorea.co.kr:443 \"GET /product/NJ1DP58J/review/list?page=2&pageSize=10&_sort=displayPriority-auditable.dateCreated&_type_sort=asc-desc&productId=4000034547 HTTP/1.1\" 200 None\n",
      "2023-12-08 09:40:03 [urllib3.connectionpool] DEBUG: Starting new HTTPS connection (1): www.thenorthfacekorea.co.kr:443\n"
     ]
    },
    {
     "name": "stdout",
     "output_type": "stream",
     "text": [
      "No data found on page 2. Stopping crawling.\n"
     ]
    },
    {
     "name": "stderr",
     "output_type": "stream",
     "text": [
      "2023-12-08 09:40:04 [urllib3.connectionpool] DEBUG: https://www.thenorthfacekorea.co.kr:443 \"GET /product/NC2DP65A/review/list?page=1&pageSize=10&_sort=displayPriority-auditable.dateCreated&_type_sort=asc-desc&productId=4000034196 HTTP/1.1\" 200 None\n",
      "2023-12-08 09:40:05 [urllib3.connectionpool] DEBUG: Starting new HTTPS connection (1): www.thenorthfacekorea.co.kr:443\n",
      "2023-12-08 09:40:06 [urllib3.connectionpool] DEBUG: https://www.thenorthfacekorea.co.kr:443 \"GET /product/NC2DP65A/review/list?page=2&pageSize=10&_sort=displayPriority-auditable.dateCreated&_type_sort=asc-desc&productId=4000034196 HTTP/1.1\" 200 None\n",
      "2023-12-08 09:40:07 [urllib3.connectionpool] DEBUG: Starting new HTTPS connection (1): www.thenorthfacekorea.co.kr:443\n",
      "2023-12-08 09:40:08 [urllib3.connectionpool] DEBUG: https://www.thenorthfacekorea.co.kr:443 \"GET /product/NC2DP65A/review/list?page=3&pageSize=10&_sort=displayPriority-auditable.dateCreated&_type_sort=asc-desc&productId=4000034196 HTTP/1.1\" 200 None\n",
      "2023-12-08 09:40:09 [urllib3.connectionpool] DEBUG: Starting new HTTPS connection (1): www.thenorthfacekorea.co.kr:443\n"
     ]
    },
    {
     "name": "stdout",
     "output_type": "stream",
     "text": [
      "No data found on page 3. Stopping crawling.\n"
     ]
    },
    {
     "name": "stderr",
     "output_type": "stream",
     "text": [
      "2023-12-08 09:40:10 [urllib3.connectionpool] DEBUG: https://www.thenorthfacekorea.co.kr:443 \"GET /product/NJ2YN50A/review/list?page=1&pageSize=10&_sort=displayPriority-auditable.dateCreated&_type_sort=asc-desc&productId=4000027212 HTTP/1.1\" 200 None\n",
      "2023-12-08 09:40:11 [urllib3.connectionpool] DEBUG: Starting new HTTPS connection (1): www.thenorthfacekorea.co.kr:443\n",
      "2023-12-08 09:40:12 [urllib3.connectionpool] DEBUG: https://www.thenorthfacekorea.co.kr:443 \"GET /product/NJ2YN50A/review/list?page=2&pageSize=10&_sort=displayPriority-auditable.dateCreated&_type_sort=asc-desc&productId=4000027212 HTTP/1.1\" 200 None\n",
      "2023-12-08 09:40:13 [urllib3.connectionpool] DEBUG: Starting new HTTPS connection (1): www.thenorthfacekorea.co.kr:443\n"
     ]
    },
    {
     "name": "stdout",
     "output_type": "stream",
     "text": [
      "No data found on page 2. Stopping crawling.\n"
     ]
    },
    {
     "name": "stderr",
     "output_type": "stream",
     "text": [
      "2023-12-08 09:40:14 [urllib3.connectionpool] DEBUG: https://www.thenorthfacekorea.co.kr:443 \"GET /product/NJ1DP56J/review/list?page=1&pageSize=10&_sort=displayPriority-auditable.dateCreated&_type_sort=asc-desc&productId=4000034536 HTTP/1.1\" 200 None\n",
      "2023-12-08 09:40:15 [urllib3.connectionpool] DEBUG: Starting new HTTPS connection (1): www.thenorthfacekorea.co.kr:443\n",
      "2023-12-08 09:40:16 [urllib3.connectionpool] DEBUG: https://www.thenorthfacekorea.co.kr:443 \"GET /product/NJ1DP56J/review/list?page=2&pageSize=10&_sort=displayPriority-auditable.dateCreated&_type_sort=asc-desc&productId=4000034536 HTTP/1.1\" 200 None\n",
      "2023-12-08 09:40:16 [urllib3.connectionpool] DEBUG: Starting new HTTPS connection (1): www.thenorthfacekorea.co.kr:443\n"
     ]
    },
    {
     "name": "stdout",
     "output_type": "stream",
     "text": [
      "No data found on page 2. Stopping crawling.\n"
     ]
    },
    {
     "name": "stderr",
     "output_type": "stream",
     "text": [
      "2023-12-08 09:40:17 [urllib3.connectionpool] DEBUG: https://www.thenorthfacekorea.co.kr:443 \"GET /product/NJ1DP84A/review/list?page=1&pageSize=10&_sort=displayPriority-auditable.dateCreated&_type_sort=asc-desc&productId=4000034615 HTTP/1.1\" 200 None\n",
      "2023-12-08 09:40:17 [urllib3.connectionpool] DEBUG: Starting new HTTPS connection (1): www.thenorthfacekorea.co.kr:443\n",
      "2023-12-08 09:40:18 [urllib3.connectionpool] DEBUG: https://www.thenorthfacekorea.co.kr:443 \"GET /product/NJ1DP84A/review/list?page=2&pageSize=10&_sort=displayPriority-auditable.dateCreated&_type_sort=asc-desc&productId=4000034615 HTTP/1.1\" 200 None\n",
      "2023-12-08 09:40:19 [urllib3.connectionpool] DEBUG: Starting new HTTPS connection (1): www.thenorthfacekorea.co.kr:443\n"
     ]
    },
    {
     "name": "stdout",
     "output_type": "stream",
     "text": [
      "No data found on page 2. Stopping crawling.\n"
     ]
    },
    {
     "name": "stderr",
     "output_type": "stream",
     "text": [
      "2023-12-08 09:40:20 [urllib3.connectionpool] DEBUG: https://www.thenorthfacekorea.co.kr:443 \"GET /product/NJ3NP58B/review/list?page=1&pageSize=10&_sort=displayPriority-auditable.dateCreated&_type_sort=asc-desc&productId=4000034812 HTTP/1.1\" 200 None\n",
      "2023-12-08 09:40:20 [urllib3.connectionpool] DEBUG: Starting new HTTPS connection (1): www.thenorthfacekorea.co.kr:443\n",
      "2023-12-08 09:40:22 [urllib3.connectionpool] DEBUG: https://www.thenorthfacekorea.co.kr:443 \"GET /product/NJ3NP58B/review/list?page=2&pageSize=10&_sort=displayPriority-auditable.dateCreated&_type_sort=asc-desc&productId=4000034812 HTTP/1.1\" 200 None\n",
      "2023-12-08 09:40:22 [urllib3.connectionpool] DEBUG: Starting new HTTPS connection (1): www.thenorthfacekorea.co.kr:443\n"
     ]
    },
    {
     "name": "stdout",
     "output_type": "stream",
     "text": [
      "No data found on page 2. Stopping crawling.\n"
     ]
    },
    {
     "name": "stderr",
     "output_type": "stream",
     "text": [
      "2023-12-08 09:40:23 [urllib3.connectionpool] DEBUG: https://www.thenorthfacekorea.co.kr:443 \"GET /product/NJ1DN83A/review/list?page=1&pageSize=10&_sort=displayPriority-auditable.dateCreated&_type_sort=asc-desc&productId=4000030101 HTTP/1.1\" 200 None\n",
      "2023-12-08 09:40:24 [urllib3.connectionpool] DEBUG: Starting new HTTPS connection (1): www.thenorthfacekorea.co.kr:443\n",
      "2023-12-08 09:40:25 [urllib3.connectionpool] DEBUG: https://www.thenorthfacekorea.co.kr:443 \"GET /product/NJ1DN83A/review/list?page=2&pageSize=10&_sort=displayPriority-auditable.dateCreated&_type_sort=asc-desc&productId=4000030101 HTTP/1.1\" 200 None\n",
      "2023-12-08 09:40:25 [urllib3.connectionpool] DEBUG: Starting new HTTPS connection (1): www.thenorthfacekorea.co.kr:443\n"
     ]
    },
    {
     "name": "stdout",
     "output_type": "stream",
     "text": [
      "No data found on page 2. Stopping crawling.\n"
     ]
    },
    {
     "name": "stderr",
     "output_type": "stream",
     "text": [
      "2023-12-08 09:40:26 [urllib3.connectionpool] DEBUG: https://www.thenorthfacekorea.co.kr:443 \"GET /product/NJ1DP59J/review/list?page=1&pageSize=10&_sort=displayPriority-auditable.dateCreated&_type_sort=asc-desc&productId=4000034550 HTTP/1.1\" 200 None\n",
      "2023-12-08 09:40:26 [urllib3.connectionpool] DEBUG: Starting new HTTPS connection (1): www.thenorthfacekorea.co.kr:443\n",
      "2023-12-08 09:40:27 [urllib3.connectionpool] DEBUG: https://www.thenorthfacekorea.co.kr:443 \"GET /product/NJ1DP59J/review/list?page=2&pageSize=10&_sort=displayPriority-auditable.dateCreated&_type_sort=asc-desc&productId=4000034550 HTTP/1.1\" 200 None\n",
      "2023-12-08 09:40:27 [urllib3.connectionpool] DEBUG: Starting new HTTPS connection (1): www.thenorthfacekorea.co.kr:443\n"
     ]
    },
    {
     "name": "stdout",
     "output_type": "stream",
     "text": [
      "No data found on page 2. Stopping crawling.\n"
     ]
    },
    {
     "name": "stderr",
     "output_type": "stream",
     "text": [
      "2023-12-08 09:40:28 [urllib3.connectionpool] DEBUG: https://www.thenorthfacekorea.co.kr:443 \"GET /product/NA3NP70A/review/list?page=1&pageSize=10&_sort=displayPriority-auditable.dateCreated&_type_sort=asc-desc&productId=4000034124 HTTP/1.1\" 200 None\n",
      "2023-12-08 09:40:29 [urllib3.connectionpool] DEBUG: Starting new HTTPS connection (1): www.thenorthfacekorea.co.kr:443\n",
      "2023-12-08 09:40:30 [urllib3.connectionpool] DEBUG: https://www.thenorthfacekorea.co.kr:443 \"GET /product/NA3NP70A/review/list?page=2&pageSize=10&_sort=displayPriority-auditable.dateCreated&_type_sort=asc-desc&productId=4000034124 HTTP/1.1\" 200 None\n",
      "2023-12-08 09:40:30 [urllib3.connectionpool] DEBUG: Starting new HTTPS connection (1): www.thenorthfacekorea.co.kr:443\n"
     ]
    },
    {
     "name": "stdout",
     "output_type": "stream",
     "text": [
      "No data found on page 2. Stopping crawling.\n"
     ]
    },
    {
     "name": "stderr",
     "output_type": "stream",
     "text": [
      "2023-12-08 09:40:31 [urllib3.connectionpool] DEBUG: https://www.thenorthfacekorea.co.kr:443 \"GET /product/NJ3NP51A/review/list?page=1&pageSize=10&_sort=displayPriority-auditable.dateCreated&_type_sort=asc-desc&productId=4000034783 HTTP/1.1\" 200 None\n",
      "2023-12-08 09:40:32 [urllib3.connectionpool] DEBUG: Starting new HTTPS connection (1): www.thenorthfacekorea.co.kr:443\n",
      "2023-12-08 09:40:33 [urllib3.connectionpool] DEBUG: https://www.thenorthfacekorea.co.kr:443 \"GET /product/NJ3NP51A/review/list?page=2&pageSize=10&_sort=displayPriority-auditable.dateCreated&_type_sort=asc-desc&productId=4000034783 HTTP/1.1\" 200 None\n",
      "2023-12-08 09:40:33 [urllib3.connectionpool] DEBUG: Starting new HTTPS connection (1): www.thenorthfacekorea.co.kr:443\n"
     ]
    },
    {
     "name": "stdout",
     "output_type": "stream",
     "text": [
      "No data found on page 2. Stopping crawling.\n"
     ]
    },
    {
     "name": "stderr",
     "output_type": "stream",
     "text": [
      "2023-12-08 09:40:34 [urllib3.connectionpool] DEBUG: https://www.thenorthfacekorea.co.kr:443 \"GET /product/NJ1DP87A/review/list?page=1&pageSize=10&_sort=displayPriority-auditable.dateCreated&_type_sort=asc-desc&productId=4000034641 HTTP/1.1\" 200 None\n",
      "2023-12-08 09:40:35 [urllib3.connectionpool] DEBUG: Starting new HTTPS connection (1): www.thenorthfacekorea.co.kr:443\n",
      "2023-12-08 09:40:36 [urllib3.connectionpool] DEBUG: https://www.thenorthfacekorea.co.kr:443 \"GET /product/NJ1DP87A/review/list?page=2&pageSize=10&_sort=displayPriority-auditable.dateCreated&_type_sort=asc-desc&productId=4000034641 HTTP/1.1\" 200 None\n",
      "2023-12-08 09:40:36 [urllib3.connectionpool] DEBUG: Starting new HTTPS connection (1): www.thenorthfacekorea.co.kr:443\n"
     ]
    },
    {
     "name": "stdout",
     "output_type": "stream",
     "text": [
      "No data found on page 2. Stopping crawling.\n"
     ]
    },
    {
     "name": "stderr",
     "output_type": "stream",
     "text": [
      "2023-12-08 09:40:37 [urllib3.connectionpool] DEBUG: https://www.thenorthfacekorea.co.kr:443 \"GET /product/NJ1DN75F/review/list?page=1&pageSize=10&_sort=displayPriority-auditable.dateCreated&_type_sort=asc-desc&productId=4000026271 HTTP/1.1\" 200 None\n",
      "2023-12-08 09:40:37 [urllib3.connectionpool] DEBUG: Starting new HTTPS connection (1): www.thenorthfacekorea.co.kr:443\n",
      "2023-12-08 09:40:38 [urllib3.connectionpool] DEBUG: https://www.thenorthfacekorea.co.kr:443 \"GET /product/NJ1DN75F/review/list?page=2&pageSize=10&_sort=displayPriority-auditable.dateCreated&_type_sort=asc-desc&productId=4000026271 HTTP/1.1\" 200 None\n",
      "2023-12-08 09:40:38 [urllib3.connectionpool] DEBUG: Starting new HTTPS connection (1): www.thenorthfacekorea.co.kr:443\n"
     ]
    },
    {
     "name": "stdout",
     "output_type": "stream",
     "text": [
      "No data found on page 2. Stopping crawling.\n"
     ]
    },
    {
     "name": "stderr",
     "output_type": "stream",
     "text": [
      "2023-12-08 09:40:39 [urllib3.connectionpool] DEBUG: https://www.thenorthfacekorea.co.kr:443 \"GET /product/NJ1DN85A/review/list?page=1&pageSize=10&_sort=displayPriority-auditable.dateCreated&_type_sort=asc-desc&productId=4000033364 HTTP/1.1\" 200 None\n",
      "2023-12-08 09:40:40 [urllib3.connectionpool] DEBUG: Starting new HTTPS connection (1): www.thenorthfacekorea.co.kr:443\n",
      "2023-12-08 09:40:41 [urllib3.connectionpool] DEBUG: https://www.thenorthfacekorea.co.kr:443 \"GET /product/NJ1DN85A/review/list?page=2&pageSize=10&_sort=displayPriority-auditable.dateCreated&_type_sort=asc-desc&productId=4000033364 HTTP/1.1\" 200 None\n",
      "2023-12-08 09:40:41 [urllib3.connectionpool] DEBUG: Starting new HTTPS connection (1): www.thenorthfacekorea.co.kr:443\n"
     ]
    },
    {
     "name": "stdout",
     "output_type": "stream",
     "text": [
      "No data found on page 2. Stopping crawling.\n"
     ]
    },
    {
     "name": "stderr",
     "output_type": "stream",
     "text": [
      "2023-12-08 09:40:42 [urllib3.connectionpool] DEBUG: https://www.thenorthfacekorea.co.kr:443 \"GET /product/NV3NP50J/review/list?page=1&pageSize=10&_sort=displayPriority-auditable.dateCreated&_type_sort=asc-desc&productId=4000035354 HTTP/1.1\" 200 None\n",
      "2023-12-08 09:40:43 [urllib3.connectionpool] DEBUG: Starting new HTTPS connection (1): www.thenorthfacekorea.co.kr:443\n",
      "2023-12-08 09:40:44 [urllib3.connectionpool] DEBUG: https://www.thenorthfacekorea.co.kr:443 \"GET /product/NV3NP50J/review/list?page=2&pageSize=10&_sort=displayPriority-auditable.dateCreated&_type_sort=asc-desc&productId=4000035354 HTTP/1.1\" 200 None\n",
      "2023-12-08 09:40:45 [urllib3.connectionpool] DEBUG: Starting new HTTPS connection (1): www.thenorthfacekorea.co.kr:443\n"
     ]
    },
    {
     "name": "stdout",
     "output_type": "stream",
     "text": [
      "No data found on page 2. Stopping crawling.\n"
     ]
    },
    {
     "name": "stderr",
     "output_type": "stream",
     "text": [
      "2023-12-08 09:40:46 [urllib3.connectionpool] DEBUG: https://www.thenorthfacekorea.co.kr:443 \"GET /product/NJ1DP63A/review/list?page=1&pageSize=10&_sort=displayPriority-auditable.dateCreated&_type_sort=asc-desc&productId=4000034568 HTTP/1.1\" 200 None\n",
      "2023-12-08 09:40:47 [urllib3.connectionpool] DEBUG: Starting new HTTPS connection (1): www.thenorthfacekorea.co.kr:443\n",
      "2023-12-08 09:40:48 [urllib3.connectionpool] DEBUG: https://www.thenorthfacekorea.co.kr:443 \"GET /product/NJ1DP63A/review/list?page=2&pageSize=10&_sort=displayPriority-auditable.dateCreated&_type_sort=asc-desc&productId=4000034568 HTTP/1.1\" 200 None\n",
      "2023-12-08 09:40:48 [urllib3.connectionpool] DEBUG: Starting new HTTPS connection (1): www.thenorthfacekorea.co.kr:443\n"
     ]
    },
    {
     "name": "stdout",
     "output_type": "stream",
     "text": [
      "No data found on page 2. Stopping crawling.\n"
     ]
    },
    {
     "name": "stderr",
     "output_type": "stream",
     "text": [
      "2023-12-08 09:40:49 [urllib3.connectionpool] DEBUG: https://www.thenorthfacekorea.co.kr:443 \"GET /product/NJ1DP77A/review/list?page=1&pageSize=10&_sort=displayPriority-auditable.dateCreated&_type_sort=asc-desc&productId=4000034598 HTTP/1.1\" 200 None\n",
      "2023-12-08 09:40:50 [urllib3.connectionpool] DEBUG: Starting new HTTPS connection (1): www.thenorthfacekorea.co.kr:443\n",
      "2023-12-08 09:40:51 [urllib3.connectionpool] DEBUG: https://www.thenorthfacekorea.co.kr:443 \"GET /product/NJ1DP77A/review/list?page=2&pageSize=10&_sort=displayPriority-auditable.dateCreated&_type_sort=asc-desc&productId=4000034598 HTTP/1.1\" 200 None\n",
      "2023-12-08 09:40:51 [urllib3.connectionpool] DEBUG: Starting new HTTPS connection (1): www.thenorthfacekorea.co.kr:443\n"
     ]
    },
    {
     "name": "stdout",
     "output_type": "stream",
     "text": [
      "No data found on page 2. Stopping crawling.\n"
     ]
    },
    {
     "name": "stderr",
     "output_type": "stream",
     "text": [
      "2023-12-08 09:40:52 [urllib3.connectionpool] DEBUG: https://www.thenorthfacekorea.co.kr:443 \"GET /product/NJ1DN65A/review/list?page=1&pageSize=10&_sort=displayPriority-auditable.dateCreated&_type_sort=asc-desc&productId=4000029540 HTTP/1.1\" 200 None\n",
      "2023-12-08 09:40:53 [urllib3.connectionpool] DEBUG: Starting new HTTPS connection (1): www.thenorthfacekorea.co.kr:443\n",
      "2023-12-08 09:40:54 [urllib3.connectionpool] DEBUG: https://www.thenorthfacekorea.co.kr:443 \"GET /product/NJ1DN65A/review/list?page=2&pageSize=10&_sort=displayPriority-auditable.dateCreated&_type_sort=asc-desc&productId=4000029540 HTTP/1.1\" 200 None\n",
      "2023-12-08 09:40:55 [urllib3.connectionpool] DEBUG: Starting new HTTPS connection (1): www.thenorthfacekorea.co.kr:443\n"
     ]
    },
    {
     "name": "stdout",
     "output_type": "stream",
     "text": [
      "No data found on page 2. Stopping crawling.\n"
     ]
    },
    {
     "name": "stderr",
     "output_type": "stream",
     "text": [
      "2023-12-08 09:40:56 [urllib3.connectionpool] DEBUG: https://www.thenorthfacekorea.co.kr:443 \"GET /product/NJ1DP79A/review/list?page=1&pageSize=10&_sort=displayPriority-auditable.dateCreated&_type_sort=asc-desc&productId=4000034604 HTTP/1.1\" 200 None\n",
      "2023-12-08 09:40:56 [urllib3.connectionpool] DEBUG: Starting new HTTPS connection (1): www.thenorthfacekorea.co.kr:443\n",
      "2023-12-08 09:40:57 [urllib3.connectionpool] DEBUG: https://www.thenorthfacekorea.co.kr:443 \"GET /product/NJ1DP79A/review/list?page=2&pageSize=10&_sort=displayPriority-auditable.dateCreated&_type_sort=asc-desc&productId=4000034604 HTTP/1.1\" 200 None\n",
      "2023-12-08 09:40:58 [urllib3.connectionpool] DEBUG: Starting new HTTPS connection (1): www.thenorthfacekorea.co.kr:443\n"
     ]
    },
    {
     "name": "stdout",
     "output_type": "stream",
     "text": [
      "No data found on page 2. Stopping crawling.\n"
     ]
    },
    {
     "name": "stderr",
     "output_type": "stream",
     "text": [
      "2023-12-08 09:40:59 [urllib3.connectionpool] DEBUG: https://www.thenorthfacekorea.co.kr:443 \"GET /product/NJ2DP65A/review/list?page=1&pageSize=10&_sort=displayPriority-auditable.dateCreated&_type_sort=asc-desc&productId=4000034669 HTTP/1.1\" 200 None\n",
      "2023-12-08 09:40:59 [urllib3.connectionpool] DEBUG: Starting new HTTPS connection (1): www.thenorthfacekorea.co.kr:443\n",
      "2023-12-08 09:41:00 [urllib3.connectionpool] DEBUG: https://www.thenorthfacekorea.co.kr:443 \"GET /product/NJ2DP65A/review/list?page=2&pageSize=10&_sort=displayPriority-auditable.dateCreated&_type_sort=asc-desc&productId=4000034669 HTTP/1.1\" 200 None\n",
      "2023-12-08 09:41:01 [urllib3.connectionpool] DEBUG: Starting new HTTPS connection (1): www.thenorthfacekorea.co.kr:443\n"
     ]
    },
    {
     "name": "stdout",
     "output_type": "stream",
     "text": [
      "No data found on page 2. Stopping crawling.\n"
     ]
    },
    {
     "name": "stderr",
     "output_type": "stream",
     "text": [
      "2023-12-08 09:41:02 [urllib3.connectionpool] DEBUG: https://www.thenorthfacekorea.co.kr:443 \"GET /product/NJ2DP72A/review/list?page=1&pageSize=10&_sort=displayPriority-auditable.dateCreated&_type_sort=asc-desc&productId=4000034672 HTTP/1.1\" 200 None\n",
      "2023-12-08 09:41:02 [urllib3.connectionpool] DEBUG: Starting new HTTPS connection (1): www.thenorthfacekorea.co.kr:443\n",
      "2023-12-08 09:41:04 [urllib3.connectionpool] DEBUG: https://www.thenorthfacekorea.co.kr:443 \"GET /product/NJ2DP72A/review/list?page=2&pageSize=10&_sort=displayPriority-auditable.dateCreated&_type_sort=asc-desc&productId=4000034672 HTTP/1.1\" 200 None\n",
      "2023-12-08 09:41:04 [urllib3.connectionpool] DEBUG: Starting new HTTPS connection (1): www.thenorthfacekorea.co.kr:443\n"
     ]
    },
    {
     "name": "stdout",
     "output_type": "stream",
     "text": [
      "No data found on page 2. Stopping crawling.\n"
     ]
    },
    {
     "name": "stderr",
     "output_type": "stream",
     "text": [
      "2023-12-08 09:41:05 [urllib3.connectionpool] DEBUG: https://www.thenorthfacekorea.co.kr:443 \"GET /product/NJ3NP01B/review/list?page=1&pageSize=10&_sort=displayPriority-auditable.dateCreated&_type_sort=asc-desc&productId=4000031824 HTTP/1.1\" 200 None\n",
      "2023-12-08 09:41:06 [urllib3.connectionpool] DEBUG: Starting new HTTPS connection (1): www.thenorthfacekorea.co.kr:443\n",
      "2023-12-08 09:41:07 [urllib3.connectionpool] DEBUG: https://www.thenorthfacekorea.co.kr:443 \"GET /product/NJ3NP01B/review/list?page=2&pageSize=10&_sort=displayPriority-auditable.dateCreated&_type_sort=asc-desc&productId=4000031824 HTTP/1.1\" 200 None\n",
      "2023-12-08 09:41:07 [urllib3.connectionpool] DEBUG: Starting new HTTPS connection (1): www.thenorthfacekorea.co.kr:443\n"
     ]
    },
    {
     "name": "stdout",
     "output_type": "stream",
     "text": [
      "No data found on page 2. Stopping crawling.\n"
     ]
    },
    {
     "name": "stderr",
     "output_type": "stream",
     "text": [
      "2023-12-08 09:41:09 [urllib3.connectionpool] DEBUG: https://www.thenorthfacekorea.co.kr:443 \"GET /product/NJ1DP52J/review/list?page=1&pageSize=10&_sort=displayPriority-auditable.dateCreated&_type_sort=asc-desc&productId=4000034513 HTTP/1.1\" 200 None\n",
      "2023-12-08 09:41:09 [urllib3.connectionpool] DEBUG: Starting new HTTPS connection (1): www.thenorthfacekorea.co.kr:443\n",
      "2023-12-08 09:41:10 [urllib3.connectionpool] DEBUG: https://www.thenorthfacekorea.co.kr:443 \"GET /product/NJ1DP52J/review/list?page=2&pageSize=10&_sort=displayPriority-auditable.dateCreated&_type_sort=asc-desc&productId=4000034513 HTTP/1.1\" 200 None\n",
      "2023-12-08 09:41:10 [urllib3.connectionpool] DEBUG: Starting new HTTPS connection (1): www.thenorthfacekorea.co.kr:443\n"
     ]
    },
    {
     "name": "stdout",
     "output_type": "stream",
     "text": [
      "No data found on page 2. Stopping crawling.\n"
     ]
    },
    {
     "name": "stderr",
     "output_type": "stream",
     "text": [
      "2023-12-08 09:41:11 [urllib3.connectionpool] DEBUG: https://www.thenorthfacekorea.co.kr:443 \"GET /product/NJ3NN03A/review/list?page=1&pageSize=10&_sort=displayPriority-auditable.dateCreated&_type_sort=asc-desc&productId=4000025525 HTTP/1.1\" 200 None\n",
      "2023-12-08 09:41:12 [urllib3.connectionpool] DEBUG: Starting new HTTPS connection (1): www.thenorthfacekorea.co.kr:443\n",
      "2023-12-08 09:41:13 [urllib3.connectionpool] DEBUG: https://www.thenorthfacekorea.co.kr:443 \"GET /product/NJ3NN03A/review/list?page=2&pageSize=10&_sort=displayPriority-auditable.dateCreated&_type_sort=asc-desc&productId=4000025525 HTTP/1.1\" 200 None\n",
      "2023-12-08 09:41:13 [urllib3.connectionpool] DEBUG: Starting new HTTPS connection (1): www.thenorthfacekorea.co.kr:443\n"
     ]
    },
    {
     "name": "stdout",
     "output_type": "stream",
     "text": [
      "No data found on page 2. Stopping crawling.\n"
     ]
    },
    {
     "name": "stderr",
     "output_type": "stream",
     "text": [
      "2023-12-08 09:41:15 [urllib3.connectionpool] DEBUG: https://www.thenorthfacekorea.co.kr:443 \"GET /product/NC1DP80A/review/list?page=1&pageSize=10&_sort=displayPriority-auditable.dateCreated&_type_sort=asc-desc&productId=4000034188 HTTP/1.1\" 200 None\n",
      "2023-12-08 09:41:15 [urllib3.connectionpool] DEBUG: Starting new HTTPS connection (1): www.thenorthfacekorea.co.kr:443\n",
      "2023-12-08 09:41:16 [urllib3.connectionpool] DEBUG: https://www.thenorthfacekorea.co.kr:443 \"GET /product/NC1DP80A/review/list?page=2&pageSize=10&_sort=displayPriority-auditable.dateCreated&_type_sort=asc-desc&productId=4000034188 HTTP/1.1\" 200 None\n",
      "2023-12-08 09:41:16 [urllib3.connectionpool] DEBUG: Starting new HTTPS connection (1): www.thenorthfacekorea.co.kr:443\n"
     ]
    },
    {
     "name": "stdout",
     "output_type": "stream",
     "text": [
      "No data found on page 2. Stopping crawling.\n"
     ]
    },
    {
     "name": "stderr",
     "output_type": "stream",
     "text": [
      "2023-12-08 09:41:17 [urllib3.connectionpool] DEBUG: https://www.thenorthfacekorea.co.kr:443 \"GET /product/NJ1DN62A/review/list?page=1&pageSize=10&_sort=displayPriority-auditable.dateCreated&_type_sort=asc-desc&productId=4000029543 HTTP/1.1\" 200 None\n",
      "2023-12-08 09:41:18 [urllib3.connectionpool] DEBUG: Starting new HTTPS connection (1): www.thenorthfacekorea.co.kr:443\n",
      "2023-12-08 09:41:19 [urllib3.connectionpool] DEBUG: https://www.thenorthfacekorea.co.kr:443 \"GET /product/NJ1DN62A/review/list?page=2&pageSize=10&_sort=displayPriority-auditable.dateCreated&_type_sort=asc-desc&productId=4000029543 HTTP/1.1\" 200 None\n",
      "2023-12-08 09:41:20 [urllib3.connectionpool] DEBUG: Starting new HTTPS connection (1): www.thenorthfacekorea.co.kr:443\n"
     ]
    },
    {
     "name": "stdout",
     "output_type": "stream",
     "text": [
      "No data found on page 2. Stopping crawling.\n"
     ]
    },
    {
     "name": "stderr",
     "output_type": "stream",
     "text": [
      "2023-12-08 09:41:21 [urllib3.connectionpool] DEBUG: https://www.thenorthfacekorea.co.kr:443 \"GET /product/NJ2DN75A/review/list?page=1&pageSize=10&_sort=displayPriority-auditable.dateCreated&_type_sort=asc-desc&productId=4000028255 HTTP/1.1\" 200 None\n",
      "2023-12-08 09:41:21 [urllib3.connectionpool] DEBUG: Starting new HTTPS connection (1): www.thenorthfacekorea.co.kr:443\n",
      "2023-12-08 09:41:22 [urllib3.connectionpool] DEBUG: https://www.thenorthfacekorea.co.kr:443 \"GET /product/NJ2DN75A/review/list?page=2&pageSize=10&_sort=displayPriority-auditable.dateCreated&_type_sort=asc-desc&productId=4000028255 HTTP/1.1\" 200 None\n",
      "2023-12-08 09:41:23 [urllib3.connectionpool] DEBUG: Starting new HTTPS connection (1): www.thenorthfacekorea.co.kr:443\n"
     ]
    },
    {
     "name": "stdout",
     "output_type": "stream",
     "text": [
      "No data found on page 2. Stopping crawling.\n"
     ]
    },
    {
     "name": "stderr",
     "output_type": "stream",
     "text": [
      "2023-12-08 09:41:24 [urllib3.connectionpool] DEBUG: https://www.thenorthfacekorea.co.kr:443 \"GET /product/NC1DP50J/review/list?page=1&pageSize=10&_sort=displayPriority-auditable.dateCreated&_type_sort=asc-desc&productId=4000034181 HTTP/1.1\" 200 None\n",
      "2023-12-08 09:41:24 [urllib3.connectionpool] DEBUG: Starting new HTTPS connection (1): www.thenorthfacekorea.co.kr:443\n",
      "2023-12-08 09:41:25 [urllib3.connectionpool] DEBUG: https://www.thenorthfacekorea.co.kr:443 \"GET /product/NC1DP50J/review/list?page=2&pageSize=10&_sort=displayPriority-auditable.dateCreated&_type_sort=asc-desc&productId=4000034181 HTTP/1.1\" 200 None\n",
      "2023-12-08 09:41:26 [urllib3.connectionpool] DEBUG: Starting new HTTPS connection (1): www.thenorthfacekorea.co.kr:443\n"
     ]
    },
    {
     "name": "stdout",
     "output_type": "stream",
     "text": [
      "No data found on page 2. Stopping crawling.\n"
     ]
    },
    {
     "name": "stderr",
     "output_type": "stream",
     "text": [
      "2023-12-08 09:41:27 [urllib3.connectionpool] DEBUG: https://www.thenorthfacekorea.co.kr:443 \"GET /product/NJ2YP50A/review/list?page=1&pageSize=10&_sort=displayPriority-auditable.dateCreated&_type_sort=asc-desc&productId=4000034719 HTTP/1.1\" 200 None\n",
      "2023-12-08 09:41:27 [urllib3.connectionpool] DEBUG: Starting new HTTPS connection (1): www.thenorthfacekorea.co.kr:443\n",
      "2023-12-08 09:41:28 [urllib3.connectionpool] DEBUG: https://www.thenorthfacekorea.co.kr:443 \"GET /product/NJ2YP50A/review/list?page=2&pageSize=10&_sort=displayPriority-auditable.dateCreated&_type_sort=asc-desc&productId=4000034719 HTTP/1.1\" 200 None\n",
      "2023-12-08 09:41:28 [urllib3.connectionpool] DEBUG: Starting new HTTPS connection (1): www.thenorthfacekorea.co.kr:443\n"
     ]
    },
    {
     "name": "stdout",
     "output_type": "stream",
     "text": [
      "No data found on page 2. Stopping crawling.\n"
     ]
    },
    {
     "name": "stderr",
     "output_type": "stream",
     "text": [
      "2023-12-08 09:41:30 [urllib3.connectionpool] DEBUG: https://www.thenorthfacekorea.co.kr:443 \"GET /product/NJ3NN50A/review/list?page=1&pageSize=10&_sort=displayPriority-auditable.dateCreated&_type_sort=asc-desc&productId=4000029497 HTTP/1.1\" 200 None\n",
      "2023-12-08 09:41:30 [urllib3.connectionpool] DEBUG: Starting new HTTPS connection (1): www.thenorthfacekorea.co.kr:443\n",
      "2023-12-08 09:41:31 [urllib3.connectionpool] DEBUG: https://www.thenorthfacekorea.co.kr:443 \"GET /product/NJ3NN50A/review/list?page=2&pageSize=10&_sort=displayPriority-auditable.dateCreated&_type_sort=asc-desc&productId=4000029497 HTTP/1.1\" 200 None\n",
      "2023-12-08 09:41:32 [urllib3.connectionpool] DEBUG: Starting new HTTPS connection (1): www.thenorthfacekorea.co.kr:443\n"
     ]
    },
    {
     "name": "stdout",
     "output_type": "stream",
     "text": [
      "No data found on page 2. Stopping crawling.\n"
     ]
    },
    {
     "name": "stderr",
     "output_type": "stream",
     "text": [
      "2023-12-08 09:41:33 [urllib3.connectionpool] DEBUG: https://www.thenorthfacekorea.co.kr:443 \"GET /product/NJ1DN61B/review/list?page=1&pageSize=10&_sort=displayPriority-auditable.dateCreated&_type_sort=asc-desc&productId=4000026426 HTTP/1.1\" 200 None\n",
      "2023-12-08 09:41:33 [urllib3.connectionpool] DEBUG: Starting new HTTPS connection (1): www.thenorthfacekorea.co.kr:443\n",
      "2023-12-08 09:41:34 [urllib3.connectionpool] DEBUG: https://www.thenorthfacekorea.co.kr:443 \"GET /product/NJ1DN61B/review/list?page=2&pageSize=10&_sort=displayPriority-auditable.dateCreated&_type_sort=asc-desc&productId=4000026426 HTTP/1.1\" 200 None\n",
      "2023-12-08 09:41:34 [urllib3.connectionpool] DEBUG: Starting new HTTPS connection (1): www.thenorthfacekorea.co.kr:443\n"
     ]
    },
    {
     "name": "stdout",
     "output_type": "stream",
     "text": [
      "No data found on page 2. Stopping crawling.\n"
     ]
    },
    {
     "name": "stderr",
     "output_type": "stream",
     "text": [
      "2023-12-08 09:41:35 [urllib3.connectionpool] DEBUG: https://www.thenorthfacekorea.co.kr:443 \"GET /product/NJ3NN00C/review/list?page=1&pageSize=10&_sort=displayPriority-auditable.dateCreated&_type_sort=asc-desc&productId=4000024312 HTTP/1.1\" 200 None\n",
      "2023-12-08 09:41:36 [urllib3.connectionpool] DEBUG: Starting new HTTPS connection (1): www.thenorthfacekorea.co.kr:443\n",
      "2023-12-08 09:41:37 [urllib3.connectionpool] DEBUG: https://www.thenorthfacekorea.co.kr:443 \"GET /product/NJ3NN00C/review/list?page=2&pageSize=10&_sort=displayPriority-auditable.dateCreated&_type_sort=asc-desc&productId=4000024312 HTTP/1.1\" 200 None\n",
      "2023-12-08 09:41:37 [urllib3.connectionpool] DEBUG: Starting new HTTPS connection (1): www.thenorthfacekorea.co.kr:443\n"
     ]
    },
    {
     "name": "stdout",
     "output_type": "stream",
     "text": [
      "No data found on page 2. Stopping crawling.\n"
     ]
    },
    {
     "name": "stderr",
     "output_type": "stream",
     "text": [
      "2023-12-08 09:41:38 [urllib3.connectionpool] DEBUG: https://www.thenorthfacekorea.co.kr:443 \"GET /product/NJ3NP50J/review/list?page=1&pageSize=10&_sort=displayPriority-auditable.dateCreated&_type_sort=asc-desc&productId=4000034780 HTTP/1.1\" 200 None\n",
      "2023-12-08 09:41:39 [urllib3.connectionpool] DEBUG: Starting new HTTPS connection (1): www.thenorthfacekorea.co.kr:443\n",
      "2023-12-08 09:41:40 [urllib3.connectionpool] DEBUG: https://www.thenorthfacekorea.co.kr:443 \"GET /product/NJ3NP50J/review/list?page=2&pageSize=10&_sort=displayPriority-auditable.dateCreated&_type_sort=asc-desc&productId=4000034780 HTTP/1.1\" 200 None\n",
      "2023-12-08 09:41:40 [urllib3.connectionpool] DEBUG: Starting new HTTPS connection (1): www.thenorthfacekorea.co.kr:443\n"
     ]
    },
    {
     "name": "stdout",
     "output_type": "stream",
     "text": [
      "No data found on page 2. Stopping crawling.\n"
     ]
    },
    {
     "name": "stderr",
     "output_type": "stream",
     "text": [
      "2023-12-08 09:41:41 [urllib3.connectionpool] DEBUG: https://www.thenorthfacekorea.co.kr:443 \"GET /product/NV1DP80M/review/list?page=1&pageSize=10&_sort=displayPriority-auditable.dateCreated&_type_sort=asc-desc&productId=4000035347 HTTP/1.1\" 200 None\n",
      "2023-12-08 09:41:41 [urllib3.connectionpool] DEBUG: Starting new HTTPS connection (1): www.thenorthfacekorea.co.kr:443\n",
      "2023-12-08 09:41:42 [urllib3.connectionpool] DEBUG: https://www.thenorthfacekorea.co.kr:443 \"GET /product/NV1DP80M/review/list?page=2&pageSize=10&_sort=displayPriority-auditable.dateCreated&_type_sort=asc-desc&productId=4000035347 HTTP/1.1\" 200 None\n",
      "2023-12-08 09:41:43 [urllib3.connectionpool] DEBUG: Starting new HTTPS connection (1): www.thenorthfacekorea.co.kr:443\n"
     ]
    },
    {
     "name": "stdout",
     "output_type": "stream",
     "text": [
      "No data found on page 2. Stopping crawling.\n"
     ]
    },
    {
     "name": "stderr",
     "output_type": "stream",
     "text": [
      "2023-12-08 09:41:44 [urllib3.connectionpool] DEBUG: https://www.thenorthfacekorea.co.kr:443 \"GET /product/NJ3NP55J/review/list?page=1&pageSize=10&_sort=displayPriority-auditable.dateCreated&_type_sort=asc-desc&productId=4000034800 HTTP/1.1\" 200 None\n",
      "2023-12-08 09:41:44 [urllib3.connectionpool] DEBUG: Starting new HTTPS connection (1): www.thenorthfacekorea.co.kr:443\n",
      "2023-12-08 09:41:45 [urllib3.connectionpool] DEBUG: https://www.thenorthfacekorea.co.kr:443 \"GET /product/NJ3NP55J/review/list?page=2&pageSize=10&_sort=displayPriority-auditable.dateCreated&_type_sort=asc-desc&productId=4000034800 HTTP/1.1\" 200 None\n",
      "2023-12-08 09:41:46 [urllib3.connectionpool] DEBUG: Starting new HTTPS connection (1): www.thenorthfacekorea.co.kr:443\n"
     ]
    },
    {
     "name": "stdout",
     "output_type": "stream",
     "text": [
      "No data found on page 2. Stopping crawling.\n"
     ]
    },
    {
     "name": "stderr",
     "output_type": "stream",
     "text": [
      "2023-12-08 09:41:47 [urllib3.connectionpool] DEBUG: https://www.thenorthfacekorea.co.kr:443 \"GET /product/NJ3NP52J/review/list?page=1&pageSize=10&_sort=displayPriority-auditable.dateCreated&_type_sort=asc-desc&productId=4000034788 HTTP/1.1\" 200 None\n",
      "2023-12-08 09:41:47 [urllib3.connectionpool] DEBUG: Starting new HTTPS connection (1): www.thenorthfacekorea.co.kr:443\n",
      "2023-12-08 09:41:48 [urllib3.connectionpool] DEBUG: https://www.thenorthfacekorea.co.kr:443 \"GET /product/NJ3NP52J/review/list?page=2&pageSize=10&_sort=displayPriority-auditable.dateCreated&_type_sort=asc-desc&productId=4000034788 HTTP/1.1\" 200 None\n",
      "2023-12-08 09:41:49 [urllib3.connectionpool] DEBUG: Starting new HTTPS connection (1): www.thenorthfacekorea.co.kr:443\n"
     ]
    },
    {
     "name": "stdout",
     "output_type": "stream",
     "text": [
      "No data found on page 2. Stopping crawling.\n"
     ]
    },
    {
     "name": "stderr",
     "output_type": "stream",
     "text": [
      "2023-12-08 09:41:50 [urllib3.connectionpool] DEBUG: https://www.thenorthfacekorea.co.kr:443 \"GET /product/NJ1DP91A/review/list?page=1&pageSize=10&_sort=displayPriority-auditable.dateCreated&_type_sort=asc-desc&productId=4000034644 HTTP/1.1\" 200 None\n",
      "2023-12-08 09:41:50 [urllib3.connectionpool] DEBUG: Starting new HTTPS connection (1): www.thenorthfacekorea.co.kr:443\n",
      "2023-12-08 09:41:51 [urllib3.connectionpool] DEBUG: https://www.thenorthfacekorea.co.kr:443 \"GET /product/NJ1DP91A/review/list?page=2&pageSize=10&_sort=displayPriority-auditable.dateCreated&_type_sort=asc-desc&productId=4000034644 HTTP/1.1\" 200 None\n",
      "2023-12-08 09:41:51 [urllib3.connectionpool] DEBUG: Starting new HTTPS connection (1): www.thenorthfacekorea.co.kr:443\n"
     ]
    },
    {
     "name": "stdout",
     "output_type": "stream",
     "text": [
      "No data found on page 2. Stopping crawling.\n"
     ]
    },
    {
     "name": "stderr",
     "output_type": "stream",
     "text": [
      "2023-12-08 09:41:52 [urllib3.connectionpool] DEBUG: https://www.thenorthfacekorea.co.kr:443 \"GET /product/NJ3NP61L/review/list?page=1&pageSize=10&_sort=displayPriority-auditable.dateCreated&_type_sort=asc-desc&productId=4000036714 HTTP/1.1\" 200 None\n",
      "2023-12-08 09:41:53 [urllib3.connectionpool] DEBUG: Starting new HTTPS connection (1): www.thenorthfacekorea.co.kr:443\n",
      "2023-12-08 09:41:54 [urllib3.connectionpool] DEBUG: https://www.thenorthfacekorea.co.kr:443 \"GET /product/NJ3NP61L/review/list?page=2&pageSize=10&_sort=displayPriority-auditable.dateCreated&_type_sort=asc-desc&productId=4000036714 HTTP/1.1\" 200 None\n",
      "2023-12-08 09:41:54 [urllib3.connectionpool] DEBUG: Starting new HTTPS connection (1): www.thenorthfacekorea.co.kr:443\n"
     ]
    },
    {
     "name": "stdout",
     "output_type": "stream",
     "text": [
      "No data found on page 2. Stopping crawling.\n"
     ]
    },
    {
     "name": "stderr",
     "output_type": "stream",
     "text": [
      "2023-12-08 09:41:55 [urllib3.connectionpool] DEBUG: https://www.thenorthfacekorea.co.kr:443 \"GET /product/NJ2DN76A/review/list?page=1&pageSize=10&_sort=displayPriority-auditable.dateCreated&_type_sort=asc-desc&productId=4000029959 HTTP/1.1\" 200 None\n",
      "2023-12-08 09:41:56 [urllib3.connectionpool] DEBUG: Starting new HTTPS connection (1): www.thenorthfacekorea.co.kr:443\n",
      "2023-12-08 09:41:56 [urllib3.connectionpool] DEBUG: https://www.thenorthfacekorea.co.kr:443 \"GET /product/NJ2DN76A/review/list?page=2&pageSize=10&_sort=displayPriority-auditable.dateCreated&_type_sort=asc-desc&productId=4000029959 HTTP/1.1\" 200 None\n",
      "2023-12-08 09:41:56 [urllib3.connectionpool] DEBUG: Starting new HTTPS connection (1): www.thenorthfacekorea.co.kr:443\n"
     ]
    },
    {
     "name": "stdout",
     "output_type": "stream",
     "text": [
      "No data found on page 2. Stopping crawling.\n"
     ]
    },
    {
     "name": "stderr",
     "output_type": "stream",
     "text": [
      "2023-12-08 09:41:57 [urllib3.connectionpool] DEBUG: https://www.thenorthfacekorea.co.kr:443 \"GET /product/NJ1DP54J/review/list?page=1&pageSize=10&_sort=displayPriority-auditable.dateCreated&_type_sort=asc-desc&productId=4000034526 HTTP/1.1\" 200 None\n",
      "2023-12-08 09:41:58 [urllib3.connectionpool] DEBUG: Starting new HTTPS connection (1): www.thenorthfacekorea.co.kr:443\n",
      "2023-12-08 09:41:59 [urllib3.connectionpool] DEBUG: https://www.thenorthfacekorea.co.kr:443 \"GET /product/NJ1DP54J/review/list?page=2&pageSize=10&_sort=displayPriority-auditable.dateCreated&_type_sort=asc-desc&productId=4000034526 HTTP/1.1\" 200 None\n",
      "2023-12-08 09:41:59 [urllib3.connectionpool] DEBUG: Starting new HTTPS connection (1): www.thenorthfacekorea.co.kr:443\n"
     ]
    },
    {
     "name": "stdout",
     "output_type": "stream",
     "text": [
      "No data found on page 2. Stopping crawling.\n"
     ]
    },
    {
     "name": "stderr",
     "output_type": "stream",
     "text": [
      "2023-12-08 09:42:00 [urllib3.connectionpool] DEBUG: https://www.thenorthfacekorea.co.kr:443 \"GET /product/NJ2DP62A/review/list?page=1&pageSize=10&_sort=displayPriority-auditable.dateCreated&_type_sort=asc-desc&productId=4000034663 HTTP/1.1\" 200 None\n",
      "2023-12-08 09:42:00 [urllib3.connectionpool] DEBUG: Starting new HTTPS connection (1): www.thenorthfacekorea.co.kr:443\n",
      "2023-12-08 09:42:01 [urllib3.connectionpool] DEBUG: https://www.thenorthfacekorea.co.kr:443 \"GET /product/NJ2DP62A/review/list?page=2&pageSize=10&_sort=displayPriority-auditable.dateCreated&_type_sort=asc-desc&productId=4000034663 HTTP/1.1\" 200 None\n",
      "2023-12-08 09:42:01 [urllib3.connectionpool] DEBUG: Starting new HTTPS connection (1): www.thenorthfacekorea.co.kr:443\n"
     ]
    },
    {
     "name": "stdout",
     "output_type": "stream",
     "text": [
      "No data found on page 2. Stopping crawling.\n"
     ]
    },
    {
     "name": "stderr",
     "output_type": "stream",
     "text": [
      "2023-12-08 09:42:02 [urllib3.connectionpool] DEBUG: https://www.thenorthfacekorea.co.kr:443 \"GET /product/NJ2DP50A/review/list?page=1&pageSize=10&_sort=displayPriority-auditable.dateCreated&_type_sort=asc-desc&productId=4000034659 HTTP/1.1\" 200 None\n",
      "2023-12-08 09:42:02 [urllib3.connectionpool] DEBUG: Starting new HTTPS connection (1): www.thenorthfacekorea.co.kr:443\n",
      "2023-12-08 09:42:03 [urllib3.connectionpool] DEBUG: https://www.thenorthfacekorea.co.kr:443 \"GET /product/NJ2DP50A/review/list?page=2&pageSize=10&_sort=displayPriority-auditable.dateCreated&_type_sort=asc-desc&productId=4000034659 HTTP/1.1\" 200 None\n",
      "2023-12-08 09:42:03 [urllib3.connectionpool] DEBUG: Starting new HTTPS connection (1): www.thenorthfacekorea.co.kr:443\n"
     ]
    },
    {
     "name": "stdout",
     "output_type": "stream",
     "text": [
      "No data found on page 2. Stopping crawling.\n"
     ]
    },
    {
     "name": "stderr",
     "output_type": "stream",
     "text": [
      "2023-12-08 09:42:04 [urllib3.connectionpool] DEBUG: https://www.thenorthfacekorea.co.kr:443 \"GET /product/NJ1DP72A/review/list?page=1&pageSize=10&_sort=displayPriority-auditable.dateCreated&_type_sort=asc-desc&productId=4000034588 HTTP/1.1\" 200 None\n",
      "2023-12-08 09:42:05 [urllib3.connectionpool] DEBUG: Starting new HTTPS connection (1): www.thenorthfacekorea.co.kr:443\n",
      "2023-12-08 09:42:06 [urllib3.connectionpool] DEBUG: https://www.thenorthfacekorea.co.kr:443 \"GET /product/NJ1DP72A/review/list?page=2&pageSize=10&_sort=displayPriority-auditable.dateCreated&_type_sort=asc-desc&productId=4000034588 HTTP/1.1\" 200 None\n",
      "2023-12-08 09:42:06 [urllib3.connectionpool] DEBUG: Starting new HTTPS connection (1): www.thenorthfacekorea.co.kr:443\n"
     ]
    },
    {
     "name": "stdout",
     "output_type": "stream",
     "text": [
      "No data found on page 2. Stopping crawling.\n"
     ]
    },
    {
     "name": "stderr",
     "output_type": "stream",
     "text": [
      "2023-12-08 09:42:07 [urllib3.connectionpool] DEBUG: https://www.thenorthfacekorea.co.kr:443 \"GET /product/NJ1DP53J/review/list?page=1&pageSize=10&_sort=displayPriority-auditable.dateCreated&_type_sort=asc-desc&productId=4000034520 HTTP/1.1\" 200 None\n",
      "2023-12-08 09:42:07 [urllib3.connectionpool] DEBUG: Starting new HTTPS connection (1): www.thenorthfacekorea.co.kr:443\n",
      "2023-12-08 09:42:08 [urllib3.connectionpool] DEBUG: https://www.thenorthfacekorea.co.kr:443 \"GET /product/NJ1DP53J/review/list?page=2&pageSize=10&_sort=displayPriority-auditable.dateCreated&_type_sort=asc-desc&productId=4000034520 HTTP/1.1\" 200 None\n",
      "2023-12-08 09:42:08 [urllib3.connectionpool] DEBUG: Starting new HTTPS connection (1): www.thenorthfacekorea.co.kr:443\n"
     ]
    },
    {
     "name": "stdout",
     "output_type": "stream",
     "text": [
      "No data found on page 2. Stopping crawling.\n"
     ]
    },
    {
     "name": "stderr",
     "output_type": "stream",
     "text": [
      "2023-12-08 09:42:09 [urllib3.connectionpool] DEBUG: https://www.thenorthfacekorea.co.kr:443 \"GET /product/NJ1DN71A/review/list?page=1&pageSize=10&_sort=displayPriority-auditable.dateCreated&_type_sort=asc-desc&productId=4000029538 HTTP/1.1\" 200 None\n",
      "2023-12-08 09:42:09 [urllib3.connectionpool] DEBUG: Starting new HTTPS connection (1): www.thenorthfacekorea.co.kr:443\n",
      "2023-12-08 09:42:10 [urllib3.connectionpool] DEBUG: https://www.thenorthfacekorea.co.kr:443 \"GET /product/NJ1DN71A/review/list?page=2&pageSize=10&_sort=displayPriority-auditable.dateCreated&_type_sort=asc-desc&productId=4000029538 HTTP/1.1\" 200 None\n",
      "2023-12-08 09:42:10 [urllib3.connectionpool] DEBUG: Starting new HTTPS connection (1): www.thenorthfacekorea.co.kr:443\n"
     ]
    },
    {
     "name": "stdout",
     "output_type": "stream",
     "text": [
      "No data found on page 2. Stopping crawling.\n"
     ]
    },
    {
     "name": "stderr",
     "output_type": "stream",
     "text": [
      "2023-12-08 09:42:11 [urllib3.connectionpool] DEBUG: https://www.thenorthfacekorea.co.kr:443 \"GET /product/NJ1DN50O/review/list?page=1&pageSize=10&_sort=displayPriority-auditable.dateCreated&_type_sort=asc-desc&productId=4000028463 HTTP/1.1\" 200 None\n",
      "2023-12-08 09:42:11 [urllib3.connectionpool] DEBUG: Starting new HTTPS connection (1): www.thenorthfacekorea.co.kr:443\n",
      "2023-12-08 09:42:12 [urllib3.connectionpool] DEBUG: https://www.thenorthfacekorea.co.kr:443 \"GET /product/NJ1DN50O/review/list?page=2&pageSize=10&_sort=displayPriority-auditable.dateCreated&_type_sort=asc-desc&productId=4000028463 HTTP/1.1\" 200 None\n",
      "2023-12-08 09:42:12 [urllib3.connectionpool] DEBUG: Starting new HTTPS connection (1): www.thenorthfacekorea.co.kr:443\n"
     ]
    },
    {
     "name": "stdout",
     "output_type": "stream",
     "text": [
      "No data found on page 2. Stopping crawling.\n"
     ]
    },
    {
     "name": "stderr",
     "output_type": "stream",
     "text": [
      "2023-12-08 09:42:13 [urllib3.connectionpool] DEBUG: https://www.thenorthfacekorea.co.kr:443 \"GET /product/NJ1DP95A/review/list?page=1&pageSize=10&_sort=displayPriority-auditable.dateCreated&_type_sort=asc-desc&productId=4000034649 HTTP/1.1\" 200 None\n",
      "2023-12-08 09:42:14 [urllib3.connectionpool] DEBUG: Starting new HTTPS connection (1): www.thenorthfacekorea.co.kr:443\n",
      "2023-12-08 09:42:14 [urllib3.connectionpool] DEBUG: https://www.thenorthfacekorea.co.kr:443 \"GET /product/NJ1DP95A/review/list?page=2&pageSize=10&_sort=displayPriority-auditable.dateCreated&_type_sort=asc-desc&productId=4000034649 HTTP/1.1\" 200 None\n",
      "2023-12-08 09:42:15 [urllib3.connectionpool] DEBUG: Starting new HTTPS connection (1): www.thenorthfacekorea.co.kr:443\n"
     ]
    },
    {
     "name": "stdout",
     "output_type": "stream",
     "text": [
      "No data found on page 2. Stopping crawling.\n"
     ]
    },
    {
     "name": "stderr",
     "output_type": "stream",
     "text": [
      "2023-12-08 09:42:15 [urllib3.connectionpool] DEBUG: https://www.thenorthfacekorea.co.kr:443 \"GET /product/NJ1DP97A/review/list?page=1&pageSize=10&_sort=displayPriority-auditable.dateCreated&_type_sort=asc-desc&productId=4000034654 HTTP/1.1\" 200 None\n",
      "2023-12-08 09:42:16 [urllib3.connectionpool] DEBUG: Starting new HTTPS connection (1): www.thenorthfacekorea.co.kr:443\n",
      "2023-12-08 09:42:16 [urllib3.connectionpool] DEBUG: https://www.thenorthfacekorea.co.kr:443 \"GET /product/NJ1DP97A/review/list?page=2&pageSize=10&_sort=displayPriority-auditable.dateCreated&_type_sort=asc-desc&productId=4000034654 HTTP/1.1\" 200 None\n",
      "2023-12-08 09:42:17 [urllib3.connectionpool] DEBUG: Starting new HTTPS connection (1): www.thenorthfacekorea.co.kr:443\n"
     ]
    },
    {
     "name": "stdout",
     "output_type": "stream",
     "text": [
      "No data found on page 2. Stopping crawling.\n"
     ]
    },
    {
     "name": "stderr",
     "output_type": "stream",
     "text": [
      "2023-12-08 09:42:18 [urllib3.connectionpool] DEBUG: https://www.thenorthfacekorea.co.kr:443 \"GET /product/NJ1DP98A/review/list?page=1&pageSize=10&_sort=displayPriority-auditable.dateCreated&_type_sort=asc-desc&productId=4000034656 HTTP/1.1\" 200 None\n",
      "2023-12-08 09:42:18 [urllib3.connectionpool] DEBUG: Starting new HTTPS connection (1): www.thenorthfacekorea.co.kr:443\n",
      "2023-12-08 09:42:19 [urllib3.connectionpool] DEBUG: https://www.thenorthfacekorea.co.kr:443 \"GET /product/NJ1DP98A/review/list?page=2&pageSize=10&_sort=displayPriority-auditable.dateCreated&_type_sort=asc-desc&productId=4000034656 HTTP/1.1\" 200 None\n",
      "2023-12-08 09:42:19 [urllib3.connectionpool] DEBUG: Starting new HTTPS connection (1): www.thenorthfacekorea.co.kr:443\n"
     ]
    },
    {
     "name": "stdout",
     "output_type": "stream",
     "text": [
      "No data found on page 2. Stopping crawling.\n"
     ]
    },
    {
     "name": "stderr",
     "output_type": "stream",
     "text": [
      "2023-12-08 09:42:20 [urllib3.connectionpool] DEBUG: https://www.thenorthfacekorea.co.kr:443 \"GET /product/NJ1DQ50A/review/list?page=1&pageSize=10&_sort=displayPriority-auditable.dateCreated&_type_sort=asc-desc&productId=4000036863 HTTP/1.1\" 200 None\n",
      "2023-12-08 09:42:20 [urllib3.connectionpool] DEBUG: Starting new HTTPS connection (1): www.thenorthfacekorea.co.kr:443\n",
      "2023-12-08 09:42:21 [urllib3.connectionpool] DEBUG: https://www.thenorthfacekorea.co.kr:443 \"GET /product/NJ1DQ50A/review/list?page=2&pageSize=10&_sort=displayPriority-auditable.dateCreated&_type_sort=asc-desc&productId=4000036863 HTTP/1.1\" 200 None\n",
      "2023-12-08 09:42:21 [urllib3.connectionpool] DEBUG: Starting new HTTPS connection (1): www.thenorthfacekorea.co.kr:443\n"
     ]
    },
    {
     "name": "stdout",
     "output_type": "stream",
     "text": [
      "No data found on page 2. Stopping crawling.\n"
     ]
    },
    {
     "name": "stderr",
     "output_type": "stream",
     "text": [
      "2023-12-08 09:42:22 [urllib3.connectionpool] DEBUG: https://www.thenorthfacekorea.co.kr:443 \"GET /product/NJ1DP73A/review/list?page=1&pageSize=10&_sort=displayPriority-auditable.dateCreated&_type_sort=asc-desc&productId=4000035946 HTTP/1.1\" 200 None\n",
      "2023-12-08 09:42:22 [urllib3.connectionpool] DEBUG: Starting new HTTPS connection (1): www.thenorthfacekorea.co.kr:443\n",
      "2023-12-08 09:42:23 [urllib3.connectionpool] DEBUG: https://www.thenorthfacekorea.co.kr:443 \"GET /product/NJ1DP73A/review/list?page=2&pageSize=10&_sort=displayPriority-auditable.dateCreated&_type_sort=asc-desc&productId=4000035946 HTTP/1.1\" 200 None\n",
      "2023-12-08 09:42:24 [urllib3.connectionpool] DEBUG: Starting new HTTPS connection (1): www.thenorthfacekorea.co.kr:443\n"
     ]
    },
    {
     "name": "stdout",
     "output_type": "stream",
     "text": [
      "No data found on page 2. Stopping crawling.\n"
     ]
    },
    {
     "name": "stderr",
     "output_type": "stream",
     "text": [
      "2023-12-08 09:42:25 [urllib3.connectionpool] DEBUG: https://www.thenorthfacekorea.co.kr:443 \"GET /product/NJ1DP86A/review/list?page=1&pageSize=10&_sort=displayPriority-auditable.dateCreated&_type_sort=asc-desc&productId=4000034634 HTTP/1.1\" 200 None\n",
      "2023-12-08 09:42:25 [urllib3.connectionpool] DEBUG: Starting new HTTPS connection (1): www.thenorthfacekorea.co.kr:443\n",
      "2023-12-08 09:42:26 [urllib3.connectionpool] DEBUG: https://www.thenorthfacekorea.co.kr:443 \"GET /product/NJ1DP86A/review/list?page=2&pageSize=10&_sort=displayPriority-auditable.dateCreated&_type_sort=asc-desc&productId=4000034634 HTTP/1.1\" 200 None\n",
      "2023-12-08 09:42:26 [urllib3.connectionpool] DEBUG: Starting new HTTPS connection (1): www.thenorthfacekorea.co.kr:443\n"
     ]
    },
    {
     "name": "stdout",
     "output_type": "stream",
     "text": [
      "No data found on page 2. Stopping crawling.\n"
     ]
    },
    {
     "name": "stderr",
     "output_type": "stream",
     "text": [
      "2023-12-08 09:42:27 [urllib3.connectionpool] DEBUG: https://www.thenorthfacekorea.co.kr:443 \"GET /product/NJ1DN00A/review/list?page=1&pageSize=10&_sort=displayPriority-auditable.dateCreated&_type_sort=asc-desc&productId=4000025447 HTTP/1.1\" 200 None\n",
      "2023-12-08 09:42:27 [urllib3.connectionpool] DEBUG: Starting new HTTPS connection (1): www.thenorthfacekorea.co.kr:443\n",
      "2023-12-08 09:42:28 [urllib3.connectionpool] DEBUG: https://www.thenorthfacekorea.co.kr:443 \"GET /product/NJ1DN00A/review/list?page=2&pageSize=10&_sort=displayPriority-auditable.dateCreated&_type_sort=asc-desc&productId=4000025447 HTTP/1.1\" 200 None\n",
      "2023-12-08 09:42:28 [urllib3.connectionpool] DEBUG: Starting new HTTPS connection (1): www.thenorthfacekorea.co.kr:443\n"
     ]
    },
    {
     "name": "stdout",
     "output_type": "stream",
     "text": [
      "No data found on page 2. Stopping crawling.\n"
     ]
    },
    {
     "name": "stderr",
     "output_type": "stream",
     "text": [
      "2023-12-08 09:42:29 [urllib3.connectionpool] DEBUG: https://www.thenorthfacekorea.co.kr:443 \"GET /product/NJ1DN30A/review/list?page=1&pageSize=10&_sort=displayPriority-auditable.dateCreated&_type_sort=asc-desc&productId=4000025449 HTTP/1.1\" 200 None\n",
      "2023-12-08 09:42:29 [urllib3.connectionpool] DEBUG: Starting new HTTPS connection (1): www.thenorthfacekorea.co.kr:443\n"
     ]
    },
    {
     "name": "stdout",
     "output_type": "stream",
     "text": [
      "No data found on page 1. Stopping crawling.\n"
     ]
    },
    {
     "name": "stderr",
     "output_type": "stream",
     "text": [
      "2023-12-08 09:42:30 [urllib3.connectionpool] DEBUG: https://www.thenorthfacekorea.co.kr:443 \"GET /product/NJ1DP61J/review/list?page=1&pageSize=10&_sort=displayPriority-auditable.dateCreated&_type_sort=asc-desc&productId=4000034556 HTTP/1.1\" 200 None\n",
      "2023-12-08 09:42:30 [urllib3.connectionpool] DEBUG: Starting new HTTPS connection (1): www.thenorthfacekorea.co.kr:443\n"
     ]
    },
    {
     "name": "stdout",
     "output_type": "stream",
     "text": [
      "No data found on page 1. Stopping crawling.\n"
     ]
    },
    {
     "name": "stderr",
     "output_type": "stream",
     "text": [
      "2023-12-08 09:42:31 [urllib3.connectionpool] DEBUG: https://www.thenorthfacekorea.co.kr:443 \"GET /product/NJ1DP60A/review/list?page=1&pageSize=10&_sort=displayPriority-auditable.dateCreated&_type_sort=asc-desc&productId=4000034554 HTTP/1.1\" 200 None\n",
      "2023-12-08 09:42:32 [urllib3.connectionpool] DEBUG: Starting new HTTPS connection (1): www.thenorthfacekorea.co.kr:443\n"
     ]
    },
    {
     "name": "stdout",
     "output_type": "stream",
     "text": [
      "No data found on page 1. Stopping crawling.\n"
     ]
    },
    {
     "name": "stderr",
     "output_type": "stream",
     "text": [
      "2023-12-08 09:42:32 [urllib3.connectionpool] DEBUG: https://www.thenorthfacekorea.co.kr:443 \"GET /product/NJ1DP68A/review/list?page=1&pageSize=10&_sort=displayPriority-auditable.dateCreated&_type_sort=asc-desc&productId=4000034583 HTTP/1.1\" 200 None\n",
      "2023-12-08 09:42:33 [urllib3.connectionpool] DEBUG: Starting new HTTPS connection (1): www.thenorthfacekorea.co.kr:443\n",
      "2023-12-08 09:42:33 [urllib3.connectionpool] DEBUG: https://www.thenorthfacekorea.co.kr:443 \"GET /product/NJ1DP68A/review/list?page=2&pageSize=10&_sort=displayPriority-auditable.dateCreated&_type_sort=asc-desc&productId=4000034583 HTTP/1.1\" 200 None\n",
      "2023-12-08 09:42:33 [urllib3.connectionpool] DEBUG: Starting new HTTPS connection (1): www.thenorthfacekorea.co.kr:443\n"
     ]
    },
    {
     "name": "stdout",
     "output_type": "stream",
     "text": [
      "No data found on page 2. Stopping crawling.\n"
     ]
    },
    {
     "name": "stderr",
     "output_type": "stream",
     "text": [
      "2023-12-08 09:42:34 [urllib3.connectionpool] DEBUG: https://www.thenorthfacekorea.co.kr:443 \"GET /product/NJ1DP74A/review/list?page=1&pageSize=10&_sort=displayPriority-auditable.dateCreated&_type_sort=asc-desc&productId=4000034591 HTTP/1.1\" 200 None\n",
      "2023-12-08 09:42:35 [urllib3.connectionpool] DEBUG: Starting new HTTPS connection (1): www.thenorthfacekorea.co.kr:443\n",
      "2023-12-08 09:42:35 [urllib3.connectionpool] DEBUG: https://www.thenorthfacekorea.co.kr:443 \"GET /product/NJ1DP74A/review/list?page=2&pageSize=10&_sort=displayPriority-auditable.dateCreated&_type_sort=asc-desc&productId=4000034591 HTTP/1.1\" 200 None\n",
      "2023-12-08 09:42:36 [urllib3.connectionpool] DEBUG: Starting new HTTPS connection (1): www.thenorthfacekorea.co.kr:443\n"
     ]
    },
    {
     "name": "stdout",
     "output_type": "stream",
     "text": [
      "No data found on page 2. Stopping crawling.\n"
     ]
    },
    {
     "name": "stderr",
     "output_type": "stream",
     "text": [
      "2023-12-08 09:42:36 [urllib3.connectionpool] DEBUG: https://www.thenorthfacekorea.co.kr:443 \"GET /product/NJ3NP56A/review/list?page=1&pageSize=10&_sort=displayPriority-auditable.dateCreated&_type_sort=asc-desc&productId=4000036915 HTTP/1.1\" 200 None\n",
      "2023-12-08 09:42:37 [urllib3.connectionpool] DEBUG: Starting new HTTPS connection (1): www.thenorthfacekorea.co.kr:443\n",
      "2023-12-08 09:42:38 [urllib3.connectionpool] DEBUG: https://www.thenorthfacekorea.co.kr:443 \"GET /product/NJ3NP56A/review/list?page=2&pageSize=10&_sort=displayPriority-auditable.dateCreated&_type_sort=asc-desc&productId=4000036915 HTTP/1.1\" 200 None\n",
      "2023-12-08 09:42:38 [urllib3.connectionpool] DEBUG: Starting new HTTPS connection (1): www.thenorthfacekorea.co.kr:443\n"
     ]
    },
    {
     "name": "stdout",
     "output_type": "stream",
     "text": [
      "No data found on page 2. Stopping crawling.\n"
     ]
    },
    {
     "name": "stderr",
     "output_type": "stream",
     "text": [
      "2023-12-08 09:42:39 [urllib3.connectionpool] DEBUG: https://www.thenorthfacekorea.co.kr:443 \"GET /product/NJ3NP85A/review/list?page=1&pageSize=10&_sort=displayPriority-auditable.dateCreated&_type_sort=asc-desc&productId=4000034462 HTTP/1.1\" 200 None\n",
      "2023-12-08 09:42:39 [urllib3.connectionpool] DEBUG: Starting new HTTPS connection (1): www.thenorthfacekorea.co.kr:443\n",
      "2023-12-08 09:42:40 [urllib3.connectionpool] DEBUG: https://www.thenorthfacekorea.co.kr:443 \"GET /product/NJ3NP85A/review/list?page=2&pageSize=10&_sort=displayPriority-auditable.dateCreated&_type_sort=asc-desc&productId=4000034462 HTTP/1.1\" 200 None\n",
      "2023-12-08 09:42:41 [urllib3.connectionpool] DEBUG: Starting new HTTPS connection (1): www.thenorthfacekorea.co.kr:443\n",
      "2023-12-08 09:42:42 [urllib3.connectionpool] DEBUG: https://www.thenorthfacekorea.co.kr:443 \"GET /product/NJ3NP85A/review/list?page=3&pageSize=10&_sort=displayPriority-auditable.dateCreated&_type_sort=asc-desc&productId=4000034462 HTTP/1.1\" 200 None\n",
      "2023-12-08 09:42:42 [urllib3.connectionpool] DEBUG: Starting new HTTPS connection (1): www.thenorthfacekorea.co.kr:443\n",
      "2023-12-08 09:42:43 [urllib3.connectionpool] DEBUG: https://www.thenorthfacekorea.co.kr:443 \"GET /product/NJ3NP85A/review/list?page=4&pageSize=10&_sort=displayPriority-auditable.dateCreated&_type_sort=asc-desc&productId=4000034462 HTTP/1.1\" 200 None\n",
      "2023-12-08 09:42:43 [urllib3.connectionpool] DEBUG: Starting new HTTPS connection (1): www.thenorthfacekorea.co.kr:443\n",
      "2023-12-08 09:42:45 [urllib3.connectionpool] DEBUG: https://www.thenorthfacekorea.co.kr:443 \"GET /product/NJ3NP85A/review/list?page=5&pageSize=10&_sort=displayPriority-auditable.dateCreated&_type_sort=asc-desc&productId=4000034462 HTTP/1.1\" 200 None\n",
      "2023-12-08 09:42:45 [urllib3.connectionpool] DEBUG: Starting new HTTPS connection (1): www.thenorthfacekorea.co.kr:443\n"
     ]
    },
    {
     "name": "stdout",
     "output_type": "stream",
     "text": [
      "No data found on page 5. Stopping crawling.\n"
     ]
    },
    {
     "name": "stderr",
     "output_type": "stream",
     "text": [
      "2023-12-08 09:42:46 [urllib3.connectionpool] DEBUG: https://www.thenorthfacekorea.co.kr:443 \"GET /product/NV1DP82A/review/list?page=1&pageSize=10&_sort=displayPriority-auditable.dateCreated&_type_sort=asc-desc&productId=4000035351 HTTP/1.1\" 200 None\n",
      "2023-12-08 09:42:46 [urllib3.connectionpool] DEBUG: Starting new HTTPS connection (1): www.thenorthfacekorea.co.kr:443\n"
     ]
    },
    {
     "name": "stdout",
     "output_type": "stream",
     "text": [
      "No data found on page 1. Stopping crawling.\n"
     ]
    },
    {
     "name": "stderr",
     "output_type": "stream",
     "text": [
      "2023-12-08 09:42:47 [urllib3.connectionpool] DEBUG: https://www.thenorthfacekorea.co.kr:443 \"GET /product/NJ1DP31B/review/list?page=1&pageSize=10&_sort=displayPriority-auditable.dateCreated&_type_sort=asc-desc&productId=4000031549 HTTP/1.1\" 200 None\n",
      "2023-12-08 09:42:47 [urllib3.connectionpool] DEBUG: Starting new HTTPS connection (1): www.thenorthfacekorea.co.kr:443\n",
      "2023-12-08 09:42:48 [urllib3.connectionpool] DEBUG: https://www.thenorthfacekorea.co.kr:443 \"GET /product/NJ1DP31B/review/list?page=2&pageSize=10&_sort=displayPriority-auditable.dateCreated&_type_sort=asc-desc&productId=4000031549 HTTP/1.1\" 200 None\n",
      "2023-12-08 09:42:49 [urllib3.connectionpool] DEBUG: Starting new HTTPS connection (1): www.thenorthfacekorea.co.kr:443\n"
     ]
    },
    {
     "name": "stdout",
     "output_type": "stream",
     "text": [
      "No data found on page 2. Stopping crawling.\n"
     ]
    },
    {
     "name": "stderr",
     "output_type": "stream",
     "text": [
      "2023-12-08 09:42:50 [urllib3.connectionpool] DEBUG: https://www.thenorthfacekorea.co.kr:443 \"GET /product/NJ1DP70A/review/list?page=1&pageSize=10&_sort=displayPriority-auditable.dateCreated&_type_sort=asc-desc&productId=4000034587 HTTP/1.1\" 200 None\n",
      "2023-12-08 09:42:51 [urllib3.connectionpool] DEBUG: Starting new HTTPS connection (1): www.thenorthfacekorea.co.kr:443\n"
     ]
    },
    {
     "name": "stdout",
     "output_type": "stream",
     "text": [
      "No data found on page 1. Stopping crawling.\n"
     ]
    },
    {
     "name": "stderr",
     "output_type": "stream",
     "text": [
      "2023-12-08 09:42:52 [urllib3.connectionpool] DEBUG: https://www.thenorthfacekorea.co.kr:443 \"GET /product/NJ3NP80J/review/list?page=1&pageSize=10&_sort=displayPriority-auditable.dateCreated&_type_sort=asc-desc&productId=4000034842 HTTP/1.1\" 200 None\n",
      "2023-12-08 09:42:52 [urllib3.connectionpool] DEBUG: Starting new HTTPS connection (1): www.thenorthfacekorea.co.kr:443\n",
      "2023-12-08 09:42:53 [urllib3.connectionpool] DEBUG: https://www.thenorthfacekorea.co.kr:443 \"GET /product/NJ3NP80J/review/list?page=2&pageSize=10&_sort=displayPriority-auditable.dateCreated&_type_sort=asc-desc&productId=4000034842 HTTP/1.1\" 200 None\n",
      "2023-12-08 09:42:53 [urllib3.connectionpool] DEBUG: Starting new HTTPS connection (1): www.thenorthfacekorea.co.kr:443\n"
     ]
    },
    {
     "name": "stdout",
     "output_type": "stream",
     "text": [
      "No data found on page 2. Stopping crawling.\n"
     ]
    },
    {
     "name": "stderr",
     "output_type": "stream",
     "text": [
      "2023-12-08 09:42:54 [urllib3.connectionpool] DEBUG: https://www.thenorthfacekorea.co.kr:443 \"GET /product/NV3NP51J/review/list?page=1&pageSize=10&_sort=displayPriority-auditable.dateCreated&_type_sort=asc-desc&productId=4000035360 HTTP/1.1\" 200 None\n",
      "2023-12-08 09:42:54 [urllib3.connectionpool] DEBUG: Starting new HTTPS connection (1): www.thenorthfacekorea.co.kr:443\n"
     ]
    },
    {
     "name": "stdout",
     "output_type": "stream",
     "text": [
      "No data found on page 1. Stopping crawling.\n"
     ]
    },
    {
     "name": "stderr",
     "output_type": "stream",
     "text": [
      "2023-12-08 09:42:56 [urllib3.connectionpool] DEBUG: https://www.thenorthfacekorea.co.kr:443 \"GET /product/NJ2PP50A/review/list?page=1&pageSize=10&_sort=displayPriority-auditable.dateCreated&_type_sort=asc-desc&productId=4000034715 HTTP/1.1\" 200 None\n",
      "2023-12-08 09:42:56 [urllib3.connectionpool] DEBUG: Starting new HTTPS connection (1): www.thenorthfacekorea.co.kr:443\n",
      "2023-12-08 09:42:57 [urllib3.connectionpool] DEBUG: https://www.thenorthfacekorea.co.kr:443 \"GET /product/NJ2PP50A/review/list?page=2&pageSize=10&_sort=displayPriority-auditable.dateCreated&_type_sort=asc-desc&productId=4000034715 HTTP/1.1\" 200 None\n",
      "2023-12-08 09:42:57 [urllib3.connectionpool] DEBUG: Starting new HTTPS connection (1): www.thenorthfacekorea.co.kr:443\n"
     ]
    },
    {
     "name": "stdout",
     "output_type": "stream",
     "text": [
      "No data found on page 2. Stopping crawling.\n"
     ]
    },
    {
     "name": "stderr",
     "output_type": "stream",
     "text": [
      "2023-12-08 09:42:59 [urllib3.connectionpool] DEBUG: https://www.thenorthfacekorea.co.kr:443 \"GET /product/NC2UP80A/review/list?page=1&pageSize=10&_sort=displayPriority-auditable.dateCreated&_type_sort=asc-desc&productId=4000034204 HTTP/1.1\" 200 None\n",
      "2023-12-08 09:42:59 [urllib3.connectionpool] DEBUG: Starting new HTTPS connection (1): www.thenorthfacekorea.co.kr:443\n",
      "2023-12-08 09:43:00 [urllib3.connectionpool] DEBUG: https://www.thenorthfacekorea.co.kr:443 \"GET /product/NC2UP80A/review/list?page=2&pageSize=10&_sort=displayPriority-auditable.dateCreated&_type_sort=asc-desc&productId=4000034204 HTTP/1.1\" 200 None\n",
      "2023-12-08 09:43:00 [urllib3.connectionpool] DEBUG: Starting new HTTPS connection (1): www.thenorthfacekorea.co.kr:443\n"
     ]
    },
    {
     "name": "stdout",
     "output_type": "stream",
     "text": [
      "No data found on page 2. Stopping crawling.\n"
     ]
    },
    {
     "name": "stderr",
     "output_type": "stream",
     "text": [
      "2023-12-08 09:43:01 [urllib3.connectionpool] DEBUG: https://www.thenorthfacekorea.co.kr:443 \"GET /product/NJ3NP63A/review/list?page=1&pageSize=10&_sort=displayPriority-auditable.dateCreated&_type_sort=asc-desc&productId=4000034826 HTTP/1.1\" 200 None\n",
      "2023-12-08 09:43:02 [urllib3.connectionpool] DEBUG: Starting new HTTPS connection (1): www.thenorthfacekorea.co.kr:443\n",
      "2023-12-08 09:43:03 [urllib3.connectionpool] DEBUG: https://www.thenorthfacekorea.co.kr:443 \"GET /product/NJ3NP63A/review/list?page=2&pageSize=10&_sort=displayPriority-auditable.dateCreated&_type_sort=asc-desc&productId=4000034826 HTTP/1.1\" 200 None\n",
      "2023-12-08 09:43:03 [urllib3.connectionpool] DEBUG: Starting new HTTPS connection (1): www.thenorthfacekorea.co.kr:443\n",
      "2023-12-08 09:43:04 [urllib3.connectionpool] DEBUG: https://www.thenorthfacekorea.co.kr:443 \"GET /product/NJ3NP63A/review/list?page=3&pageSize=10&_sort=displayPriority-auditable.dateCreated&_type_sort=asc-desc&productId=4000034826 HTTP/1.1\" 200 None\n",
      "2023-12-08 09:43:05 [urllib3.connectionpool] DEBUG: Starting new HTTPS connection (1): www.thenorthfacekorea.co.kr:443\n"
     ]
    },
    {
     "name": "stdout",
     "output_type": "stream",
     "text": [
      "No data found on page 3. Stopping crawling.\n"
     ]
    },
    {
     "name": "stderr",
     "output_type": "stream",
     "text": [
      "2023-12-08 09:43:06 [urllib3.connectionpool] DEBUG: https://www.thenorthfacekorea.co.kr:443 \"GET /product/NJ3NP64A/review/list?page=1&pageSize=10&_sort=displayPriority-auditable.dateCreated&_type_sort=asc-desc&productId=4000034829 HTTP/1.1\" 200 None\n",
      "2023-12-08 09:43:06 [urllib3.connectionpool] DEBUG: Starting new HTTPS connection (1): www.thenorthfacekorea.co.kr:443\n",
      "2023-12-08 09:43:08 [urllib3.connectionpool] DEBUG: https://www.thenorthfacekorea.co.kr:443 \"GET /product/NJ3NP64A/review/list?page=2&pageSize=10&_sort=displayPriority-auditable.dateCreated&_type_sort=asc-desc&productId=4000034829 HTTP/1.1\" 200 None\n",
      "2023-12-08 09:43:08 [urllib3.connectionpool] DEBUG: Starting new HTTPS connection (1): www.thenorthfacekorea.co.kr:443\n",
      "2023-12-08 09:43:09 [urllib3.connectionpool] DEBUG: https://www.thenorthfacekorea.co.kr:443 \"GET /product/NJ3NP64A/review/list?page=3&pageSize=10&_sort=displayPriority-auditable.dateCreated&_type_sort=asc-desc&productId=4000034829 HTTP/1.1\" 200 None\n",
      "2023-12-08 09:43:10 [urllib3.connectionpool] DEBUG: Starting new HTTPS connection (1): www.thenorthfacekorea.co.kr:443\n",
      "2023-12-08 09:43:11 [urllib3.connectionpool] DEBUG: https://www.thenorthfacekorea.co.kr:443 \"GET /product/NJ3NP64A/review/list?page=4&pageSize=10&_sort=displayPriority-auditable.dateCreated&_type_sort=asc-desc&productId=4000034829 HTTP/1.1\" 200 None\n",
      "2023-12-08 09:43:11 [urllib3.connectionpool] DEBUG: Starting new HTTPS connection (1): www.thenorthfacekorea.co.kr:443\n",
      "2023-12-08 09:43:12 [urllib3.connectionpool] DEBUG: https://www.thenorthfacekorea.co.kr:443 \"GET /product/NJ3NP64A/review/list?page=5&pageSize=10&_sort=displayPriority-auditable.dateCreated&_type_sort=asc-desc&productId=4000034829 HTTP/1.1\" 200 None\n",
      "2023-12-08 09:43:13 [urllib3.connectionpool] DEBUG: Starting new HTTPS connection (1): www.thenorthfacekorea.co.kr:443\n",
      "2023-12-08 09:43:14 [urllib3.connectionpool] DEBUG: https://www.thenorthfacekorea.co.kr:443 \"GET /product/NJ3NP64A/review/list?page=6&pageSize=10&_sort=displayPriority-auditable.dateCreated&_type_sort=asc-desc&productId=4000034829 HTTP/1.1\" 200 None\n",
      "2023-12-08 09:43:15 [urllib3.connectionpool] DEBUG: Starting new HTTPS connection (1): www.thenorthfacekorea.co.kr:443\n",
      "2023-12-08 09:43:16 [urllib3.connectionpool] DEBUG: https://www.thenorthfacekorea.co.kr:443 \"GET /product/NJ3NP64A/review/list?page=7&pageSize=10&_sort=displayPriority-auditable.dateCreated&_type_sort=asc-desc&productId=4000034829 HTTP/1.1\" 200 None\n",
      "2023-12-08 09:43:16 [urllib3.connectionpool] DEBUG: Starting new HTTPS connection (1): www.thenorthfacekorea.co.kr:443\n",
      "2023-12-08 09:43:18 [urllib3.connectionpool] DEBUG: https://www.thenorthfacekorea.co.kr:443 \"GET /product/NJ3NP64A/review/list?page=8&pageSize=10&_sort=displayPriority-auditable.dateCreated&_type_sort=asc-desc&productId=4000034829 HTTP/1.1\" 200 None\n",
      "2023-12-08 09:43:18 [urllib3.connectionpool] DEBUG: Starting new HTTPS connection (1): www.thenorthfacekorea.co.kr:443\n",
      "2023-12-08 09:43:19 [urllib3.connectionpool] DEBUG: https://www.thenorthfacekorea.co.kr:443 \"GET /product/NJ3NP64A/review/list?page=9&pageSize=10&_sort=displayPriority-auditable.dateCreated&_type_sort=asc-desc&productId=4000034829 HTTP/1.1\" 200 None\n",
      "2023-12-08 09:43:19 [urllib3.connectionpool] DEBUG: Starting new HTTPS connection (1): www.thenorthfacekorea.co.kr:443\n",
      "2023-12-08 09:43:21 [urllib3.connectionpool] DEBUG: https://www.thenorthfacekorea.co.kr:443 \"GET /product/NJ3NP64A/review/list?page=10&pageSize=10&_sort=displayPriority-auditable.dateCreated&_type_sort=asc-desc&productId=4000034829 HTTP/1.1\" 200 None\n",
      "2023-12-08 09:43:21 [urllib3.connectionpool] DEBUG: Starting new HTTPS connection (1): www.thenorthfacekorea.co.kr:443\n"
     ]
    },
    {
     "name": "stdout",
     "output_type": "stream",
     "text": [
      "No data found on page 10. Stopping crawling.\n"
     ]
    },
    {
     "name": "stderr",
     "output_type": "stream",
     "text": [
      "2023-12-08 09:43:22 [urllib3.connectionpool] DEBUG: https://www.thenorthfacekorea.co.kr:443 \"GET /product/NC3NP51J/review/list?page=1&pageSize=10&_sort=displayPriority-auditable.dateCreated&_type_sort=asc-desc&productId=4000034207 HTTP/1.1\" 200 None\n",
      "2023-12-08 09:43:22 [urllib3.connectionpool] DEBUG: Starting new HTTPS connection (1): www.thenorthfacekorea.co.kr:443\n",
      "2023-12-08 09:43:23 [urllib3.connectionpool] DEBUG: https://www.thenorthfacekorea.co.kr:443 \"GET /product/NC3NP51J/review/list?page=2&pageSize=10&_sort=displayPriority-auditable.dateCreated&_type_sort=asc-desc&productId=4000034207 HTTP/1.1\" 200 None\n",
      "2023-12-08 09:43:24 [urllib3.connectionpool] DEBUG: Starting new HTTPS connection (1): www.thenorthfacekorea.co.kr:443\n"
     ]
    },
    {
     "name": "stdout",
     "output_type": "stream",
     "text": [
      "No data found on page 2. Stopping crawling.\n"
     ]
    },
    {
     "name": "stderr",
     "output_type": "stream",
     "text": [
      "2023-12-08 09:43:25 [urllib3.connectionpool] DEBUG: https://www.thenorthfacekorea.co.kr:443 \"GET /product/NJ2UP64A/review/list?page=1&pageSize=10&_sort=displayPriority-auditable.dateCreated&_type_sort=asc-desc&productId=4000034717 HTTP/1.1\" 200 None\n",
      "2023-12-08 09:43:25 [urllib3.connectionpool] DEBUG: Starting new HTTPS connection (1): www.thenorthfacekorea.co.kr:443\n"
     ]
    },
    {
     "name": "stdout",
     "output_type": "stream",
     "text": [
      "No data found on page 1. Stopping crawling.\n"
     ]
    },
    {
     "name": "stderr",
     "output_type": "stream",
     "text": [
      "2023-12-08 09:43:26 [urllib3.connectionpool] DEBUG: https://www.thenorthfacekorea.co.kr:443 \"GET /product/NC2DP50A/review/list?page=1&pageSize=10&_sort=displayPriority-auditable.dateCreated&_type_sort=asc-desc&productId=4000034192 HTTP/1.1\" 200 None\n",
      "2023-12-08 09:43:27 [urllib3.connectionpool] DEBUG: Starting new HTTPS connection (1): www.thenorthfacekorea.co.kr:443\n",
      "2023-12-08 09:43:28 [urllib3.connectionpool] DEBUG: https://www.thenorthfacekorea.co.kr:443 \"GET /product/NC2DP50A/review/list?page=2&pageSize=10&_sort=displayPriority-auditable.dateCreated&_type_sort=asc-desc&productId=4000034192 HTTP/1.1\" 200 None\n",
      "2023-12-08 09:43:28 [urllib3.connectionpool] DEBUG: Starting new HTTPS connection (1): www.thenorthfacekorea.co.kr:443\n"
     ]
    },
    {
     "name": "stdout",
     "output_type": "stream",
     "text": [
      "No data found on page 2. Stopping crawling.\n"
     ]
    },
    {
     "name": "stderr",
     "output_type": "stream",
     "text": [
      "2023-12-08 09:43:29 [urllib3.connectionpool] DEBUG: https://www.thenorthfacekorea.co.kr:443 \"GET /product/NJ3NP60J/review/list?page=1&pageSize=10&_sort=displayPriority-auditable.dateCreated&_type_sort=asc-desc&productId=4000035735 HTTP/1.1\" 200 None\n",
      "2023-12-08 09:43:30 [urllib3.connectionpool] DEBUG: Starting new HTTPS connection (1): www.thenorthfacekorea.co.kr:443\n",
      "2023-12-08 09:43:31 [urllib3.connectionpool] DEBUG: https://www.thenorthfacekorea.co.kr:443 \"GET /product/NJ3NP60J/review/list?page=2&pageSize=10&_sort=displayPriority-auditable.dateCreated&_type_sort=asc-desc&productId=4000035735 HTTP/1.1\" 200 None\n",
      "2023-12-08 09:43:31 [urllib3.connectionpool] DEBUG: Starting new HTTPS connection (1): www.thenorthfacekorea.co.kr:443\n"
     ]
    },
    {
     "name": "stdout",
     "output_type": "stream",
     "text": [
      "No data found on page 2. Stopping crawling.\n"
     ]
    },
    {
     "name": "stderr",
     "output_type": "stream",
     "text": [
      "2023-12-08 09:43:32 [urllib3.connectionpool] DEBUG: https://www.thenorthfacekorea.co.kr:443 \"GET /product/NJ3NP65A/review/list?page=1&pageSize=10&_sort=displayPriority-auditable.dateCreated&_type_sort=asc-desc&productId=4000034832 HTTP/1.1\" 200 None\n",
      "2023-12-08 09:43:32 [urllib3.connectionpool] DEBUG: Starting new HTTPS connection (1): www.thenorthfacekorea.co.kr:443\n",
      "2023-12-08 09:43:34 [urllib3.connectionpool] DEBUG: https://www.thenorthfacekorea.co.kr:443 \"GET /product/NJ3NP65A/review/list?page=2&pageSize=10&_sort=displayPriority-auditable.dateCreated&_type_sort=asc-desc&productId=4000034832 HTTP/1.1\" 200 None\n",
      "2023-12-08 09:43:34 [urllib3.connectionpool] DEBUG: Starting new HTTPS connection (1): www.thenorthfacekorea.co.kr:443\n"
     ]
    },
    {
     "name": "stdout",
     "output_type": "stream",
     "text": [
      "No data found on page 2. Stopping crawling.\n"
     ]
    },
    {
     "name": "stderr",
     "output_type": "stream",
     "text": [
      "2023-12-08 09:43:35 [urllib3.connectionpool] DEBUG: https://www.thenorthfacekorea.co.kr:443 \"GET /product/NC3NP80A/review/list?page=1&pageSize=10&_sort=displayPriority-auditable.dateCreated&_type_sort=asc-desc&productId=4000035662 HTTP/1.1\" 200 None\n",
      "2023-12-08 09:43:35 [urllib3.connectionpool] DEBUG: Starting new HTTPS connection (1): www.thenorthfacekorea.co.kr:443\n",
      "2023-12-08 09:43:36 [urllib3.connectionpool] DEBUG: https://www.thenorthfacekorea.co.kr:443 \"GET /product/NC3NP80A/review/list?page=2&pageSize=10&_sort=displayPriority-auditable.dateCreated&_type_sort=asc-desc&productId=4000035662 HTTP/1.1\" 200 None\n",
      "2023-12-08 09:43:37 [urllib3.connectionpool] DEBUG: Starting new HTTPS connection (1): www.thenorthfacekorea.co.kr:443\n"
     ]
    },
    {
     "name": "stdout",
     "output_type": "stream",
     "text": [
      "No data found on page 2. Stopping crawling.\n"
     ]
    },
    {
     "name": "stderr",
     "output_type": "stream",
     "text": [
      "2023-12-08 09:43:38 [urllib3.connectionpool] DEBUG: https://www.thenorthfacekorea.co.kr:443 \"GET /product/NJ3NP80B/review/list?page=1&pageSize=10&_sort=displayPriority-auditable.dateCreated&_type_sort=asc-desc&productId=4000034411 HTTP/1.1\" 200 None\n",
      "2023-12-08 09:43:39 [urllib3.connectionpool] DEBUG: Starting new HTTPS connection (1): www.thenorthfacekorea.co.kr:443\n",
      "2023-12-08 09:43:40 [urllib3.connectionpool] DEBUG: https://www.thenorthfacekorea.co.kr:443 \"GET /product/NJ3NP80B/review/list?page=2&pageSize=10&_sort=displayPriority-auditable.dateCreated&_type_sort=asc-desc&productId=4000034411 HTTP/1.1\" 200 None\n",
      "2023-12-08 09:43:40 [urllib3.connectionpool] DEBUG: Starting new HTTPS connection (1): www.thenorthfacekorea.co.kr:443\n",
      "2023-12-08 09:43:41 [urllib3.connectionpool] DEBUG: https://www.thenorthfacekorea.co.kr:443 \"GET /product/NJ3NP80B/review/list?page=3&pageSize=10&_sort=displayPriority-auditable.dateCreated&_type_sort=asc-desc&productId=4000034411 HTTP/1.1\" 200 None\n",
      "2023-12-08 09:43:42 [urllib3.connectionpool] DEBUG: Starting new HTTPS connection (1): www.thenorthfacekorea.co.kr:443\n",
      "2023-12-08 09:43:43 [urllib3.connectionpool] DEBUG: https://www.thenorthfacekorea.co.kr:443 \"GET /product/NJ3NP80B/review/list?page=4&pageSize=10&_sort=displayPriority-auditable.dateCreated&_type_sort=asc-desc&productId=4000034411 HTTP/1.1\" 200 None\n",
      "2023-12-08 09:43:43 [urllib3.connectionpool] DEBUG: Starting new HTTPS connection (1): www.thenorthfacekorea.co.kr:443\n"
     ]
    },
    {
     "name": "stdout",
     "output_type": "stream",
     "text": [
      "No data found on page 4. Stopping crawling.\n"
     ]
    },
    {
     "name": "stderr",
     "output_type": "stream",
     "text": [
      "2023-12-08 09:43:44 [urllib3.connectionpool] DEBUG: https://www.thenorthfacekorea.co.kr:443 \"GET /product/NJ3NP72A/review/list?page=1&pageSize=10&_sort=displayPriority-auditable.dateCreated&_type_sort=asc-desc&productId=4000034839 HTTP/1.1\" 200 None\n",
      "2023-12-08 09:43:45 [urllib3.connectionpool] DEBUG: Starting new HTTPS connection (1): www.thenorthfacekorea.co.kr:443\n",
      "2023-12-08 09:43:46 [urllib3.connectionpool] DEBUG: https://www.thenorthfacekorea.co.kr:443 \"GET /product/NJ3NP72A/review/list?page=2&pageSize=10&_sort=displayPriority-auditable.dateCreated&_type_sort=asc-desc&productId=4000034839 HTTP/1.1\" 200 None\n",
      "2023-12-08 09:43:46 [urllib3.connectionpool] DEBUG: Starting new HTTPS connection (1): www.thenorthfacekorea.co.kr:443\n"
     ]
    },
    {
     "name": "stdout",
     "output_type": "stream",
     "text": [
      "No data found on page 2. Stopping crawling.\n"
     ]
    },
    {
     "name": "stderr",
     "output_type": "stream",
     "text": [
      "2023-12-08 09:43:47 [urllib3.connectionpool] DEBUG: https://www.thenorthfacekorea.co.kr:443 \"GET /product/NV3NP70A/review/list?page=1&pageSize=10&_sort=displayPriority-auditable.dateCreated&_type_sort=asc-desc&productId=4000035368 HTTP/1.1\" 200 None\n",
      "2023-12-08 09:43:47 [urllib3.connectionpool] DEBUG: Starting new HTTPS connection (1): www.thenorthfacekorea.co.kr:443\n"
     ]
    },
    {
     "name": "stdout",
     "output_type": "stream",
     "text": [
      "No data found on page 1. Stopping crawling.\n"
     ]
    },
    {
     "name": "stderr",
     "output_type": "stream",
     "text": [
      "2023-12-08 09:43:48 [urllib3.connectionpool] DEBUG: https://www.thenorthfacekorea.co.kr:443 \"GET /product/NC1DK71A/review/list?page=1&pageSize=10&_sort=displayPriority-auditable.dateCreated&_type_sort=asc-desc&productId= HTTP/1.1\" 500 4022\n",
      "2023-12-08 09:43:48 [urllib3.connectionpool] DEBUG: Starting new HTTPS connection (1): www.thenorthfacekorea.co.kr:443\n"
     ]
    },
    {
     "name": "stdout",
     "output_type": "stream",
     "text": [
      "Failed to retrieve page 1. Status code: 500\n"
     ]
    },
    {
     "name": "stderr",
     "output_type": "stream",
     "text": [
      "2023-12-08 09:43:49 [urllib3.connectionpool] DEBUG: https://www.thenorthfacekorea.co.kr:443 \"GET /product/NJ5SM50B/review/list?page=1&pageSize=10&_sort=displayPriority-auditable.dateCreated&_type_sort=asc-desc&productId=4000019604 HTTP/1.1\" 200 None\n",
      "2023-12-08 09:43:50 [urllib3.connectionpool] DEBUG: Starting new HTTPS connection (1): www.thenorthfacekorea.co.kr:443\n"
     ]
    },
    {
     "name": "stdout",
     "output_type": "stream",
     "text": [
      "No data found on page 1. Stopping crawling.\n"
     ]
    },
    {
     "name": "stderr",
     "output_type": "stream",
     "text": [
      "2023-12-08 09:43:51 [urllib3.connectionpool] DEBUG: https://www.thenorthfacekorea.co.kr:443 \"GET /product/NJ5SM51A/review/list?page=1&pageSize=10&_sort=displayPriority-auditable.dateCreated&_type_sort=asc-desc&productId=4000019605 HTTP/1.1\" 200 None\n",
      "2023-12-08 09:43:51 [urllib3.connectionpool] DEBUG: Starting new HTTPS connection (1): www.thenorthfacekorea.co.kr:443\n",
      "2023-12-08 09:43:52 [urllib3.connectionpool] DEBUG: https://www.thenorthfacekorea.co.kr:443 \"GET /product/NJ5SM51A/review/list?page=2&pageSize=10&_sort=displayPriority-auditable.dateCreated&_type_sort=asc-desc&productId=4000019605 HTTP/1.1\" 200 None\n"
     ]
    },
    {
     "name": "stdout",
     "output_type": "stream",
     "text": [
      "No data found on page 2. Stopping crawling.\n"
     ]
    }
   ],
   "source": [
    "for index, row in list_df.iterrows():\n",
    "    product_url = row['Product_URL']\n",
    "    product_id = row['Product_id']\n",
    "\n",
    "    page_number = 1\n",
    "\n",
    "    while True:\n",
    "        df_tmp = crawl_page(product_url,product_id,page_number)\n",
    "\n",
    "        if df_tmp is None:\n",
    "            break\n",
    "\n",
    "        df_reviews = pd.concat([df_reviews, df_tmp], ignore_index=True)\n",
    "        page_number += 1"
   ]
  },
  {
   "cell_type": "code",
   "execution_count": 92,
   "metadata": {},
   "outputs": [
    {
     "name": "stdout",
     "output_type": "stream",
     "text": [
      "Product_URL      NJ1DP85J\n",
      "Product_id     4000034562\n",
      "Name: 0, dtype: object\n",
      "Product_URL      NJ1DP96A\n",
      "Product_id     4000034562\n",
      "Name: 1, dtype: object\n",
      "Product_URL      NV3NP50A\n",
      "Product_id     4000034562\n",
      "Name: 2, dtype: object\n",
      "Product_URL      NJ1DP58A\n",
      "Product_id     4000034562\n",
      "Name: 3, dtype: object\n",
      "Product_URL      NJ1DP87J\n",
      "Product_id     4000034562\n",
      "Name: 4, dtype: object\n",
      "Product_URL      NC2DN99A\n",
      "Product_id     4000034562\n",
      "Name: 5, dtype: object\n",
      "Product_URL      NJ1DN76B\n",
      "Product_id     4000034562\n",
      "Name: 6, dtype: object\n",
      "Product_URL      NJ1DP86J\n",
      "Product_id     4000034562\n",
      "Name: 7, dtype: object\n",
      "Product_URL      NV1DP55A\n",
      "Product_id     4000034562\n",
      "Name: 8, dtype: object\n",
      "Product_URL      NJ3NN63A\n",
      "Product_id     4000034562\n",
      "Name: 9, dtype: object\n",
      "Product_URL      NJ1DP99A\n",
      "Product_id     4000034562\n",
      "Name: 10, dtype: object\n",
      "Product_URL      NC1DP79A\n",
      "Product_id     4000034562\n",
      "Name: 11, dtype: object\n",
      "Product_URL      NJ1DP69A\n",
      "Product_id     4000034562\n",
      "Name: 12, dtype: object\n",
      "Product_URL      NV3NP55A\n",
      "Product_id     4000034562\n",
      "Name: 13, dtype: object\n",
      "Product_URL      NJ1DN51K\n",
      "Product_id     4000034562\n",
      "Name: 14, dtype: object\n",
      "Product_URL      NJ1DN51Q\n",
      "Product_id     4000034562\n",
      "Name: 15, dtype: object\n",
      "Product_URL      NJ1DP81A\n",
      "Product_id     4000034562\n",
      "Name: 16, dtype: object\n",
      "Product_URL      NJ1DP85A\n",
      "Product_id     4000034562\n",
      "Name: 17, dtype: object\n",
      "Product_URL      NJ2DN50A\n",
      "Product_id     4000034562\n",
      "Name: 18, dtype: object\n",
      "Product_URL      NJ3NP55A\n",
      "Product_id     4000034562\n",
      "Name: 19, dtype: object\n",
      "Product_URL      NJ3NP50A\n",
      "Product_id     4000034562\n",
      "Name: 20, dtype: object\n",
      "Product_URL      NJ1DN72A\n",
      "Product_id     4000034562\n",
      "Name: 21, dtype: object\n",
      "Product_URL      NJ1DN58A\n",
      "Product_id     4000034562\n",
      "Name: 22, dtype: object\n",
      "Product_URL      NJ1DP84J\n",
      "Product_id     4000034562\n",
      "Name: 23, dtype: object\n",
      "Product_URL      NJ1DN81J\n",
      "Product_id     4000034562\n",
      "Name: 24, dtype: object\n",
      "Product_URL      NC2DP72A\n",
      "Product_id     4000034562\n",
      "Name: 25, dtype: object\n",
      "Product_URL      NJ1DN79B\n",
      "Product_id     4000034562\n",
      "Name: 26, dtype: object\n",
      "Product_URL      NV1DP50J\n",
      "Product_id     4000034562\n",
      "Name: 27, dtype: object\n",
      "Product_URL      NJ1DN97A\n",
      "Product_id     4000034562\n",
      "Name: 28, dtype: object\n",
      "Product_URL      NJ3NP56J\n",
      "Product_id     4000034562\n",
      "Name: 29, dtype: object\n",
      "Product_URL      NV3NN00A\n",
      "Product_id     4000034562\n",
      "Name: 30, dtype: object\n",
      "Product_URL      NJ1DP55B\n",
      "Product_id     4000034562\n",
      "Name: 31, dtype: object\n",
      "Product_URL      NJ1DP93A\n",
      "Product_id     4000034562\n",
      "Name: 32, dtype: object\n",
      "Product_URL      NJ1DN64A\n",
      "Product_id     4000034562\n",
      "Name: 33, dtype: object\n",
      "Product_URL      NV1DN72A\n",
      "Product_id     4000034562\n",
      "Name: 34, dtype: object\n",
      "Product_URL      NV1DP80A\n",
      "Product_id     4000034562\n",
      "Name: 35, dtype: object\n",
      "Product_URL      NJ1DP63J\n",
      "Product_id     4000034562\n",
      "Name: 36, dtype: object\n",
      "Product_URL      NJ1DP66A\n",
      "Product_id     4000034562\n",
      "Name: 37, dtype: object\n",
      "Product_URL      NV1DP81J\n",
      "Product_id     4000034562\n",
      "Name: 38, dtype: object\n",
      "Product_URL      NV3NP51A\n",
      "Product_id     4000034562\n",
      "Name: 39, dtype: object\n",
      "Product_URL      NJ1DP55J\n",
      "Product_id     4000034562\n",
      "Name: 40, dtype: object\n",
      "Product_URL      NC1DN83A\n",
      "Product_id     4000034562\n",
      "Name: 41, dtype: object\n",
      "Product_URL      NJ1DN90B\n",
      "Product_id     4000034562\n",
      "Name: 42, dtype: object\n",
      "Product_URL      NJ1DP57J\n",
      "Product_id     4000034562\n",
      "Name: 43, dtype: object\n",
      "Product_URL      NJ3NP54A\n",
      "Product_id     4000034562\n",
      "Name: 44, dtype: object\n",
      "Product_URL      NJ1DP64J\n",
      "Product_id     4000034562\n",
      "Name: 45, dtype: object\n",
      "Product_URL      NJ3NN02A\n",
      "Product_id     4000034562\n",
      "Name: 46, dtype: object\n",
      "Product_URL      NJ1DN95A\n",
      "Product_id     4000034562\n",
      "Name: 47, dtype: object\n",
      "Product_URL      NV3NP68A\n",
      "Product_id     4000034562\n",
      "Name: 48, dtype: object\n",
      "Product_URL      NJ3NP70A\n",
      "Product_id     4000034562\n",
      "Name: 49, dtype: object\n",
      "Product_URL      NC1DP51J\n",
      "Product_id     4000034562\n",
      "Name: 50, dtype: object\n",
      "Product_URL      NJ1DP58J\n",
      "Product_id     4000034562\n",
      "Name: 51, dtype: object\n",
      "Product_URL      NC2DP65A\n",
      "Product_id     4000034562\n",
      "Name: 52, dtype: object\n",
      "Product_URL      NJ2YN50A\n",
      "Product_id     4000034562\n",
      "Name: 53, dtype: object\n",
      "Product_URL      NJ1DP56J\n",
      "Product_id     4000034562\n",
      "Name: 54, dtype: object\n",
      "Product_URL      NJ1DP84A\n",
      "Product_id     4000034562\n",
      "Name: 55, dtype: object\n",
      "Product_URL      NJ3NP58B\n",
      "Product_id     4000034562\n",
      "Name: 56, dtype: object\n",
      "Product_URL      NJ1DN83A\n",
      "Product_id     4000034562\n",
      "Name: 57, dtype: object\n",
      "Product_URL      NJ1DP59J\n",
      "Product_id     4000034562\n",
      "Name: 58, dtype: object\n",
      "Product_URL      NA3NP70A\n",
      "Product_id     4000034562\n",
      "Name: 59, dtype: object\n",
      "Product_URL      NJ3NP51A\n",
      "Product_id     4000034562\n",
      "Name: 60, dtype: object\n",
      "Product_URL      NJ1DP87A\n",
      "Product_id     4000034562\n",
      "Name: 61, dtype: object\n",
      "Product_URL      NJ1DN75F\n",
      "Product_id     4000034562\n",
      "Name: 62, dtype: object\n",
      "Product_URL      NJ1DN85A\n",
      "Product_id     4000034562\n",
      "Name: 63, dtype: object\n",
      "Product_URL      NV3NP50J\n",
      "Product_id     4000034562\n",
      "Name: 64, dtype: object\n",
      "Product_URL      NJ1DP63A\n",
      "Product_id     4000034562\n",
      "Name: 65, dtype: object\n",
      "Product_URL      NJ1DP77A\n",
      "Product_id     4000034562\n",
      "Name: 66, dtype: object\n",
      "Product_URL      NJ1DN65A\n",
      "Product_id     4000034562\n",
      "Name: 67, dtype: object\n",
      "Product_URL      NJ1DP79A\n",
      "Product_id     4000034562\n",
      "Name: 68, dtype: object\n",
      "Product_URL      NJ2DP65A\n",
      "Product_id     4000034562\n",
      "Name: 69, dtype: object\n",
      "Product_URL      NJ2DP72A\n",
      "Product_id     4000034562\n",
      "Name: 70, dtype: object\n",
      "Product_URL      NJ3NP01B\n",
      "Product_id     4000034562\n",
      "Name: 71, dtype: object\n",
      "Product_URL      NJ1DP52J\n",
      "Product_id     4000034562\n",
      "Name: 72, dtype: object\n",
      "Product_URL      NJ3NN03A\n",
      "Product_id     4000034562\n",
      "Name: 73, dtype: object\n",
      "Product_URL      NC1DP80A\n",
      "Product_id     4000034562\n",
      "Name: 74, dtype: object\n",
      "Product_URL      NJ1DN62A\n",
      "Product_id     4000034562\n",
      "Name: 75, dtype: object\n",
      "Product_URL      NJ2DN75A\n",
      "Product_id     4000034562\n",
      "Name: 76, dtype: object\n",
      "Product_URL      NC1DP50J\n",
      "Product_id     4000034562\n",
      "Name: 77, dtype: object\n",
      "Product_URL      NJ2YP50A\n",
      "Product_id     4000034562\n",
      "Name: 78, dtype: object\n",
      "Product_URL      NJ3NN50A\n",
      "Product_id     4000034562\n",
      "Name: 79, dtype: object\n",
      "Product_URL      NJ1DN61B\n",
      "Product_id     4000034562\n",
      "Name: 80, dtype: object\n",
      "Product_URL      NJ3NN00C\n",
      "Product_id     4000034562\n",
      "Name: 81, dtype: object\n",
      "Product_URL      NJ3NP50J\n",
      "Product_id     4000034562\n",
      "Name: 82, dtype: object\n",
      "Product_URL      NV1DP80M\n",
      "Product_id     4000034562\n",
      "Name: 83, dtype: object\n",
      "Product_URL      NJ3NP55J\n",
      "Product_id     4000034562\n",
      "Name: 84, dtype: object\n",
      "Product_URL      NJ3NP52J\n",
      "Product_id     4000034562\n",
      "Name: 85, dtype: object\n",
      "Product_URL      NJ1DP91A\n",
      "Product_id     4000034562\n",
      "Name: 86, dtype: object\n",
      "Product_URL      NJ3NP61L\n",
      "Product_id     4000034562\n",
      "Name: 87, dtype: object\n",
      "Product_URL      NJ2DN76A\n",
      "Product_id     4000034562\n",
      "Name: 88, dtype: object\n",
      "Product_URL      NJ1DP54J\n",
      "Product_id     4000034562\n",
      "Name: 89, dtype: object\n",
      "Product_URL      NJ2DP62A\n",
      "Product_id     4000034562\n",
      "Name: 90, dtype: object\n",
      "Product_URL      NJ2DP50A\n",
      "Product_id     4000034562\n",
      "Name: 91, dtype: object\n",
      "Product_URL      NJ1DP72A\n",
      "Product_id     4000034562\n",
      "Name: 92, dtype: object\n",
      "Product_URL      NJ1DP53J\n",
      "Product_id     4000034562\n",
      "Name: 93, dtype: object\n",
      "Product_URL      NJ1DN71A\n",
      "Product_id     4000034562\n",
      "Name: 94, dtype: object\n",
      "Product_URL      NJ1DN50O\n",
      "Product_id     4000034562\n",
      "Name: 95, dtype: object\n",
      "Product_URL      NJ1DP95A\n",
      "Product_id     4000034562\n",
      "Name: 96, dtype: object\n",
      "Product_URL      NJ1DP97A\n",
      "Product_id     4000034562\n",
      "Name: 97, dtype: object\n",
      "Product_URL      NJ1DP98A\n",
      "Product_id     4000034562\n",
      "Name: 98, dtype: object\n",
      "Product_URL      NJ1DQ50A\n",
      "Product_id     4000034562\n",
      "Name: 99, dtype: object\n",
      "Product_URL      NJ1DP73A\n",
      "Product_id     4000034562\n",
      "Name: 100, dtype: object\n",
      "Product_URL      NJ1DP86A\n",
      "Product_id     4000034562\n",
      "Name: 101, dtype: object\n",
      "Product_URL      NJ1DN00A\n",
      "Product_id     4000034562\n",
      "Name: 102, dtype: object\n",
      "Product_URL      NJ1DN30A\n",
      "Product_id     4000034562\n",
      "Name: 103, dtype: object\n",
      "Product_URL      NJ1DP61J\n",
      "Product_id     4000034562\n",
      "Name: 104, dtype: object\n",
      "Product_URL      NJ1DP60A\n",
      "Product_id     4000034562\n",
      "Name: 105, dtype: object\n",
      "Product_URL      NJ1DP68A\n",
      "Product_id     4000034562\n",
      "Name: 106, dtype: object\n",
      "Product_URL      NJ1DP74A\n",
      "Product_id     4000034562\n",
      "Name: 107, dtype: object\n",
      "Product_URL      NJ3NP56A\n",
      "Product_id     4000034562\n",
      "Name: 108, dtype: object\n",
      "Product_URL      NJ3NP85A\n",
      "Product_id     4000034562\n",
      "Name: 109, dtype: object\n",
      "Product_URL      NV1DP82A\n",
      "Product_id     4000034562\n",
      "Name: 110, dtype: object\n",
      "Product_URL      NJ1DP31B\n",
      "Product_id     4000034562\n",
      "Name: 111, dtype: object\n",
      "Product_URL      NJ1DP70A\n",
      "Product_id     4000034562\n",
      "Name: 112, dtype: object\n",
      "Product_URL      NJ3NP80J\n",
      "Product_id     4000034562\n",
      "Name: 113, dtype: object\n",
      "Product_URL      NV3NP51J\n",
      "Product_id     4000034562\n",
      "Name: 114, dtype: object\n",
      "Product_URL      NJ2PP50A\n",
      "Product_id     4000034562\n",
      "Name: 115, dtype: object\n",
      "Product_URL      NC2UP80A\n",
      "Product_id     4000034562\n",
      "Name: 116, dtype: object\n",
      "Product_URL      NJ3NP63A\n",
      "Product_id     4000034562\n",
      "Name: 117, dtype: object\n",
      "Product_URL      NJ3NP64A\n",
      "Product_id     4000034562\n",
      "Name: 118, dtype: object\n",
      "Product_URL      NC3NP51J\n",
      "Product_id     4000034562\n",
      "Name: 119, dtype: object\n",
      "Product_URL      NJ2UP64A\n",
      "Product_id     4000034562\n",
      "Name: 120, dtype: object\n",
      "Product_URL      NC2DP50A\n",
      "Product_id     4000034562\n",
      "Name: 121, dtype: object\n",
      "Product_URL      NJ3NP60J\n",
      "Product_id     4000034562\n",
      "Name: 122, dtype: object\n",
      "Product_URL      NJ3NP65A\n",
      "Product_id     4000034562\n",
      "Name: 123, dtype: object\n",
      "Product_URL      NC3NP80A\n",
      "Product_id     4000034562\n",
      "Name: 124, dtype: object\n",
      "Product_URL      NJ3NP80B\n",
      "Product_id     4000034562\n",
      "Name: 125, dtype: object\n",
      "Product_URL      NJ3NP72A\n",
      "Product_id     4000034562\n",
      "Name: 126, dtype: object\n",
      "Product_URL      NV3NP70A\n",
      "Product_id     4000034562\n",
      "Name: 127, dtype: object\n",
      "Product_URL      NC1DK71A\n",
      "Product_id     4000034562\n",
      "Name: 128, dtype: object\n",
      "Product_URL      NJ5SM50B\n",
      "Product_id     4000034562\n",
      "Name: 129, dtype: object\n",
      "Product_URL      NJ5SM51A\n",
      "Product_id     4000034562\n",
      "Name: 130, dtype: object\n"
     ]
    }
   ],
   "source": [
    "for index, row in list_df.iterrows():\n",
    "    print(row)"
   ]
  },
  {
   "cell_type": "code",
   "execution_count": 153,
   "metadata": {},
   "outputs": [],
   "source": [
    "df_reviews.head()\n",
    "df_reviews.to_csv('./review.csv',encoding='UTF-8')"
   ]
  },
  {
   "cell_type": "code",
   "execution_count": 100,
   "metadata": {},
   "outputs": [],
   "source": [
    "a = ['a','b','c']"
   ]
  },
  {
   "cell_type": "code",
   "execution_count": 101,
   "metadata": {},
   "outputs": [
    {
     "ename": "TypeError",
     "evalue": "can only concatenate list (not \"str\") to list",
     "output_type": "error",
     "traceback": [
      "\u001b[1;31m---------------------------------------------------------------------------\u001b[0m",
      "\u001b[1;31mTypeError\u001b[0m                                 Traceback (most recent call last)",
      "\u001b[1;32mc:\\Python\\eland\\croll.ipynb Cell 22\u001b[0m line \u001b[0;36m1\n\u001b[1;32m----> <a href='vscode-notebook-cell:/c%3A/Python/eland/croll.ipynb#X60sZmlsZQ%3D%3D?line=0'>1</a>\u001b[0m a \u001b[39m=\u001b[39m a \u001b[39m+\u001b[39;49m \u001b[39m'\u001b[39;49m\u001b[39md\u001b[39;49m\u001b[39m'\u001b[39;49m\n",
      "\u001b[1;31mTypeError\u001b[0m: can only concatenate list (not \"str\") to list"
     ]
    }
   ],
   "source": [
    "a = a"
   ]
  }
 ],
 "metadata": {
  "kernelspec": {
   "display_name": "Python 3",
   "language": "python",
   "name": "python3"
  },
  "language_info": {
   "codemirror_mode": {
    "name": "ipython",
    "version": 3
   },
   "file_extension": ".py",
   "mimetype": "text/x-python",
   "name": "python",
   "nbconvert_exporter": "python",
   "pygments_lexer": "ipython3",
   "version": "3.12.0"
  }
 },
 "nbformat": 4,
 "nbformat_minor": 2
}
