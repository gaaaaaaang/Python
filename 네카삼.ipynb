{
  "nbformat": 4,
  "nbformat_minor": 0,
  "metadata": {
    "colab": {
      "provenance": [],
      "authorship_tag": "ABX9TyPLrbTkc8Zv3agK8+s/VY87",
      "include_colab_link": true
    },
    "kernelspec": {
      "name": "python3",
      "display_name": "Python 3"
    },
    "language_info": {
      "name": "python"
    }
  },
  "cells": [
    {
      "cell_type": "markdown",
      "metadata": {
        "id": "view-in-github",
        "colab_type": "text"
      },
      "source": [
        "<a href=\"https://colab.research.google.com/github/gaaaaaaang/Python/blob/main/%EB%84%A4%EC%B9%B4%EC%82%BC.ipynb\" target=\"_parent\"><img src=\"https://colab.research.google.com/assets/colab-badge.svg\" alt=\"Open In Colab\"/></a>"
      ]
    },
    {
      "cell_type": "markdown",
      "source": [
        "\n",
        "##**과수원**\n"
      ],
      "metadata": {
        "id": "1_yYuYyY40qc"
      }
    },
    {
      "cell_type": "markdown",
      "source": [
        "주문량 = 0  \n",
        "판매량 = 0  \n",
        "잔량 = 0  \n",
        "판매 금액 = 0  \n",
        "판매 단가 = 100  \n",
        "\n",
        "for i in range(판매 기간):  \n",
        "\n",
        "  >if 잔량 > 주문량 :  \n",
        "    >>판매 금액 = 판매 단가 * 주문량  \n",
        "    >>판매 단가 = 100  \n",
        "  >else:   \n",
        "    >>판매 단가 - 20  \n",
        "\n",
        "print(판매 금액 / 7)"
      ],
      "metadata": {
        "id": "dxtuaSch47fO"
      }
    },
    {
      "cell_type": "code",
      "source": [
        "def sol(N,P,C):\n",
        "  stock, value, total = 0,100,0\n",
        "\n",
        "  for day in range(N):\n",
        "    if value == 0 : \n",
        "      break\n",
        "    \n",
        "    if stock > C[day] : \n",
        "      total += C[day] * value\n",
        "      stock -= C[day]\n",
        "      value = 100\n",
        "    \n",
        "    else : \n",
        "      value -= 20\n",
        "\n",
        "  answer = total / day\n",
        "\n",
        "  return answer"
      ],
      "metadata": {
        "id": "P8L3hvlM47K3"
      },
      "execution_count": 3,
      "outputs": []
    },
    {
      "cell_type": "markdown",
      "source": [
        "## **행정 구역 나누기**"
      ],
      "metadata": {
        "id": "YGZn4J1bN2y8"
      }
    },
    {
      "cell_type": "markdown",
      "source": [
        "(책참고)  **완전 탐색**\n",
        "두 쌍을 나누고, 트리 크기가 N/3 이 됐는지 확인  \n",
        "for i, j in { (i,j) | 0<=i<J < N } #도로 쌍 결정\n",
        "> for k from 0 to N -1 :\n",
        ">>if i k 다르고, jk 다르면: #ij를 제외한 인접 리스트 구성\n",
        ">>> adj[road[k][0]].add(road[k][1])  \n",
        ">>> adj[road[k][1]].add(road[k][0])  \n",
        "\n",
        "if check(N) :     \n",
        ">return(i,j) \n",
        "\n",
        "\n",
        "def check():  \n",
        "> global visit = list(size = N, false)  \n",
        "> for f 0~N-1 :    \n",
        ">> if not visit[k] and child(k) != N/3 :    \n",
        ">>>return false\n",
        "\n",
        "> return True #다 수행되면 제대로 나눠진거임. "
      ],
      "metadata": {
        "id": "MKZOp0D7N2vI"
      }
    },
    {
      "cell_type": "code",
      "execution_count": 1,
      "metadata": {
        "id": "Sgq7EtUP3wds"
      },
      "outputs": [],
      "source": [
        "def child(now, N, adj, visit):\n",
        "  if visit[now]: \n",
        "    return 0\n",
        "  visit[now] = True\n",
        "\n",
        "  c=1\n",
        "  for i in adj[now]:\n",
        "    c+=child(i,N,adj,visit)\n",
        "  return c\n",
        "\n",
        "def check(N,adj):\n",
        "  visit=[False for i in range(N)]\n",
        "  for i in range(N):\n",
        "    if not visit[i] and child(i,N,adj,visit) != N//3:\n",
        "      return False\n",
        "\n",
        "  return True\n",
        "\n",
        "\n",
        "def solution(N,roads):\n",
        "  for i in range(N-1):\n",
        "    for j in range(i+1,N-1):\n",
        "      adj = [[]for k in range(N)]\n",
        "      for road in roads :\n",
        "        adj[road[0]].append(road[1])\n",
        "        adj[road[1]].append(road[0])\n",
        "\n",
        "        if check(N,adj):\n",
        "          return(i,j)"
      ]
    },
    {
      "cell_type": "markdown",
      "source": [],
      "metadata": {
        "id": "7_1zOA8TN2qe"
      }
    },
    {
      "cell_type": "markdown",
      "source": [],
      "metadata": {
        "id": "tpfKxqwDN6W2"
      }
    },
    {
      "cell_type": "code",
      "source": [],
      "metadata": {
        "id": "Od-uMzm6N5Tu"
      },
      "execution_count": null,
      "outputs": []
    },
    {
      "cell_type": "code",
      "source": [],
      "metadata": {
        "id": "VUf4x35PN5Qu"
      },
      "execution_count": null,
      "outputs": []
    },
    {
      "cell_type": "markdown",
      "source": [],
      "metadata": {
        "id": "dX2TQkVcN80h"
      }
    },
    {
      "cell_type": "markdown",
      "source": [],
      "metadata": {
        "id": "kATzzimnN80i"
      }
    },
    {
      "cell_type": "code",
      "source": [],
      "metadata": {
        "id": "cfH-zKQhN80i"
      },
      "execution_count": null,
      "outputs": []
    },
    {
      "cell_type": "code",
      "source": [],
      "metadata": {
        "id": "SolHI4bHN80i"
      },
      "execution_count": null,
      "outputs": []
    },
    {
      "cell_type": "markdown",
      "source": [],
      "metadata": {
        "id": "zV4IaN_-N88g"
      }
    },
    {
      "cell_type": "markdown",
      "source": [],
      "metadata": {
        "id": "3a5qRxzZN88g"
      }
    },
    {
      "cell_type": "code",
      "source": [],
      "metadata": {
        "id": "P1NnPCkfN88g"
      },
      "execution_count": null,
      "outputs": []
    },
    {
      "cell_type": "code",
      "source": [],
      "metadata": {
        "id": "sr6jWR_kN88h"
      },
      "execution_count": null,
      "outputs": []
    },
    {
      "cell_type": "markdown",
      "source": [],
      "metadata": {
        "id": "QAyMLNQEN8_5"
      }
    },
    {
      "cell_type": "markdown",
      "source": [],
      "metadata": {
        "id": "wIiVjgxnN8_5"
      }
    },
    {
      "cell_type": "code",
      "source": [],
      "metadata": {
        "id": "Kf9QgF_ON8_5"
      },
      "execution_count": null,
      "outputs": []
    },
    {
      "cell_type": "code",
      "source": [],
      "metadata": {
        "id": "p4V8DsRIN8_5"
      },
      "execution_count": null,
      "outputs": []
    },
    {
      "cell_type": "markdown",
      "source": [],
      "metadata": {
        "id": "668pcjIiN9C6"
      }
    },
    {
      "cell_type": "markdown",
      "source": [],
      "metadata": {
        "id": "YMVd-K-oN9C6"
      }
    },
    {
      "cell_type": "code",
      "source": [],
      "metadata": {
        "id": "3RVAWvfqN9C6"
      },
      "execution_count": null,
      "outputs": []
    },
    {
      "cell_type": "code",
      "source": [],
      "metadata": {
        "id": "9-9DUSCjN9C6"
      },
      "execution_count": null,
      "outputs": []
    }
  ]
}